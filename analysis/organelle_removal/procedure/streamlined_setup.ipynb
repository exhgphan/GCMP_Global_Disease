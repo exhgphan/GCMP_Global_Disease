{
 "cells": [
  {
   "cell_type": "code",
   "execution_count": 6,
   "id": "combined-genealogy",
   "metadata": {
    "scrolled": true
   },
   "outputs": [
    {
     "name": "stdout",
     "output_type": "stream",
     "text": [
      "^C\r\n",
      "\r\n",
      "CondaError: KeyboardInterrupt\r\n",
      "\r\n"
     ]
    }
   ],
   "source": [
    "#install biopython into conda env\n",
    "!conda install -c conda-forge biopython -y"
   ]
  },
  {
   "cell_type": "code",
   "execution_count": 6,
   "id": "parental-albany",
   "metadata": {},
   "outputs": [],
   "source": [
    "from Bio import SeqIO\n",
    "import glob\n",
    "import os\n",
    "from qiime2 import Artifact\n",
    "from qiime2.plugins.feature_classifier.methods import extract_reads\n",
    "from qiime2.plugins.feature_table.methods import merge, merge_seqs, merge_taxa\n",
    "import shutil\n",
    "import tarfile\n",
    "import tempfile\n",
    "import urllib.request\n",
    "from zipfile import ZipFile"
   ]
  },
  {
   "cell_type": "code",
   "execution_count": 2,
   "id": "enabling-senate",
   "metadata": {},
   "outputs": [],
   "source": [
    "def download_file(url, local_filepath):\n",
    "    with urllib.request.urlopen(url) as response, open(local_filepath, 'wb') as out_file:\n",
    "        shutil.copyfileobj(response, out_file)"
   ]
  },
  {
   "cell_type": "code",
   "execution_count": 3,
   "id": "facial-publication",
   "metadata": {},
   "outputs": [],
   "source": [
    "def download_qiita_files(qiita_study_id, qiita_artifact_id):\n",
    "    \"\"\"Download and extract the metadata from the study as well as the biom\n",
    "    file and fasta file for each artifact listed.\n",
    "    \n",
    "    Parameters\n",
    "    ----------\n",
    "    study_id : int or str\n",
    "        the qiita id of the study\n",
    "    artifact id : int, str, or list of ints or strs\n",
    "        the artifact id of the deblur reference hit table artifact. One\n",
    "        artifact per 16S prep in the study, which will be merged\"\"\"\n",
    "    \n",
    "    #download metadata\n",
    "    download_file('https://qiita.ucsd.edu/public_download/?data=sample_information&study_id=' +\n",
    "                  str(qiita_study_id), working_dir + '/input/metadata.zip')\n",
    "    #download artifacts\n",
    "    if type(qiita_artifact_id) != list:\n",
    "        download_file('https://qiita.ucsd.edu/public_artifact_download/?artifact_id=' +\n",
    "                      str(qiita_artifact_id),\n",
    "                      working_dir + '/input/qiita_artifact.zip')\n",
    "    else:\n",
    "        for artifact_id in qiita_artifact_id:\n",
    "            download_file('https://qiita.ucsd.edu/public_artifact_download/?artifact_id=' +\n",
    "                          str(artifact_id),\n",
    "                          working_dir + '/input/qiita_artifact_' +\n",
    "                          str(artifact_id) + '.zip')\n",
    "    #unzip files\n",
    "    with tempfile.TemporaryDirectory() as temp_dir:\n",
    "        if type(qiita_artifact_id) != list:\n",
    "            with ZipFile(working_dir + '/input/qiita_artifact.zip') as artifact_zip:\n",
    "                artifact_zip.extractall(temp_dir)\n",
    "                biom_path = glob.glob(temp_dir + '/BIOM/' + str(qiita_artifact_id) + '/*.biom')[0]\n",
    "                shutil.copyfile(biom_path, working_dir + '/input/qiita.biom')\n",
    "                fasta_path = glob.glob(temp_dir + '/BIOM/' + str(qiita_artifact_id) + '/*.fa')[0]\n",
    "                shutil.copyfile(fasta_path, working_dir + '/input/qiita.fa')\n",
    "        else:\n",
    "            for artifact_id in qiita_artifact_id:\n",
    "                with ZipFile(working_dir + '/input/qiita_artifact_' + str(artifact_id) + '.zip') as artifact_zip:\n",
    "                    artifact_zip.extractall(temp_dir)\n",
    "                    biom_path = glob.glob(temp_dir + '/BIOM/' + str(artifact_id) + '/*.biom')[0]\n",
    "                    shutil.copyfile(biom_path, working_dir + '/input/qiita_' + str(artifact_id) + '.biom')\n",
    "                    fasta_path = glob.glob(temp_dir + '/BIOM/' + str(artifact_id) + '/*.fa')[0]\n",
    "                    shutil.copyfile(fasta_path, working_dir + '/input/qiita_' + str(artifact_id) + '.fa')\n",
    "        with ZipFile(working_dir + '/input/metadata.zip') as metadata_zip:\n",
    "            metadata_name = metadata_zip.namelist()[0].split('/')[1]\n",
    "            metadata_zip.extractall(temp_dir)\n",
    "        shutil.copyfile(temp_dir + '/templates/' + metadata_name,\n",
    "                        working_dir + '/input/metadata.txt')"
   ]
  },
  {
   "cell_type": "code",
   "execution_count": 4,
   "id": "czech-lemon",
   "metadata": {},
   "outputs": [],
   "source": [
    "qiita_study_id = 11166\n",
    "qiita_artifact_id = [82961, 56596, 56553, 56600, 82881, 56579, 56595, 57972]\n",
    "working_dir = os.path.abspath('../')\n",
    "refs_dir = working_dir + '/output/taxonomy_references'"
   ]
  },
  {
   "cell_type": "code",
   "execution_count": 11,
   "id": "motivated-mentor",
   "metadata": {},
   "outputs": [],
   "source": [
    "if not os.path.exists(refs_dir):\n",
    "    os.mkdir(refs_dir)\n",
    "if not os.path.isfile(refs_dir + '/silva_sequences.qza'):\n",
    "    download_file('https://data.qiime2.org/2021.2/common/silva-138-99-seqs-515-806.qza', \n",
    "                  refs_dir + '/silva_sequences.qza')\n",
    "if not os.path.isfile(refs_dir + '/silva_taxonomy.qza'):\n",
    "    download_file('https://data.qiime2.org/2021.2/common/silva-138-99-tax-515-806.qza', \n",
    "                  refs_dir + '/silva_taxonomy.qza')\n",
    "if not os.path.isfile(refs_dir + '/gg_13_8_otus.tar.gz'):\n",
    "    download_file('ftp://greengenes.microbio.me/greengenes_release/gg_13_5/gg_13_8_otus.tar.gz',\n",
    "                  refs_dir + '/gg_13_8_otus.tar.gz')\n",
    "if not os.path.isfile(refs_dir + '/Metaxa2_2.2.1.tar.gz'):\n",
    "    download_file('https://microbiology.se/sw/Metaxa2_2.2.1.tar.gz',\n",
    "                  refs_dir + '/Metaxa2_2.2.1.tar.gz')\n",
    "if not os.path.isfile(refs_dir + '/PhytoRef_with_taxonomy.fasta'):\n",
    "    download_file('http://phytoref.sb-roscoff.fr/static/downloads/PhytoRef_with_taxonomy.fasta',\n",
    "                  refs_dir + '/PhytoRef_with_taxonomy.fasta')"
   ]
  },
  {
   "cell_type": "code",
   "execution_count": 12,
   "id": "thermal-mississippi",
   "metadata": {},
   "outputs": [],
   "source": [
    "with tarfile.open(refs_dir + '/gg_13_8_otus.tar.gz', 'r:gz') as tar:\n",
    "    tar.extractall(refs_dir)\n",
    "with tarfile.open(refs_dir + '/Metaxa2_2.2.1.tar.gz', 'r:gz') as tar:\n",
    "    tar.extractall(refs_dir)"
   ]
  },
  {
   "cell_type": "code",
   "execution_count": 13,
   "id": "wrapped-account",
   "metadata": {},
   "outputs": [],
   "source": [
    "os.chdir(refs_dir + '/Metaxa2_2.2.1/metaxa2_db/SSU')\n",
    "!blastdbcmd -entry all -db blast -out metaxa2.fasta\n",
    "shutil.copyfile(refs_dir + '/Metaxa2_2.2.1/metaxa2_db/SSU/metaxa2.fasta', \n",
    "                refs_dir + '/metaxa2.fasta')\n",
    "os.chdir(working_dir + '/procedure')"
   ]
  },
  {
   "cell_type": "code",
   "execution_count": 14,
   "id": "expanded-boundary",
   "metadata": {},
   "outputs": [],
   "source": [
    "with open(refs_dir + '/silva_organelle_taxonomy.tsv', 'w') as silva_taxonomy:\n",
    "    with open(refs_dir + '/gg_organelle_taxonomy.tsv', 'w') as gg_taxonomy:\n",
    "        silva_taxonomy.write('Feature ID\\tTaxon\\n')\n",
    "        gg_taxonomy.write('Feature ID\\tTaxon\\n')\n",
    "        with open(refs_dir + '/organelle_sequences.fasta', 'w') as organelle_seqs:\n",
    "            for i, entry in enumerate(SeqIO.parse(refs_dir + '/metaxa2.fasta', 'fasta')):\n",
    "                if 'mitochondria' in entry.description or 'Mitochondria' in entry.description:\n",
    "                    organelle_seqs.write('>metaxa2_mitochondria_' + str(i) + '\\n')\n",
    "                    organelle_seqs.write(str(entry.seq + '\\n'))\n",
    "                    specific_info = str(entry.description).split(';')[-1]\n",
    "                    silva_taxonomy.write('metaxa2_mitochondria_' + str(i) + '\\td__Bacteria; p__Proteobacteria; c__Alphaproteobacteria; o__Rickettsiales; f__Mitochondria; g__Mitochondria; s__' + specific_info + '\\n')\n",
    "                    gg_taxonomy.write('metaxa2_mitochondria_' + str(i) + '\\tk__Bacteria; p__Proteobacteria; c__Alphaproteobacteria; o__Rickettsiales; f__mitochondria; g__Mitochondria; s__' + specific_info + '\\n')\n",
    "            for i, entry in enumerate(SeqIO.parse(refs_dir + '/PhytoRef_with_taxonomy.fasta', 'fasta')):\n",
    "                if not 'XXXXXXXXXX' in entry.seq:   #ditch the weird sequence\n",
    "                    organelle_seqs.write('>phytoref_chloroplast_' + str(i) + '\\n')\n",
    "                    organelle_seqs.write(str(entry.seq + '\\n'))\n",
    "                    specific_info = str(entry.description).split('|')[-1]\n",
    "                    silva_taxonomy.write('phytoref_chloroplast_' + str(i) + '\\td__Bacteria; p__Cyanobacteria; c__Cyanobacteriia; o__Chloroplast; f__Chloroplast; g__Chloroplast; s__' + specific_info + '\\n')\n",
    "                    gg_taxonomy.write('phytoref_chloroplast_' + str(i) + '\\tk__Bacteria; p__Cyanobacteria; c__Chloroplast; o__Chloroplast; f__Chloroplast; g__Chloroplast; s__' + specific_info + '\\n')"
   ]
  },
  {
   "cell_type": "code",
   "execution_count": 15,
   "id": "verified-traveler",
   "metadata": {},
   "outputs": [
    {
     "data": {
      "text/plain": [
       "'/mnt/c/Users/Dylan/Documents/zaneveld/upload/output/taxonomy_references/gg_extended_sequences.qza'"
      ]
     },
     "execution_count": 15,
     "metadata": {},
     "output_type": "execute_result"
    }
   ],
   "source": [
    "#import, select V4 region, merge, save\n",
    "organelle_seqs = Artifact.import_data('FeatureData[Sequence]',\n",
    "                                      refs_dir + '/organelle_sequences.fasta')\n",
    "v4_organelle_seqs, = extract_reads(organelle_seqs, 'GTGYCAGCMGCCGCGGTAA',\n",
    "                                   'GGACTACNVGGGTWTCTAAT', n_jobs = 24,\n",
    "                                   read_orientation = 'forward')\n",
    "silva_extended_seqs, = merge_seqs([v4_organelle_seqs,\n",
    "                                   Artifact.load(refs_dir +\n",
    "                                                 '/silva_sequences.qza')])\n",
    "silva_extended_seqs.save(refs_dir + '/silva_extended_sequences.qza')\n",
    "gg_seqs = Artifact.import_data('FeatureData[Sequence]', refs_dir +\n",
    "                               '/gg_13_8_otus/rep_set/99_otus.fasta')\n",
    "v4_gg_seqs, = extract_reads(gg_seqs, 'GTGYCAGCMGCCGCGGTAA',\n",
    "                            'GGACTACNVGGGTWTCTAAT', n_jobs = 24,\n",
    "                            read_orientation = 'forward')\n",
    "v4_gg_seqs.save(refs_dir + '/gg_sequences.qza')\n",
    "gg_extended_seqs, = merge_seqs([organelle_seqs, gg_seqs])\n",
    "gg_extended_seqs.save(refs_dir + '/gg_extended_sequences.qza')"
   ]
  },
  {
   "cell_type": "code",
   "execution_count": 16,
   "id": "false-sigma",
   "metadata": {},
   "outputs": [
    {
     "data": {
      "text/plain": [
       "'/mnt/c/Users/Dylan/Documents/zaneveld/upload/output/taxonomy_references/gg_extended_taxonomy.qza'"
      ]
     },
     "execution_count": 16,
     "metadata": {},
     "output_type": "execute_result"
    }
   ],
   "source": [
    "silva_organelle_taxonomy = Artifact.import_data('FeatureData[Taxonomy]',\n",
    "                                                refs_dir +\n",
    "                                                '/silva_organelle_taxonomy.tsv')\n",
    "silva_extended_taxonomy, = merge_taxa([silva_organelle_taxonomy,\n",
    "                                       Artifact.load(refs_dir +\n",
    "                                                     '/silva_taxonomy.qza')])\n",
    "silva_extended_taxonomy.save(refs_dir + '/silva_extended_taxonomy.qza')\n",
    "gg_taxonomy = Artifact.import_data('FeatureData[Taxonomy]', refs_dir +\n",
    "                                   '/gg_13_8_otus/taxonomy/99_otu_taxonomy.txt',\n",
    "                                   'HeaderlessTSVTaxonomyFormat')\n",
    "gg_taxonomy.save(refs_dir + '/gg_taxonomy.qza')\n",
    "gg_organelle_taxonomy = Artifact.import_data('FeatureData[Taxonomy]',\n",
    "                                             refs_dir +\n",
    "                                             '/gg_organelle_taxonomy.tsv')\n",
    "gg_extended_taxonomy, = merge_taxa([gg_organelle_taxonomy, gg_taxonomy])\n",
    "gg_extended_taxonomy.save(refs_dir + '/gg_extended_taxonomy.qza')"
   ]
  },
  {
   "cell_type": "code",
   "execution_count": 5,
   "id": "minor-evans",
   "metadata": {
    "scrolled": true
   },
   "outputs": [],
   "source": [
    "download_qiita_files(qiita_study_id, qiita_artifact_id)"
   ]
  },
  {
   "cell_type": "code",
   "execution_count": 11,
   "id": "tested-canadian",
   "metadata": {},
   "outputs": [
    {
     "data": {
      "text/plain": [
       "'/mnt/c/Users/Dylan/Documents/zaneveld/upload/output/sequences.qza'"
      ]
     },
     "execution_count": 11,
     "metadata": {},
     "output_type": "execute_result"
    }
   ],
   "source": [
    "if type(qiita_artifact_id) != list:\n",
    "    ft = Artifact.import_data('FeatureTable[Frequency]',\n",
    "                              working_dir + '/input/qiita.biom', 'BIOMV210Format')\n",
    "    seqs = Artifact.import_data('FeatureData[Sequence]',\n",
    "                            working_dir + '/input/qiita.fa')\n",
    "else:\n",
    "    fts = []\n",
    "    sequences = []\n",
    "    for artifact_id in qiita_artifact_id:\n",
    "        fts.append(Artifact.import_data('FeatureTable[Frequency]',\n",
    "                                        working_dir + '/input/qiita_' +\n",
    "                                        str(artifact_id) + '.biom',\n",
    "                                        'BIOMV210Format'))\n",
    "        sequences.append(Artifact.import_data('FeatureData[Sequence]',\n",
    "                         working_dir + '/input/qiita_' + str(artifact_id) + '.fa'))\n",
    "    ft, = merge(fts, 'average')\n",
    "    seqs, = merge_seqs(sequences)\n",
    "ft.save(working_dir + '/input/feature_table.qza')\n",
    "seqs.save(working_dir + '/input/sequences.qza')        "
   ]
  },
  {
   "cell_type": "code",
   "execution_count": 12,
   "id": "seasonal-strength",
   "metadata": {},
   "outputs": [],
   "source": [
    "with open(working_dir + '/input/metadata.txt') as md_file:\n",
    "    lines = md_file.readlines()\n",
    "#sample_id is not a valid q2 metadata index label and must be changed\n",
    "headers = lines[0].split('\\t', 1)\n",
    "if not headers[0] == '#SampleID':\n",
    "    headers[0] = '#SampleID'\n",
    "    lines[0] = '\\t'.join(headers)\n",
    "    with open(working_dir + '/input/metadata.txt', 'w') as md_file:\n",
    "        md_file.writelines(lines)"
   ]
  },
  {
   "cell_type": "code",
   "execution_count": null,
   "id": "ongoing-sheriff",
   "metadata": {},
   "outputs": [],
   "source": []
  }
 ],
 "metadata": {
  "kernelspec": {
   "display_name": "Python 3",
   "language": "python",
   "name": "python3"
  },
  "language_info": {
   "codemirror_mode": {
    "name": "ipython",
    "version": 3
   },
   "file_extension": ".py",
   "mimetype": "text/x-python",
   "name": "python",
   "nbconvert_exporter": "python",
   "pygments_lexer": "ipython3",
   "version": "3.6.13"
  }
 },
 "nbformat": 4,
 "nbformat_minor": 5
}
