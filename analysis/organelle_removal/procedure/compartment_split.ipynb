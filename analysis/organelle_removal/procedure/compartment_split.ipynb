{
 "cells": [
  {
   "cell_type": "markdown",
   "metadata": {},
   "source": [
    "## Create Filtered Feature Tables\n",
    "\n",
    "Split the GCMP feature table into 3 feature tables, one each for mucus, tissue, and skeletal samples\n"
   ]
  },
  {
   "cell_type": "code",
   "execution_count": 3,
   "metadata": {},
   "outputs": [],
   "source": [
    "from qiime2 import Artifact\n",
    "from qiime2.plugins.feature_table.methods import filter_samples\n",
    "from qiime2.metadata import Metadata\n",
    "from os.path import abspath,exists,join"
   ]
  },
  {
   "cell_type": "markdown",
   "metadata": {},
   "source": [
    "This script will:\n",
    "- import the .biom feature table and convert to uppercase\n",
    "- save this overall feature table\n",
    "- generate split feature tables for each compartment\n",
    "\n",
    "- convert the GCMP sequences to uppercase (required by QIIME2)\n",
    "- load the overall GCMP sequence set as a FASTA file\n",
    "- export these as a QIIME2 .qza file."
   ]
  },
  {
   "cell_type": "markdown",
   "metadata": {},
   "source": [
    "As in past notebooks, we assume the analysis is structured in directories as follows:\n",
    "<pre>\n",
    "\n",
    "analysis_name/\n",
    "   input/\n",
    "       input_files (.biom, etc)\n",
    "   output/\n",
    "   procedure/\n",
    "       this_notebook.ipynb\n",
    "</pre>\n",
    "\n",
    "#### Set up variables to hold paths for all input files"
   ]
  },
  {
   "cell_type": "code",
   "execution_count": 4,
   "metadata": {},
   "outputs": [],
   "source": [
    "working_dir = abspath('../')\n",
    "biom_path = working_dir + '/input/all.biom'\n",
    "metadata_path = working_dir + '/input/GCMP_EMP_map_r28_no_empty_samples.txt'\n",
    "seqs_path = working_dir + '/input/all.seqs.fa'"
   ]
  },
  {
   "cell_type": "markdown",
   "metadata": {},
   "source": [
    "#### Verify that input files exist at the above paths\n",
    "\n",
    "Let's run a quick check to make sure we have everything we need:"
   ]
  },
  {
   "cell_type": "code",
   "execution_count": 5,
   "metadata": {},
   "outputs": [
    {
     "name": "stdout",
     "output_type": "stream",
     "text": [
      "Verifying that all needed starting data files exist.\n",
      "Done.\n"
     ]
    }
   ],
   "source": [
    "print(\"Verifying that all needed starting data files exist.\")\n",
    "for existing_file in [biom_path,metadata_path,seqs_path]:\n",
    "    if not exists(existing_file):\n",
    "        raise IOError(f\"Required file {existing_file} not found. Please ensure it is in that directory.\")\n",
    "print(\"Done.\")"
   ]
  },
  {
   "cell_type": "markdown",
   "metadata": {},
   "source": [
    "#### Import the GCMP feature table and metadata"
   ]
  },
  {
   "cell_type": "code",
   "execution_count": 6,
   "metadata": {},
   "outputs": [],
   "source": [
    "#import the biom table as a feature table\n",
    "GCMP_ft = Artifact.import_data('FeatureTable[Frequency]', biom_path,\n",
    "                               'BIOMV210Format')\n",
    "#import the metadata\n",
    "metadata = Metadata.load(metadata_path)"
   ]
  },
  {
   "cell_type": "markdown",
   "metadata": {},
   "source": [
    "### Export an overall feature table as a .qza\n"
   ]
  },
  {
   "cell_type": "code",
   "execution_count": 8,
   "metadata": {},
   "outputs": [
    {
     "name": "stdout",
     "output_type": "stream",
     "text": [
      "Exporting overall GCMP feature table...\n"
     ]
    },
    {
     "data": {
      "text/plain": [
       "'/Users/jzaneveld/Dropbox/Zaneveld_Lab_Organization/Projects/GCMP_Global_Disease/gcmp_global_disease/analysis/organelle_removal/output/gcmp_raw_overall_ft_all_compartments.qza'"
      ]
     },
     "execution_count": 8,
     "metadata": {},
     "output_type": "execute_result"
    }
   ],
   "source": [
    "overall_ft_path = join(working_dir,\"output\",\"gcmp_raw_overall_ft_all_compartments.qza\")\n",
    "print(f\"Exporting overall GCMP feature table...\")\n",
    "GCMP_ft.save(overall_ft_path)"
   ]
  },
  {
   "cell_type": "markdown",
   "metadata": {},
   "source": [
    "#### Split the GCMP feature table by compartment\n",
    "\n",
    "The GCMP includes samples from coral mucus, tissue, and skeleton, as well as some contextual water and sediment samples. Here we create separate .qza feature tables by filtering for just mucus, tissue or skeleton samples."
   ]
  },
  {
   "cell_type": "code",
   "execution_count": 6,
   "metadata": {},
   "outputs": [],
   "source": [
    "#split into mucus, tissue, and skeleton compartments\n",
    "compartments = ['M', 'T', 'S']\n",
    "for compartment in compartments:\n",
    "    where = \"tissue_compartment='\" + compartment + \"'\"\n",
    "    GCMP_filtered, = filter_samples(GCMP_ft, metadata = metadata,\n",
    "                                   where = where)\n",
    "    save_path = working_dir + '/output/' + compartment + \"_ft.qza\"\n",
    "    GCMP_filtered.save(save_path)"
   ]
  },
  {
   "cell_type": "markdown",
   "metadata": {},
   "source": [
    "#### Load the GCMP Sequences\n",
    "\n",
    "QIIME2 requires sequences to be in uppercase. However the GCMP fasta file has a mix of upper and lowercase sequences. Therefore we have to manually convert sequences (but not sequence labels) to uppercase prior to loading into QIIME2. "
   ]
  },
  {
   "cell_type": "code",
   "execution_count": 7,
   "metadata": {},
   "outputs": [],
   "source": [
    "upper_seqs_path = working_dir + '/output/GCMP.fasta'\n",
    "with open(seqs_path) as infile:\n",
    "    with open(upper_seqs_path, \"w\") as outfile:\n",
    "        for line in infile:\n",
    "            #careful to preserve the headers so they match the feature table\n",
    "            if not line.startswith(\">\"):\n",
    "                line = line.upper()\n",
    "            outfile.write(line)"
   ]
  },
  {
   "cell_type": "markdown",
   "metadata": {},
   "source": [
    "Now that we have made a file of uppercase sequences we should be abble to import into QIIME2 and save a .qza artifact"
   ]
  },
  {
   "cell_type": "code",
   "execution_count": 8,
   "metadata": {},
   "outputs": [
    {
     "data": {
      "text/plain": [
       "'/mnt/c/Users/dsone/Documents/zaneveld/GCMP/GCMP_Global_Disease/analysis/organelle_removal/output/GCMP_seqs.qza'"
      ]
     },
     "execution_count": 8,
     "metadata": {},
     "output_type": "execute_result"
    }
   ],
   "source": [
    "#now we can import, and save the artifact\n",
    "GCMP_seqs = Artifact.import_data('FeatureData[Sequence]', upper_seqs_path)\n",
    "GCMP_seqs.save(working_dir + '/output/GCMP_seqs.qza')"
   ]
  }
 ],
 "metadata": {
  "kernelspec": {
   "display_name": "Python 3",
   "language": "python",
   "name": "python3"
  },
  "language_info": {
   "codemirror_mode": {
    "name": "ipython",
    "version": 3
   },
   "file_extension": ".py",
   "mimetype": "text/x-python",
   "name": "python",
   "nbconvert_exporter": "python",
   "pygments_lexer": "ipython3",
   "version": "3.6.11"
  }
 },
 "nbformat": 4,
 "nbformat_minor": 2
}
