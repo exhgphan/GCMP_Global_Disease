{
 "cells": [
  {
   "cell_type": "markdown",
   "metadata": {},
   "source": [
    "## Annotate Taxonomy and Create Taxonomy Barplots\n",
    "\n",
    "Using the classification taxonomies, create taxa bar plots for each tissue compartment.\n",
    "\n",
    "**Requirements**\n",
    "\n",
    "This notebook assumes we have a metadata file in ../input/ and taxonomy annotation .qza files according to each reference saved in the top level of ../output/\n",
    "\n",
    "**Output**\n",
    "\n",
    "Taxonomy bar plots for each compartment (mucus, tissue and skeleton) will be saved to the output folder"
   ]
  },
  {
   "cell_type": "code",
   "execution_count": 1,
   "metadata": {},
   "outputs": [],
   "source": [
    "from qiime2 import Artifact\n",
    "from qiime2.metadata import Metadata\n",
    "from qiime2.plugins.taxa.visualizers import barplot\n",
    "import pandas as pd\n",
    "import os"
   ]
  },
  {
   "cell_type": "code",
   "execution_count": 2,
   "metadata": {},
   "outputs": [],
   "source": [
    "working_dir = os.path.abspath('../')\n",
    "metadata_path = working_dir + '/input/GCMP_EMP_map_r28_no_empty_samples.txt'"
   ]
  },
  {
   "cell_type": "code",
   "execution_count": 3,
   "metadata": {},
   "outputs": [],
   "source": [
    "compartments = ['M', 'T', 'S']\n",
    "references = ['greengenes', 'silva', 'greengenes_metaxa2', 'silva_metaxa2']"
   ]
  },
  {
   "cell_type": "markdown",
   "metadata": {},
   "source": [
    "#### Simplify output data for analysis in python.\n",
    "\n",
    "We don't actually care about the information in the metadata, so we\n",
    "strip everything but the index. Otherwise the metadata gets appended\n",
    "to the csvs.\n"
   ]
  },
  {
   "cell_type": "code",
   "execution_count": 4,
   "metadata": {},
   "outputs": [],
   "source": [
    "metadata = Metadata.load(metadata_path)\n",
    "metadata_df = metadata.to_dataframe()\n",
    "metadata_df = pd.DataFrame(index=metadata_df.index)\n",
    "metadata = Metadata(metadata_df)"
   ]
  },
  {
   "cell_type": "markdown",
   "metadata": {},
   "source": [
    "#### Make taxonomy barplots for each taxonomic scheme and compartment"
   ]
  },
  {
   "cell_type": "code",
   "execution_count": 5,
   "metadata": {},
   "outputs": [],
   "source": [
    "for reference in references:\n",
    "    taxonomy_path = working_dir + '/output/' + reference + '_reference_taxonomy.qza'\n",
    "    taxonomy = Artifact.load(taxonomy_path)\n",
    "    for compartment in compartments:\n",
    "        ft_path = working_dir + '/output/' + compartment + '_ft.qza'\n",
    "        ft = Artifact.load(ft_path)\n",
    "        tbp, = barplot(ft, taxonomy, metadata)\n",
    "        save_path = working_dir + '/output/' + compartment + '_' + reference + '_tbp.qzv'\n",
    "        tbp.save(save_path)"
   ]
  }
 ],
 "metadata": {
  "kernelspec": {
   "display_name": "Python 3",
   "language": "python",
   "name": "python3"
  },
  "language_info": {
   "codemirror_mode": {
    "name": "ipython",
    "version": 3
   },
   "file_extension": ".py",
   "mimetype": "text/x-python",
   "name": "python",
   "nbconvert_exporter": "python",
   "pygments_lexer": "ipython3",
   "version": "3.6.12"
  }
 },
 "nbformat": 4,
 "nbformat_minor": 2
}
