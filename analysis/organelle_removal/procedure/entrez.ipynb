{
 "cells": [
  {
   "cell_type": "code",
   "execution_count": 1,
   "metadata": {},
   "outputs": [
    {
     "name": "stdout",
     "output_type": "stream",
     "text": [
      "Collecting package metadata (current_repodata.json): done\n",
      "Solving environment: done\n",
      "\n",
      "# All requested packages already installed.\n",
      "\n"
     ]
    }
   ],
   "source": [
    "#install biopython in the current conda environment\n",
    "!conda install -c conda-forge biopython -y"
   ]
  },
  {
   "cell_type": "code",
   "execution_count": 2,
   "metadata": {
    "scrolled": true
   },
   "outputs": [],
   "source": [
    "from collections import Counter\n",
    "from Bio import Entrez\n",
    "import os"
   ]
  },
  {
   "cell_type": "code",
   "execution_count": 3,
   "metadata": {},
   "outputs": [],
   "source": [
    "#querying NCBI with entrez requires an email address\n",
    "Entrez.email = \"sonettd@uw.edu\""
   ]
  },
  {
   "cell_type": "code",
   "execution_count": 4,
   "metadata": {},
   "outputs": [],
   "source": [
    "working_dir = os.path.abspath('../')\n",
    "gg_blast_file = working_dir + '/input/blast2go_go_table_gg2.txt'\n",
    "gg_output_file = working_dir + '/output/greengenes_blasted_lineages.txt'\n",
    "silva_blast_file = working_dir + '/input/silva_blast2go_go_table2.txt'\n",
    "silva_output_file = working_dir + '/output/silva_blasted_lineages.txt'"
   ]
  },
  {
   "cell_type": "code",
   "execution_count": 5,
   "metadata": {},
   "outputs": [],
   "source": [
    "with open(gg_blast_file) as file:\n",
    "    total = -1 #start at -1 to account for header line\n",
    "    not_resulted = 0\n",
    "    uncultured = 0\n",
    "    identified = 0\n",
    "    genera = []\n",
    "    for line in file:\n",
    "        total += 1\n",
    "        values = line.split('\\t')\n",
    "        if values[3] == 'Description':\n",
    "            continue\n",
    "        elif values[3] in ['', '---NA---']:\n",
    "            not_resulted += 1\n",
    "        elif 'Uncultured' in values[3]:\n",
    "            uncultured += 1\n",
    "        else:\n",
    "            genus = values[3].split(' ')[0]\n",
    "            genus = genus.lstrip('\"')\n",
    "            genus = genus.lstrip(\"'\")\n",
    "            if not genus in ['Achain', 'TPA_asm:', 'Fungal']:\n",
    "                genera.append(genus)\n",
    "                identified += 1\n",
    "            else:\n",
    "                uncultured += 1\n",
    "    genera = Counter(genera)"
   ]
  },
  {
   "cell_type": "code",
   "execution_count": 6,
   "metadata": {
    "scrolled": true
   },
   "outputs": [
    {
     "ename": "RuntimeError",
     "evalue": "Search Backend failed: Unable to open connection to #PMQuerySrv?dbaf=taxonomy",
     "output_type": "error",
     "traceback": [
      "\u001b[0;31m---------------------------------------------------------------------------\u001b[0m",
      "\u001b[0;31mRuntimeError\u001b[0m                              Traceback (most recent call last)",
      "\u001b[0;32m<ipython-input-6-1e2cb463dfad>\u001b[0m in \u001b[0;36m<module>\u001b[0;34m\u001b[0m\n\u001b[1;32m      2\u001b[0m \u001b[0;32mfor\u001b[0m \u001b[0mgenus\u001b[0m \u001b[0;32min\u001b[0m \u001b[0mgenera\u001b[0m\u001b[0;34m:\u001b[0m\u001b[0;34m\u001b[0m\u001b[0;34m\u001b[0m\u001b[0m\n\u001b[1;32m      3\u001b[0m     \u001b[0mhandle\u001b[0m \u001b[0;34m=\u001b[0m \u001b[0mEntrez\u001b[0m\u001b[0;34m.\u001b[0m\u001b[0mesearch\u001b[0m\u001b[0;34m(\u001b[0m\u001b[0mdb\u001b[0m \u001b[0;34m=\u001b[0m \u001b[0;34m'Taxonomy'\u001b[0m\u001b[0;34m,\u001b[0m \u001b[0mretmax\u001b[0m \u001b[0;34m=\u001b[0m \u001b[0;36m1\u001b[0m\u001b[0;34m,\u001b[0m \u001b[0mterm\u001b[0m \u001b[0;34m=\u001b[0m \u001b[0mgenus\u001b[0m\u001b[0;34m)\u001b[0m\u001b[0;34m\u001b[0m\u001b[0;34m\u001b[0m\u001b[0m\n\u001b[0;32m----> 4\u001b[0;31m     \u001b[0mrecord\u001b[0m \u001b[0;34m=\u001b[0m \u001b[0mEntrez\u001b[0m\u001b[0;34m.\u001b[0m\u001b[0mread\u001b[0m\u001b[0;34m(\u001b[0m\u001b[0mhandle\u001b[0m\u001b[0;34m)\u001b[0m\u001b[0;34m\u001b[0m\u001b[0;34m\u001b[0m\u001b[0m\n\u001b[0m\u001b[1;32m      5\u001b[0m     \u001b[0mhandle\u001b[0m\u001b[0;34m.\u001b[0m\u001b[0mclose\u001b[0m\u001b[0;34m(\u001b[0m\u001b[0;34m)\u001b[0m\u001b[0;34m\u001b[0m\u001b[0;34m\u001b[0m\u001b[0m\n\u001b[1;32m      6\u001b[0m     \u001b[0mtax_id\u001b[0m \u001b[0;34m=\u001b[0m \u001b[0mrecord\u001b[0m\u001b[0;34m[\u001b[0m\u001b[0;34m'IdList'\u001b[0m\u001b[0;34m]\u001b[0m\u001b[0;34m[\u001b[0m\u001b[0;36m0\u001b[0m\u001b[0;34m]\u001b[0m\u001b[0;34m\u001b[0m\u001b[0;34m\u001b[0m\u001b[0m\n",
      "\u001b[0;32m~/miniconda3/envs/qiime2-2020.11/lib/python3.6/site-packages/Bio/Entrez/__init__.py\u001b[0m in \u001b[0;36mread\u001b[0;34m(handle, validate, escape)\u001b[0m\n\u001b[1;32m    506\u001b[0m \u001b[0;34m\u001b[0m\u001b[0m\n\u001b[1;32m    507\u001b[0m     \u001b[0mhandler\u001b[0m \u001b[0;34m=\u001b[0m \u001b[0mDataHandler\u001b[0m\u001b[0;34m(\u001b[0m\u001b[0mvalidate\u001b[0m\u001b[0;34m,\u001b[0m \u001b[0mescape\u001b[0m\u001b[0;34m)\u001b[0m\u001b[0;34m\u001b[0m\u001b[0;34m\u001b[0m\u001b[0m\n\u001b[0;32m--> 508\u001b[0;31m     \u001b[0mrecord\u001b[0m \u001b[0;34m=\u001b[0m \u001b[0mhandler\u001b[0m\u001b[0;34m.\u001b[0m\u001b[0mread\u001b[0m\u001b[0;34m(\u001b[0m\u001b[0mhandle\u001b[0m\u001b[0;34m)\u001b[0m\u001b[0;34m\u001b[0m\u001b[0;34m\u001b[0m\u001b[0m\n\u001b[0m\u001b[1;32m    509\u001b[0m     \u001b[0;32mreturn\u001b[0m \u001b[0mrecord\u001b[0m\u001b[0;34m\u001b[0m\u001b[0;34m\u001b[0m\u001b[0m\n\u001b[1;32m    510\u001b[0m \u001b[0;34m\u001b[0m\u001b[0m\n",
      "\u001b[0;32m~/miniconda3/envs/qiime2-2020.11/lib/python3.6/site-packages/Bio/Entrez/Parser.py\u001b[0m in \u001b[0;36mread\u001b[0;34m(self, handle)\u001b[0m\n\u001b[1;32m    302\u001b[0m             \u001b[0;32mraise\u001b[0m \u001b[0mTypeError\u001b[0m\u001b[0;34m(\u001b[0m\u001b[0;34m\"file should be opened in binary mode\"\u001b[0m\u001b[0;34m)\u001b[0m\u001b[0;34m\u001b[0m\u001b[0;34m\u001b[0m\u001b[0m\n\u001b[1;32m    303\u001b[0m         \u001b[0;32mtry\u001b[0m\u001b[0;34m:\u001b[0m\u001b[0;34m\u001b[0m\u001b[0;34m\u001b[0m\u001b[0m\n\u001b[0;32m--> 304\u001b[0;31m             \u001b[0mself\u001b[0m\u001b[0;34m.\u001b[0m\u001b[0mparser\u001b[0m\u001b[0;34m.\u001b[0m\u001b[0mParseFile\u001b[0m\u001b[0;34m(\u001b[0m\u001b[0mhandle\u001b[0m\u001b[0;34m)\u001b[0m\u001b[0;34m\u001b[0m\u001b[0;34m\u001b[0m\u001b[0m\n\u001b[0m\u001b[1;32m    305\u001b[0m         \u001b[0;32mexcept\u001b[0m \u001b[0mexpat\u001b[0m\u001b[0;34m.\u001b[0m\u001b[0mExpatError\u001b[0m \u001b[0;32mas\u001b[0m \u001b[0me\u001b[0m\u001b[0;34m:\u001b[0m\u001b[0;34m\u001b[0m\u001b[0;34m\u001b[0m\u001b[0m\n\u001b[1;32m    306\u001b[0m             \u001b[0;32mif\u001b[0m \u001b[0mself\u001b[0m\u001b[0;34m.\u001b[0m\u001b[0mparser\u001b[0m\u001b[0;34m.\u001b[0m\u001b[0mStartElementHandler\u001b[0m\u001b[0;34m:\u001b[0m\u001b[0;34m\u001b[0m\u001b[0;34m\u001b[0m\u001b[0m\n",
      "\u001b[0;32m/home/conda/feedstock_root/build_artifacts/python_1607472197083/work/Modules/pyexpat.c\u001b[0m in \u001b[0;36mEndElement\u001b[0;34m()\u001b[0m\n",
      "\u001b[0;32m~/miniconda3/envs/qiime2-2020.11/lib/python3.6/site-packages/Bio/Entrez/Parser.py\u001b[0m in \u001b[0;36mendErrorElementHandler\u001b[0;34m(self, name)\u001b[0m\n\u001b[1;32m    664\u001b[0m             \u001b[0;31m# error found:\u001b[0m\u001b[0;34m\u001b[0m\u001b[0;34m\u001b[0m\u001b[0;34m\u001b[0m\u001b[0m\n\u001b[1;32m    665\u001b[0m             \u001b[0mvalue\u001b[0m \u001b[0;34m=\u001b[0m \u001b[0;34m\"\"\u001b[0m\u001b[0;34m.\u001b[0m\u001b[0mjoin\u001b[0m\u001b[0;34m(\u001b[0m\u001b[0mself\u001b[0m\u001b[0;34m.\u001b[0m\u001b[0mdata\u001b[0m\u001b[0;34m)\u001b[0m\u001b[0;34m\u001b[0m\u001b[0;34m\u001b[0m\u001b[0m\n\u001b[0;32m--> 666\u001b[0;31m             \u001b[0;32mraise\u001b[0m \u001b[0mRuntimeError\u001b[0m\u001b[0;34m(\u001b[0m\u001b[0mvalue\u001b[0m\u001b[0;34m)\u001b[0m\u001b[0;34m\u001b[0m\u001b[0;34m\u001b[0m\u001b[0m\n\u001b[0m\u001b[1;32m    667\u001b[0m         \u001b[0;31m# no error found:\u001b[0m\u001b[0;34m\u001b[0m\u001b[0;34m\u001b[0m\u001b[0;34m\u001b[0m\u001b[0m\n\u001b[1;32m    668\u001b[0m         \u001b[0;32mif\u001b[0m \u001b[0mself\u001b[0m\u001b[0;34m.\u001b[0m\u001b[0melement\u001b[0m \u001b[0;32mis\u001b[0m \u001b[0;32mnot\u001b[0m \u001b[0;32mNone\u001b[0m\u001b[0;34m:\u001b[0m\u001b[0;34m\u001b[0m\u001b[0;34m\u001b[0m\u001b[0m\n",
      "\u001b[0;31mRuntimeError\u001b[0m: Search Backend failed: Unable to open connection to #PMQuerySrv?dbaf=taxonomy"
     ]
    }
   ],
   "source": [
    "lineages = {}\n",
    "for genus in genera:\n",
    "    handle = Entrez.esearch(db = 'Taxonomy', retmax = 1, term = genus)\n",
    "    record = Entrez.read(handle)\n",
    "    handle.close()\n",
    "    tax_id = record['IdList'][0]\n",
    "    handle = Entrez.efetch(db = 'Taxonomy', id = tax_id)\n",
    "    record = Entrez.read(handle)\n",
    "    handle.close()\n",
    "    lineage = record[0]['Lineage']\n",
    "    if lineage not in lineages:\n",
    "        lineages[lineage] = genera[genus]\n",
    "    else:\n",
    "        lineages[lineage] += genera[genus]"
   ]
  },
  {
   "cell_type": "code",
   "execution_count": null,
   "metadata": {},
   "outputs": [],
   "source": [
    "with open(gg_output_file, 'w') as file:\n",
    "    file.write(str(total) + '\\tTotal blasted\\n')\n",
    "    file.write(str(not_resulted) + '\\tNo result\\n')\n",
    "    file.write(str(uncultured+1) + '\\tUncultured\\n') #to account for deleted AChain result\n",
    "    for lineage in lineages:\n",
    "        line = lineage.replace('; ', '\\t')\n",
    "        file.write(str(lineages[lineage]) + '\\t' + line + '\\n')"
   ]
  },
  {
   "cell_type": "code",
   "execution_count": null,
   "metadata": {},
   "outputs": [],
   "source": [
    "with open(silva_blast_file) as file:\n",
    "    total = -1 #start at -1 to account for header line\n",
    "    not_resulted = 0\n",
    "    uncultured = 0\n",
    "    identified = 0\n",
    "    genera = []\n",
    "    for line in file:\n",
    "        total += 1\n",
    "        values = line.split('\\t')\n",
    "        if values[3] == 'Description':\n",
    "            continue\n",
    "        elif values[3] in ['', '---NA---']:\n",
    "            not_resulted += 1\n",
    "        elif 'uncultured' in values[3] or 'Uncultured' in values[3]:\n",
    "            uncultured += 1\n",
    "        else:\n",
    "            genus = values[3].split(' ')[0]\n",
    "            genus = genus.lstrip('\"')\n",
    "            genus = genus.lstrip(\"'\")\n",
    "            if not genus in ['TPA_asm:', 'Fungal']:\n",
    "                genera.append(genus)\n",
    "                identified += 1\n",
    "            else:\n",
    "                uncultured += 1\n",
    "    genera = Counter(genera)"
   ]
  },
  {
   "cell_type": "code",
   "execution_count": null,
   "metadata": {},
   "outputs": [],
   "source": [
    "lineages = {}\n",
    "for genus in genera:\n",
    "    handle = Entrez.esearch(db = 'Taxonomy', retmax = 1, term = genus)\n",
    "    record = Entrez.read(handle)\n",
    "    handle.close()\n",
    "    tax_id = record['IdList'][0]\n",
    "    handle = Entrez.efetch(db = 'Taxonomy', id = tax_id)\n",
    "    record = Entrez.read(handle)\n",
    "    handle.close()\n",
    "    lineage = record[0]['Lineage']\n",
    "    if lineage not in lineages:\n",
    "        lineages[lineage] = genera[genus]\n",
    "    else:\n",
    "        lineages[lineage] += genera[genus]"
   ]
  },
  {
   "cell_type": "code",
   "execution_count": null,
   "metadata": {},
   "outputs": [],
   "source": [
    "with open(silva_output_file, 'w') as file:\n",
    "    file.write(str(total) + '\\tTotal blasted\\n')\n",
    "    file.write(str(not_resulted) + '\\tNo result\\n')\n",
    "    file.write(str(uncultured) + '\\tUncultured\\n')\n",
    "    for lineage in lineages:\n",
    "        line = lineage.replace('; ', '\\t')\n",
    "        file.write(str(lineages[lineage]) + '\\t' + line + '\\n')"
   ]
  },
  {
   "cell_type": "code",
   "execution_count": null,
   "metadata": {},
   "outputs": [],
   "source": []
  }
 ],
 "metadata": {
  "kernelspec": {
   "display_name": "Python 3",
   "language": "python",
   "name": "python3"
  },
  "language_info": {
   "codemirror_mode": {
    "name": "ipython",
    "version": 3
   },
   "file_extension": ".py",
   "mimetype": "text/x-python",
   "name": "python",
   "nbconvert_exporter": "python",
   "pygments_lexer": "ipython3",
   "version": "3.6.12"
  }
 },
 "nbformat": 4,
 "nbformat_minor": 4
}
