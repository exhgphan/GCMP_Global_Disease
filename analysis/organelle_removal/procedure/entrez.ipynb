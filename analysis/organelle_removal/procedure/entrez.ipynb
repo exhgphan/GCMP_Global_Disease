{
 "cells": [
  {
   "cell_type": "code",
   "execution_count": null,
   "metadata": {},
   "outputs": [],
   "source": [
    "#install biopython in the current conda environment\n",
    "!conda install -c conda-forge biopython -y"
   ]
  },
  {
   "cell_type": "code",
   "execution_count": null,
   "metadata": {
    "scrolled": true
   },
   "outputs": [],
   "source": [
    "from collections import Counter\n",
    "from Bio import Entrez\n",
    "import os"
   ]
  },
  {
   "cell_type": "code",
   "execution_count": null,
   "metadata": {},
   "outputs": [],
   "source": [
    "#querying NCBI with entrez requires an email address\n",
    "Entrez.email = email_string"
   ]
  },
  {
   "cell_type": "code",
   "execution_count": null,
   "metadata": {},
   "outputs": [],
   "source": [
    "working_dir = os.path.abspath('../')\n",
    "gg_blast_file = working_dir + '/input/blast2go_go_table_gg2.txt'\n",
    "gg_output_file = working_dir + '/output/greengenes_blasted_lineages.txt'\n",
    "silva_blast_file = working_dir + '/input/silva_blast2go_go_table2.txt'\n",
    "silva_output_file = working_dir + '/output/silva_blasted_lineages.txt'"
   ]
  },
  {
   "cell_type": "code",
   "execution_count": null,
   "metadata": {},
   "outputs": [],
   "source": [
    "with open(gg_blast_file) as file:\n",
    "    total = -1 #start at -1 to account for header line\n",
    "    not_resulted = 0\n",
    "    uncultured = 0\n",
    "    identified = 0\n",
    "    genera = []\n",
    "    for line in file:\n",
    "        total += 1\n",
    "        values = line.split('\\t')\n",
    "        if values[3] == 'Description':\n",
    "            continue\n",
    "        elif values[3] in ['', '---NA---']:\n",
    "            not_resulted += 1\n",
    "        elif 'Uncultured' in values[3]:\n",
    "            uncultured += 1\n",
    "        else:\n",
    "            genus = values[3].split(' ')[0]\n",
    "            genus = genus.lstrip('\"')\n",
    "            genus = genus.lstrip(\"'\")\n",
    "            if not genus in ['Achain', 'TPA_asm:', 'Fungal']:\n",
    "                genera.append(genus)\n",
    "                identified += 1\n",
    "            else:\n",
    "                uncultured += 1\n",
    "    genera = Counter(genera)"
   ]
  },
  {
   "cell_type": "code",
   "execution_count": null,
   "metadata": {
    "scrolled": true
   },
   "outputs": [],
   "source": [
    "lineages = {}\n",
    "for genus in genera:\n",
    "    handle = Entrez.esearch(db = 'Taxonomy', retmax = 1, term = genus)\n",
    "    record = Entrez.read(handle)\n",
    "    handle.close()\n",
    "    tax_id = record['IdList'][0]\n",
    "    handle = Entrez.efetch(db = 'Taxonomy', id = tax_id)\n",
    "    record = Entrez.read(handle)\n",
    "    handle.close()\n",
    "    lineage = record[0]['Lineage']\n",
    "    if lineage not in lineages:\n",
    "        lineages[lineage] = genera[genus]\n",
    "    else:\n",
    "        lineages[lineage] += genera[genus]"
   ]
  },
  {
   "cell_type": "code",
   "execution_count": null,
   "metadata": {},
   "outputs": [],
   "source": [
    "with open(gg_output_file, 'w') as file:\n",
    "    file.write(str(total) + '\\tTotal blasted\\n')\n",
    "    file.write(str(not_resulted) + '\\tNo result\\n')\n",
    "    file.write(str(uncultured+1) + '\\tUncultured\\n') #to account for deleted AChain result\n",
    "    for lineage in lineages:\n",
    "        line = lineage.replace('; ', '\\t')\n",
    "        file.write(str(lineages[lineage]) + '\\t' + line + '\\n')"
   ]
  },
  {
   "cell_type": "code",
   "execution_count": null,
   "metadata": {},
   "outputs": [],
   "source": [
    "with open(silva_blast_file) as file:\n",
    "    total = -1 #start at -1 to account for header line\n",
    "    not_resulted = 0\n",
    "    uncultured = 0\n",
    "    identified = 0\n",
    "    genera = []\n",
    "    for line in file:\n",
    "        total += 1\n",
    "        values = line.split('\\t')\n",
    "        if values[3] == 'Description':\n",
    "            continue\n",
    "        elif values[3] in ['', '---NA---']:\n",
    "            not_resulted += 1\n",
    "        elif 'uncultured' in values[3] or 'Uncultured' in values[3]:\n",
    "            uncultured += 1\n",
    "        else:\n",
    "            genus = values[3].split(' ')[0]\n",
    "            genus = genus.lstrip('\"')\n",
    "            genus = genus.lstrip(\"'\")\n",
    "            if not genus in ['TPA_asm:', 'Fungal']:\n",
    "                genera.append(genus)\n",
    "                identified += 1\n",
    "            else:\n",
    "                uncultured += 1\n",
    "    genera = Counter(genera)"
   ]
  },
  {
   "cell_type": "code",
   "execution_count": null,
   "metadata": {},
   "outputs": [],
   "source": [
    "lineages = {}\n",
    "for genus in genera:\n",
    "    handle = Entrez.esearch(db = 'Taxonomy', retmax = 1, term = genus)\n",
    "    record = Entrez.read(handle)\n",
    "    handle.close()\n",
    "    tax_id = record['IdList'][0]\n",
    "    handle = Entrez.efetch(db = 'Taxonomy', id = tax_id)\n",
    "    record = Entrez.read(handle)\n",
    "    handle.close()\n",
    "    lineage = record[0]['Lineage']\n",
    "    if lineage not in lineages:\n",
    "        lineages[lineage] = genera[genus]\n",
    "    else:\n",
    "        lineages[lineage] += genera[genus]"
   ]
  },
  {
   "cell_type": "code",
   "execution_count": null,
   "metadata": {},
   "outputs": [],
   "source": [
    "with open(silva_output_file, 'w') as file:\n",
    "    file.write(str(total) + '\\tTotal blasted\\n')\n",
    "    file.write(str(not_resulted) + '\\tNo result\\n')\n",
    "    file.write(str(uncultured) + '\\tUncultured\\n')\n",
    "    for lineage in lineages:\n",
    "        line = lineage.replace('; ', '\\t')\n",
    "        file.write(str(lineages[lineage]) + '\\t' + line + '\\n')"
   ]
  },
  {
   "cell_type": "code",
   "execution_count": null,
   "metadata": {},
   "outputs": [],
   "source": []
  }
 ],
 "metadata": {
  "kernelspec": {
   "display_name": "Python 3",
   "language": "python",
   "name": "python3"
  },
  "language_info": {
   "codemirror_mode": {
    "name": "ipython",
    "version": 3
   },
   "file_extension": ".py",
   "mimetype": "text/x-python",
   "name": "python",
   "nbconvert_exporter": "python",
   "pygments_lexer": "ipython3",
   "version": "3.6.12"
  }
 },
 "nbformat": 4,
 "nbformat_minor": 4
}
