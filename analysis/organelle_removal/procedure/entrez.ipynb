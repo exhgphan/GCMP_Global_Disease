{
 "cells": [
  {
   "cell_type": "code",
   "execution_count": 66,
   "metadata": {},
   "outputs": [],
   "source": [
    "from collections import Counter\n",
    "from Bio import Entrez"
   ]
  },
  {
   "cell_type": "code",
   "execution_count": 67,
   "metadata": {},
   "outputs": [],
   "source": [
    "Entrez.email = \"sonettd@uw.edu\""
   ]
  },
  {
   "cell_type": "code",
   "execution_count": 97,
   "metadata": {},
   "outputs": [],
   "source": [
    "blast_file = 'greengenes_blast2go_go_table.txt'\n",
    "output_file = 'greengenes_blasted_lineages.txt'"
   ]
  },
  {
   "cell_type": "code",
   "execution_count": 114,
   "metadata": {},
   "outputs": [],
   "source": [
    "with open(blast_file) as file:\n",
    "    total = -1 #start at -1 to account for header line\n",
    "    not_resulted = 0\n",
    "    uncultured = 0\n",
    "    identified = 0\n",
    "    genera = []\n",
    "    for line in file:\n",
    "        total += 1\n",
    "        values = line.split('\\t')\n",
    "        if values[3] == 'Description':\n",
    "            continue\n",
    "        elif values[3] in ['', '---NA---']:\n",
    "            not_resulted += 1\n",
    "        elif 'Uncultured' in values[3]:\n",
    "            uncultured += 1\n",
    "        else:\n",
    "            genus = values[3].split(' ')[0]\n",
    "            genus = genus.lstrip('\"')\n",
    "            genus = genus.lstrip(\"'\")\n",
    "            if not genus in ['Achain', 'TPA_asm:', 'Fungal']:\n",
    "                genera.append(genus)\n",
    "                identified += 1\n",
    "            else:\n",
    "                uncultured += 1\n",
    "    genera = Counter(genera)"
   ]
  },
  {
   "cell_type": "code",
   "execution_count": 115,
   "metadata": {
    "scrolled": true
   },
   "outputs": [],
   "source": [
    "lineages = {}\n",
    "for genus in genera:\n",
    "    handle = Entrez.esearch(db = 'Taxonomy', retmax = 1, term = genus)\n",
    "    record = Entrez.read(handle)\n",
    "    handle.close()\n",
    "    tax_id = record['IdList'][0]\n",
    "    handle = Entrez.efetch(db = 'Taxonomy', id = tax_id)\n",
    "    record = Entrez.read(handle)\n",
    "    handle.close()\n",
    "    lineage = record[0]['Lineage']\n",
    "    if lineage not in lineages:\n",
    "        lineages[lineage] = genera[genus]\n",
    "    else:\n",
    "        lineages[lineage] += genera[genus]"
   ]
  },
  {
   "cell_type": "code",
   "execution_count": 116,
   "metadata": {},
   "outputs": [],
   "source": [
    "with open(output_file, 'w') as file:\n",
    "    file.write(str(total) + '\\tTotal blasted\\n')\n",
    "    file.write(str(not_resulted) + '\\tNo result\\n')\n",
    "    file.write(str(uncultured+1) + '\\tUncultured\\n') #to account for deleted AChain result\n",
    "    for lineage in lineages:\n",
    "        line = lineage.replace('; ', '\\t')\n",
    "        file.write(str(lineages[lineage]) + '\\t' + line + '\\n')"
   ]
  },
  {
   "cell_type": "code",
   "execution_count": null,
   "metadata": {},
   "outputs": [],
   "source": []
  }
 ],
 "metadata": {
  "kernelspec": {
   "display_name": "Python 3",
   "language": "python",
   "name": "python3"
  },
  "language_info": {
   "codemirror_mode": {
    "name": "ipython",
    "version": 3
   },
   "file_extension": ".py",
   "mimetype": "text/x-python",
   "name": "python",
   "nbconvert_exporter": "python",
   "pygments_lexer": "ipython3",
   "version": "3.6.10"
  }
 },
 "nbformat": 4,
 "nbformat_minor": 4
}
