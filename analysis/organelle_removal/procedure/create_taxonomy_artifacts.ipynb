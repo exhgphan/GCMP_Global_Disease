{
 "cells": [
  {
   "cell_type": "markdown",
   "metadata": {},
   "source": [
    "## Create QIIME2 Taxonomy Artifact Files\n",
    "\n",
    "For QIIME2 to annotate taxonomy, it requires that we create taxonomy .qza files. In this notebook, we will create such taxonomy files by supplementing the Greengenes and SILVA databases with additional mitochondrial 12S rRNA gene sequences from the MeTaxa2 project\n",
    "\n",
    "The script assumes the following files are already together in a folder. (By default this is ../outputs/taxonomy_references/):\n",
    "\n",
    "gg_13_8_otus/ (derived from gg_13_8_otus.tar.gz, downloaded from ftp://greengenes.microbio.me/greengenes_release/gg_13_5/gg_13_8_otus.tar.gz)\n",
    "Silva_132_release/ (derived from Silva_132_release.zip downloaded from https://www.arb-silva.de/fileadmin/silva_databases/qiime/Silva_132_release.zip)\n",
    "metaxa2.fasta (constructed from the MeTaxa2 BLAST database, https://microbiology.se/sw/Metaxa2_2.2.1.tar.gz)\n",
    "\n",
    "These are all manually downloaded and extracted by the download_starting_taxonomy_files.ipynb notebook \n",
    "\n",
    "The script further requires the following libraries:\n",
    "\n",
    "-- The QIIME2 software and dependencies (we ran it from within the qiime2-2020.6 conda environment) \n",
    "-- Biopython installed within the QIIME2 conda environment (I used conda install biopython)\n"
   ]
  },
  {
   "cell_type": "markdown",
   "metadata": {},
   "source": [
    "#### Import python libraries\n",
    "\n",
    "Note that this step will fail if Biopython or QIIME2 are not installed (specifically, Biopython must be installed within the qiime2 conda environment)"
   ]
  },
  {
   "cell_type": "code",
   "execution_count": 1,
   "metadata": {},
   "outputs": [],
   "source": [
    "from Bio import SeqIO\n",
    "from qiime2 import Artifact\n",
    "import os"
   ]
  },
  {
   "cell_type": "markdown",
   "metadata": {},
   "source": [
    "#### Define paths for new and existing files \n",
    "\n",
    "All paths are defined here to make the below code more modular.\n",
    "\n",
    "Basically for each resource (Greengenes or SILVA) we need a FASA file with the actual sequences, and a taxonomy file that says how those sequences map into taxonomic categories. From these, we generate a new sequence and taxonomy file that has the original info plus the new sequences from MeTaxa2."
   ]
  },
  {
   "cell_type": "code",
   "execution_count": 2,
   "metadata": {},
   "outputs": [],
   "source": [
    "## Set up input and output directories (assumes starting from 'procedure' folder)\n",
    "working_dir = os.path.abspath('../output/taxonomy_references/')\n",
    "\n",
    "#Set up variables for relevant files\n",
    "#Note in variable names we follow the convention m2 = MeTaxa2, gg = greengenes\n",
    "\n",
    "#Existing files:\n",
    "gg_fasta_path = working_dir + '/gg_13_8_otus/rep_set/99_otus.fasta'\n",
    "gg_taxonomy_path = working_dir+'/gg_13_8_otus/taxonomy/99_otu_taxonomy.txt'\n",
    "\n",
    "silva_fasta_path = working_dir + '/SILVA_132_QIIME_release/rep_set/rep_set_16S_only/99/silva_132_99_16S.fna'\n",
    "silva_taxonomy_path = working_dir + '/SILVA_132_QIIME_release/taxonomy/16S_only/99/taxonomy_7_levels.txt'\n",
    "m2_fasta_path = working_dir + '/metaxa2.fasta'\n",
    "\n",
    "\n",
    "#New intermediate/raw data files:\n",
    "gg_plus_m2_fasta_path = working_dir + '/m2+gg_otus.fasta'\n",
    "gg_plus_m2_taxonomy_path = working_dir + '/m2+gg_taxonomy.txt'\n",
    "silva_plus_m2_fasta_path = working_dir + '/m2+silva_otus.fasta'\n",
    "silva_plus_m2_taxonomy_path = working_dir + '/m2+silva_taxonomy.txt'\n",
    "\n",
    "#New QIIME2 .qza artifact files:\n",
    "gg_otus_qza = working_dir + '/greengenes_otus.qza'\n",
    "gg_taxonomy_qza = working_dir + '/greengenes_taxonomy.qza'\n",
    "gg_m2_otus_qza = working_dir + '/greengenes_metaxa2_otus.qza'\n",
    "gg_m2_taxonomy_qza = working_dir + '/greengenes_metaxa2_taxonomy.qza'\n",
    "silva_otus_qza = working_dir + '/silva_otus.qza'\n",
    "silva_taxonomy_qza = working_dir + '/silva_taxonomy.qza'\n",
    "silva_m2_otus_qza = working_dir + '/silva_metaxa2_otus.qza'\n",
    "silva_m2_taxonomy_qza = working_dir + '/silva_metaxa2_taxonomy.qza'"
   ]
  },
  {
   "cell_type": "markdown",
   "metadata": {},
   "source": [
    "#### Verify that all input files exist\n",
    "\n",
    "Let's run a quick check to make sure all input files actually exist"
   ]
  },
  {
   "cell_type": "code",
   "execution_count": 3,
   "metadata": {},
   "outputs": [
    {
     "name": "stdout",
     "output_type": "stream",
     "text": [
      "Verifying that all needed starting data files exist.\n",
      "Done.\n"
     ]
    }
   ],
   "source": [
    "print(\"Verifying that all needed starting data files exist.\")\n",
    "for existing_file in [gg_fasta_path,gg_taxonomy_path,silva_fasta_path,silva_taxonomy_path,m2_fasta_path]:\n",
    "    if not os.path.exists(existing_file):\n",
    "        raise IOError(f\"Required file {existing_file} not found. Please ensure it is in that directory.\")\n",
    "print(\"Done.\")"
   ]
  },
  {
   "cell_type": "markdown",
   "metadata": {},
   "source": [
    "#### Create a combined Greengenes plus MeTaxa2 fasta and taxonomy file"
   ]
  },
  {
   "cell_type": "code",
   "execution_count": 4,
   "metadata": {},
   "outputs": [],
   "source": [
    "#extract mitochondria sequences from Metaxa2 and add them to new\n",
    "#fasta and taxonomy files in the style of greengenes\n",
    "\n",
    "otu_file = open(gg_plus_m2_fasta_path, \"a\")\n",
    "taxonomy_file = open(gg_plus_m2_taxonomy_path, \"a\") \n",
    "\n",
    "#Add MeTaxa2 data to the gg_plus_m2 fasta and taxonomy files\n",
    "for i, entry in enumerate(SeqIO.parse(m2_fasta_path, \"fasta\")):\n",
    "    if 'mitochondria' in entry.description or 'Mitochondria' in entry.description:\n",
    "        otu_file.write(\">metaxa2_\" + str(i) + \"\\n\")\n",
    "        otu_file.write(str(entry.seq + \"\\n\"))\n",
    "        taxonomy_file.write(\"metaxa2_\" + str(i) + \"\\tk__Bacteria; p__Proteobacteria; c__Alphaproteobacteria; o__Rickettsiales; f__mitochondria; g__; s__\\n\")\n",
    "    else:\n",
    "        continue\n",
    "        \n",
    "#copy greengenes otus into the gg_plus_m2 fasta file        \n",
    "for entry in SeqIO.parse(gg_fasta_path, \"fasta\"):\n",
    "        otu_file.write(\">\" + str(entry.description) + \"\\n\")\n",
    "        otu_file.write(str(entry.seq) + \"\\n\")"
   ]
  },
  {
   "cell_type": "code",
   "execution_count": 5,
   "metadata": {},
   "outputs": [],
   "source": [
    "#copy greengenes taxonomy into the combined taxonomy file\n",
    "greengenes_taxonomy_file = open(gg_taxonomy_path) \n",
    "for line in greengenes_taxonomy_file:\n",
    "    taxonomy_file.write(line)"
   ]
  },
  {
   "cell_type": "code",
   "execution_count": 6,
   "metadata": {},
   "outputs": [
    {
     "name": "stdout",
     "output_type": "stream",
     "text": [
      "Verifying that all gg_plus_m2 data files were created.\n",
      "Successfully created file: /mnt/c/Users/Dylan/Documents/zaneveld/2_14_gcmp/GCMP_Global_Disease/analysis/organelle_removal/output/taxonomy_references/m2+gg_otus.fasta\n",
      "Successfully created file: /mnt/c/Users/Dylan/Documents/zaneveld/2_14_gcmp/GCMP_Global_Disease/analysis/organelle_removal/output/taxonomy_references/m2+gg_taxonomy.txt\n",
      "Done.\n"
     ]
    }
   ],
   "source": [
    "#Verify that we really created all files we were supposed to\n",
    "\n",
    "print(\"Verifying that all gg_plus_m2 data files were created.\")\n",
    "for created_file in [gg_plus_m2_fasta_path,gg_plus_m2_taxonomy_path]:\n",
    "    if not os.path.exists(created_file):\n",
    "        raise IOError(f\"Required file {created_file} not found. Please ensure it is in that directory.\")\n",
    "    print(\"Successfully created file:\",created_file)\n",
    "    \n",
    "print(\"Done.\")"
   ]
  },
  {
   "cell_type": "markdown",
   "metadata": {},
   "source": [
    "## Supplement the SILVA database with MeTaxa2 sequences\n",
    "\n",
    "We'll now repeat the process to supplement the SILVA database with MeTaxa2 mitochondrial sequences"
   ]
  },
  {
   "cell_type": "code",
   "execution_count": 7,
   "metadata": {},
   "outputs": [],
   "source": [
    "#extract mitochondria sequences from Metaxa2 and create separate fasta and taxonomy files in the style of SILVA\n",
    "otu_file = open(silva_plus_m2_fasta_path, \"a\") \n",
    "taxonomy_file = open(silva_plus_m2_taxonomy_path, \"a\")\n",
    "\n",
    "for i, entry in enumerate(SeqIO.parse(m2_fasta_path, \"fasta\")):\n",
    "    if 'mitochondria' in entry.description or 'Mitochondria' in entry.description:\n",
    "        otu_file.write(\">metaxa2_\" + str(i) + \"\\n\")\n",
    "        otu_file.write(str(entry.seq + \"\\n\"))\n",
    "        taxonomy_file.write(\"metaxa2_\" + str(i) + \"\\tD_0__Bacteria;D_1__Proteobacteria;D_2__Alphaproteobacteria;D_3__Rickettsiales;D_4__Mitochondria;D_5__uncultured bacterium;D_6__uncultured bacterium\\n\")\n",
    "    else:\n",
    "        continue"
   ]
  },
  {
   "cell_type": "code",
   "execution_count": 8,
   "metadata": {},
   "outputs": [],
   "source": [
    "#copy silva otus into the combined fasta file \n",
    "for entry in SeqIO.parse(silva_fasta_path, \"fasta\"):\n",
    "    otu_file.write(\">\" + str(entry.description) + \"\\n\")\n",
    "    otu_file.write(str(entry.seq) + \"\\n\")"
   ]
  },
  {
   "cell_type": "code",
   "execution_count": 9,
   "metadata": {},
   "outputs": [],
   "source": [
    "#copy silva taxonomy into the combined taxonomy file\n",
    "silva_taxonomy_file = open(silva_taxonomy_path) \n",
    "for line in silva_taxonomy_file:\n",
    "    taxonomy_file.write(line)"
   ]
  },
  {
   "cell_type": "code",
   "execution_count": 10,
   "metadata": {},
   "outputs": [
    {
     "name": "stdout",
     "output_type": "stream",
     "text": [
      "Verifying that all silva_plus_m2 data files were created.\n",
      "Successfully created file: /mnt/c/Users/Dylan/Documents/zaneveld/2_14_gcmp/GCMP_Global_Disease/analysis/organelle_removal/output/taxonomy_references/m2+silva_otus.fasta\n",
      "Successfully created file: /mnt/c/Users/Dylan/Documents/zaneveld/2_14_gcmp/GCMP_Global_Disease/analysis/organelle_removal/output/taxonomy_references/m2+silva_taxonomy.txt\n",
      "Done.\n"
     ]
    }
   ],
   "source": [
    "#Verify that we really created all files we were supposed to\n",
    "\n",
    "print(\"Verifying that all silva_plus_m2 data files were created.\")\n",
    "for created_file in [silva_plus_m2_fasta_path,silva_plus_m2_taxonomy_path]:\n",
    "    if not os.path.exists(created_file):\n",
    "        raise IOError(f\"Required file {created_file} not found. Please ensure it is in that directory.\")\n",
    "    print(\"Successfully created file:\",created_file)\n",
    "    \n",
    "print(\"Done.\")"
   ]
  },
  {
   "cell_type": "markdown",
   "metadata": {},
   "source": [
    "## Import the Greengenes + Metaxa2 data into QIIME2 and export taxonomy .qzas\n",
    "\n",
    "We now should have all the info we need to generate new QIIME2 taxonomy .qza files that can be used for taxonomic annotation. "
   ]
  },
  {
   "cell_type": "code",
   "execution_count": 11,
   "metadata": {},
   "outputs": [],
   "source": [
    "#create greengenes taxonomy and OTU artifacts\n",
    "gg_otus = Artifact.import_data('FeatureData[Sequence]', gg_fasta_path)\n",
    "gg_taxonomy = Artifact.import_data('FeatureData[Taxonomy]', gg_taxonomy_path, 'HeaderlessTSVTaxonomyFormat')"
   ]
  },
  {
   "cell_type": "code",
   "execution_count": 12,
   "metadata": {},
   "outputs": [],
   "source": [
    "#create greengenes+m2 taxonomy and otu artifacts\n",
    "gg_m2_otus = Artifact.import_data('FeatureData[Sequence]', gg_plus_m2_fasta_path)\n",
    "gg_m2_taxonomy = Artifact.import_data('FeatureData[Taxonomy]', \n",
    "  gg_plus_m2_taxonomy_path, 'HeaderlessTSVTaxonomyFormat')\n",
    "\n"
   ]
  },
  {
   "cell_type": "code",
   "execution_count": 13,
   "metadata": {},
   "outputs": [],
   "source": [
    "#create SILVA taxonomy and OTU artifacts\n",
    "silva_otus = Artifact.import_data('FeatureData[Sequence]', silva_fasta_path)\n",
    "silva_taxonomy = Artifact.import_data('FeatureData[Taxonomy]', silva_taxonomy_path, 'HeaderlessTSVTaxonomyFormat')"
   ]
  },
  {
   "cell_type": "code",
   "execution_count": 14,
   "metadata": {},
   "outputs": [],
   "source": [
    "#create SILVA+m2 taxonomy and otu artifacts\n",
    "silva_m2_otus = Artifact.import_data('FeatureData[Sequence]', silva_plus_m2_fasta_path)\n",
    "silva_m2_taxonomy = Artifact.import_data('FeatureData[Taxonomy]', silva_plus_m2_taxonomy_path, 'HeaderlessTSVTaxonomyFormat')"
   ]
  },
  {
   "cell_type": "code",
   "execution_count": 15,
   "metadata": {},
   "outputs": [
    {
     "data": {
      "text/plain": [
       "'/mnt/c/Users/Dylan/Documents/zaneveld/2_14_gcmp/GCMP_Global_Disease/analysis/organelle_removal/output/taxonomy_references/silva_metaxa2_taxonomy.qza'"
      ]
     },
     "execution_count": 15,
     "metadata": {},
     "output_type": "execute_result"
    }
   ],
   "source": [
    "#export the artifacts to the output folder\n",
    "gg_otus.save(gg_otus_qza)\n",
    "gg_taxonomy.save(gg_taxonomy_qza)\n",
    "gg_m2_otus.save(gg_m2_otus_qza)\n",
    "gg_m2_taxonomy.save(gg_m2_taxonomy_qza)\n",
    "silva_otus.save(silva_otus_qza)\n",
    "silva_taxonomy.save(silva_taxonomy_qza)\n",
    "silva_m2_otus.save(silva_m2_otus_qza)\n",
    "silva_m2_taxonomy.save(silva_m2_taxonomy_qza)"
   ]
  },
  {
   "cell_type": "code",
   "execution_count": null,
   "metadata": {},
   "outputs": [],
   "source": []
  }
 ],
 "metadata": {
  "kernelspec": {
   "display_name": "Python 3",
   "language": "python",
   "name": "python3"
  },
  "language_info": {
   "codemirror_mode": {
    "name": "ipython",
    "version": 3
   },
   "file_extension": ".py",
   "mimetype": "text/x-python",
   "name": "python",
   "nbconvert_exporter": "python",
   "pygments_lexer": "ipython3",
   "version": "3.6.12"
  }
 },
 "nbformat": 4,
 "nbformat_minor": 2
}
