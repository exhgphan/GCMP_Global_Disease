{
 "cells": [
  {
   "cell_type": "markdown",
   "metadata": {},
   "source": [
    "## Effects of Mitochondrial Removal Protocol on Coral Microbiome Alpha and Beta Diversity\n",
    "\n",
    "This notebook tests how the choice of mitochondrial annotation and removal method influences coral alpha and beta diversity. The strategy is to perform alpha and beta diversity analysis on coral mucus, tissue, and skeleton samples using either standard Greengenes_13_8 or SILVA annotations, or to do the same with expanded versions of these references."
   ]
  },
  {
   "cell_type": "markdown",
   "metadata": {},
   "source": [
    "#### Set up\n",
    "\n",
    "We'll import QIIME2 artifact API functions and objects to do the analysis, as well as some basic python functions for working with the file system (e.g. from os.path)"
   ]
  },
  {
   "cell_type": "code",
   "execution_count": 1,
   "metadata": {},
   "outputs": [],
   "source": [
    "from qiime2 import Artifact\n",
    "from qiime2.plugins.feature_table.methods import filter_samples\n",
    "from qiime2.plugins.taxa.methods import filter_table\n",
    "#The below try/except block is unsightly but the alpha function got moved between recent versions of QIIME2\n",
    "#and it's nice if the notebook is compatible with either\n",
    "try:\n",
    "    from qiime2.plugins.diversity.methods import alpha,beta\n",
    "except:\n",
    "    from qiime2.plugins.diversity.pipelines import alpha,beta\n",
    "from qiime2.plugins.diversity.visualizers import alpha_group_significance,beta_group_significance\n",
    "\n",
    "from qiime2.plugins.feature_table.methods import rarefy\n",
    "from qiime2.plugins.feature_table.visualizers import summarize\n",
    "\n",
    "from qiime2.metadata import Metadata\n",
    "\n",
    "from os.path import abspath,exists,join\n",
    "import shutil"
   ]
  },
  {
   "cell_type": "markdown",
   "metadata": {},
   "source": [
    "#### Set up input filenames\n",
    "\n",
    "We'll set up input filenames all at once so we can refer to them later."
   ]
  },
  {
   "cell_type": "code",
   "execution_count": 2,
   "metadata": {},
   "outputs": [],
   "source": [
    "#### Check that required files exist\n",
    "mucus_feature_table = \"../output/M_ft.qza\"\n",
    "tissue_feature_table = \"../output/T_ft.qza\"\n",
    "skeleton_feature_table = \"../output/S_ft.qza\"\n",
    "mapping_file = \"../input/GCMP_EMP_map_r28_no_empty_samples.txt\"\n",
    "sequence_file = \"../output/GCMP_seqs.qza\"\n",
    "output_dir = abspath(\"../output/\")\n",
    "input_directory = abspath(\"../input\")\n",
    "\n",
    "taxonomy_files = {\"silva_metaxa2\":\"../output/silva_metaxa2_reference_taxonomy.qza\",\\\n",
    "                 \"silva\":\"../output/silva_reference_taxonomy.qza\",\\\n",
    "                 \"greengenes\":\"../output/greengenes_reference_taxonomy.qza\",\\\n",
    "                 \"greengenes_metaxa2\":\"../output/greengenes_metaxa2_reference_taxonomy.qza\"}\n",
    "\n",
    "required_files = [mucus_feature_table,tissue_feature_table,skeleton_feature_table,mapping_file,sequence_file]\n",
    "required_files.extend(taxonomy_files.values())\n",
    "\n"
   ]
  },
  {
   "cell_type": "markdown",
   "metadata": {},
   "source": [
    "#### Check that all required files really exist and are named correctly"
   ]
  },
  {
   "cell_type": "code",
   "execution_count": 3,
   "metadata": {},
   "outputs": [
    {
     "name": "stdout",
     "output_type": "stream",
     "text": [
      "Verifying that all needed starting data files exist.\n",
      "Done.\n"
     ]
    }
   ],
   "source": [
    "print(\"Verifying that all needed starting data files exist.\")\n",
    "for existing_file in required_files:\n",
    "    if not exists(existing_file):\n",
    "        raise IOError(f\"Required file {existing_file} not found. Please ensure it is in that directory.\")\n",
    "print(\"Done.\")\n"
   ]
  },
  {
   "cell_type": "markdown",
   "metadata": {},
   "source": [
    "#### Check QIIME2 version\n",
    "\n",
    "Do a quick check that the qiime version is what's expected. If you get an error at this step due to a different qiime2 verison, the code may very well still work, but if you want to exactly reproduce the results, you'll want QIIME2 2020.8.0\n"
   ]
  },
  {
   "cell_type": "code",
   "execution_count": 4,
   "metadata": {},
   "outputs": [
    {
     "ename": "ValueError",
     "evalue": "This code was developed with QIIME2 2020.8.0. It will *probably* work with related versions, but there are no guarantees as some functions may change in call signature.",
     "output_type": "error",
     "traceback": [
      "\u001b[0;31m---------------------------------------------------------------------------\u001b[0m",
      "\u001b[0;31mValueError\u001b[0m                                Traceback (most recent call last)",
      "\u001b[0;32m<ipython-input-4-3a7b6bf98fc1>\u001b[0m in \u001b[0;36m<module>\u001b[0;34m\u001b[0m\n\u001b[1;32m      2\u001b[0m \u001b[0;34m\u001b[0m\u001b[0m\n\u001b[1;32m      3\u001b[0m \u001b[0;32mif\u001b[0m \u001b[0mqiime_version\u001b[0m \u001b[0;34m!=\u001b[0m \u001b[0;34m\"2020.8.0\"\u001b[0m\u001b[0;34m:\u001b[0m\u001b[0;34m\u001b[0m\u001b[0;34m\u001b[0m\u001b[0m\n\u001b[0;32m----> 4\u001b[0;31m     \u001b[0;32mraise\u001b[0m \u001b[0mValueError\u001b[0m\u001b[0;34m(\u001b[0m\u001b[0;34m\"This code was developed with QIIME2 2020.8.0. It will *probably* work with related versions, but there are no guarantees as some functions may change in call signature.\"\u001b[0m\u001b[0;34m)\u001b[0m\u001b[0;34m\u001b[0m\u001b[0;34m\u001b[0m\u001b[0m\n\u001b[0m\u001b[1;32m      5\u001b[0m \u001b[0;34m\u001b[0m\u001b[0m\n",
      "\u001b[0;31mValueError\u001b[0m: This code was developed with QIIME2 2020.8.0. It will *probably* work with related versions, but there are no guarantees as some functions may change in call signature."
     ]
    }
   ],
   "source": [
    "from qiime2 import __version__ as qiime_version\n",
    "\n",
    "if qiime_version != \"2020.8.0\":\n",
    "    raise ValueError(\"This code was developed with QIIME2 2020.8.0. It will *probably* work with related versions, but there are no guarantees as some functions may change in call signature.\")\n",
    "\n"
   ]
  },
  {
   "cell_type": "markdown",
   "metadata": {},
   "source": [
    "#### Generate filtered tables using several sets of taxonomy annotations\n",
    "\n",
    "We will filter mitochondria out of our feature tables using either the default taxonomies (greengenes_13_8 or SILVA), or our supplemented versions with additional metaxa2 mitochondrial 16S rRNA sequences."
   ]
  },
  {
   "cell_type": "code",
   "execution_count": 5,
   "metadata": {},
   "outputs": [
    {
     "name": "stdout",
     "output_type": "stream",
     "text": [
      "Analyzing data using the silva_metaxa2 taxonomy (../output/silva_metaxa2_reference_taxonomy.qza)\n",
      "Removing mitochondria from: mucus <artifact: FeatureTable[Frequency] uuid: 80b538d6-2ca4-40aa-8d6c-5ac8ee7bc869>\n",
      "Saving results to:/mnt/c/Users/Dylan/Documents/zaneveld/2_14_gcmp/GCMP_Global_Disease/analysis/organelle_removal/output/feature_table_silva_metaxa2_mucus.qza\n"
     ]
    },
    {
     "name": "stderr",
     "output_type": "stream",
     "text": [
      "/home/dylan/miniconda3/envs/qiime2-2020.11/lib/python3.6/site-packages/seaborn/distributions.py:2551: FutureWarning: `distplot` is a deprecated function and will be removed in a future version. Please adapt your code to use either `displot` (a figure-level function with similar flexibility) or `histplot` (an axes-level function for histograms).\n",
      "  warnings.warn(msg, FutureWarning)\n",
      "/home/dylan/miniconda3/envs/qiime2-2020.11/lib/python3.6/site-packages/seaborn/distributions.py:2055: FutureWarning: The `axis` variable is no longer used and will be removed. Instead, assign variables directly to `x` or `y`.\n",
      "  warnings.warn(msg, FutureWarning)\n",
      "/home/dylan/miniconda3/envs/qiime2-2020.11/lib/python3.6/site-packages/seaborn/distributions.py:2551: FutureWarning: `distplot` is a deprecated function and will be removed in a future version. Please adapt your code to use either `displot` (a figure-level function with similar flexibility) or `histplot` (an axes-level function for histograms).\n",
      "  warnings.warn(msg, FutureWarning)\n"
     ]
    },
    {
     "name": "stdout",
     "output_type": "stream",
     "text": [
      "Saving summary file to:/mnt/c/Users/Dylan/Documents/zaneveld/2_14_gcmp/GCMP_Global_Disease/analysis/organelle_removal/output/feature_table_silva_metaxa2_mucus.qzv\n",
      "Removing mitochondria from: tissue <artifact: FeatureTable[Frequency] uuid: e3ff2a67-e8c6-4cc1-9d9a-1181721024cc>\n",
      "Saving results to:/mnt/c/Users/Dylan/Documents/zaneveld/2_14_gcmp/GCMP_Global_Disease/analysis/organelle_removal/output/feature_table_silva_metaxa2_tissue.qza\n"
     ]
    },
    {
     "name": "stderr",
     "output_type": "stream",
     "text": [
      "/home/dylan/miniconda3/envs/qiime2-2020.11/lib/python3.6/site-packages/seaborn/distributions.py:2551: FutureWarning: `distplot` is a deprecated function and will be removed in a future version. Please adapt your code to use either `displot` (a figure-level function with similar flexibility) or `histplot` (an axes-level function for histograms).\n",
      "  warnings.warn(msg, FutureWarning)\n",
      "/home/dylan/miniconda3/envs/qiime2-2020.11/lib/python3.6/site-packages/seaborn/distributions.py:2055: FutureWarning: The `axis` variable is no longer used and will be removed. Instead, assign variables directly to `x` or `y`.\n",
      "  warnings.warn(msg, FutureWarning)\n",
      "/home/dylan/miniconda3/envs/qiime2-2020.11/lib/python3.6/site-packages/seaborn/distributions.py:2551: FutureWarning: `distplot` is a deprecated function and will be removed in a future version. Please adapt your code to use either `displot` (a figure-level function with similar flexibility) or `histplot` (an axes-level function for histograms).\n",
      "  warnings.warn(msg, FutureWarning)\n"
     ]
    },
    {
     "name": "stdout",
     "output_type": "stream",
     "text": [
      "Saving summary file to:/mnt/c/Users/Dylan/Documents/zaneveld/2_14_gcmp/GCMP_Global_Disease/analysis/organelle_removal/output/feature_table_silva_metaxa2_tissue.qzv\n",
      "Removing mitochondria from: skeleton <artifact: FeatureTable[Frequency] uuid: 219a3d7d-72d5-4c8f-b109-0888294262ef>\n",
      "Saving results to:/mnt/c/Users/Dylan/Documents/zaneveld/2_14_gcmp/GCMP_Global_Disease/analysis/organelle_removal/output/feature_table_silva_metaxa2_skeleton.qza\n"
     ]
    },
    {
     "name": "stderr",
     "output_type": "stream",
     "text": [
      "/home/dylan/miniconda3/envs/qiime2-2020.11/lib/python3.6/site-packages/seaborn/distributions.py:2551: FutureWarning: `distplot` is a deprecated function and will be removed in a future version. Please adapt your code to use either `displot` (a figure-level function with similar flexibility) or `histplot` (an axes-level function for histograms).\n",
      "  warnings.warn(msg, FutureWarning)\n",
      "/home/dylan/miniconda3/envs/qiime2-2020.11/lib/python3.6/site-packages/seaborn/distributions.py:2055: FutureWarning: The `axis` variable is no longer used and will be removed. Instead, assign variables directly to `x` or `y`.\n",
      "  warnings.warn(msg, FutureWarning)\n",
      "/home/dylan/miniconda3/envs/qiime2-2020.11/lib/python3.6/site-packages/seaborn/distributions.py:2551: FutureWarning: `distplot` is a deprecated function and will be removed in a future version. Please adapt your code to use either `displot` (a figure-level function with similar flexibility) or `histplot` (an axes-level function for histograms).\n",
      "  warnings.warn(msg, FutureWarning)\n"
     ]
    },
    {
     "name": "stdout",
     "output_type": "stream",
     "text": [
      "Saving summary file to:/mnt/c/Users/Dylan/Documents/zaneveld/2_14_gcmp/GCMP_Global_Disease/analysis/organelle_removal/output/feature_table_silva_metaxa2_skeleton.qzv\n",
      "Done with processing silva_metaxa2 taxonomy annotations!\n",
      "\n",
      "\n",
      "Analyzing data using the silva taxonomy (../output/silva_reference_taxonomy.qza)\n",
      "Removing mitochondria from: mucus <artifact: FeatureTable[Frequency] uuid: 80b538d6-2ca4-40aa-8d6c-5ac8ee7bc869>\n",
      "Saving results to:/mnt/c/Users/Dylan/Documents/zaneveld/2_14_gcmp/GCMP_Global_Disease/analysis/organelle_removal/output/feature_table_silva_mucus.qza\n"
     ]
    },
    {
     "name": "stderr",
     "output_type": "stream",
     "text": [
      "/home/dylan/miniconda3/envs/qiime2-2020.11/lib/python3.6/site-packages/seaborn/distributions.py:2551: FutureWarning: `distplot` is a deprecated function and will be removed in a future version. Please adapt your code to use either `displot` (a figure-level function with similar flexibility) or `histplot` (an axes-level function for histograms).\n",
      "  warnings.warn(msg, FutureWarning)\n",
      "/home/dylan/miniconda3/envs/qiime2-2020.11/lib/python3.6/site-packages/seaborn/distributions.py:2055: FutureWarning: The `axis` variable is no longer used and will be removed. Instead, assign variables directly to `x` or `y`.\n",
      "  warnings.warn(msg, FutureWarning)\n",
      "/home/dylan/miniconda3/envs/qiime2-2020.11/lib/python3.6/site-packages/seaborn/distributions.py:2551: FutureWarning: `distplot` is a deprecated function and will be removed in a future version. Please adapt your code to use either `displot` (a figure-level function with similar flexibility) or `histplot` (an axes-level function for histograms).\n",
      "  warnings.warn(msg, FutureWarning)\n"
     ]
    },
    {
     "name": "stdout",
     "output_type": "stream",
     "text": [
      "Saving summary file to:/mnt/c/Users/Dylan/Documents/zaneveld/2_14_gcmp/GCMP_Global_Disease/analysis/organelle_removal/output/feature_table_silva_mucus.qzv\n",
      "Removing mitochondria from: tissue <artifact: FeatureTable[Frequency] uuid: e3ff2a67-e8c6-4cc1-9d9a-1181721024cc>\n",
      "Saving results to:/mnt/c/Users/Dylan/Documents/zaneveld/2_14_gcmp/GCMP_Global_Disease/analysis/organelle_removal/output/feature_table_silva_tissue.qza\n"
     ]
    },
    {
     "name": "stderr",
     "output_type": "stream",
     "text": [
      "/home/dylan/miniconda3/envs/qiime2-2020.11/lib/python3.6/site-packages/seaborn/distributions.py:2551: FutureWarning: `distplot` is a deprecated function and will be removed in a future version. Please adapt your code to use either `displot` (a figure-level function with similar flexibility) or `histplot` (an axes-level function for histograms).\n",
      "  warnings.warn(msg, FutureWarning)\n",
      "/home/dylan/miniconda3/envs/qiime2-2020.11/lib/python3.6/site-packages/seaborn/distributions.py:2055: FutureWarning: The `axis` variable is no longer used and will be removed. Instead, assign variables directly to `x` or `y`.\n",
      "  warnings.warn(msg, FutureWarning)\n",
      "/home/dylan/miniconda3/envs/qiime2-2020.11/lib/python3.6/site-packages/seaborn/distributions.py:2551: FutureWarning: `distplot` is a deprecated function and will be removed in a future version. Please adapt your code to use either `displot` (a figure-level function with similar flexibility) or `histplot` (an axes-level function for histograms).\n",
      "  warnings.warn(msg, FutureWarning)\n"
     ]
    },
    {
     "name": "stdout",
     "output_type": "stream",
     "text": [
      "Saving summary file to:/mnt/c/Users/Dylan/Documents/zaneveld/2_14_gcmp/GCMP_Global_Disease/analysis/organelle_removal/output/feature_table_silva_tissue.qzv\n",
      "Removing mitochondria from: skeleton <artifact: FeatureTable[Frequency] uuid: 219a3d7d-72d5-4c8f-b109-0888294262ef>\n",
      "Saving results to:/mnt/c/Users/Dylan/Documents/zaneveld/2_14_gcmp/GCMP_Global_Disease/analysis/organelle_removal/output/feature_table_silva_skeleton.qza\n"
     ]
    },
    {
     "name": "stderr",
     "output_type": "stream",
     "text": [
      "/home/dylan/miniconda3/envs/qiime2-2020.11/lib/python3.6/site-packages/seaborn/distributions.py:2551: FutureWarning: `distplot` is a deprecated function and will be removed in a future version. Please adapt your code to use either `displot` (a figure-level function with similar flexibility) or `histplot` (an axes-level function for histograms).\n",
      "  warnings.warn(msg, FutureWarning)\n",
      "/home/dylan/miniconda3/envs/qiime2-2020.11/lib/python3.6/site-packages/seaborn/distributions.py:2055: FutureWarning: The `axis` variable is no longer used and will be removed. Instead, assign variables directly to `x` or `y`.\n",
      "  warnings.warn(msg, FutureWarning)\n",
      "/home/dylan/miniconda3/envs/qiime2-2020.11/lib/python3.6/site-packages/seaborn/distributions.py:2551: FutureWarning: `distplot` is a deprecated function and will be removed in a future version. Please adapt your code to use either `displot` (a figure-level function with similar flexibility) or `histplot` (an axes-level function for histograms).\n",
      "  warnings.warn(msg, FutureWarning)\n"
     ]
    },
    {
     "name": "stdout",
     "output_type": "stream",
     "text": [
      "Saving summary file to:/mnt/c/Users/Dylan/Documents/zaneveld/2_14_gcmp/GCMP_Global_Disease/analysis/organelle_removal/output/feature_table_silva_skeleton.qzv\n",
      "Done with processing silva taxonomy annotations!\n",
      "\n",
      "\n",
      "Analyzing data using the greengenes taxonomy (../output/greengenes_reference_taxonomy.qza)\n",
      "Removing mitochondria from: mucus <artifact: FeatureTable[Frequency] uuid: 80b538d6-2ca4-40aa-8d6c-5ac8ee7bc869>\n",
      "Saving results to:/mnt/c/Users/Dylan/Documents/zaneveld/2_14_gcmp/GCMP_Global_Disease/analysis/organelle_removal/output/feature_table_greengenes_mucus.qza\n"
     ]
    },
    {
     "name": "stderr",
     "output_type": "stream",
     "text": [
      "/home/dylan/miniconda3/envs/qiime2-2020.11/lib/python3.6/site-packages/seaborn/distributions.py:2551: FutureWarning: `distplot` is a deprecated function and will be removed in a future version. Please adapt your code to use either `displot` (a figure-level function with similar flexibility) or `histplot` (an axes-level function for histograms).\n",
      "  warnings.warn(msg, FutureWarning)\n",
      "/home/dylan/miniconda3/envs/qiime2-2020.11/lib/python3.6/site-packages/seaborn/distributions.py:2055: FutureWarning: The `axis` variable is no longer used and will be removed. Instead, assign variables directly to `x` or `y`.\n",
      "  warnings.warn(msg, FutureWarning)\n",
      "/home/dylan/miniconda3/envs/qiime2-2020.11/lib/python3.6/site-packages/seaborn/distributions.py:2551: FutureWarning: `distplot` is a deprecated function and will be removed in a future version. Please adapt your code to use either `displot` (a figure-level function with similar flexibility) or `histplot` (an axes-level function for histograms).\n",
      "  warnings.warn(msg, FutureWarning)\n"
     ]
    },
    {
     "name": "stdout",
     "output_type": "stream",
     "text": [
      "Saving summary file to:/mnt/c/Users/Dylan/Documents/zaneveld/2_14_gcmp/GCMP_Global_Disease/analysis/organelle_removal/output/feature_table_greengenes_mucus.qzv\n",
      "Removing mitochondria from: tissue <artifact: FeatureTable[Frequency] uuid: e3ff2a67-e8c6-4cc1-9d9a-1181721024cc>\n",
      "Saving results to:/mnt/c/Users/Dylan/Documents/zaneveld/2_14_gcmp/GCMP_Global_Disease/analysis/organelle_removal/output/feature_table_greengenes_tissue.qza\n"
     ]
    },
    {
     "name": "stderr",
     "output_type": "stream",
     "text": [
      "/home/dylan/miniconda3/envs/qiime2-2020.11/lib/python3.6/site-packages/seaborn/distributions.py:2551: FutureWarning: `distplot` is a deprecated function and will be removed in a future version. Please adapt your code to use either `displot` (a figure-level function with similar flexibility) or `histplot` (an axes-level function for histograms).\n",
      "  warnings.warn(msg, FutureWarning)\n",
      "/home/dylan/miniconda3/envs/qiime2-2020.11/lib/python3.6/site-packages/seaborn/distributions.py:2055: FutureWarning: The `axis` variable is no longer used and will be removed. Instead, assign variables directly to `x` or `y`.\n",
      "  warnings.warn(msg, FutureWarning)\n",
      "/home/dylan/miniconda3/envs/qiime2-2020.11/lib/python3.6/site-packages/seaborn/distributions.py:2551: FutureWarning: `distplot` is a deprecated function and will be removed in a future version. Please adapt your code to use either `displot` (a figure-level function with similar flexibility) or `histplot` (an axes-level function for histograms).\n",
      "  warnings.warn(msg, FutureWarning)\n"
     ]
    },
    {
     "name": "stdout",
     "output_type": "stream",
     "text": [
      "Saving summary file to:/mnt/c/Users/Dylan/Documents/zaneveld/2_14_gcmp/GCMP_Global_Disease/analysis/organelle_removal/output/feature_table_greengenes_tissue.qzv\n",
      "Removing mitochondria from: skeleton <artifact: FeatureTable[Frequency] uuid: 219a3d7d-72d5-4c8f-b109-0888294262ef>\n",
      "Saving results to:/mnt/c/Users/Dylan/Documents/zaneveld/2_14_gcmp/GCMP_Global_Disease/analysis/organelle_removal/output/feature_table_greengenes_skeleton.qza\n"
     ]
    },
    {
     "name": "stderr",
     "output_type": "stream",
     "text": [
      "/home/dylan/miniconda3/envs/qiime2-2020.11/lib/python3.6/site-packages/seaborn/distributions.py:2551: FutureWarning: `distplot` is a deprecated function and will be removed in a future version. Please adapt your code to use either `displot` (a figure-level function with similar flexibility) or `histplot` (an axes-level function for histograms).\n",
      "  warnings.warn(msg, FutureWarning)\n",
      "/home/dylan/miniconda3/envs/qiime2-2020.11/lib/python3.6/site-packages/seaborn/distributions.py:2055: FutureWarning: The `axis` variable is no longer used and will be removed. Instead, assign variables directly to `x` or `y`.\n",
      "  warnings.warn(msg, FutureWarning)\n",
      "/home/dylan/miniconda3/envs/qiime2-2020.11/lib/python3.6/site-packages/seaborn/distributions.py:2551: FutureWarning: `distplot` is a deprecated function and will be removed in a future version. Please adapt your code to use either `displot` (a figure-level function with similar flexibility) or `histplot` (an axes-level function for histograms).\n",
      "  warnings.warn(msg, FutureWarning)\n"
     ]
    },
    {
     "name": "stdout",
     "output_type": "stream",
     "text": [
      "Saving summary file to:/mnt/c/Users/Dylan/Documents/zaneveld/2_14_gcmp/GCMP_Global_Disease/analysis/organelle_removal/output/feature_table_greengenes_skeleton.qzv\n",
      "Done with processing greengenes taxonomy annotations!\n",
      "\n",
      "\n",
      "Analyzing data using the greengenes_metaxa2 taxonomy (../output/greengenes_metaxa2_reference_taxonomy.qza)\n",
      "Removing mitochondria from: mucus <artifact: FeatureTable[Frequency] uuid: 80b538d6-2ca4-40aa-8d6c-5ac8ee7bc869>\n",
      "Saving results to:/mnt/c/Users/Dylan/Documents/zaneveld/2_14_gcmp/GCMP_Global_Disease/analysis/organelle_removal/output/feature_table_greengenes_metaxa2_mucus.qza\n"
     ]
    },
    {
     "name": "stderr",
     "output_type": "stream",
     "text": [
      "/home/dylan/miniconda3/envs/qiime2-2020.11/lib/python3.6/site-packages/seaborn/distributions.py:2551: FutureWarning: `distplot` is a deprecated function and will be removed in a future version. Please adapt your code to use either `displot` (a figure-level function with similar flexibility) or `histplot` (an axes-level function for histograms).\n",
      "  warnings.warn(msg, FutureWarning)\n",
      "/home/dylan/miniconda3/envs/qiime2-2020.11/lib/python3.6/site-packages/seaborn/distributions.py:2055: FutureWarning: The `axis` variable is no longer used and will be removed. Instead, assign variables directly to `x` or `y`.\n",
      "  warnings.warn(msg, FutureWarning)\n",
      "/home/dylan/miniconda3/envs/qiime2-2020.11/lib/python3.6/site-packages/seaborn/distributions.py:2551: FutureWarning: `distplot` is a deprecated function and will be removed in a future version. Please adapt your code to use either `displot` (a figure-level function with similar flexibility) or `histplot` (an axes-level function for histograms).\n",
      "  warnings.warn(msg, FutureWarning)\n"
     ]
    },
    {
     "name": "stdout",
     "output_type": "stream",
     "text": [
      "Saving summary file to:/mnt/c/Users/Dylan/Documents/zaneveld/2_14_gcmp/GCMP_Global_Disease/analysis/organelle_removal/output/feature_table_greengenes_metaxa2_mucus.qzv\n",
      "Removing mitochondria from: tissue <artifact: FeatureTable[Frequency] uuid: e3ff2a67-e8c6-4cc1-9d9a-1181721024cc>\n",
      "Saving results to:/mnt/c/Users/Dylan/Documents/zaneveld/2_14_gcmp/GCMP_Global_Disease/analysis/organelle_removal/output/feature_table_greengenes_metaxa2_tissue.qza\n"
     ]
    },
    {
     "name": "stderr",
     "output_type": "stream",
     "text": [
      "/home/dylan/miniconda3/envs/qiime2-2020.11/lib/python3.6/site-packages/seaborn/distributions.py:2551: FutureWarning: `distplot` is a deprecated function and will be removed in a future version. Please adapt your code to use either `displot` (a figure-level function with similar flexibility) or `histplot` (an axes-level function for histograms).\n",
      "  warnings.warn(msg, FutureWarning)\n",
      "/home/dylan/miniconda3/envs/qiime2-2020.11/lib/python3.6/site-packages/seaborn/distributions.py:2055: FutureWarning: The `axis` variable is no longer used and will be removed. Instead, assign variables directly to `x` or `y`.\n",
      "  warnings.warn(msg, FutureWarning)\n",
      "/home/dylan/miniconda3/envs/qiime2-2020.11/lib/python3.6/site-packages/seaborn/distributions.py:2551: FutureWarning: `distplot` is a deprecated function and will be removed in a future version. Please adapt your code to use either `displot` (a figure-level function with similar flexibility) or `histplot` (an axes-level function for histograms).\n",
      "  warnings.warn(msg, FutureWarning)\n"
     ]
    },
    {
     "name": "stdout",
     "output_type": "stream",
     "text": [
      "Saving summary file to:/mnt/c/Users/Dylan/Documents/zaneveld/2_14_gcmp/GCMP_Global_Disease/analysis/organelle_removal/output/feature_table_greengenes_metaxa2_tissue.qzv\n",
      "Removing mitochondria from: skeleton <artifact: FeatureTable[Frequency] uuid: 219a3d7d-72d5-4c8f-b109-0888294262ef>\n",
      "Saving results to:/mnt/c/Users/Dylan/Documents/zaneveld/2_14_gcmp/GCMP_Global_Disease/analysis/organelle_removal/output/feature_table_greengenes_metaxa2_skeleton.qza\n"
     ]
    },
    {
     "name": "stderr",
     "output_type": "stream",
     "text": [
      "/home/dylan/miniconda3/envs/qiime2-2020.11/lib/python3.6/site-packages/seaborn/distributions.py:2551: FutureWarning: `distplot` is a deprecated function and will be removed in a future version. Please adapt your code to use either `displot` (a figure-level function with similar flexibility) or `histplot` (an axes-level function for histograms).\n",
      "  warnings.warn(msg, FutureWarning)\n",
      "/home/dylan/miniconda3/envs/qiime2-2020.11/lib/python3.6/site-packages/seaborn/distributions.py:2055: FutureWarning: The `axis` variable is no longer used and will be removed. Instead, assign variables directly to `x` or `y`.\n",
      "  warnings.warn(msg, FutureWarning)\n",
      "/home/dylan/miniconda3/envs/qiime2-2020.11/lib/python3.6/site-packages/seaborn/distributions.py:2551: FutureWarning: `distplot` is a deprecated function and will be removed in a future version. Please adapt your code to use either `displot` (a figure-level function with similar flexibility) or `histplot` (an axes-level function for histograms).\n",
      "  warnings.warn(msg, FutureWarning)\n"
     ]
    },
    {
     "name": "stdout",
     "output_type": "stream",
     "text": [
      "Saving summary file to:/mnt/c/Users/Dylan/Documents/zaneveld/2_14_gcmp/GCMP_Global_Disease/analysis/organelle_removal/output/feature_table_greengenes_metaxa2_skeleton.qzv\n",
      "Done with processing greengenes_metaxa2 taxonomy annotations!\n",
      "\n",
      "\n"
     ]
    }
   ],
   "source": [
    "from qiime2.plugins.feature_table.methods import filter_features\n",
    "from collections import defaultdict\n",
    "\n",
    "filtered_feature_tables_by_taxonomy = defaultdict(dict)\n",
    "\n",
    "\n",
    "for label,taxonomy_file in taxonomy_files.items():\n",
    "    print(f\"Analyzing data using the {label} taxonomy ({taxonomy_file})\")\n",
    "    taxonomy = Artifact.load(taxonomy_file)\n",
    "    metadata = Metadata.load(mapping_file)\n",
    "    seqs = Artifact.load(sequence_file)\n",
    "    mucus_features = Artifact.load(mucus_feature_table)\n",
    "    tissue_features = Artifact.load(tissue_feature_table)\n",
    "    skeleton_features = Artifact.load(skeleton_feature_table)\n",
    "\n",
    "    feature_tables = {\"mucus\":mucus_features,\"tissue\": tissue_features,\"skeleton\":skeleton_features}\n",
    "\n",
    "    \n",
    "    for compartment,table in feature_tables.items():\n",
    "        print(\"Removing mitochondria from:\", compartment,table)\n",
    "        #NOTE: the QIIME2 api does NOT return a single object (as I thought based on the  documentation, but a NamedTuple\n",
    "        #structure with each output in it)\n",
    "        filter_table_results = filter_table(table,taxonomy,exclude=\"mitochondria,chloroplast\",mode=\"contains\")\n",
    "        filtered_table = filter_table_results.filtered_table\n",
    "    \n",
    "        #Save the resulting feature table to disk\n",
    "        output_filename = f\"feature_table_{label}_{compartment}.qza\"\n",
    "        output_filepath = join(output_dir,output_filename)\n",
    "        print(f\"Saving results to:{output_filepath}\")\n",
    "        filtered_table.save(output_filepath)\n",
    "        \n",
    "        #Output a sample summary\n",
    "        summary_visualization = summarize(filtered_table,sample_metadata=metadata)\n",
    "        vis = summary_visualization.visualization\n",
    "        output_filename = f\"feature_table_{label}_{compartment}.qzv\"\n",
    "        output_filepath = join(output_dir,output_filename)\n",
    "        print(f\"Saving summary file to:{output_filepath}\")\n",
    "        vis.save(output_filepath)\n",
    "        \n",
    "        filtered_feature_tables_by_taxonomy[label][compartment]=filtered_table\n",
    "    \n",
    "    print(f\"Done with processing {label} taxonomy annotations!\\n\\n\")"
   ]
  },
  {
   "cell_type": "markdown",
   "metadata": {},
   "source": [
    "## Rarefy tables to even depth"
   ]
  },
  {
   "cell_type": "code",
   "execution_count": 6,
   "metadata": {},
   "outputs": [
    {
     "name": "stdout",
     "output_type": "stream",
     "text": [
      "Rarefying: mucus feature table <artifact: FeatureTable[Frequency] uuid: 201843ce-95b3-44c2-97db-60d569daeffb> to 1000 sequences/sample\n",
      "Saving results to:/mnt/c/Users/Dylan/Documents/zaneveld/2_14_gcmp/GCMP_Global_Disease/analysis/organelle_removal/output/feature_table_silva_metaxa2_mucus_1000.qza\n",
      "Rarefying: tissue feature table <artifact: FeatureTable[Frequency] uuid: d729f850-c4a0-4e16-b48a-c758c418b07d> to 1000 sequences/sample\n",
      "Saving results to:/mnt/c/Users/Dylan/Documents/zaneveld/2_14_gcmp/GCMP_Global_Disease/analysis/organelle_removal/output/feature_table_silva_metaxa2_tissue_1000.qza\n",
      "Rarefying: skeleton feature table <artifact: FeatureTable[Frequency] uuid: 62cdaf26-aab1-4d00-a0c0-fbdb0bb3607a> to 1000 sequences/sample\n",
      "Saving results to:/mnt/c/Users/Dylan/Documents/zaneveld/2_14_gcmp/GCMP_Global_Disease/analysis/organelle_removal/output/feature_table_silva_metaxa2_skeleton_1000.qza\n",
      "Rarefying: mucus feature table <artifact: FeatureTable[Frequency] uuid: ce5329c6-c659-4ea6-b556-8ab7a33316e2> to 1000 sequences/sample\n",
      "Saving results to:/mnt/c/Users/Dylan/Documents/zaneveld/2_14_gcmp/GCMP_Global_Disease/analysis/organelle_removal/output/feature_table_silva_mucus_1000.qza\n",
      "Rarefying: tissue feature table <artifact: FeatureTable[Frequency] uuid: 9afcac18-a8c0-46e9-b7e9-4874f0f4ea78> to 1000 sequences/sample\n",
      "Saving results to:/mnt/c/Users/Dylan/Documents/zaneveld/2_14_gcmp/GCMP_Global_Disease/analysis/organelle_removal/output/feature_table_silva_tissue_1000.qza\n",
      "Rarefying: skeleton feature table <artifact: FeatureTable[Frequency] uuid: e8a53d20-28bf-4111-8059-e3d326d43854> to 1000 sequences/sample\n",
      "Saving results to:/mnt/c/Users/Dylan/Documents/zaneveld/2_14_gcmp/GCMP_Global_Disease/analysis/organelle_removal/output/feature_table_silva_skeleton_1000.qza\n",
      "Rarefying: mucus feature table <artifact: FeatureTable[Frequency] uuid: d1957021-acf3-4e13-97e2-911091a88dab> to 1000 sequences/sample\n",
      "Saving results to:/mnt/c/Users/Dylan/Documents/zaneveld/2_14_gcmp/GCMP_Global_Disease/analysis/organelle_removal/output/feature_table_greengenes_mucus_1000.qza\n",
      "Rarefying: tissue feature table <artifact: FeatureTable[Frequency] uuid: 703c3472-c234-460f-8532-2cef7ed9cf59> to 1000 sequences/sample\n",
      "Saving results to:/mnt/c/Users/Dylan/Documents/zaneveld/2_14_gcmp/GCMP_Global_Disease/analysis/organelle_removal/output/feature_table_greengenes_tissue_1000.qza\n",
      "Rarefying: skeleton feature table <artifact: FeatureTable[Frequency] uuid: 458098fc-502d-4381-8336-8fd64bcb5434> to 1000 sequences/sample\n",
      "Saving results to:/mnt/c/Users/Dylan/Documents/zaneveld/2_14_gcmp/GCMP_Global_Disease/analysis/organelle_removal/output/feature_table_greengenes_skeleton_1000.qza\n",
      "Rarefying: mucus feature table <artifact: FeatureTable[Frequency] uuid: 1d42c647-9e66-4590-8dae-6d216830a1df> to 1000 sequences/sample\n",
      "Saving results to:/mnt/c/Users/Dylan/Documents/zaneveld/2_14_gcmp/GCMP_Global_Disease/analysis/organelle_removal/output/feature_table_greengenes_metaxa2_mucus_1000.qza\n",
      "Rarefying: tissue feature table <artifact: FeatureTable[Frequency] uuid: ee71adf4-93fd-4da9-8493-5725e101ad71> to 1000 sequences/sample\n",
      "Saving results to:/mnt/c/Users/Dylan/Documents/zaneveld/2_14_gcmp/GCMP_Global_Disease/analysis/organelle_removal/output/feature_table_greengenes_metaxa2_tissue_1000.qza\n",
      "Rarefying: skeleton feature table <artifact: FeatureTable[Frequency] uuid: 51995995-90f9-4167-bc18-24cba93ea972> to 1000 sequences/sample\n",
      "Saving results to:/mnt/c/Users/Dylan/Documents/zaneveld/2_14_gcmp/GCMP_Global_Disease/analysis/organelle_removal/output/feature_table_greengenes_metaxa2_skeleton_1000.qza\n"
     ]
    }
   ],
   "source": [
    "from collections import defaultdict\n",
    "rarefaction_depth = 1000\n",
    "\n",
    "rarefied_feature_tables_by_taxonomy = defaultdict(dict)\n",
    "\n",
    "for label,filtered_feature_tables in filtered_feature_tables_by_taxonomy.items():\n",
    "\n",
    "    for compartment,table in filtered_feature_tables.items():\n",
    "        print(f\"Rarefying: {compartment} feature table {table} to {rarefaction_depth} sequences/sample\")\n",
    "        rarefy_results = rarefy(table=table, sampling_depth=rarefaction_depth)\n",
    "        #Get the rarefied table out of the NamedTuple of results\n",
    "        rarefied_filtered_table = rarefy_results.rarefied_table\n",
    "\n",
    "        #Save the resulting feature table to disk\n",
    "        output_filename = f\"feature_table_{label}_{compartment}_{rarefaction_depth}.qza\"\n",
    "        output_filepath = join(output_dir,output_filename)\n",
    "        print(f\"Saving results to:{output_filepath}\")\n",
    "        rarefied_filtered_table.save(output_filepath)\n",
    "\n",
    "        #Store rarefied feature table in a dict so we don't have to reload\n",
    "        rarefied_feature_tables_by_taxonomy[label][compartment]=rarefied_filtered_table\n"
   ]
  },
  {
   "cell_type": "markdown",
   "metadata": {},
   "source": [
    "#### Calculate alpha diversity for each combination of taxonomic scheme and anatomy "
   ]
  },
  {
   "cell_type": "code",
   "execution_count": 7,
   "metadata": {},
   "outputs": [
    {
     "name": "stdout",
     "output_type": "stream",
     "text": [
      "Calculating alpha diversity for mucus using observed_features\n",
      "Saving results to:/mnt/c/Users/Dylan/Documents/zaneveld/2_14_gcmp/GCMP_Global_Disease/analysis/organelle_removal/output/adiv_silva_metaxa2_mucus_observed_features_1000.qza\n",
      "Saving significance results to:/mnt/c/Users/Dylan/Documents/zaneveld/2_14_gcmp/GCMP_Global_Disease/analysis/organelle_removal/output/adiv_silva_metaxa2_mucus_observed_features_1000_group_sig.qzv\n",
      "Calculating alpha diversity for mucus using gini_index\n",
      "Saving results to:/mnt/c/Users/Dylan/Documents/zaneveld/2_14_gcmp/GCMP_Global_Disease/analysis/organelle_removal/output/adiv_silva_metaxa2_mucus_gini_index_1000.qza\n",
      "Saving significance results to:/mnt/c/Users/Dylan/Documents/zaneveld/2_14_gcmp/GCMP_Global_Disease/analysis/organelle_removal/output/adiv_silva_metaxa2_mucus_gini_index_1000_group_sig.qzv\n",
      "Calculating alpha diversity for mucus using dominance\n",
      "Saving results to:/mnt/c/Users/Dylan/Documents/zaneveld/2_14_gcmp/GCMP_Global_Disease/analysis/organelle_removal/output/adiv_silva_metaxa2_mucus_dominance_1000.qza\n",
      "Saving significance results to:/mnt/c/Users/Dylan/Documents/zaneveld/2_14_gcmp/GCMP_Global_Disease/analysis/organelle_removal/output/adiv_silva_metaxa2_mucus_dominance_1000_group_sig.qzv\n",
      "Calculating alpha diversity for mucus using simpson_e\n",
      "Saving results to:/mnt/c/Users/Dylan/Documents/zaneveld/2_14_gcmp/GCMP_Global_Disease/analysis/organelle_removal/output/adiv_silva_metaxa2_mucus_simpson_e_1000.qza\n",
      "Saving significance results to:/mnt/c/Users/Dylan/Documents/zaneveld/2_14_gcmp/GCMP_Global_Disease/analysis/organelle_removal/output/adiv_silva_metaxa2_mucus_simpson_e_1000_group_sig.qzv\n",
      "Calculating alpha diversity for tissue using observed_features\n",
      "Saving results to:/mnt/c/Users/Dylan/Documents/zaneveld/2_14_gcmp/GCMP_Global_Disease/analysis/organelle_removal/output/adiv_silva_metaxa2_tissue_observed_features_1000.qza\n",
      "Saving significance results to:/mnt/c/Users/Dylan/Documents/zaneveld/2_14_gcmp/GCMP_Global_Disease/analysis/organelle_removal/output/adiv_silva_metaxa2_tissue_observed_features_1000_group_sig.qzv\n",
      "Calculating alpha diversity for tissue using gini_index\n",
      "Saving results to:/mnt/c/Users/Dylan/Documents/zaneveld/2_14_gcmp/GCMP_Global_Disease/analysis/organelle_removal/output/adiv_silva_metaxa2_tissue_gini_index_1000.qza\n",
      "Saving significance results to:/mnt/c/Users/Dylan/Documents/zaneveld/2_14_gcmp/GCMP_Global_Disease/analysis/organelle_removal/output/adiv_silva_metaxa2_tissue_gini_index_1000_group_sig.qzv\n",
      "Calculating alpha diversity for tissue using dominance\n",
      "Saving results to:/mnt/c/Users/Dylan/Documents/zaneveld/2_14_gcmp/GCMP_Global_Disease/analysis/organelle_removal/output/adiv_silva_metaxa2_tissue_dominance_1000.qza\n",
      "Saving significance results to:/mnt/c/Users/Dylan/Documents/zaneveld/2_14_gcmp/GCMP_Global_Disease/analysis/organelle_removal/output/adiv_silva_metaxa2_tissue_dominance_1000_group_sig.qzv\n",
      "Calculating alpha diversity for tissue using simpson_e\n",
      "Saving results to:/mnt/c/Users/Dylan/Documents/zaneveld/2_14_gcmp/GCMP_Global_Disease/analysis/organelle_removal/output/adiv_silva_metaxa2_tissue_simpson_e_1000.qza\n",
      "Saving significance results to:/mnt/c/Users/Dylan/Documents/zaneveld/2_14_gcmp/GCMP_Global_Disease/analysis/organelle_removal/output/adiv_silva_metaxa2_tissue_simpson_e_1000_group_sig.qzv\n",
      "Calculating alpha diversity for skeleton using observed_features\n",
      "Saving results to:/mnt/c/Users/Dylan/Documents/zaneveld/2_14_gcmp/GCMP_Global_Disease/analysis/organelle_removal/output/adiv_silva_metaxa2_skeleton_observed_features_1000.qza\n",
      "Saving significance results to:/mnt/c/Users/Dylan/Documents/zaneveld/2_14_gcmp/GCMP_Global_Disease/analysis/organelle_removal/output/adiv_silva_metaxa2_skeleton_observed_features_1000_group_sig.qzv\n",
      "Calculating alpha diversity for skeleton using gini_index\n",
      "Saving results to:/mnt/c/Users/Dylan/Documents/zaneveld/2_14_gcmp/GCMP_Global_Disease/analysis/organelle_removal/output/adiv_silva_metaxa2_skeleton_gini_index_1000.qza\n",
      "Saving significance results to:/mnt/c/Users/Dylan/Documents/zaneveld/2_14_gcmp/GCMP_Global_Disease/analysis/organelle_removal/output/adiv_silva_metaxa2_skeleton_gini_index_1000_group_sig.qzv\n",
      "Calculating alpha diversity for skeleton using dominance\n",
      "Saving results to:/mnt/c/Users/Dylan/Documents/zaneveld/2_14_gcmp/GCMP_Global_Disease/analysis/organelle_removal/output/adiv_silva_metaxa2_skeleton_dominance_1000.qza\n",
      "Saving significance results to:/mnt/c/Users/Dylan/Documents/zaneveld/2_14_gcmp/GCMP_Global_Disease/analysis/organelle_removal/output/adiv_silva_metaxa2_skeleton_dominance_1000_group_sig.qzv\n",
      "Calculating alpha diversity for skeleton using simpson_e\n",
      "Saving results to:/mnt/c/Users/Dylan/Documents/zaneveld/2_14_gcmp/GCMP_Global_Disease/analysis/organelle_removal/output/adiv_silva_metaxa2_skeleton_simpson_e_1000.qza\n",
      "Saving significance results to:/mnt/c/Users/Dylan/Documents/zaneveld/2_14_gcmp/GCMP_Global_Disease/analysis/organelle_removal/output/adiv_silva_metaxa2_skeleton_simpson_e_1000_group_sig.qzv\n",
      "Calculating alpha diversity for mucus using observed_features\n",
      "Saving results to:/mnt/c/Users/Dylan/Documents/zaneveld/2_14_gcmp/GCMP_Global_Disease/analysis/organelle_removal/output/adiv_silva_mucus_observed_features_1000.qza\n",
      "Saving significance results to:/mnt/c/Users/Dylan/Documents/zaneveld/2_14_gcmp/GCMP_Global_Disease/analysis/organelle_removal/output/adiv_silva_mucus_observed_features_1000_group_sig.qzv\n",
      "Calculating alpha diversity for mucus using gini_index\n",
      "Saving results to:/mnt/c/Users/Dylan/Documents/zaneveld/2_14_gcmp/GCMP_Global_Disease/analysis/organelle_removal/output/adiv_silva_mucus_gini_index_1000.qza\n",
      "Saving significance results to:/mnt/c/Users/Dylan/Documents/zaneveld/2_14_gcmp/GCMP_Global_Disease/analysis/organelle_removal/output/adiv_silva_mucus_gini_index_1000_group_sig.qzv\n",
      "Calculating alpha diversity for mucus using dominance\n",
      "Saving results to:/mnt/c/Users/Dylan/Documents/zaneveld/2_14_gcmp/GCMP_Global_Disease/analysis/organelle_removal/output/adiv_silva_mucus_dominance_1000.qza\n",
      "Saving significance results to:/mnt/c/Users/Dylan/Documents/zaneveld/2_14_gcmp/GCMP_Global_Disease/analysis/organelle_removal/output/adiv_silva_mucus_dominance_1000_group_sig.qzv\n",
      "Calculating alpha diversity for mucus using simpson_e\n",
      "Saving results to:/mnt/c/Users/Dylan/Documents/zaneveld/2_14_gcmp/GCMP_Global_Disease/analysis/organelle_removal/output/adiv_silva_mucus_simpson_e_1000.qza\n",
      "Saving significance results to:/mnt/c/Users/Dylan/Documents/zaneveld/2_14_gcmp/GCMP_Global_Disease/analysis/organelle_removal/output/adiv_silva_mucus_simpson_e_1000_group_sig.qzv\n",
      "Calculating alpha diversity for tissue using observed_features\n",
      "Saving results to:/mnt/c/Users/Dylan/Documents/zaneveld/2_14_gcmp/GCMP_Global_Disease/analysis/organelle_removal/output/adiv_silva_tissue_observed_features_1000.qza\n",
      "Saving significance results to:/mnt/c/Users/Dylan/Documents/zaneveld/2_14_gcmp/GCMP_Global_Disease/analysis/organelle_removal/output/adiv_silva_tissue_observed_features_1000_group_sig.qzv\n",
      "Calculating alpha diversity for tissue using gini_index\n",
      "Saving results to:/mnt/c/Users/Dylan/Documents/zaneveld/2_14_gcmp/GCMP_Global_Disease/analysis/organelle_removal/output/adiv_silva_tissue_gini_index_1000.qza\n",
      "Saving significance results to:/mnt/c/Users/Dylan/Documents/zaneveld/2_14_gcmp/GCMP_Global_Disease/analysis/organelle_removal/output/adiv_silva_tissue_gini_index_1000_group_sig.qzv\n",
      "Calculating alpha diversity for tissue using dominance\n",
      "Saving results to:/mnt/c/Users/Dylan/Documents/zaneveld/2_14_gcmp/GCMP_Global_Disease/analysis/organelle_removal/output/adiv_silva_tissue_dominance_1000.qza\n",
      "Saving significance results to:/mnt/c/Users/Dylan/Documents/zaneveld/2_14_gcmp/GCMP_Global_Disease/analysis/organelle_removal/output/adiv_silva_tissue_dominance_1000_group_sig.qzv\n",
      "Calculating alpha diversity for tissue using simpson_e\n",
      "Saving results to:/mnt/c/Users/Dylan/Documents/zaneveld/2_14_gcmp/GCMP_Global_Disease/analysis/organelle_removal/output/adiv_silva_tissue_simpson_e_1000.qza\n",
      "Saving significance results to:/mnt/c/Users/Dylan/Documents/zaneveld/2_14_gcmp/GCMP_Global_Disease/analysis/organelle_removal/output/adiv_silva_tissue_simpson_e_1000_group_sig.qzv\n",
      "Calculating alpha diversity for skeleton using observed_features\n",
      "Saving results to:/mnt/c/Users/Dylan/Documents/zaneveld/2_14_gcmp/GCMP_Global_Disease/analysis/organelle_removal/output/adiv_silva_skeleton_observed_features_1000.qza\n"
     ]
    },
    {
     "name": "stdout",
     "output_type": "stream",
     "text": [
      "Saving significance results to:/mnt/c/Users/Dylan/Documents/zaneveld/2_14_gcmp/GCMP_Global_Disease/analysis/organelle_removal/output/adiv_silva_skeleton_observed_features_1000_group_sig.qzv\n",
      "Calculating alpha diversity for skeleton using gini_index\n",
      "Saving results to:/mnt/c/Users/Dylan/Documents/zaneveld/2_14_gcmp/GCMP_Global_Disease/analysis/organelle_removal/output/adiv_silva_skeleton_gini_index_1000.qza\n",
      "Saving significance results to:/mnt/c/Users/Dylan/Documents/zaneveld/2_14_gcmp/GCMP_Global_Disease/analysis/organelle_removal/output/adiv_silva_skeleton_gini_index_1000_group_sig.qzv\n",
      "Calculating alpha diversity for skeleton using dominance\n",
      "Saving results to:/mnt/c/Users/Dylan/Documents/zaneveld/2_14_gcmp/GCMP_Global_Disease/analysis/organelle_removal/output/adiv_silva_skeleton_dominance_1000.qza\n",
      "Saving significance results to:/mnt/c/Users/Dylan/Documents/zaneveld/2_14_gcmp/GCMP_Global_Disease/analysis/organelle_removal/output/adiv_silva_skeleton_dominance_1000_group_sig.qzv\n",
      "Calculating alpha diversity for skeleton using simpson_e\n",
      "Saving results to:/mnt/c/Users/Dylan/Documents/zaneveld/2_14_gcmp/GCMP_Global_Disease/analysis/organelle_removal/output/adiv_silva_skeleton_simpson_e_1000.qza\n",
      "Saving significance results to:/mnt/c/Users/Dylan/Documents/zaneveld/2_14_gcmp/GCMP_Global_Disease/analysis/organelle_removal/output/adiv_silva_skeleton_simpson_e_1000_group_sig.qzv\n",
      "Calculating alpha diversity for mucus using observed_features\n",
      "Saving results to:/mnt/c/Users/Dylan/Documents/zaneveld/2_14_gcmp/GCMP_Global_Disease/analysis/organelle_removal/output/adiv_greengenes_mucus_observed_features_1000.qza\n",
      "Saving significance results to:/mnt/c/Users/Dylan/Documents/zaneveld/2_14_gcmp/GCMP_Global_Disease/analysis/organelle_removal/output/adiv_greengenes_mucus_observed_features_1000_group_sig.qzv\n",
      "Calculating alpha diversity for mucus using gini_index\n",
      "Saving results to:/mnt/c/Users/Dylan/Documents/zaneveld/2_14_gcmp/GCMP_Global_Disease/analysis/organelle_removal/output/adiv_greengenes_mucus_gini_index_1000.qza\n",
      "Saving significance results to:/mnt/c/Users/Dylan/Documents/zaneveld/2_14_gcmp/GCMP_Global_Disease/analysis/organelle_removal/output/adiv_greengenes_mucus_gini_index_1000_group_sig.qzv\n",
      "Calculating alpha diversity for mucus using dominance\n",
      "Saving results to:/mnt/c/Users/Dylan/Documents/zaneveld/2_14_gcmp/GCMP_Global_Disease/analysis/organelle_removal/output/adiv_greengenes_mucus_dominance_1000.qza\n",
      "Saving significance results to:/mnt/c/Users/Dylan/Documents/zaneveld/2_14_gcmp/GCMP_Global_Disease/analysis/organelle_removal/output/adiv_greengenes_mucus_dominance_1000_group_sig.qzv\n",
      "Calculating alpha diversity for mucus using simpson_e\n",
      "Saving results to:/mnt/c/Users/Dylan/Documents/zaneveld/2_14_gcmp/GCMP_Global_Disease/analysis/organelle_removal/output/adiv_greengenes_mucus_simpson_e_1000.qza\n",
      "Saving significance results to:/mnt/c/Users/Dylan/Documents/zaneveld/2_14_gcmp/GCMP_Global_Disease/analysis/organelle_removal/output/adiv_greengenes_mucus_simpson_e_1000_group_sig.qzv\n",
      "Calculating alpha diversity for tissue using observed_features\n",
      "Saving results to:/mnt/c/Users/Dylan/Documents/zaneveld/2_14_gcmp/GCMP_Global_Disease/analysis/organelle_removal/output/adiv_greengenes_tissue_observed_features_1000.qza\n",
      "Saving significance results to:/mnt/c/Users/Dylan/Documents/zaneveld/2_14_gcmp/GCMP_Global_Disease/analysis/organelle_removal/output/adiv_greengenes_tissue_observed_features_1000_group_sig.qzv\n",
      "Calculating alpha diversity for tissue using gini_index\n",
      "Saving results to:/mnt/c/Users/Dylan/Documents/zaneveld/2_14_gcmp/GCMP_Global_Disease/analysis/organelle_removal/output/adiv_greengenes_tissue_gini_index_1000.qza\n",
      "Saving significance results to:/mnt/c/Users/Dylan/Documents/zaneveld/2_14_gcmp/GCMP_Global_Disease/analysis/organelle_removal/output/adiv_greengenes_tissue_gini_index_1000_group_sig.qzv\n",
      "Calculating alpha diversity for tissue using dominance\n",
      "Saving results to:/mnt/c/Users/Dylan/Documents/zaneveld/2_14_gcmp/GCMP_Global_Disease/analysis/organelle_removal/output/adiv_greengenes_tissue_dominance_1000.qza\n",
      "Saving significance results to:/mnt/c/Users/Dylan/Documents/zaneveld/2_14_gcmp/GCMP_Global_Disease/analysis/organelle_removal/output/adiv_greengenes_tissue_dominance_1000_group_sig.qzv\n",
      "Calculating alpha diversity for tissue using simpson_e\n",
      "Saving results to:/mnt/c/Users/Dylan/Documents/zaneveld/2_14_gcmp/GCMP_Global_Disease/analysis/organelle_removal/output/adiv_greengenes_tissue_simpson_e_1000.qza\n",
      "Saving significance results to:/mnt/c/Users/Dylan/Documents/zaneveld/2_14_gcmp/GCMP_Global_Disease/analysis/organelle_removal/output/adiv_greengenes_tissue_simpson_e_1000_group_sig.qzv\n",
      "Calculating alpha diversity for skeleton using observed_features\n",
      "Saving results to:/mnt/c/Users/Dylan/Documents/zaneveld/2_14_gcmp/GCMP_Global_Disease/analysis/organelle_removal/output/adiv_greengenes_skeleton_observed_features_1000.qza\n",
      "Saving significance results to:/mnt/c/Users/Dylan/Documents/zaneveld/2_14_gcmp/GCMP_Global_Disease/analysis/organelle_removal/output/adiv_greengenes_skeleton_observed_features_1000_group_sig.qzv\n",
      "Calculating alpha diversity for skeleton using gini_index\n",
      "Saving results to:/mnt/c/Users/Dylan/Documents/zaneveld/2_14_gcmp/GCMP_Global_Disease/analysis/organelle_removal/output/adiv_greengenes_skeleton_gini_index_1000.qza\n",
      "Saving significance results to:/mnt/c/Users/Dylan/Documents/zaneveld/2_14_gcmp/GCMP_Global_Disease/analysis/organelle_removal/output/adiv_greengenes_skeleton_gini_index_1000_group_sig.qzv\n",
      "Calculating alpha diversity for skeleton using dominance\n",
      "Saving results to:/mnt/c/Users/Dylan/Documents/zaneveld/2_14_gcmp/GCMP_Global_Disease/analysis/organelle_removal/output/adiv_greengenes_skeleton_dominance_1000.qza\n",
      "Saving significance results to:/mnt/c/Users/Dylan/Documents/zaneveld/2_14_gcmp/GCMP_Global_Disease/analysis/organelle_removal/output/adiv_greengenes_skeleton_dominance_1000_group_sig.qzv\n",
      "Calculating alpha diversity for skeleton using simpson_e\n",
      "Saving results to:/mnt/c/Users/Dylan/Documents/zaneveld/2_14_gcmp/GCMP_Global_Disease/analysis/organelle_removal/output/adiv_greengenes_skeleton_simpson_e_1000.qza\n",
      "Saving significance results to:/mnt/c/Users/Dylan/Documents/zaneveld/2_14_gcmp/GCMP_Global_Disease/analysis/organelle_removal/output/adiv_greengenes_skeleton_simpson_e_1000_group_sig.qzv\n",
      "Calculating alpha diversity for mucus using observed_features\n",
      "Saving results to:/mnt/c/Users/Dylan/Documents/zaneveld/2_14_gcmp/GCMP_Global_Disease/analysis/organelle_removal/output/adiv_greengenes_metaxa2_mucus_observed_features_1000.qza\n",
      "Saving significance results to:/mnt/c/Users/Dylan/Documents/zaneveld/2_14_gcmp/GCMP_Global_Disease/analysis/organelle_removal/output/adiv_greengenes_metaxa2_mucus_observed_features_1000_group_sig.qzv\n",
      "Calculating alpha diversity for mucus using gini_index\n",
      "Saving results to:/mnt/c/Users/Dylan/Documents/zaneveld/2_14_gcmp/GCMP_Global_Disease/analysis/organelle_removal/output/adiv_greengenes_metaxa2_mucus_gini_index_1000.qza\n",
      "Saving significance results to:/mnt/c/Users/Dylan/Documents/zaneveld/2_14_gcmp/GCMP_Global_Disease/analysis/organelle_removal/output/adiv_greengenes_metaxa2_mucus_gini_index_1000_group_sig.qzv\n",
      "Calculating alpha diversity for mucus using dominance\n",
      "Saving results to:/mnt/c/Users/Dylan/Documents/zaneveld/2_14_gcmp/GCMP_Global_Disease/analysis/organelle_removal/output/adiv_greengenes_metaxa2_mucus_dominance_1000.qza\n",
      "Saving significance results to:/mnt/c/Users/Dylan/Documents/zaneveld/2_14_gcmp/GCMP_Global_Disease/analysis/organelle_removal/output/adiv_greengenes_metaxa2_mucus_dominance_1000_group_sig.qzv\n",
      "Calculating alpha diversity for mucus using simpson_e\n",
      "Saving results to:/mnt/c/Users/Dylan/Documents/zaneveld/2_14_gcmp/GCMP_Global_Disease/analysis/organelle_removal/output/adiv_greengenes_metaxa2_mucus_simpson_e_1000.qza\n",
      "Saving significance results to:/mnt/c/Users/Dylan/Documents/zaneveld/2_14_gcmp/GCMP_Global_Disease/analysis/organelle_removal/output/adiv_greengenes_metaxa2_mucus_simpson_e_1000_group_sig.qzv\n",
      "Calculating alpha diversity for tissue using observed_features\n",
      "Saving results to:/mnt/c/Users/Dylan/Documents/zaneveld/2_14_gcmp/GCMP_Global_Disease/analysis/organelle_removal/output/adiv_greengenes_metaxa2_tissue_observed_features_1000.qza\n"
     ]
    },
    {
     "name": "stdout",
     "output_type": "stream",
     "text": [
      "Saving significance results to:/mnt/c/Users/Dylan/Documents/zaneveld/2_14_gcmp/GCMP_Global_Disease/analysis/organelle_removal/output/adiv_greengenes_metaxa2_tissue_observed_features_1000_group_sig.qzv\n",
      "Calculating alpha diversity for tissue using gini_index\n",
      "Saving results to:/mnt/c/Users/Dylan/Documents/zaneveld/2_14_gcmp/GCMP_Global_Disease/analysis/organelle_removal/output/adiv_greengenes_metaxa2_tissue_gini_index_1000.qza\n",
      "Saving significance results to:/mnt/c/Users/Dylan/Documents/zaneveld/2_14_gcmp/GCMP_Global_Disease/analysis/organelle_removal/output/adiv_greengenes_metaxa2_tissue_gini_index_1000_group_sig.qzv\n",
      "Calculating alpha diversity for tissue using dominance\n",
      "Saving results to:/mnt/c/Users/Dylan/Documents/zaneveld/2_14_gcmp/GCMP_Global_Disease/analysis/organelle_removal/output/adiv_greengenes_metaxa2_tissue_dominance_1000.qza\n",
      "Saving significance results to:/mnt/c/Users/Dylan/Documents/zaneveld/2_14_gcmp/GCMP_Global_Disease/analysis/organelle_removal/output/adiv_greengenes_metaxa2_tissue_dominance_1000_group_sig.qzv\n",
      "Calculating alpha diversity for tissue using simpson_e\n",
      "Saving results to:/mnt/c/Users/Dylan/Documents/zaneveld/2_14_gcmp/GCMP_Global_Disease/analysis/organelle_removal/output/adiv_greengenes_metaxa2_tissue_simpson_e_1000.qza\n",
      "Saving significance results to:/mnt/c/Users/Dylan/Documents/zaneveld/2_14_gcmp/GCMP_Global_Disease/analysis/organelle_removal/output/adiv_greengenes_metaxa2_tissue_simpson_e_1000_group_sig.qzv\n",
      "Calculating alpha diversity for skeleton using observed_features\n",
      "Saving results to:/mnt/c/Users/Dylan/Documents/zaneveld/2_14_gcmp/GCMP_Global_Disease/analysis/organelle_removal/output/adiv_greengenes_metaxa2_skeleton_observed_features_1000.qza\n",
      "Saving significance results to:/mnt/c/Users/Dylan/Documents/zaneveld/2_14_gcmp/GCMP_Global_Disease/analysis/organelle_removal/output/adiv_greengenes_metaxa2_skeleton_observed_features_1000_group_sig.qzv\n",
      "Calculating alpha diversity for skeleton using gini_index\n",
      "Saving results to:/mnt/c/Users/Dylan/Documents/zaneveld/2_14_gcmp/GCMP_Global_Disease/analysis/organelle_removal/output/adiv_greengenes_metaxa2_skeleton_gini_index_1000.qza\n",
      "Saving significance results to:/mnt/c/Users/Dylan/Documents/zaneveld/2_14_gcmp/GCMP_Global_Disease/analysis/organelle_removal/output/adiv_greengenes_metaxa2_skeleton_gini_index_1000_group_sig.qzv\n",
      "Calculating alpha diversity for skeleton using dominance\n",
      "Saving results to:/mnt/c/Users/Dylan/Documents/zaneveld/2_14_gcmp/GCMP_Global_Disease/analysis/organelle_removal/output/adiv_greengenes_metaxa2_skeleton_dominance_1000.qza\n",
      "Saving significance results to:/mnt/c/Users/Dylan/Documents/zaneveld/2_14_gcmp/GCMP_Global_Disease/analysis/organelle_removal/output/adiv_greengenes_metaxa2_skeleton_dominance_1000_group_sig.qzv\n",
      "Calculating alpha diversity for skeleton using simpson_e\n",
      "Saving results to:/mnt/c/Users/Dylan/Documents/zaneveld/2_14_gcmp/GCMP_Global_Disease/analysis/organelle_removal/output/adiv_greengenes_metaxa2_skeleton_simpson_e_1000.qza\n",
      "Saving significance results to:/mnt/c/Users/Dylan/Documents/zaneveld/2_14_gcmp/GCMP_Global_Disease/analysis/organelle_removal/output/adiv_greengenes_metaxa2_skeleton_simpson_e_1000_group_sig.qzv\n"
     ]
    }
   ],
   "source": [
    "metrics = ['observed_features','gini_index','dominance','simpson_e']\n",
    "alpha_diversities = {}\n",
    "for label, rarefied_feature_tables in rarefied_feature_tables_by_taxonomy.items():\n",
    "    for compartment,table in rarefied_feature_tables.items():\n",
    "        for metric in metrics:\n",
    "            print(f\"Calculating alpha diversity for {compartment} using {metric}\")\n",
    "            alpha_results = alpha(table=table,metric = metric)\n",
    "            alpha_diversity = alpha_results.alpha_diversity\n",
    "            alpha_diversities[f\"{label}_{compartment}_{metric}_{rarefaction_depth}\"] = alpha_diversity\n",
    "\n",
    "            #Save the resulting feature table to disk\n",
    "            output_filename = f\"adiv_{label}_{compartment}_{metric}_{rarefaction_depth}.qza\"\n",
    "            output_filepath = join(output_dir,output_filename)\n",
    "            print(f\"Saving results to:{output_filepath}\")\n",
    "            alpha_diversity.save(output_filepath)\n",
    "\n",
    "            #Calculate alpha group significance for categorical variables\n",
    "            alpha_group_sig_results = alpha_group_significance(alpha_diversity=alpha_diversity,metadata=metadata)\n",
    "            alpha_group_sig_visualization = alpha_group_sig_results.visualization\n",
    "            output_filename = f\"adiv_{label}_{compartment}_{metric}_{rarefaction_depth}_group_sig.qzv\"\n",
    "            output_filepath = join(output_dir,output_filename)\n",
    "            print(f\"Saving significance results to:{output_filepath}\")\n",
    "            alpha_group_sig_visualization.save(output_filepath)\n"
   ]
  },
  {
   "cell_type": "markdown",
   "metadata": {},
   "source": [
    "#### Test the effects of mitochondrial removal on between family beta-diversity\n",
    "\n",
    "If mitochondria are misannotated at different rates between coral families, we might expect that this could potentially artificially inflate inter-family beta-diversity. Alternatively, it's possible that *removal* of mitochondria may reduce intra-family variability, effectively shrinking the observed variance within each family and thereby increasing the significance of inter-family beta diversity. The code below calculates permanova between coral families under each taxonomic scheme to test these ideas. "
   ]
  },
  {
   "cell_type": "code",
   "execution_count": 8,
   "metadata": {},
   "outputs": [
    {
     "name": "stdout",
     "output_type": "stream",
     "text": [
      "Calculating beta diversity for mucus using braycurtis\n",
      "Saving results to:/mnt/c/Users/Dylan/Documents/zaneveld/2_14_gcmp/GCMP_Global_Disease/analysis/organelle_removal/output/bdiv_silva_metaxa2_mucus_braycurtis_1000.qza\n"
     ]
    },
    {
     "name": "stderr",
     "output_type": "stream",
     "text": [
      "/home/dylan/miniconda3/envs/qiime2-2020.11/lib/python3.6/site-packages/seaborn/categorical.py:373: UserWarning: Attempted to set non-positive left xlim on a log-scaled axis.\n",
      "Invalid limit will be ignored.\n",
      "  ax.set_xlim(-.5, len(self.plot_data) - .5, auto=None)\n",
      "/home/dylan/miniconda3/envs/qiime2-2020.11/lib/python3.6/site-packages/q2_diversity/_beta/_visualizer.py:193: UserWarning: Tight layout not applied. The bottom and top margins cannot be made large enough to accommodate all axes decorations. \n",
      "  plt.tight_layout()\n"
     ]
    },
    {
     "name": "stdout",
     "output_type": "stream",
     "text": [
      "Saving significance results to:/mnt/c/Users/Dylan/Documents/zaneveld/2_14_gcmp/GCMP_Global_Disease/analysis/organelle_removal/output/bdiv_silva_metaxa2_mucus_braycurtis_1000_permanova_group_sig.qzv\n",
      "Calculating beta diversity for tissue using braycurtis\n",
      "Saving results to:/mnt/c/Users/Dylan/Documents/zaneveld/2_14_gcmp/GCMP_Global_Disease/analysis/organelle_removal/output/bdiv_silva_metaxa2_tissue_braycurtis_1000.qza\n",
      "Saving significance results to:/mnt/c/Users/Dylan/Documents/zaneveld/2_14_gcmp/GCMP_Global_Disease/analysis/organelle_removal/output/bdiv_silva_metaxa2_tissue_braycurtis_1000_permanova_group_sig.qzv\n",
      "Calculating beta diversity for skeleton using braycurtis\n",
      "Saving results to:/mnt/c/Users/Dylan/Documents/zaneveld/2_14_gcmp/GCMP_Global_Disease/analysis/organelle_removal/output/bdiv_silva_metaxa2_skeleton_braycurtis_1000.qza\n",
      "Saving significance results to:/mnt/c/Users/Dylan/Documents/zaneveld/2_14_gcmp/GCMP_Global_Disease/analysis/organelle_removal/output/bdiv_silva_metaxa2_skeleton_braycurtis_1000_permanova_group_sig.qzv\n",
      "Calculating beta diversity for mucus using braycurtis\n",
      "Saving results to:/mnt/c/Users/Dylan/Documents/zaneveld/2_14_gcmp/GCMP_Global_Disease/analysis/organelle_removal/output/bdiv_silva_mucus_braycurtis_1000.qza\n",
      "Saving significance results to:/mnt/c/Users/Dylan/Documents/zaneveld/2_14_gcmp/GCMP_Global_Disease/analysis/organelle_removal/output/bdiv_silva_mucus_braycurtis_1000_permanova_group_sig.qzv\n",
      "Calculating beta diversity for tissue using braycurtis\n",
      "Saving results to:/mnt/c/Users/Dylan/Documents/zaneveld/2_14_gcmp/GCMP_Global_Disease/analysis/organelle_removal/output/bdiv_silva_tissue_braycurtis_1000.qza\n",
      "Saving significance results to:/mnt/c/Users/Dylan/Documents/zaneveld/2_14_gcmp/GCMP_Global_Disease/analysis/organelle_removal/output/bdiv_silva_tissue_braycurtis_1000_permanova_group_sig.qzv\n",
      "Calculating beta diversity for skeleton using braycurtis\n",
      "Saving results to:/mnt/c/Users/Dylan/Documents/zaneveld/2_14_gcmp/GCMP_Global_Disease/analysis/organelle_removal/output/bdiv_silva_skeleton_braycurtis_1000.qza\n",
      "Saving significance results to:/mnt/c/Users/Dylan/Documents/zaneveld/2_14_gcmp/GCMP_Global_Disease/analysis/organelle_removal/output/bdiv_silva_skeleton_braycurtis_1000_permanova_group_sig.qzv\n",
      "Calculating beta diversity for mucus using braycurtis\n",
      "Saving results to:/mnt/c/Users/Dylan/Documents/zaneveld/2_14_gcmp/GCMP_Global_Disease/analysis/organelle_removal/output/bdiv_greengenes_mucus_braycurtis_1000.qza\n",
      "Saving significance results to:/mnt/c/Users/Dylan/Documents/zaneveld/2_14_gcmp/GCMP_Global_Disease/analysis/organelle_removal/output/bdiv_greengenes_mucus_braycurtis_1000_permanova_group_sig.qzv\n",
      "Calculating beta diversity for tissue using braycurtis\n",
      "Saving results to:/mnt/c/Users/Dylan/Documents/zaneveld/2_14_gcmp/GCMP_Global_Disease/analysis/organelle_removal/output/bdiv_greengenes_tissue_braycurtis_1000.qza\n",
      "Saving significance results to:/mnt/c/Users/Dylan/Documents/zaneveld/2_14_gcmp/GCMP_Global_Disease/analysis/organelle_removal/output/bdiv_greengenes_tissue_braycurtis_1000_permanova_group_sig.qzv\n",
      "Calculating beta diversity for skeleton using braycurtis\n",
      "Saving results to:/mnt/c/Users/Dylan/Documents/zaneveld/2_14_gcmp/GCMP_Global_Disease/analysis/organelle_removal/output/bdiv_greengenes_skeleton_braycurtis_1000.qza\n",
      "Saving significance results to:/mnt/c/Users/Dylan/Documents/zaneveld/2_14_gcmp/GCMP_Global_Disease/analysis/organelle_removal/output/bdiv_greengenes_skeleton_braycurtis_1000_permanova_group_sig.qzv\n",
      "Calculating beta diversity for mucus using braycurtis\n",
      "Saving results to:/mnt/c/Users/Dylan/Documents/zaneveld/2_14_gcmp/GCMP_Global_Disease/analysis/organelle_removal/output/bdiv_greengenes_metaxa2_mucus_braycurtis_1000.qza\n",
      "Saving significance results to:/mnt/c/Users/Dylan/Documents/zaneveld/2_14_gcmp/GCMP_Global_Disease/analysis/organelle_removal/output/bdiv_greengenes_metaxa2_mucus_braycurtis_1000_permanova_group_sig.qzv\n",
      "Calculating beta diversity for tissue using braycurtis\n",
      "Saving results to:/mnt/c/Users/Dylan/Documents/zaneveld/2_14_gcmp/GCMP_Global_Disease/analysis/organelle_removal/output/bdiv_greengenes_metaxa2_tissue_braycurtis_1000.qza\n",
      "Saving significance results to:/mnt/c/Users/Dylan/Documents/zaneveld/2_14_gcmp/GCMP_Global_Disease/analysis/organelle_removal/output/bdiv_greengenes_metaxa2_tissue_braycurtis_1000_permanova_group_sig.qzv\n",
      "Calculating beta diversity for skeleton using braycurtis\n",
      "Saving results to:/mnt/c/Users/Dylan/Documents/zaneveld/2_14_gcmp/GCMP_Global_Disease/analysis/organelle_removal/output/bdiv_greengenes_metaxa2_skeleton_braycurtis_1000.qza\n",
      "Saving significance results to:/mnt/c/Users/Dylan/Documents/zaneveld/2_14_gcmp/GCMP_Global_Disease/analysis/organelle_removal/output/bdiv_greengenes_metaxa2_skeleton_braycurtis_1000_permanova_group_sig.qzv\n"
     ]
    }
   ],
   "source": [
    "metrics = ['braycurtis']\n",
    "beta_diversities = {}\n",
    "for label, rarefied_feature_tables in rarefied_feature_tables_by_taxonomy.items():\n",
    "    for compartment,table in rarefied_feature_tables.items():\n",
    "        for metric in metrics:\n",
    "            print(f\"Calculating beta diversity for {compartment} using {metric}\")\n",
    "            beta_results = beta(table=table,metric = metric)\n",
    "            beta_dm = beta_results.distance_matrix\n",
    "            beta_diversities[f\"{label}_{compartment}_{metric}_{rarefaction_depth}\"] = beta_dm\n",
    "\n",
    "            #Save the resulting feature table to disk\n",
    "            output_filename = f\"bdiv_{label}_{compartment}_{metric}_{rarefaction_depth}.qza\"\n",
    "            output_filepath = join(output_dir,output_filename)\n",
    "            print(f\"Saving results to:{output_filepath}\")\n",
    "            beta_dm.save(output_filepath)\n",
    "\n",
    "            #Calculate beta group significance for categorical variables\n",
    "            sig_method = 'permanova'\n",
    "            metadata_column = 'taxonomy_string_to_family'\n",
    "            \n",
    "            beta_group_sig_results =\\\n",
    "              beta_group_significance(distance_matrix=beta_dm,method=sig_method,metadata=metadata.get_column(metadata_column))\n",
    "            \n",
    "            beta_group_sig_visualization = beta_group_sig_results.visualization\n",
    "            \n",
    "            output_filename = f\"bdiv_{label}_{compartment}_{metric}_{rarefaction_depth}_{sig_method}_group_sig.qzv\"\n",
    "            output_filepath = join(output_dir,output_filename)\n",
    "            print(f\"Saving significance results to:{output_filepath}\")\n",
    "            beta_group_sig_visualization.save(output_filepath)"
   ]
  },
  {
   "cell_type": "code",
   "execution_count": null,
   "metadata": {},
   "outputs": [],
   "source": []
  }
 ],
 "metadata": {
  "kernelspec": {
   "display_name": "Python 3",
   "language": "python",
   "name": "python3"
  },
  "language_info": {
   "codemirror_mode": {
    "name": "ipython",
    "version": 3
   },
   "file_extension": ".py",
   "mimetype": "text/x-python",
   "name": "python",
   "nbconvert_exporter": "python",
   "pygments_lexer": "ipython3",
   "version": "3.6.12"
  }
 },
 "nbformat": 4,
 "nbformat_minor": 2
}
