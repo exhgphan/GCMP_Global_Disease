{
 "cells": [
  {
   "cell_type": "markdown",
   "metadata": {},
   "source": [
    "## Effects of Mitochondrial Removal Protocol on Coral Microbiome Alpha and Beta Diversity, accounting for rarefaction\n",
    "\n",
    "This notebook tests how the choice of mitochondrial annotation and removal method influences coral alpha and beta diversity, accounting for rarefaction. The strategy is to perform alpha and beta diversity analysis on coral mucus, tissue, and skeleton samples using either standard Greengenes_13_8 or SILVA annotations, or to do the same with expanded versions of these references. \n",
    "\n",
    "**However**, the standard Greengees_13_8 and SILVA annotations will be filtered to just samples that survive rarefaction in the analysis with the versions of these that include supplemental mitochondrial sequences.\n",
    "\n",
    "#### How this notebook is different from `adiv_and_bdiv_effects_of_mitochondrial_removal.ipynb`\n",
    "\n",
    "An initial notebook tested the effects of improved mitochondrial removal (adiv_and_bdiv_effects_of_mitochondrial_removal.ipynb). However, while mitochondrial removal may improve accuracy, it also reduces the number of sequences per sample. During rarefaction, many of these may fall below the rarefaction threshold and fall out of the analysis. This may cause some trends to appear non-significant in the version of samples that have mitochondria removed correctly.\n",
    "\n",
    "In the other analysis, it was not possible to tell if this was due to better mitochondria removal eliminating artifactual effects, or because a lower sample size "
   ]
  },
  {
   "cell_type": "markdown",
   "metadata": {},
   "source": [
    "#### Set up\n",
    "\n",
    "We'll import QIIME2 artifact API functions and objects to do the analysis, as well as some basic python functions for working with the file system (e.g. from os.path)"
   ]
  },
  {
   "cell_type": "code",
   "execution_count": 2,
   "metadata": {},
   "outputs": [],
   "source": [
    "from qiime2 import Artifact,Metadata\n",
    "from qiime2.plugins.feature_table.methods import filter_samples\n",
    "from qiime2.plugins.taxa.methods import filter_table\n",
    "#The below try/except block is unsightly but the alpha function got moved between recent versions of QIIME2\n",
    "#and it's nice if the notebook is compatible with either\n",
    "try:\n",
    "    from qiime2.plugins.diversity.methods import alpha,beta\n",
    "except:\n",
    "    from qiime2.plugins.diversity.pipelines import alpha,beta\n",
    "from qiime2.plugins.diversity.visualizers import alpha_group_significance,beta_group_significance\n",
    "\n",
    "from qiime2.plugins.feature_table.methods import rarefy\n",
    "from qiime2.plugins.feature_table.visualizers import summarize\n",
    "from qiime2.plugins.feature_table.methods import filter_samples\n",
    "\n",
    "from qiime2.metadata import Metadata\n",
    "\n",
    "from os.path import abspath,exists,join\n",
    "from os import mkdir\n",
    "\n",
    "import shutil\n",
    "\n",
    "import pandas as pd"
   ]
  },
  {
   "cell_type": "markdown",
   "metadata": {},
   "source": [
    "#### Set up input filenames\n",
    "\n",
    "We'll set up input filenames all at once so we can refer to them later."
   ]
  },
  {
   "cell_type": "code",
   "execution_count": 6,
   "metadata": {},
   "outputs": [],
   "source": [
    "#### Check that required files exist\n",
    "mucus_feature_table = \"../output/M_ft.qza\"\n",
    "tissue_feature_table = \"../output/T_ft.qza\"\n",
    "skeleton_feature_table = \"../output/S_ft.qza\"\n",
    "overall_feature_table = \"../output/gcmp_raw_overall_ft_all_compartments.qza\"\n",
    "\n",
    "mapping_file = \"../input/GCMP_EMP_map_r28_no_empty_samples.txt\"\n",
    "sequence_file = \"../output/GCMP_seqs.qza\"\n",
    "\n",
    "output_dir = abspath(\"../output/effects_of_rarefaction_analysis\")\n",
    "input_directory = abspath(\"../input\")\n",
    "\n",
    "taxonomy_files = {\"silva_metaxa2\":\"../output/silva_metaxa2_reference_taxonomy.qza\",\\\n",
    "                 \"silva\":\"../output/silva_reference_taxonomy.qza\",\\\n",
    "                 \"greengenes\":\"../output/greengenes_reference_taxonomy.qza\",\\\n",
    "                 \"greengenes_metaxa2\":\"../output/greengenes_metaxa2_reference_taxonomy.qza\"}\n",
    "\n",
    "required_files = [mucus_feature_table,tissue_feature_table,skeleton_feature_table,overall_feature_table,mapping_file,sequence_file]\n",
    "required_files.extend(taxonomy_files.values())\n",
    "\n"
   ]
  },
  {
   "cell_type": "markdown",
   "metadata": {},
   "source": [
    "#### Check that all required files really exist and are named correctly"
   ]
  },
  {
   "cell_type": "code",
   "execution_count": 8,
   "metadata": {},
   "outputs": [
    {
     "name": "stdout",
     "output_type": "stream",
     "text": [
      "Verifying that all needed starting data files exist.\n",
      "Done.\n"
     ]
    }
   ],
   "source": [
    "print(\"Verifying that all needed starting data files exist.\")\n",
    "for existing_file in required_files:\n",
    "    if not exists(existing_file):\n",
    "        raise IOError(f\"Required file {existing_file} not found. Please ensure it is in that directory.\")\n",
    "print(\"Done.\")\n",
    "\n",
    "if not exists(output_dir):\n",
    "    print(f\"Output directory {output_dir} does not yet exist, creating it...\")\n",
    "    mkdir(output_dir)\n",
    "    print(\"Done.\")"
   ]
  },
  {
   "cell_type": "markdown",
   "metadata": {},
   "source": [
    "#### Check QIIME2 version\n",
    "\n",
    "Do a quick check that the qiime version is what's expected. If you get an error at this step due to a different qiime2 verison, the code may very well still work, but if you want to exactly reproduce the results, you'll want QIIME2 2020.8.0\n"
   ]
  },
  {
   "cell_type": "code",
   "execution_count": 9,
   "metadata": {},
   "outputs": [],
   "source": [
    "from qiime2 import __version__ as qiime_version\n",
    "\n",
    "if qiime_version != \"2020.8.0\":\n",
    "    raise ValueError(\"This code was developed with QIIME2 2020.8.0. It will *probably* work with related versions, but there are no guarantees as some functions may change in call signature.\")\n",
    "\n"
   ]
  },
  {
   "cell_type": "markdown",
   "metadata": {},
   "source": [
    "#### Generate filtered tables using several sets of taxonomy annotations\n",
    "\n",
    "We will filter mitochondria out of our feature tables using either the default taxonomies (greengenes_13_8 or SILVA), or our supplemented versions with additional metaxa2 mitochondrial 16S rRNA sequences."
   ]
  },
  {
   "cell_type": "code",
   "execution_count": 12,
   "metadata": {},
   "outputs": [
    {
     "name": "stdout",
     "output_type": "stream",
     "text": [
      "Analyzing data using the silva_metaxa2 taxonomy (../output/silva_metaxa2_reference_taxonomy.qza)\n",
      "Removing mitochondria from: all <artifact: FeatureTable[Frequency] uuid: ca2f992d-79c2-49bb-9145-3cdae1c09977>\n",
      "Saving results to:/Users/jzaneveld/Dropbox/Zaneveld_Lab_Organization/Projects/GCMP_Global_Disease/gcmp_global_disease/analysis/organelle_removal/output/effects_of_rarefaction_analysis/feature_table_silva_metaxa2_all.qza\n"
     ]
    },
    {
     "name": "stderr",
     "output_type": "stream",
     "text": [
      "/Users/jzaneveld/anaconda3/envs/qiime2-2020.8/lib/python3.6/site-packages/q2_feature_table/_summarize/_visualizer.py:122: FutureWarning: The signature of `Series.to_csv` was aligned to that of `DataFrame.to_csv`, and argument 'header' will change its default value from False to True: please pass an explicit value to suppress this warning.\n",
      "  os.path.join(output_dir, 'sample-frequency-detail.csv'))\n",
      "/Users/jzaneveld/anaconda3/envs/qiime2-2020.8/lib/python3.6/site-packages/q2_feature_table/_summarize/_visualizer.py:124: FutureWarning: The signature of `Series.to_csv` was aligned to that of `DataFrame.to_csv`, and argument 'header' will change its default value from False to True: please pass an explicit value to suppress this warning.\n",
      "  os.path.join(output_dir, 'feature-frequency-detail.csv'))\n"
     ]
    },
    {
     "name": "stdout",
     "output_type": "stream",
     "text": [
      "Saving summary file to:/Users/jzaneveld/Dropbox/Zaneveld_Lab_Organization/Projects/GCMP_Global_Disease/gcmp_global_disease/analysis/organelle_removal/output/effects_of_rarefaction_analysis/feature_table_silva_metaxa2_all.qzv\n",
      "Removing mitochondria from: mucus <artifact: FeatureTable[Frequency] uuid: 8045253c-8a06-4ba5-9188-36ae7ca39531>\n",
      "Saving results to:/Users/jzaneveld/Dropbox/Zaneveld_Lab_Organization/Projects/GCMP_Global_Disease/gcmp_global_disease/analysis/organelle_removal/output/effects_of_rarefaction_analysis/feature_table_silva_metaxa2_mucus.qza\n"
     ]
    },
    {
     "name": "stderr",
     "output_type": "stream",
     "text": [
      "/Users/jzaneveld/anaconda3/envs/qiime2-2020.8/lib/python3.6/site-packages/q2_feature_table/_summarize/_visualizer.py:122: FutureWarning: The signature of `Series.to_csv` was aligned to that of `DataFrame.to_csv`, and argument 'header' will change its default value from False to True: please pass an explicit value to suppress this warning.\n",
      "  os.path.join(output_dir, 'sample-frequency-detail.csv'))\n",
      "/Users/jzaneveld/anaconda3/envs/qiime2-2020.8/lib/python3.6/site-packages/q2_feature_table/_summarize/_visualizer.py:124: FutureWarning: The signature of `Series.to_csv` was aligned to that of `DataFrame.to_csv`, and argument 'header' will change its default value from False to True: please pass an explicit value to suppress this warning.\n",
      "  os.path.join(output_dir, 'feature-frequency-detail.csv'))\n"
     ]
    },
    {
     "name": "stdout",
     "output_type": "stream",
     "text": [
      "Saving summary file to:/Users/jzaneveld/Dropbox/Zaneveld_Lab_Organization/Projects/GCMP_Global_Disease/gcmp_global_disease/analysis/organelle_removal/output/effects_of_rarefaction_analysis/feature_table_silva_metaxa2_mucus.qzv\n",
      "Removing mitochondria from: tissue <artifact: FeatureTable[Frequency] uuid: 14e5fea4-6aee-4dec-9065-33a307fb3140>\n",
      "Saving results to:/Users/jzaneveld/Dropbox/Zaneveld_Lab_Organization/Projects/GCMP_Global_Disease/gcmp_global_disease/analysis/organelle_removal/output/effects_of_rarefaction_analysis/feature_table_silva_metaxa2_tissue.qza\n"
     ]
    },
    {
     "name": "stderr",
     "output_type": "stream",
     "text": [
      "/Users/jzaneveld/anaconda3/envs/qiime2-2020.8/lib/python3.6/site-packages/q2_feature_table/_summarize/_visualizer.py:122: FutureWarning: The signature of `Series.to_csv` was aligned to that of `DataFrame.to_csv`, and argument 'header' will change its default value from False to True: please pass an explicit value to suppress this warning.\n",
      "  os.path.join(output_dir, 'sample-frequency-detail.csv'))\n",
      "/Users/jzaneveld/anaconda3/envs/qiime2-2020.8/lib/python3.6/site-packages/q2_feature_table/_summarize/_visualizer.py:124: FutureWarning: The signature of `Series.to_csv` was aligned to that of `DataFrame.to_csv`, and argument 'header' will change its default value from False to True: please pass an explicit value to suppress this warning.\n",
      "  os.path.join(output_dir, 'feature-frequency-detail.csv'))\n"
     ]
    },
    {
     "name": "stdout",
     "output_type": "stream",
     "text": [
      "Saving summary file to:/Users/jzaneveld/Dropbox/Zaneveld_Lab_Organization/Projects/GCMP_Global_Disease/gcmp_global_disease/analysis/organelle_removal/output/effects_of_rarefaction_analysis/feature_table_silva_metaxa2_tissue.qzv\n",
      "Removing mitochondria from: skeleton <artifact: FeatureTable[Frequency] uuid: f7e6592c-affd-418c-aaf3-876a1294691e>\n",
      "Saving results to:/Users/jzaneveld/Dropbox/Zaneveld_Lab_Organization/Projects/GCMP_Global_Disease/gcmp_global_disease/analysis/organelle_removal/output/effects_of_rarefaction_analysis/feature_table_silva_metaxa2_skeleton.qza\n"
     ]
    },
    {
     "name": "stderr",
     "output_type": "stream",
     "text": [
      "/Users/jzaneveld/anaconda3/envs/qiime2-2020.8/lib/python3.6/site-packages/q2_feature_table/_summarize/_visualizer.py:122: FutureWarning: The signature of `Series.to_csv` was aligned to that of `DataFrame.to_csv`, and argument 'header' will change its default value from False to True: please pass an explicit value to suppress this warning.\n",
      "  os.path.join(output_dir, 'sample-frequency-detail.csv'))\n",
      "/Users/jzaneveld/anaconda3/envs/qiime2-2020.8/lib/python3.6/site-packages/q2_feature_table/_summarize/_visualizer.py:124: FutureWarning: The signature of `Series.to_csv` was aligned to that of `DataFrame.to_csv`, and argument 'header' will change its default value from False to True: please pass an explicit value to suppress this warning.\n",
      "  os.path.join(output_dir, 'feature-frequency-detail.csv'))\n"
     ]
    },
    {
     "name": "stdout",
     "output_type": "stream",
     "text": [
      "Saving summary file to:/Users/jzaneveld/Dropbox/Zaneveld_Lab_Organization/Projects/GCMP_Global_Disease/gcmp_global_disease/analysis/organelle_removal/output/effects_of_rarefaction_analysis/feature_table_silva_metaxa2_skeleton.qzv\n",
      "Done with processing silva_metaxa2 taxonomy annotations!\n",
      "\n",
      "\n",
      "Analyzing data using the silva taxonomy (../output/silva_reference_taxonomy.qza)\n",
      "Removing mitochondria from: all <artifact: FeatureTable[Frequency] uuid: ca2f992d-79c2-49bb-9145-3cdae1c09977>\n",
      "Saving results to:/Users/jzaneveld/Dropbox/Zaneveld_Lab_Organization/Projects/GCMP_Global_Disease/gcmp_global_disease/analysis/organelle_removal/output/effects_of_rarefaction_analysis/feature_table_silva_all.qza\n"
     ]
    },
    {
     "name": "stderr",
     "output_type": "stream",
     "text": [
      "/Users/jzaneveld/anaconda3/envs/qiime2-2020.8/lib/python3.6/site-packages/q2_feature_table/_summarize/_visualizer.py:122: FutureWarning: The signature of `Series.to_csv` was aligned to that of `DataFrame.to_csv`, and argument 'header' will change its default value from False to True: please pass an explicit value to suppress this warning.\n",
      "  os.path.join(output_dir, 'sample-frequency-detail.csv'))\n",
      "/Users/jzaneveld/anaconda3/envs/qiime2-2020.8/lib/python3.6/site-packages/q2_feature_table/_summarize/_visualizer.py:124: FutureWarning: The signature of `Series.to_csv` was aligned to that of `DataFrame.to_csv`, and argument 'header' will change its default value from False to True: please pass an explicit value to suppress this warning.\n",
      "  os.path.join(output_dir, 'feature-frequency-detail.csv'))\n"
     ]
    },
    {
     "name": "stdout",
     "output_type": "stream",
     "text": [
      "Saving summary file to:/Users/jzaneveld/Dropbox/Zaneveld_Lab_Organization/Projects/GCMP_Global_Disease/gcmp_global_disease/analysis/organelle_removal/output/effects_of_rarefaction_analysis/feature_table_silva_all.qzv\n",
      "Removing mitochondria from: mucus <artifact: FeatureTable[Frequency] uuid: 8045253c-8a06-4ba5-9188-36ae7ca39531>\n",
      "Saving results to:/Users/jzaneveld/Dropbox/Zaneveld_Lab_Organization/Projects/GCMP_Global_Disease/gcmp_global_disease/analysis/organelle_removal/output/effects_of_rarefaction_analysis/feature_table_silva_mucus.qza\n"
     ]
    },
    {
     "name": "stderr",
     "output_type": "stream",
     "text": [
      "/Users/jzaneveld/anaconda3/envs/qiime2-2020.8/lib/python3.6/site-packages/q2_feature_table/_summarize/_visualizer.py:122: FutureWarning: The signature of `Series.to_csv` was aligned to that of `DataFrame.to_csv`, and argument 'header' will change its default value from False to True: please pass an explicit value to suppress this warning.\n",
      "  os.path.join(output_dir, 'sample-frequency-detail.csv'))\n",
      "/Users/jzaneveld/anaconda3/envs/qiime2-2020.8/lib/python3.6/site-packages/q2_feature_table/_summarize/_visualizer.py:124: FutureWarning: The signature of `Series.to_csv` was aligned to that of `DataFrame.to_csv`, and argument 'header' will change its default value from False to True: please pass an explicit value to suppress this warning.\n",
      "  os.path.join(output_dir, 'feature-frequency-detail.csv'))\n"
     ]
    },
    {
     "name": "stdout",
     "output_type": "stream",
     "text": [
      "Saving summary file to:/Users/jzaneveld/Dropbox/Zaneveld_Lab_Organization/Projects/GCMP_Global_Disease/gcmp_global_disease/analysis/organelle_removal/output/effects_of_rarefaction_analysis/feature_table_silva_mucus.qzv\n",
      "Removing mitochondria from: tissue <artifact: FeatureTable[Frequency] uuid: 14e5fea4-6aee-4dec-9065-33a307fb3140>\n",
      "Saving results to:/Users/jzaneveld/Dropbox/Zaneveld_Lab_Organization/Projects/GCMP_Global_Disease/gcmp_global_disease/analysis/organelle_removal/output/effects_of_rarefaction_analysis/feature_table_silva_tissue.qza\n"
     ]
    },
    {
     "name": "stderr",
     "output_type": "stream",
     "text": [
      "/Users/jzaneveld/anaconda3/envs/qiime2-2020.8/lib/python3.6/site-packages/q2_feature_table/_summarize/_visualizer.py:122: FutureWarning: The signature of `Series.to_csv` was aligned to that of `DataFrame.to_csv`, and argument 'header' will change its default value from False to True: please pass an explicit value to suppress this warning.\n",
      "  os.path.join(output_dir, 'sample-frequency-detail.csv'))\n",
      "/Users/jzaneveld/anaconda3/envs/qiime2-2020.8/lib/python3.6/site-packages/q2_feature_table/_summarize/_visualizer.py:124: FutureWarning: The signature of `Series.to_csv` was aligned to that of `DataFrame.to_csv`, and argument 'header' will change its default value from False to True: please pass an explicit value to suppress this warning.\n",
      "  os.path.join(output_dir, 'feature-frequency-detail.csv'))\n"
     ]
    },
    {
     "name": "stdout",
     "output_type": "stream",
     "text": [
      "Saving summary file to:/Users/jzaneveld/Dropbox/Zaneveld_Lab_Organization/Projects/GCMP_Global_Disease/gcmp_global_disease/analysis/organelle_removal/output/effects_of_rarefaction_analysis/feature_table_silva_tissue.qzv\n",
      "Removing mitochondria from: skeleton <artifact: FeatureTable[Frequency] uuid: f7e6592c-affd-418c-aaf3-876a1294691e>\n",
      "Saving results to:/Users/jzaneveld/Dropbox/Zaneveld_Lab_Organization/Projects/GCMP_Global_Disease/gcmp_global_disease/analysis/organelle_removal/output/effects_of_rarefaction_analysis/feature_table_silva_skeleton.qza\n"
     ]
    },
    {
     "name": "stderr",
     "output_type": "stream",
     "text": [
      "/Users/jzaneveld/anaconda3/envs/qiime2-2020.8/lib/python3.6/site-packages/q2_feature_table/_summarize/_visualizer.py:122: FutureWarning: The signature of `Series.to_csv` was aligned to that of `DataFrame.to_csv`, and argument 'header' will change its default value from False to True: please pass an explicit value to suppress this warning.\n",
      "  os.path.join(output_dir, 'sample-frequency-detail.csv'))\n",
      "/Users/jzaneveld/anaconda3/envs/qiime2-2020.8/lib/python3.6/site-packages/q2_feature_table/_summarize/_visualizer.py:124: FutureWarning: The signature of `Series.to_csv` was aligned to that of `DataFrame.to_csv`, and argument 'header' will change its default value from False to True: please pass an explicit value to suppress this warning.\n",
      "  os.path.join(output_dir, 'feature-frequency-detail.csv'))\n"
     ]
    },
    {
     "name": "stdout",
     "output_type": "stream",
     "text": [
      "Saving summary file to:/Users/jzaneveld/Dropbox/Zaneveld_Lab_Organization/Projects/GCMP_Global_Disease/gcmp_global_disease/analysis/organelle_removal/output/effects_of_rarefaction_analysis/feature_table_silva_skeleton.qzv\n",
      "Done with processing silva taxonomy annotations!\n",
      "\n",
      "\n",
      "Analyzing data using the greengenes taxonomy (../output/greengenes_reference_taxonomy.qza)\n",
      "Removing mitochondria from: all <artifact: FeatureTable[Frequency] uuid: ca2f992d-79c2-49bb-9145-3cdae1c09977>\n",
      "Saving results to:/Users/jzaneveld/Dropbox/Zaneveld_Lab_Organization/Projects/GCMP_Global_Disease/gcmp_global_disease/analysis/organelle_removal/output/effects_of_rarefaction_analysis/feature_table_greengenes_all.qza\n"
     ]
    },
    {
     "name": "stderr",
     "output_type": "stream",
     "text": [
      "/Users/jzaneveld/anaconda3/envs/qiime2-2020.8/lib/python3.6/site-packages/q2_feature_table/_summarize/_visualizer.py:122: FutureWarning: The signature of `Series.to_csv` was aligned to that of `DataFrame.to_csv`, and argument 'header' will change its default value from False to True: please pass an explicit value to suppress this warning.\n",
      "  os.path.join(output_dir, 'sample-frequency-detail.csv'))\n",
      "/Users/jzaneveld/anaconda3/envs/qiime2-2020.8/lib/python3.6/site-packages/q2_feature_table/_summarize/_visualizer.py:124: FutureWarning: The signature of `Series.to_csv` was aligned to that of `DataFrame.to_csv`, and argument 'header' will change its default value from False to True: please pass an explicit value to suppress this warning.\n",
      "  os.path.join(output_dir, 'feature-frequency-detail.csv'))\n"
     ]
    },
    {
     "name": "stdout",
     "output_type": "stream",
     "text": [
      "Saving summary file to:/Users/jzaneveld/Dropbox/Zaneveld_Lab_Organization/Projects/GCMP_Global_Disease/gcmp_global_disease/analysis/organelle_removal/output/effects_of_rarefaction_analysis/feature_table_greengenes_all.qzv\n",
      "Removing mitochondria from: mucus <artifact: FeatureTable[Frequency] uuid: 8045253c-8a06-4ba5-9188-36ae7ca39531>\n",
      "Saving results to:/Users/jzaneveld/Dropbox/Zaneveld_Lab_Organization/Projects/GCMP_Global_Disease/gcmp_global_disease/analysis/organelle_removal/output/effects_of_rarefaction_analysis/feature_table_greengenes_mucus.qza\n"
     ]
    },
    {
     "name": "stderr",
     "output_type": "stream",
     "text": [
      "/Users/jzaneveld/anaconda3/envs/qiime2-2020.8/lib/python3.6/site-packages/q2_feature_table/_summarize/_visualizer.py:122: FutureWarning: The signature of `Series.to_csv` was aligned to that of `DataFrame.to_csv`, and argument 'header' will change its default value from False to True: please pass an explicit value to suppress this warning.\n",
      "  os.path.join(output_dir, 'sample-frequency-detail.csv'))\n",
      "/Users/jzaneveld/anaconda3/envs/qiime2-2020.8/lib/python3.6/site-packages/q2_feature_table/_summarize/_visualizer.py:124: FutureWarning: The signature of `Series.to_csv` was aligned to that of `DataFrame.to_csv`, and argument 'header' will change its default value from False to True: please pass an explicit value to suppress this warning.\n",
      "  os.path.join(output_dir, 'feature-frequency-detail.csv'))\n"
     ]
    },
    {
     "name": "stdout",
     "output_type": "stream",
     "text": [
      "Saving summary file to:/Users/jzaneveld/Dropbox/Zaneveld_Lab_Organization/Projects/GCMP_Global_Disease/gcmp_global_disease/analysis/organelle_removal/output/effects_of_rarefaction_analysis/feature_table_greengenes_mucus.qzv\n",
      "Removing mitochondria from: tissue <artifact: FeatureTable[Frequency] uuid: 14e5fea4-6aee-4dec-9065-33a307fb3140>\n",
      "Saving results to:/Users/jzaneveld/Dropbox/Zaneveld_Lab_Organization/Projects/GCMP_Global_Disease/gcmp_global_disease/analysis/organelle_removal/output/effects_of_rarefaction_analysis/feature_table_greengenes_tissue.qza\n"
     ]
    },
    {
     "name": "stderr",
     "output_type": "stream",
     "text": [
      "/Users/jzaneveld/anaconda3/envs/qiime2-2020.8/lib/python3.6/site-packages/q2_feature_table/_summarize/_visualizer.py:122: FutureWarning: The signature of `Series.to_csv` was aligned to that of `DataFrame.to_csv`, and argument 'header' will change its default value from False to True: please pass an explicit value to suppress this warning.\n",
      "  os.path.join(output_dir, 'sample-frequency-detail.csv'))\n",
      "/Users/jzaneveld/anaconda3/envs/qiime2-2020.8/lib/python3.6/site-packages/q2_feature_table/_summarize/_visualizer.py:124: FutureWarning: The signature of `Series.to_csv` was aligned to that of `DataFrame.to_csv`, and argument 'header' will change its default value from False to True: please pass an explicit value to suppress this warning.\n",
      "  os.path.join(output_dir, 'feature-frequency-detail.csv'))\n"
     ]
    },
    {
     "name": "stdout",
     "output_type": "stream",
     "text": [
      "Saving summary file to:/Users/jzaneveld/Dropbox/Zaneveld_Lab_Organization/Projects/GCMP_Global_Disease/gcmp_global_disease/analysis/organelle_removal/output/effects_of_rarefaction_analysis/feature_table_greengenes_tissue.qzv\n",
      "Removing mitochondria from: skeleton <artifact: FeatureTable[Frequency] uuid: f7e6592c-affd-418c-aaf3-876a1294691e>\n",
      "Saving results to:/Users/jzaneveld/Dropbox/Zaneveld_Lab_Organization/Projects/GCMP_Global_Disease/gcmp_global_disease/analysis/organelle_removal/output/effects_of_rarefaction_analysis/feature_table_greengenes_skeleton.qza\n"
     ]
    },
    {
     "name": "stderr",
     "output_type": "stream",
     "text": [
      "/Users/jzaneveld/anaconda3/envs/qiime2-2020.8/lib/python3.6/site-packages/q2_feature_table/_summarize/_visualizer.py:122: FutureWarning: The signature of `Series.to_csv` was aligned to that of `DataFrame.to_csv`, and argument 'header' will change its default value from False to True: please pass an explicit value to suppress this warning.\n",
      "  os.path.join(output_dir, 'sample-frequency-detail.csv'))\n",
      "/Users/jzaneveld/anaconda3/envs/qiime2-2020.8/lib/python3.6/site-packages/q2_feature_table/_summarize/_visualizer.py:124: FutureWarning: The signature of `Series.to_csv` was aligned to that of `DataFrame.to_csv`, and argument 'header' will change its default value from False to True: please pass an explicit value to suppress this warning.\n",
      "  os.path.join(output_dir, 'feature-frequency-detail.csv'))\n"
     ]
    },
    {
     "name": "stdout",
     "output_type": "stream",
     "text": [
      "Saving summary file to:/Users/jzaneveld/Dropbox/Zaneveld_Lab_Organization/Projects/GCMP_Global_Disease/gcmp_global_disease/analysis/organelle_removal/output/effects_of_rarefaction_analysis/feature_table_greengenes_skeleton.qzv\n",
      "Done with processing greengenes taxonomy annotations!\n",
      "\n",
      "\n",
      "Analyzing data using the greengenes_metaxa2 taxonomy (../output/greengenes_metaxa2_reference_taxonomy.qza)\n",
      "Removing mitochondria from: all <artifact: FeatureTable[Frequency] uuid: ca2f992d-79c2-49bb-9145-3cdae1c09977>\n",
      "Saving results to:/Users/jzaneveld/Dropbox/Zaneveld_Lab_Organization/Projects/GCMP_Global_Disease/gcmp_global_disease/analysis/organelle_removal/output/effects_of_rarefaction_analysis/feature_table_greengenes_metaxa2_all.qza\n"
     ]
    },
    {
     "name": "stderr",
     "output_type": "stream",
     "text": [
      "/Users/jzaneveld/anaconda3/envs/qiime2-2020.8/lib/python3.6/site-packages/q2_feature_table/_summarize/_visualizer.py:122: FutureWarning: The signature of `Series.to_csv` was aligned to that of `DataFrame.to_csv`, and argument 'header' will change its default value from False to True: please pass an explicit value to suppress this warning.\n",
      "  os.path.join(output_dir, 'sample-frequency-detail.csv'))\n",
      "/Users/jzaneveld/anaconda3/envs/qiime2-2020.8/lib/python3.6/site-packages/q2_feature_table/_summarize/_visualizer.py:124: FutureWarning: The signature of `Series.to_csv` was aligned to that of `DataFrame.to_csv`, and argument 'header' will change its default value from False to True: please pass an explicit value to suppress this warning.\n",
      "  os.path.join(output_dir, 'feature-frequency-detail.csv'))\n"
     ]
    },
    {
     "name": "stdout",
     "output_type": "stream",
     "text": [
      "Saving summary file to:/Users/jzaneveld/Dropbox/Zaneveld_Lab_Organization/Projects/GCMP_Global_Disease/gcmp_global_disease/analysis/organelle_removal/output/effects_of_rarefaction_analysis/feature_table_greengenes_metaxa2_all.qzv\n",
      "Removing mitochondria from: mucus <artifact: FeatureTable[Frequency] uuid: 8045253c-8a06-4ba5-9188-36ae7ca39531>\n",
      "Saving results to:/Users/jzaneveld/Dropbox/Zaneveld_Lab_Organization/Projects/GCMP_Global_Disease/gcmp_global_disease/analysis/organelle_removal/output/effects_of_rarefaction_analysis/feature_table_greengenes_metaxa2_mucus.qza\n"
     ]
    },
    {
     "name": "stderr",
     "output_type": "stream",
     "text": [
      "/Users/jzaneveld/anaconda3/envs/qiime2-2020.8/lib/python3.6/site-packages/q2_feature_table/_summarize/_visualizer.py:122: FutureWarning: The signature of `Series.to_csv` was aligned to that of `DataFrame.to_csv`, and argument 'header' will change its default value from False to True: please pass an explicit value to suppress this warning.\n",
      "  os.path.join(output_dir, 'sample-frequency-detail.csv'))\n",
      "/Users/jzaneveld/anaconda3/envs/qiime2-2020.8/lib/python3.6/site-packages/q2_feature_table/_summarize/_visualizer.py:124: FutureWarning: The signature of `Series.to_csv` was aligned to that of `DataFrame.to_csv`, and argument 'header' will change its default value from False to True: please pass an explicit value to suppress this warning.\n",
      "  os.path.join(output_dir, 'feature-frequency-detail.csv'))\n"
     ]
    },
    {
     "name": "stdout",
     "output_type": "stream",
     "text": [
      "Saving summary file to:/Users/jzaneveld/Dropbox/Zaneveld_Lab_Organization/Projects/GCMP_Global_Disease/gcmp_global_disease/analysis/organelle_removal/output/effects_of_rarefaction_analysis/feature_table_greengenes_metaxa2_mucus.qzv\n",
      "Removing mitochondria from: tissue <artifact: FeatureTable[Frequency] uuid: 14e5fea4-6aee-4dec-9065-33a307fb3140>\n",
      "Saving results to:/Users/jzaneveld/Dropbox/Zaneveld_Lab_Organization/Projects/GCMP_Global_Disease/gcmp_global_disease/analysis/organelle_removal/output/effects_of_rarefaction_analysis/feature_table_greengenes_metaxa2_tissue.qza\n"
     ]
    },
    {
     "name": "stderr",
     "output_type": "stream",
     "text": [
      "/Users/jzaneveld/anaconda3/envs/qiime2-2020.8/lib/python3.6/site-packages/q2_feature_table/_summarize/_visualizer.py:122: FutureWarning: The signature of `Series.to_csv` was aligned to that of `DataFrame.to_csv`, and argument 'header' will change its default value from False to True: please pass an explicit value to suppress this warning.\n",
      "  os.path.join(output_dir, 'sample-frequency-detail.csv'))\n",
      "/Users/jzaneveld/anaconda3/envs/qiime2-2020.8/lib/python3.6/site-packages/q2_feature_table/_summarize/_visualizer.py:124: FutureWarning: The signature of `Series.to_csv` was aligned to that of `DataFrame.to_csv`, and argument 'header' will change its default value from False to True: please pass an explicit value to suppress this warning.\n",
      "  os.path.join(output_dir, 'feature-frequency-detail.csv'))\n"
     ]
    },
    {
     "name": "stdout",
     "output_type": "stream",
     "text": [
      "Saving summary file to:/Users/jzaneveld/Dropbox/Zaneveld_Lab_Organization/Projects/GCMP_Global_Disease/gcmp_global_disease/analysis/organelle_removal/output/effects_of_rarefaction_analysis/feature_table_greengenes_metaxa2_tissue.qzv\n",
      "Removing mitochondria from: skeleton <artifact: FeatureTable[Frequency] uuid: f7e6592c-affd-418c-aaf3-876a1294691e>\n",
      "Saving results to:/Users/jzaneveld/Dropbox/Zaneveld_Lab_Organization/Projects/GCMP_Global_Disease/gcmp_global_disease/analysis/organelle_removal/output/effects_of_rarefaction_analysis/feature_table_greengenes_metaxa2_skeleton.qza\n"
     ]
    },
    {
     "name": "stderr",
     "output_type": "stream",
     "text": [
      "/Users/jzaneveld/anaconda3/envs/qiime2-2020.8/lib/python3.6/site-packages/q2_feature_table/_summarize/_visualizer.py:122: FutureWarning: The signature of `Series.to_csv` was aligned to that of `DataFrame.to_csv`, and argument 'header' will change its default value from False to True: please pass an explicit value to suppress this warning.\n",
      "  os.path.join(output_dir, 'sample-frequency-detail.csv'))\n",
      "/Users/jzaneveld/anaconda3/envs/qiime2-2020.8/lib/python3.6/site-packages/q2_feature_table/_summarize/_visualizer.py:124: FutureWarning: The signature of `Series.to_csv` was aligned to that of `DataFrame.to_csv`, and argument 'header' will change its default value from False to True: please pass an explicit value to suppress this warning.\n",
      "  os.path.join(output_dir, 'feature-frequency-detail.csv'))\n"
     ]
    },
    {
     "name": "stdout",
     "output_type": "stream",
     "text": [
      "Saving summary file to:/Users/jzaneveld/Dropbox/Zaneveld_Lab_Organization/Projects/GCMP_Global_Disease/gcmp_global_disease/analysis/organelle_removal/output/effects_of_rarefaction_analysis/feature_table_greengenes_metaxa2_skeleton.qzv\n",
      "Done with processing greengenes_metaxa2 taxonomy annotations!\n",
      "\n",
      "\n"
     ]
    }
   ],
   "source": [
    "from qiime2.plugins.feature_table.methods import filter_features\n",
    "from collections import defaultdict\n",
    "\n",
    "filtered_feature_tables_by_taxonomy = defaultdict(dict)\n",
    "\n",
    "metadata = Metadata.load(mapping_file)\n",
    "seqs = Artifact.load(sequence_file)\n",
    "\n",
    "for label,taxonomy_file in taxonomy_files.items():\n",
    "    \n",
    "    print(f\"Analyzing data using the {label} taxonomy ({taxonomy_file})\")\n",
    "    taxonomy = Artifact.load(taxonomy_file)  \n",
    "    \n",
    "    mucus_features = Artifact.load(mucus_feature_table)\n",
    "    tissue_features = Artifact.load(tissue_feature_table)\n",
    "    skeleton_features = Artifact.load(skeleton_feature_table)\n",
    "    overall_features = Artifact.load(overall_feature_table)\n",
    "    feature_tables = {\"all\":overall_features,\"mucus\":mucus_features,\\\n",
    "                      \"tissue\": tissue_features,\"skeleton\":skeleton_features,}\n",
    "    \n",
    "    for compartment,table in feature_tables.items():\n",
    "        print(\"Removing mitochondria from:\", compartment,table)\n",
    "        #NOTE: the QIIME2 api does NOT return a single object (as I thought based on the  documentation, but a NamedTuple\n",
    "        #structure with each output in it)\n",
    "        filter_table_results = filter_table(table,taxonomy,exclude=\"mitochondria,chloroplast\",mode=\"contains\")\n",
    "        filtered_table = filter_table_results.filtered_table\n",
    "    \n",
    "        #Save the resulting feature table to disk\n",
    "        output_filename = f\"feature_table_{label}_{compartment}.qza\"\n",
    "        output_filepath = join(output_dir,output_filename)\n",
    "        print(f\"Saving results to:{output_filepath}\")\n",
    "        filtered_table.save(output_filepath)\n",
    "        \n",
    "        #Output a sample summary\n",
    "        summary_visualization = summarize(filtered_table,sample_metadata=metadata)\n",
    "        vis = summary_visualization.visualization\n",
    "        output_filename = f\"feature_table_{label}_{compartment}.qzv\"\n",
    "        output_filepath = join(output_dir,output_filename)\n",
    "        print(f\"Saving summary file to:{output_filepath}\")\n",
    "        vis.save(output_filepath)\n",
    "        \n",
    "        filtered_feature_tables_by_taxonomy[label][compartment]=filtered_table\n",
    "    \n",
    "    print(f\"Done with processing {label} taxonomy annotations!\\n\\n\")"
   ]
  },
  {
   "cell_type": "markdown",
   "metadata": {},
   "source": [
    "## Rarefy tables to even depth"
   ]
  },
  {
   "cell_type": "code",
   "execution_count": 13,
   "metadata": {},
   "outputs": [
    {
     "name": "stdout",
     "output_type": "stream",
     "text": [
      "Rarefying: all feature table <artifact: FeatureTable[Frequency] uuid: 2bb82c5f-0195-4da4-a532-879a73aad7e4> to 1000 sequences/sample\n",
      "Saving results to:/Users/jzaneveld/Dropbox/Zaneveld_Lab_Organization/Projects/GCMP_Global_Disease/gcmp_global_disease/analysis/organelle_removal/output/effects_of_rarefaction_analysis/feature_table_silva_metaxa2_all_1000.qza\n",
      "Rarefying: mucus feature table <artifact: FeatureTable[Frequency] uuid: f92e8cf5-d582-4bc0-85a4-ef6611b659ab> to 1000 sequences/sample\n",
      "Saving results to:/Users/jzaneveld/Dropbox/Zaneveld_Lab_Organization/Projects/GCMP_Global_Disease/gcmp_global_disease/analysis/organelle_removal/output/effects_of_rarefaction_analysis/feature_table_silva_metaxa2_mucus_1000.qza\n",
      "Rarefying: tissue feature table <artifact: FeatureTable[Frequency] uuid: 35a8b0a7-e99e-4f27-84a4-2a9d41978fa6> to 1000 sequences/sample\n",
      "Saving results to:/Users/jzaneveld/Dropbox/Zaneveld_Lab_Organization/Projects/GCMP_Global_Disease/gcmp_global_disease/analysis/organelle_removal/output/effects_of_rarefaction_analysis/feature_table_silva_metaxa2_tissue_1000.qza\n",
      "Rarefying: skeleton feature table <artifact: FeatureTable[Frequency] uuid: 9a9eeedb-0d52-4c4a-a0d8-a3fe03f409b9> to 1000 sequences/sample\n",
      "Saving results to:/Users/jzaneveld/Dropbox/Zaneveld_Lab_Organization/Projects/GCMP_Global_Disease/gcmp_global_disease/analysis/organelle_removal/output/effects_of_rarefaction_analysis/feature_table_silva_metaxa2_skeleton_1000.qza\n",
      "Rarefying: all feature table <artifact: FeatureTable[Frequency] uuid: 82acbe07-64e0-427a-849c-b52663f8a188> to 1000 sequences/sample\n",
      "Saving results to:/Users/jzaneveld/Dropbox/Zaneveld_Lab_Organization/Projects/GCMP_Global_Disease/gcmp_global_disease/analysis/organelle_removal/output/effects_of_rarefaction_analysis/feature_table_silva_all_1000.qza\n",
      "Rarefying: mucus feature table <artifact: FeatureTable[Frequency] uuid: 6e72be4c-ca1c-4c45-9cf0-72048a53da0a> to 1000 sequences/sample\n",
      "Saving results to:/Users/jzaneveld/Dropbox/Zaneveld_Lab_Organization/Projects/GCMP_Global_Disease/gcmp_global_disease/analysis/organelle_removal/output/effects_of_rarefaction_analysis/feature_table_silva_mucus_1000.qza\n",
      "Rarefying: tissue feature table <artifact: FeatureTable[Frequency] uuid: 9ce56fc2-24dc-4761-89fa-7c6b809c348e> to 1000 sequences/sample\n",
      "Saving results to:/Users/jzaneveld/Dropbox/Zaneveld_Lab_Organization/Projects/GCMP_Global_Disease/gcmp_global_disease/analysis/organelle_removal/output/effects_of_rarefaction_analysis/feature_table_silva_tissue_1000.qza\n",
      "Rarefying: skeleton feature table <artifact: FeatureTable[Frequency] uuid: 9de92c08-ff81-40d3-befe-f4852f36d695> to 1000 sequences/sample\n",
      "Saving results to:/Users/jzaneveld/Dropbox/Zaneveld_Lab_Organization/Projects/GCMP_Global_Disease/gcmp_global_disease/analysis/organelle_removal/output/effects_of_rarefaction_analysis/feature_table_silva_skeleton_1000.qza\n",
      "Rarefying: all feature table <artifact: FeatureTable[Frequency] uuid: e714be5b-380a-4bd7-a91a-dd337b9834d2> to 1000 sequences/sample\n",
      "Saving results to:/Users/jzaneveld/Dropbox/Zaneveld_Lab_Organization/Projects/GCMP_Global_Disease/gcmp_global_disease/analysis/organelle_removal/output/effects_of_rarefaction_analysis/feature_table_greengenes_all_1000.qza\n",
      "Rarefying: mucus feature table <artifact: FeatureTable[Frequency] uuid: 7f661934-f216-4189-ad8c-c8277345c764> to 1000 sequences/sample\n",
      "Saving results to:/Users/jzaneveld/Dropbox/Zaneveld_Lab_Organization/Projects/GCMP_Global_Disease/gcmp_global_disease/analysis/organelle_removal/output/effects_of_rarefaction_analysis/feature_table_greengenes_mucus_1000.qza\n",
      "Rarefying: tissue feature table <artifact: FeatureTable[Frequency] uuid: 314d48fe-d11b-46b5-8890-998d0805da41> to 1000 sequences/sample\n",
      "Saving results to:/Users/jzaneveld/Dropbox/Zaneveld_Lab_Organization/Projects/GCMP_Global_Disease/gcmp_global_disease/analysis/organelle_removal/output/effects_of_rarefaction_analysis/feature_table_greengenes_tissue_1000.qza\n",
      "Rarefying: skeleton feature table <artifact: FeatureTable[Frequency] uuid: e6a9b48f-8000-4207-92d4-0d0701cd9089> to 1000 sequences/sample\n",
      "Saving results to:/Users/jzaneveld/Dropbox/Zaneveld_Lab_Organization/Projects/GCMP_Global_Disease/gcmp_global_disease/analysis/organelle_removal/output/effects_of_rarefaction_analysis/feature_table_greengenes_skeleton_1000.qza\n",
      "Rarefying: all feature table <artifact: FeatureTable[Frequency] uuid: 2b09192d-db70-41e2-b73b-d54e2e90238a> to 1000 sequences/sample\n",
      "Saving results to:/Users/jzaneveld/Dropbox/Zaneveld_Lab_Organization/Projects/GCMP_Global_Disease/gcmp_global_disease/analysis/organelle_removal/output/effects_of_rarefaction_analysis/feature_table_greengenes_metaxa2_all_1000.qza\n",
      "Rarefying: mucus feature table <artifact: FeatureTable[Frequency] uuid: d9afce71-5614-416a-b2c8-93ac8b2815fd> to 1000 sequences/sample\n",
      "Saving results to:/Users/jzaneveld/Dropbox/Zaneveld_Lab_Organization/Projects/GCMP_Global_Disease/gcmp_global_disease/analysis/organelle_removal/output/effects_of_rarefaction_analysis/feature_table_greengenes_metaxa2_mucus_1000.qza\n",
      "Rarefying: tissue feature table <artifact: FeatureTable[Frequency] uuid: 0c017e28-3129-4a9f-a27f-0480feec17df> to 1000 sequences/sample\n",
      "Saving results to:/Users/jzaneveld/Dropbox/Zaneveld_Lab_Organization/Projects/GCMP_Global_Disease/gcmp_global_disease/analysis/organelle_removal/output/effects_of_rarefaction_analysis/feature_table_greengenes_metaxa2_tissue_1000.qza\n",
      "Rarefying: skeleton feature table <artifact: FeatureTable[Frequency] uuid: c312ab2e-63a8-4eb6-b7ca-8f2efcae9224> to 1000 sequences/sample\n",
      "Saving results to:/Users/jzaneveld/Dropbox/Zaneveld_Lab_Organization/Projects/GCMP_Global_Disease/gcmp_global_disease/analysis/organelle_removal/output/effects_of_rarefaction_analysis/feature_table_greengenes_metaxa2_skeleton_1000.qza\n"
     ]
    }
   ],
   "source": [
    "from collections import defaultdict\n",
    "rarefaction_depth = 1000\n",
    "\n",
    "rarefied_feature_tables_by_taxonomy = defaultdict(dict)\n",
    "\n",
    "for label,filtered_feature_tables in filtered_feature_tables_by_taxonomy.items():\n",
    "\n",
    "    for compartment,table in filtered_feature_tables.items():\n",
    "        print(f\"Rarefying: {compartment} feature table {table} to {rarefaction_depth} sequences/sample\")\n",
    "        rarefy_results = rarefy(table=table, sampling_depth=rarefaction_depth)\n",
    "        #Get the rarefied table out of the NamedTuple of results\n",
    "        rarefied_filtered_table = rarefy_results.rarefied_table\n",
    "\n",
    "        #Save the resulting feature table to disk\n",
    "        output_filename = f\"feature_table_{label}_{compartment}_{rarefaction_depth}.qza\"\n",
    "        output_filepath = join(output_dir,output_filename)\n",
    "        print(f\"Saving results to:{output_filepath}\")\n",
    "        rarefied_filtered_table.save(output_filepath)\n",
    "\n",
    "        #Store rarefied feature table in a dict so we don't have to reload\n",
    "        rarefied_feature_tables_by_taxonomy[label][compartment]=rarefied_filtered_table\n"
   ]
  },
  {
   "cell_type": "markdown",
   "metadata": {},
   "source": [
    "#### New step: harmonize sample sets between treatments\n",
    "\n",
    "Next we will filter the samples in the rarefied gg and silva files to match the samples in the gg+metaxa2 or silva+metaxa2 annotation datasets."
   ]
  },
  {
   "cell_type": "code",
   "execution_count": 14,
   "metadata": {},
   "outputs": [
    {
     "name": "stdout",
     "output_type": "stream",
     "text": [
      "Taxonomy scheme: silva_metaxa2\n",
      "Compartment: all\n",
      "This table has  1099 samples\n",
      "Compartment: mucus\n",
      "This table has  312 samples\n",
      "Compartment: tissue\n",
      "This table has  360 samples\n",
      "Compartment: skeleton\n",
      "This table has  364 samples\n",
      "Taxonomy scheme: silva\n",
      "Compartment: all\n",
      "This table has  1155 samples\n",
      "Compartment: mucus\n",
      "This table has  318 samples\n",
      "Compartment: tissue\n",
      "This table has  389 samples\n",
      "Compartment: skeleton\n",
      "This table has  382 samples\n",
      "Taxonomy scheme: greengenes\n",
      "Compartment: all\n",
      "This table has  1156 samples\n",
      "Compartment: mucus\n",
      "This table has  318 samples\n",
      "Compartment: tissue\n",
      "This table has  390 samples\n",
      "Compartment: skeleton\n",
      "This table has  382 samples\n",
      "Taxonomy scheme: greengenes_metaxa2\n",
      "Compartment: all\n",
      "This table has  1100 samples\n",
      "Compartment: mucus\n",
      "This table has  312 samples\n",
      "Compartment: tissue\n",
      "This table has  361 samples\n",
      "Compartment: skeleton\n",
      "This table has  364 samples\n"
     ]
    }
   ],
   "source": [
    "\n",
    "\n",
    "#Substeps\n",
    "\n",
    "#Check the list of feature tables\n",
    "\n",
    "\n",
    "# Build a two level dict to hold sample ids for every feature table by taxonomic\n",
    "#scheme then by compartment\n",
    "sample_ids_by_taxonomy = defaultdict(dict)\n",
    "\n",
    "#Iterate over all the feature tables from the last step\n",
    "#and collect their sample ids\n",
    "\n",
    "for taxonomy_name,data_dict in rarefied_feature_tables_by_taxonomy.items():\n",
    "    print(\"Taxonomy scheme:\",taxonomy_name)\n",
    "    for compartment,table in data_dict.items():\n",
    "        print(\"Compartment:\",compartment)\n",
    "        \n",
    "        # View as Pandas dataframe\n",
    "        df = table.view(pd.DataFrame)\n",
    "        # Extract ids from this dataframe\n",
    "        n_samples,n_features = df.shape\n",
    "        sample_ids = list(df.index)\n",
    "        print(\"This table has \",len(sample_ids),\"samples\")\n",
    "        sample_ids_by_taxonomy[taxonomy_name][compartment] = sample_ids\n",
    "        \n"
   ]
  },
  {
   "cell_type": "markdown",
   "metadata": {},
   "source": [
    "Now that we have a data structure holding the sample ids for every feature table, we need to specify that we will filter certain tables based on others. "
   ]
  },
  {
   "cell_type": "code",
   "execution_count": 15,
   "metadata": {},
   "outputs": [
    {
     "name": "stdout",
     "output_type": "stream",
     "text": [
      "Filtering silva to have same samples as silva_metaxa2\n",
      "Compartment: all\n",
      "Pre-filtering, this table has  1155 samples\n",
      "Post-filtering, this table has  1099 samples\n",
      "Compartment: mucus\n",
      "Pre-filtering, this table has  318 samples\n",
      "Post-filtering, this table has  312 samples\n",
      "Compartment: tissue\n",
      "Pre-filtering, this table has  389 samples\n",
      "Post-filtering, this table has  360 samples\n",
      "Compartment: skeleton\n",
      "Pre-filtering, this table has  382 samples\n",
      "Post-filtering, this table has  364 samples\n",
      "Filtering greengenes to have same samples as greengenes_metaxa2\n",
      "Compartment: all\n",
      "Pre-filtering, this table has  1156 samples\n",
      "Post-filtering, this table has  1100 samples\n",
      "Compartment: mucus\n",
      "Pre-filtering, this table has  318 samples\n",
      "Post-filtering, this table has  312 samples\n",
      "Compartment: tissue\n",
      "Pre-filtering, this table has  390 samples\n",
      "Post-filtering, this table has  361 samples\n",
      "Compartment: skeleton\n",
      "Pre-filtering, this table has  382 samples\n",
      "Post-filtering, this table has  364 samples\n"
     ]
    }
   ],
   "source": [
    "pairings = {\"silva\":\"silva_metaxa2\",\"greengenes\":\"greengenes_metaxa2\"}\n",
    "filtered_tables = defaultdict(dict)\n",
    "for target_tables,source_tables in pairings.items():\n",
    "    print(f\"Filtering {target_tables} to have same samples as {source_tables}\")\n",
    "    for compartment,table in rarefied_feature_tables_by_taxonomy[target_tables].items():\n",
    "        print(\"Compartment:\",compartment)\n",
    "        \n",
    "        \n",
    "         # Extract ids from this table\n",
    "        df = table.view(pd.DataFrame)\n",
    "        n_samples,n_features = df.shape\n",
    "        sample_ids = list(df.index)\n",
    "        \n",
    "        print(\"Pre-filtering, this table has \",len(sample_ids),\"samples\")\n",
    "        \n",
    "        #Convert the list of ids to QIIME2 metadata\n",
    "        #this requires going list --> DataFrame --> Metadata\n",
    "        id_list = sample_ids_by_taxonomy[source_tables][compartment]\n",
    "        id_df = pd.DataFrame (id_list,columns=['#SampleID'])\n",
    "        id_df = id_df.set_index('#SampleID')\n",
    "        id_md = Metadata(id_df)\n",
    "        \n",
    "        filter_results = filter_samples(table,metadata=id_md)\n",
    "        filtered_table = filter_results.filtered_table\n",
    "        \n",
    "        # View as Pandas dataframe\n",
    "        df = filtered_table.view(pd.DataFrame)\n",
    "        # Extract ids from this dataframe\n",
    "        n_samples,n_features = df.shape\n",
    "        sample_ids = list(df.index)\n",
    "        print(\"Post-filtering, this table has \",len(sample_ids),\"samples\")\n",
    "\n",
    "        #Update the feature_table dict with this new version\n",
    "        rarefied_feature_tables_by_taxonomy[target_tables][compartment] = filtered_table\n",
    "        \n",
    "#Run qiime feature-table filter-samples to filter these sample ids\n",
    "#out of the the standard gg feature table\n",
    "\n",
    "#Repeat for metaxa2"
   ]
  },
  {
   "cell_type": "markdown",
   "metadata": {},
   "source": [
    "#### Calculate alpha diversity for each combination of taxonomic scheme and anatomy "
   ]
  },
  {
   "cell_type": "code",
   "execution_count": 16,
   "metadata": {},
   "outputs": [
    {
     "name": "stdout",
     "output_type": "stream",
     "text": [
      "Calculating alpha diversity for all using observed_features\n",
      "Saving results to:/Users/jzaneveld/Dropbox/Zaneveld_Lab_Organization/Projects/GCMP_Global_Disease/gcmp_global_disease/analysis/organelle_removal/output/effects_of_rarefaction_analysis/adiv_silva_metaxa2_all_observed_features_1000_samples_harmonized.qza\n",
      "Saving significance results to:/Users/jzaneveld/Dropbox/Zaneveld_Lab_Organization/Projects/GCMP_Global_Disease/gcmp_global_disease/analysis/organelle_removal/output/effects_of_rarefaction_analysis/adiv_silva_metaxa2_all_observed_features_1000_group_sig_samples_harmonized.qzv\n",
      "Calculating alpha diversity for all using gini_index\n",
      "Saving results to:/Users/jzaneveld/Dropbox/Zaneveld_Lab_Organization/Projects/GCMP_Global_Disease/gcmp_global_disease/analysis/organelle_removal/output/effects_of_rarefaction_analysis/adiv_silva_metaxa2_all_gini_index_1000_samples_harmonized.qza\n",
      "Saving significance results to:/Users/jzaneveld/Dropbox/Zaneveld_Lab_Organization/Projects/GCMP_Global_Disease/gcmp_global_disease/analysis/organelle_removal/output/effects_of_rarefaction_analysis/adiv_silva_metaxa2_all_gini_index_1000_group_sig_samples_harmonized.qzv\n",
      "Calculating alpha diversity for all using dominance\n",
      "Saving results to:/Users/jzaneveld/Dropbox/Zaneveld_Lab_Organization/Projects/GCMP_Global_Disease/gcmp_global_disease/analysis/organelle_removal/output/effects_of_rarefaction_analysis/adiv_silva_metaxa2_all_dominance_1000_samples_harmonized.qza\n",
      "Saving significance results to:/Users/jzaneveld/Dropbox/Zaneveld_Lab_Organization/Projects/GCMP_Global_Disease/gcmp_global_disease/analysis/organelle_removal/output/effects_of_rarefaction_analysis/adiv_silva_metaxa2_all_dominance_1000_group_sig_samples_harmonized.qzv\n",
      "Calculating alpha diversity for all using simpson_e\n",
      "Saving results to:/Users/jzaneveld/Dropbox/Zaneveld_Lab_Organization/Projects/GCMP_Global_Disease/gcmp_global_disease/analysis/organelle_removal/output/effects_of_rarefaction_analysis/adiv_silva_metaxa2_all_simpson_e_1000_samples_harmonized.qza\n",
      "Saving significance results to:/Users/jzaneveld/Dropbox/Zaneveld_Lab_Organization/Projects/GCMP_Global_Disease/gcmp_global_disease/analysis/organelle_removal/output/effects_of_rarefaction_analysis/adiv_silva_metaxa2_all_simpson_e_1000_group_sig_samples_harmonized.qzv\n",
      "Calculating alpha diversity for mucus using observed_features\n",
      "Saving results to:/Users/jzaneveld/Dropbox/Zaneveld_Lab_Organization/Projects/GCMP_Global_Disease/gcmp_global_disease/analysis/organelle_removal/output/effects_of_rarefaction_analysis/adiv_silva_metaxa2_mucus_observed_features_1000_samples_harmonized.qza\n",
      "Saving significance results to:/Users/jzaneveld/Dropbox/Zaneveld_Lab_Organization/Projects/GCMP_Global_Disease/gcmp_global_disease/analysis/organelle_removal/output/effects_of_rarefaction_analysis/adiv_silva_metaxa2_mucus_observed_features_1000_group_sig_samples_harmonized.qzv\n",
      "Calculating alpha diversity for mucus using gini_index\n",
      "Saving results to:/Users/jzaneveld/Dropbox/Zaneveld_Lab_Organization/Projects/GCMP_Global_Disease/gcmp_global_disease/analysis/organelle_removal/output/effects_of_rarefaction_analysis/adiv_silva_metaxa2_mucus_gini_index_1000_samples_harmonized.qza\n",
      "Saving significance results to:/Users/jzaneveld/Dropbox/Zaneveld_Lab_Organization/Projects/GCMP_Global_Disease/gcmp_global_disease/analysis/organelle_removal/output/effects_of_rarefaction_analysis/adiv_silva_metaxa2_mucus_gini_index_1000_group_sig_samples_harmonized.qzv\n",
      "Calculating alpha diversity for mucus using dominance\n",
      "Saving results to:/Users/jzaneveld/Dropbox/Zaneveld_Lab_Organization/Projects/GCMP_Global_Disease/gcmp_global_disease/analysis/organelle_removal/output/effects_of_rarefaction_analysis/adiv_silva_metaxa2_mucus_dominance_1000_samples_harmonized.qza\n",
      "Saving significance results to:/Users/jzaneveld/Dropbox/Zaneveld_Lab_Organization/Projects/GCMP_Global_Disease/gcmp_global_disease/analysis/organelle_removal/output/effects_of_rarefaction_analysis/adiv_silva_metaxa2_mucus_dominance_1000_group_sig_samples_harmonized.qzv\n",
      "Calculating alpha diversity for mucus using simpson_e\n",
      "Saving results to:/Users/jzaneveld/Dropbox/Zaneveld_Lab_Organization/Projects/GCMP_Global_Disease/gcmp_global_disease/analysis/organelle_removal/output/effects_of_rarefaction_analysis/adiv_silva_metaxa2_mucus_simpson_e_1000_samples_harmonized.qza\n",
      "Saving significance results to:/Users/jzaneveld/Dropbox/Zaneveld_Lab_Organization/Projects/GCMP_Global_Disease/gcmp_global_disease/analysis/organelle_removal/output/effects_of_rarefaction_analysis/adiv_silva_metaxa2_mucus_simpson_e_1000_group_sig_samples_harmonized.qzv\n",
      "Calculating alpha diversity for tissue using observed_features\n",
      "Saving results to:/Users/jzaneveld/Dropbox/Zaneveld_Lab_Organization/Projects/GCMP_Global_Disease/gcmp_global_disease/analysis/organelle_removal/output/effects_of_rarefaction_analysis/adiv_silva_metaxa2_tissue_observed_features_1000_samples_harmonized.qza\n",
      "Saving significance results to:/Users/jzaneveld/Dropbox/Zaneveld_Lab_Organization/Projects/GCMP_Global_Disease/gcmp_global_disease/analysis/organelle_removal/output/effects_of_rarefaction_analysis/adiv_silva_metaxa2_tissue_observed_features_1000_group_sig_samples_harmonized.qzv\n",
      "Calculating alpha diversity for tissue using gini_index\n",
      "Saving results to:/Users/jzaneveld/Dropbox/Zaneveld_Lab_Organization/Projects/GCMP_Global_Disease/gcmp_global_disease/analysis/organelle_removal/output/effects_of_rarefaction_analysis/adiv_silva_metaxa2_tissue_gini_index_1000_samples_harmonized.qza\n",
      "Saving significance results to:/Users/jzaneveld/Dropbox/Zaneveld_Lab_Organization/Projects/GCMP_Global_Disease/gcmp_global_disease/analysis/organelle_removal/output/effects_of_rarefaction_analysis/adiv_silva_metaxa2_tissue_gini_index_1000_group_sig_samples_harmonized.qzv\n",
      "Calculating alpha diversity for tissue using dominance\n",
      "Saving results to:/Users/jzaneveld/Dropbox/Zaneveld_Lab_Organization/Projects/GCMP_Global_Disease/gcmp_global_disease/analysis/organelle_removal/output/effects_of_rarefaction_analysis/adiv_silva_metaxa2_tissue_dominance_1000_samples_harmonized.qza\n",
      "Saving significance results to:/Users/jzaneveld/Dropbox/Zaneveld_Lab_Organization/Projects/GCMP_Global_Disease/gcmp_global_disease/analysis/organelle_removal/output/effects_of_rarefaction_analysis/adiv_silva_metaxa2_tissue_dominance_1000_group_sig_samples_harmonized.qzv\n",
      "Calculating alpha diversity for tissue using simpson_e\n",
      "Saving results to:/Users/jzaneveld/Dropbox/Zaneveld_Lab_Organization/Projects/GCMP_Global_Disease/gcmp_global_disease/analysis/organelle_removal/output/effects_of_rarefaction_analysis/adiv_silva_metaxa2_tissue_simpson_e_1000_samples_harmonized.qza\n",
      "Saving significance results to:/Users/jzaneveld/Dropbox/Zaneveld_Lab_Organization/Projects/GCMP_Global_Disease/gcmp_global_disease/analysis/organelle_removal/output/effects_of_rarefaction_analysis/adiv_silva_metaxa2_tissue_simpson_e_1000_group_sig_samples_harmonized.qzv\n",
      "Calculating alpha diversity for skeleton using observed_features\n",
      "Saving results to:/Users/jzaneveld/Dropbox/Zaneveld_Lab_Organization/Projects/GCMP_Global_Disease/gcmp_global_disease/analysis/organelle_removal/output/effects_of_rarefaction_analysis/adiv_silva_metaxa2_skeleton_observed_features_1000_samples_harmonized.qza\n",
      "Saving significance results to:/Users/jzaneveld/Dropbox/Zaneveld_Lab_Organization/Projects/GCMP_Global_Disease/gcmp_global_disease/analysis/organelle_removal/output/effects_of_rarefaction_analysis/adiv_silva_metaxa2_skeleton_observed_features_1000_group_sig_samples_harmonized.qzv\n",
      "Calculating alpha diversity for skeleton using gini_index\n",
      "Saving results to:/Users/jzaneveld/Dropbox/Zaneveld_Lab_Organization/Projects/GCMP_Global_Disease/gcmp_global_disease/analysis/organelle_removal/output/effects_of_rarefaction_analysis/adiv_silva_metaxa2_skeleton_gini_index_1000_samples_harmonized.qza\n",
      "Saving significance results to:/Users/jzaneveld/Dropbox/Zaneveld_Lab_Organization/Projects/GCMP_Global_Disease/gcmp_global_disease/analysis/organelle_removal/output/effects_of_rarefaction_analysis/adiv_silva_metaxa2_skeleton_gini_index_1000_group_sig_samples_harmonized.qzv\n",
      "Calculating alpha diversity for skeleton using dominance\n",
      "Saving results to:/Users/jzaneveld/Dropbox/Zaneveld_Lab_Organization/Projects/GCMP_Global_Disease/gcmp_global_disease/analysis/organelle_removal/output/effects_of_rarefaction_analysis/adiv_silva_metaxa2_skeleton_dominance_1000_samples_harmonized.qza\n"
     ]
    },
    {
     "name": "stdout",
     "output_type": "stream",
     "text": [
      "Saving significance results to:/Users/jzaneveld/Dropbox/Zaneveld_Lab_Organization/Projects/GCMP_Global_Disease/gcmp_global_disease/analysis/organelle_removal/output/effects_of_rarefaction_analysis/adiv_silva_metaxa2_skeleton_dominance_1000_group_sig_samples_harmonized.qzv\n",
      "Calculating alpha diversity for skeleton using simpson_e\n",
      "Saving results to:/Users/jzaneveld/Dropbox/Zaneveld_Lab_Organization/Projects/GCMP_Global_Disease/gcmp_global_disease/analysis/organelle_removal/output/effects_of_rarefaction_analysis/adiv_silva_metaxa2_skeleton_simpson_e_1000_samples_harmonized.qza\n",
      "Saving significance results to:/Users/jzaneveld/Dropbox/Zaneveld_Lab_Organization/Projects/GCMP_Global_Disease/gcmp_global_disease/analysis/organelle_removal/output/effects_of_rarefaction_analysis/adiv_silva_metaxa2_skeleton_simpson_e_1000_group_sig_samples_harmonized.qzv\n",
      "Calculating alpha diversity for all using observed_features\n",
      "Saving results to:/Users/jzaneveld/Dropbox/Zaneveld_Lab_Organization/Projects/GCMP_Global_Disease/gcmp_global_disease/analysis/organelle_removal/output/effects_of_rarefaction_analysis/adiv_silva_all_observed_features_1000_samples_harmonized.qza\n",
      "Saving significance results to:/Users/jzaneveld/Dropbox/Zaneveld_Lab_Organization/Projects/GCMP_Global_Disease/gcmp_global_disease/analysis/organelle_removal/output/effects_of_rarefaction_analysis/adiv_silva_all_observed_features_1000_group_sig_samples_harmonized.qzv\n",
      "Calculating alpha diversity for all using gini_index\n",
      "Saving results to:/Users/jzaneveld/Dropbox/Zaneveld_Lab_Organization/Projects/GCMP_Global_Disease/gcmp_global_disease/analysis/organelle_removal/output/effects_of_rarefaction_analysis/adiv_silva_all_gini_index_1000_samples_harmonized.qza\n",
      "Saving significance results to:/Users/jzaneveld/Dropbox/Zaneveld_Lab_Organization/Projects/GCMP_Global_Disease/gcmp_global_disease/analysis/organelle_removal/output/effects_of_rarefaction_analysis/adiv_silva_all_gini_index_1000_group_sig_samples_harmonized.qzv\n",
      "Calculating alpha diversity for all using dominance\n",
      "Saving results to:/Users/jzaneveld/Dropbox/Zaneveld_Lab_Organization/Projects/GCMP_Global_Disease/gcmp_global_disease/analysis/organelle_removal/output/effects_of_rarefaction_analysis/adiv_silva_all_dominance_1000_samples_harmonized.qza\n",
      "Saving significance results to:/Users/jzaneveld/Dropbox/Zaneveld_Lab_Organization/Projects/GCMP_Global_Disease/gcmp_global_disease/analysis/organelle_removal/output/effects_of_rarefaction_analysis/adiv_silva_all_dominance_1000_group_sig_samples_harmonized.qzv\n",
      "Calculating alpha diversity for all using simpson_e\n",
      "Saving results to:/Users/jzaneveld/Dropbox/Zaneveld_Lab_Organization/Projects/GCMP_Global_Disease/gcmp_global_disease/analysis/organelle_removal/output/effects_of_rarefaction_analysis/adiv_silva_all_simpson_e_1000_samples_harmonized.qza\n",
      "Saving significance results to:/Users/jzaneveld/Dropbox/Zaneveld_Lab_Organization/Projects/GCMP_Global_Disease/gcmp_global_disease/analysis/organelle_removal/output/effects_of_rarefaction_analysis/adiv_silva_all_simpson_e_1000_group_sig_samples_harmonized.qzv\n",
      "Calculating alpha diversity for mucus using observed_features\n",
      "Saving results to:/Users/jzaneveld/Dropbox/Zaneveld_Lab_Organization/Projects/GCMP_Global_Disease/gcmp_global_disease/analysis/organelle_removal/output/effects_of_rarefaction_analysis/adiv_silva_mucus_observed_features_1000_samples_harmonized.qza\n",
      "Saving significance results to:/Users/jzaneveld/Dropbox/Zaneveld_Lab_Organization/Projects/GCMP_Global_Disease/gcmp_global_disease/analysis/organelle_removal/output/effects_of_rarefaction_analysis/adiv_silva_mucus_observed_features_1000_group_sig_samples_harmonized.qzv\n",
      "Calculating alpha diversity for mucus using gini_index\n",
      "Saving results to:/Users/jzaneveld/Dropbox/Zaneveld_Lab_Organization/Projects/GCMP_Global_Disease/gcmp_global_disease/analysis/organelle_removal/output/effects_of_rarefaction_analysis/adiv_silva_mucus_gini_index_1000_samples_harmonized.qza\n",
      "Saving significance results to:/Users/jzaneveld/Dropbox/Zaneveld_Lab_Organization/Projects/GCMP_Global_Disease/gcmp_global_disease/analysis/organelle_removal/output/effects_of_rarefaction_analysis/adiv_silva_mucus_gini_index_1000_group_sig_samples_harmonized.qzv\n",
      "Calculating alpha diversity for mucus using dominance\n",
      "Saving results to:/Users/jzaneveld/Dropbox/Zaneveld_Lab_Organization/Projects/GCMP_Global_Disease/gcmp_global_disease/analysis/organelle_removal/output/effects_of_rarefaction_analysis/adiv_silva_mucus_dominance_1000_samples_harmonized.qza\n",
      "Saving significance results to:/Users/jzaneveld/Dropbox/Zaneveld_Lab_Organization/Projects/GCMP_Global_Disease/gcmp_global_disease/analysis/organelle_removal/output/effects_of_rarefaction_analysis/adiv_silva_mucus_dominance_1000_group_sig_samples_harmonized.qzv\n",
      "Calculating alpha diversity for mucus using simpson_e\n",
      "Saving results to:/Users/jzaneveld/Dropbox/Zaneveld_Lab_Organization/Projects/GCMP_Global_Disease/gcmp_global_disease/analysis/organelle_removal/output/effects_of_rarefaction_analysis/adiv_silva_mucus_simpson_e_1000_samples_harmonized.qza\n",
      "Saving significance results to:/Users/jzaneveld/Dropbox/Zaneveld_Lab_Organization/Projects/GCMP_Global_Disease/gcmp_global_disease/analysis/organelle_removal/output/effects_of_rarefaction_analysis/adiv_silva_mucus_simpson_e_1000_group_sig_samples_harmonized.qzv\n",
      "Calculating alpha diversity for tissue using observed_features\n",
      "Saving results to:/Users/jzaneveld/Dropbox/Zaneveld_Lab_Organization/Projects/GCMP_Global_Disease/gcmp_global_disease/analysis/organelle_removal/output/effects_of_rarefaction_analysis/adiv_silva_tissue_observed_features_1000_samples_harmonized.qza\n",
      "Saving significance results to:/Users/jzaneveld/Dropbox/Zaneveld_Lab_Organization/Projects/GCMP_Global_Disease/gcmp_global_disease/analysis/organelle_removal/output/effects_of_rarefaction_analysis/adiv_silva_tissue_observed_features_1000_group_sig_samples_harmonized.qzv\n",
      "Calculating alpha diversity for tissue using gini_index\n",
      "Saving results to:/Users/jzaneveld/Dropbox/Zaneveld_Lab_Organization/Projects/GCMP_Global_Disease/gcmp_global_disease/analysis/organelle_removal/output/effects_of_rarefaction_analysis/adiv_silva_tissue_gini_index_1000_samples_harmonized.qza\n",
      "Saving significance results to:/Users/jzaneveld/Dropbox/Zaneveld_Lab_Organization/Projects/GCMP_Global_Disease/gcmp_global_disease/analysis/organelle_removal/output/effects_of_rarefaction_analysis/adiv_silva_tissue_gini_index_1000_group_sig_samples_harmonized.qzv\n",
      "Calculating alpha diversity for tissue using dominance\n",
      "Saving results to:/Users/jzaneveld/Dropbox/Zaneveld_Lab_Organization/Projects/GCMP_Global_Disease/gcmp_global_disease/analysis/organelle_removal/output/effects_of_rarefaction_analysis/adiv_silva_tissue_dominance_1000_samples_harmonized.qza\n",
      "Saving significance results to:/Users/jzaneveld/Dropbox/Zaneveld_Lab_Organization/Projects/GCMP_Global_Disease/gcmp_global_disease/analysis/organelle_removal/output/effects_of_rarefaction_analysis/adiv_silva_tissue_dominance_1000_group_sig_samples_harmonized.qzv\n",
      "Calculating alpha diversity for tissue using simpson_e\n",
      "Saving results to:/Users/jzaneveld/Dropbox/Zaneveld_Lab_Organization/Projects/GCMP_Global_Disease/gcmp_global_disease/analysis/organelle_removal/output/effects_of_rarefaction_analysis/adiv_silva_tissue_simpson_e_1000_samples_harmonized.qza\n",
      "Saving significance results to:/Users/jzaneveld/Dropbox/Zaneveld_Lab_Organization/Projects/GCMP_Global_Disease/gcmp_global_disease/analysis/organelle_removal/output/effects_of_rarefaction_analysis/adiv_silva_tissue_simpson_e_1000_group_sig_samples_harmonized.qzv\n",
      "Calculating alpha diversity for skeleton using observed_features\n",
      "Saving results to:/Users/jzaneveld/Dropbox/Zaneveld_Lab_Organization/Projects/GCMP_Global_Disease/gcmp_global_disease/analysis/organelle_removal/output/effects_of_rarefaction_analysis/adiv_silva_skeleton_observed_features_1000_samples_harmonized.qza\n",
      "Saving significance results to:/Users/jzaneveld/Dropbox/Zaneveld_Lab_Organization/Projects/GCMP_Global_Disease/gcmp_global_disease/analysis/organelle_removal/output/effects_of_rarefaction_analysis/adiv_silva_skeleton_observed_features_1000_group_sig_samples_harmonized.qzv\n",
      "Calculating alpha diversity for skeleton using gini_index\n"
     ]
    },
    {
     "name": "stdout",
     "output_type": "stream",
     "text": [
      "Saving results to:/Users/jzaneveld/Dropbox/Zaneveld_Lab_Organization/Projects/GCMP_Global_Disease/gcmp_global_disease/analysis/organelle_removal/output/effects_of_rarefaction_analysis/adiv_silva_skeleton_gini_index_1000_samples_harmonized.qza\n",
      "Saving significance results to:/Users/jzaneveld/Dropbox/Zaneveld_Lab_Organization/Projects/GCMP_Global_Disease/gcmp_global_disease/analysis/organelle_removal/output/effects_of_rarefaction_analysis/adiv_silva_skeleton_gini_index_1000_group_sig_samples_harmonized.qzv\n",
      "Calculating alpha diversity for skeleton using dominance\n",
      "Saving results to:/Users/jzaneveld/Dropbox/Zaneveld_Lab_Organization/Projects/GCMP_Global_Disease/gcmp_global_disease/analysis/organelle_removal/output/effects_of_rarefaction_analysis/adiv_silva_skeleton_dominance_1000_samples_harmonized.qza\n",
      "Saving significance results to:/Users/jzaneveld/Dropbox/Zaneveld_Lab_Organization/Projects/GCMP_Global_Disease/gcmp_global_disease/analysis/organelle_removal/output/effects_of_rarefaction_analysis/adiv_silva_skeleton_dominance_1000_group_sig_samples_harmonized.qzv\n",
      "Calculating alpha diversity for skeleton using simpson_e\n",
      "Saving results to:/Users/jzaneveld/Dropbox/Zaneveld_Lab_Organization/Projects/GCMP_Global_Disease/gcmp_global_disease/analysis/organelle_removal/output/effects_of_rarefaction_analysis/adiv_silva_skeleton_simpson_e_1000_samples_harmonized.qza\n",
      "Saving significance results to:/Users/jzaneveld/Dropbox/Zaneveld_Lab_Organization/Projects/GCMP_Global_Disease/gcmp_global_disease/analysis/organelle_removal/output/effects_of_rarefaction_analysis/adiv_silva_skeleton_simpson_e_1000_group_sig_samples_harmonized.qzv\n",
      "Calculating alpha diversity for all using observed_features\n",
      "Saving results to:/Users/jzaneveld/Dropbox/Zaneveld_Lab_Organization/Projects/GCMP_Global_Disease/gcmp_global_disease/analysis/organelle_removal/output/effects_of_rarefaction_analysis/adiv_greengenes_all_observed_features_1000_samples_harmonized.qza\n",
      "Saving significance results to:/Users/jzaneveld/Dropbox/Zaneveld_Lab_Organization/Projects/GCMP_Global_Disease/gcmp_global_disease/analysis/organelle_removal/output/effects_of_rarefaction_analysis/adiv_greengenes_all_observed_features_1000_group_sig_samples_harmonized.qzv\n",
      "Calculating alpha diversity for all using gini_index\n",
      "Saving results to:/Users/jzaneveld/Dropbox/Zaneveld_Lab_Organization/Projects/GCMP_Global_Disease/gcmp_global_disease/analysis/organelle_removal/output/effects_of_rarefaction_analysis/adiv_greengenes_all_gini_index_1000_samples_harmonized.qza\n",
      "Saving significance results to:/Users/jzaneveld/Dropbox/Zaneveld_Lab_Organization/Projects/GCMP_Global_Disease/gcmp_global_disease/analysis/organelle_removal/output/effects_of_rarefaction_analysis/adiv_greengenes_all_gini_index_1000_group_sig_samples_harmonized.qzv\n",
      "Calculating alpha diversity for all using dominance\n",
      "Saving results to:/Users/jzaneveld/Dropbox/Zaneveld_Lab_Organization/Projects/GCMP_Global_Disease/gcmp_global_disease/analysis/organelle_removal/output/effects_of_rarefaction_analysis/adiv_greengenes_all_dominance_1000_samples_harmonized.qza\n",
      "Saving significance results to:/Users/jzaneveld/Dropbox/Zaneveld_Lab_Organization/Projects/GCMP_Global_Disease/gcmp_global_disease/analysis/organelle_removal/output/effects_of_rarefaction_analysis/adiv_greengenes_all_dominance_1000_group_sig_samples_harmonized.qzv\n",
      "Calculating alpha diversity for all using simpson_e\n",
      "Saving results to:/Users/jzaneveld/Dropbox/Zaneveld_Lab_Organization/Projects/GCMP_Global_Disease/gcmp_global_disease/analysis/organelle_removal/output/effects_of_rarefaction_analysis/adiv_greengenes_all_simpson_e_1000_samples_harmonized.qza\n",
      "Saving significance results to:/Users/jzaneveld/Dropbox/Zaneveld_Lab_Organization/Projects/GCMP_Global_Disease/gcmp_global_disease/analysis/organelle_removal/output/effects_of_rarefaction_analysis/adiv_greengenes_all_simpson_e_1000_group_sig_samples_harmonized.qzv\n",
      "Calculating alpha diversity for mucus using observed_features\n",
      "Saving results to:/Users/jzaneveld/Dropbox/Zaneveld_Lab_Organization/Projects/GCMP_Global_Disease/gcmp_global_disease/analysis/organelle_removal/output/effects_of_rarefaction_analysis/adiv_greengenes_mucus_observed_features_1000_samples_harmonized.qza\n",
      "Saving significance results to:/Users/jzaneveld/Dropbox/Zaneveld_Lab_Organization/Projects/GCMP_Global_Disease/gcmp_global_disease/analysis/organelle_removal/output/effects_of_rarefaction_analysis/adiv_greengenes_mucus_observed_features_1000_group_sig_samples_harmonized.qzv\n",
      "Calculating alpha diversity for mucus using gini_index\n",
      "Saving results to:/Users/jzaneveld/Dropbox/Zaneveld_Lab_Organization/Projects/GCMP_Global_Disease/gcmp_global_disease/analysis/organelle_removal/output/effects_of_rarefaction_analysis/adiv_greengenes_mucus_gini_index_1000_samples_harmonized.qza\n",
      "Saving significance results to:/Users/jzaneveld/Dropbox/Zaneveld_Lab_Organization/Projects/GCMP_Global_Disease/gcmp_global_disease/analysis/organelle_removal/output/effects_of_rarefaction_analysis/adiv_greengenes_mucus_gini_index_1000_group_sig_samples_harmonized.qzv\n",
      "Calculating alpha diversity for mucus using dominance\n",
      "Saving results to:/Users/jzaneveld/Dropbox/Zaneveld_Lab_Organization/Projects/GCMP_Global_Disease/gcmp_global_disease/analysis/organelle_removal/output/effects_of_rarefaction_analysis/adiv_greengenes_mucus_dominance_1000_samples_harmonized.qza\n",
      "Saving significance results to:/Users/jzaneveld/Dropbox/Zaneveld_Lab_Organization/Projects/GCMP_Global_Disease/gcmp_global_disease/analysis/organelle_removal/output/effects_of_rarefaction_analysis/adiv_greengenes_mucus_dominance_1000_group_sig_samples_harmonized.qzv\n",
      "Calculating alpha diversity for mucus using simpson_e\n",
      "Saving results to:/Users/jzaneveld/Dropbox/Zaneveld_Lab_Organization/Projects/GCMP_Global_Disease/gcmp_global_disease/analysis/organelle_removal/output/effects_of_rarefaction_analysis/adiv_greengenes_mucus_simpson_e_1000_samples_harmonized.qza\n",
      "Saving significance results to:/Users/jzaneveld/Dropbox/Zaneveld_Lab_Organization/Projects/GCMP_Global_Disease/gcmp_global_disease/analysis/organelle_removal/output/effects_of_rarefaction_analysis/adiv_greengenes_mucus_simpson_e_1000_group_sig_samples_harmonized.qzv\n",
      "Calculating alpha diversity for tissue using observed_features\n",
      "Saving results to:/Users/jzaneveld/Dropbox/Zaneveld_Lab_Organization/Projects/GCMP_Global_Disease/gcmp_global_disease/analysis/organelle_removal/output/effects_of_rarefaction_analysis/adiv_greengenes_tissue_observed_features_1000_samples_harmonized.qza\n",
      "Saving significance results to:/Users/jzaneveld/Dropbox/Zaneveld_Lab_Organization/Projects/GCMP_Global_Disease/gcmp_global_disease/analysis/organelle_removal/output/effects_of_rarefaction_analysis/adiv_greengenes_tissue_observed_features_1000_group_sig_samples_harmonized.qzv\n",
      "Calculating alpha diversity for tissue using gini_index\n",
      "Saving results to:/Users/jzaneveld/Dropbox/Zaneveld_Lab_Organization/Projects/GCMP_Global_Disease/gcmp_global_disease/analysis/organelle_removal/output/effects_of_rarefaction_analysis/adiv_greengenes_tissue_gini_index_1000_samples_harmonized.qza\n",
      "Saving significance results to:/Users/jzaneveld/Dropbox/Zaneveld_Lab_Organization/Projects/GCMP_Global_Disease/gcmp_global_disease/analysis/organelle_removal/output/effects_of_rarefaction_analysis/adiv_greengenes_tissue_gini_index_1000_group_sig_samples_harmonized.qzv\n",
      "Calculating alpha diversity for tissue using dominance\n",
      "Saving results to:/Users/jzaneveld/Dropbox/Zaneveld_Lab_Organization/Projects/GCMP_Global_Disease/gcmp_global_disease/analysis/organelle_removal/output/effects_of_rarefaction_analysis/adiv_greengenes_tissue_dominance_1000_samples_harmonized.qza\n",
      "Saving significance results to:/Users/jzaneveld/Dropbox/Zaneveld_Lab_Organization/Projects/GCMP_Global_Disease/gcmp_global_disease/analysis/organelle_removal/output/effects_of_rarefaction_analysis/adiv_greengenes_tissue_dominance_1000_group_sig_samples_harmonized.qzv\n",
      "Calculating alpha diversity for tissue using simpson_e\n",
      "Saving results to:/Users/jzaneveld/Dropbox/Zaneveld_Lab_Organization/Projects/GCMP_Global_Disease/gcmp_global_disease/analysis/organelle_removal/output/effects_of_rarefaction_analysis/adiv_greengenes_tissue_simpson_e_1000_samples_harmonized.qza\n"
     ]
    },
    {
     "name": "stdout",
     "output_type": "stream",
     "text": [
      "Saving significance results to:/Users/jzaneveld/Dropbox/Zaneveld_Lab_Organization/Projects/GCMP_Global_Disease/gcmp_global_disease/analysis/organelle_removal/output/effects_of_rarefaction_analysis/adiv_greengenes_tissue_simpson_e_1000_group_sig_samples_harmonized.qzv\n",
      "Calculating alpha diversity for skeleton using observed_features\n",
      "Saving results to:/Users/jzaneveld/Dropbox/Zaneveld_Lab_Organization/Projects/GCMP_Global_Disease/gcmp_global_disease/analysis/organelle_removal/output/effects_of_rarefaction_analysis/adiv_greengenes_skeleton_observed_features_1000_samples_harmonized.qza\n",
      "Saving significance results to:/Users/jzaneveld/Dropbox/Zaneveld_Lab_Organization/Projects/GCMP_Global_Disease/gcmp_global_disease/analysis/organelle_removal/output/effects_of_rarefaction_analysis/adiv_greengenes_skeleton_observed_features_1000_group_sig_samples_harmonized.qzv\n",
      "Calculating alpha diversity for skeleton using gini_index\n",
      "Saving results to:/Users/jzaneveld/Dropbox/Zaneveld_Lab_Organization/Projects/GCMP_Global_Disease/gcmp_global_disease/analysis/organelle_removal/output/effects_of_rarefaction_analysis/adiv_greengenes_skeleton_gini_index_1000_samples_harmonized.qza\n",
      "Saving significance results to:/Users/jzaneveld/Dropbox/Zaneveld_Lab_Organization/Projects/GCMP_Global_Disease/gcmp_global_disease/analysis/organelle_removal/output/effects_of_rarefaction_analysis/adiv_greengenes_skeleton_gini_index_1000_group_sig_samples_harmonized.qzv\n",
      "Calculating alpha diversity for skeleton using dominance\n",
      "Saving results to:/Users/jzaneveld/Dropbox/Zaneveld_Lab_Organization/Projects/GCMP_Global_Disease/gcmp_global_disease/analysis/organelle_removal/output/effects_of_rarefaction_analysis/adiv_greengenes_skeleton_dominance_1000_samples_harmonized.qza\n",
      "Saving significance results to:/Users/jzaneveld/Dropbox/Zaneveld_Lab_Organization/Projects/GCMP_Global_Disease/gcmp_global_disease/analysis/organelle_removal/output/effects_of_rarefaction_analysis/adiv_greengenes_skeleton_dominance_1000_group_sig_samples_harmonized.qzv\n",
      "Calculating alpha diversity for skeleton using simpson_e\n",
      "Saving results to:/Users/jzaneveld/Dropbox/Zaneveld_Lab_Organization/Projects/GCMP_Global_Disease/gcmp_global_disease/analysis/organelle_removal/output/effects_of_rarefaction_analysis/adiv_greengenes_skeleton_simpson_e_1000_samples_harmonized.qza\n",
      "Saving significance results to:/Users/jzaneveld/Dropbox/Zaneveld_Lab_Organization/Projects/GCMP_Global_Disease/gcmp_global_disease/analysis/organelle_removal/output/effects_of_rarefaction_analysis/adiv_greengenes_skeleton_simpson_e_1000_group_sig_samples_harmonized.qzv\n",
      "Calculating alpha diversity for all using observed_features\n",
      "Saving results to:/Users/jzaneveld/Dropbox/Zaneveld_Lab_Organization/Projects/GCMP_Global_Disease/gcmp_global_disease/analysis/organelle_removal/output/effects_of_rarefaction_analysis/adiv_greengenes_metaxa2_all_observed_features_1000_samples_harmonized.qza\n",
      "Saving significance results to:/Users/jzaneveld/Dropbox/Zaneveld_Lab_Organization/Projects/GCMP_Global_Disease/gcmp_global_disease/analysis/organelle_removal/output/effects_of_rarefaction_analysis/adiv_greengenes_metaxa2_all_observed_features_1000_group_sig_samples_harmonized.qzv\n",
      "Calculating alpha diversity for all using gini_index\n",
      "Saving results to:/Users/jzaneveld/Dropbox/Zaneveld_Lab_Organization/Projects/GCMP_Global_Disease/gcmp_global_disease/analysis/organelle_removal/output/effects_of_rarefaction_analysis/adiv_greengenes_metaxa2_all_gini_index_1000_samples_harmonized.qza\n",
      "Saving significance results to:/Users/jzaneveld/Dropbox/Zaneveld_Lab_Organization/Projects/GCMP_Global_Disease/gcmp_global_disease/analysis/organelle_removal/output/effects_of_rarefaction_analysis/adiv_greengenes_metaxa2_all_gini_index_1000_group_sig_samples_harmonized.qzv\n",
      "Calculating alpha diversity for all using dominance\n",
      "Saving results to:/Users/jzaneveld/Dropbox/Zaneveld_Lab_Organization/Projects/GCMP_Global_Disease/gcmp_global_disease/analysis/organelle_removal/output/effects_of_rarefaction_analysis/adiv_greengenes_metaxa2_all_dominance_1000_samples_harmonized.qza\n",
      "Saving significance results to:/Users/jzaneveld/Dropbox/Zaneveld_Lab_Organization/Projects/GCMP_Global_Disease/gcmp_global_disease/analysis/organelle_removal/output/effects_of_rarefaction_analysis/adiv_greengenes_metaxa2_all_dominance_1000_group_sig_samples_harmonized.qzv\n",
      "Calculating alpha diversity for all using simpson_e\n",
      "Saving results to:/Users/jzaneveld/Dropbox/Zaneveld_Lab_Organization/Projects/GCMP_Global_Disease/gcmp_global_disease/analysis/organelle_removal/output/effects_of_rarefaction_analysis/adiv_greengenes_metaxa2_all_simpson_e_1000_samples_harmonized.qza\n",
      "Saving significance results to:/Users/jzaneveld/Dropbox/Zaneveld_Lab_Organization/Projects/GCMP_Global_Disease/gcmp_global_disease/analysis/organelle_removal/output/effects_of_rarefaction_analysis/adiv_greengenes_metaxa2_all_simpson_e_1000_group_sig_samples_harmonized.qzv\n",
      "Calculating alpha diversity for mucus using observed_features\n",
      "Saving results to:/Users/jzaneveld/Dropbox/Zaneveld_Lab_Organization/Projects/GCMP_Global_Disease/gcmp_global_disease/analysis/organelle_removal/output/effects_of_rarefaction_analysis/adiv_greengenes_metaxa2_mucus_observed_features_1000_samples_harmonized.qza\n",
      "Saving significance results to:/Users/jzaneveld/Dropbox/Zaneveld_Lab_Organization/Projects/GCMP_Global_Disease/gcmp_global_disease/analysis/organelle_removal/output/effects_of_rarefaction_analysis/adiv_greengenes_metaxa2_mucus_observed_features_1000_group_sig_samples_harmonized.qzv\n",
      "Calculating alpha diversity for mucus using gini_index\n",
      "Saving results to:/Users/jzaneveld/Dropbox/Zaneveld_Lab_Organization/Projects/GCMP_Global_Disease/gcmp_global_disease/analysis/organelle_removal/output/effects_of_rarefaction_analysis/adiv_greengenes_metaxa2_mucus_gini_index_1000_samples_harmonized.qza\n",
      "Saving significance results to:/Users/jzaneveld/Dropbox/Zaneveld_Lab_Organization/Projects/GCMP_Global_Disease/gcmp_global_disease/analysis/organelle_removal/output/effects_of_rarefaction_analysis/adiv_greengenes_metaxa2_mucus_gini_index_1000_group_sig_samples_harmonized.qzv\n",
      "Calculating alpha diversity for mucus using dominance\n",
      "Saving results to:/Users/jzaneveld/Dropbox/Zaneveld_Lab_Organization/Projects/GCMP_Global_Disease/gcmp_global_disease/analysis/organelle_removal/output/effects_of_rarefaction_analysis/adiv_greengenes_metaxa2_mucus_dominance_1000_samples_harmonized.qza\n",
      "Saving significance results to:/Users/jzaneveld/Dropbox/Zaneveld_Lab_Organization/Projects/GCMP_Global_Disease/gcmp_global_disease/analysis/organelle_removal/output/effects_of_rarefaction_analysis/adiv_greengenes_metaxa2_mucus_dominance_1000_group_sig_samples_harmonized.qzv\n",
      "Calculating alpha diversity for mucus using simpson_e\n",
      "Saving results to:/Users/jzaneveld/Dropbox/Zaneveld_Lab_Organization/Projects/GCMP_Global_Disease/gcmp_global_disease/analysis/organelle_removal/output/effects_of_rarefaction_analysis/adiv_greengenes_metaxa2_mucus_simpson_e_1000_samples_harmonized.qza\n",
      "Saving significance results to:/Users/jzaneveld/Dropbox/Zaneveld_Lab_Organization/Projects/GCMP_Global_Disease/gcmp_global_disease/analysis/organelle_removal/output/effects_of_rarefaction_analysis/adiv_greengenes_metaxa2_mucus_simpson_e_1000_group_sig_samples_harmonized.qzv\n",
      "Calculating alpha diversity for tissue using observed_features\n",
      "Saving results to:/Users/jzaneveld/Dropbox/Zaneveld_Lab_Organization/Projects/GCMP_Global_Disease/gcmp_global_disease/analysis/organelle_removal/output/effects_of_rarefaction_analysis/adiv_greengenes_metaxa2_tissue_observed_features_1000_samples_harmonized.qza\n",
      "Saving significance results to:/Users/jzaneveld/Dropbox/Zaneveld_Lab_Organization/Projects/GCMP_Global_Disease/gcmp_global_disease/analysis/organelle_removal/output/effects_of_rarefaction_analysis/adiv_greengenes_metaxa2_tissue_observed_features_1000_group_sig_samples_harmonized.qzv\n",
      "Calculating alpha diversity for tissue using gini_index\n",
      "Saving results to:/Users/jzaneveld/Dropbox/Zaneveld_Lab_Organization/Projects/GCMP_Global_Disease/gcmp_global_disease/analysis/organelle_removal/output/effects_of_rarefaction_analysis/adiv_greengenes_metaxa2_tissue_gini_index_1000_samples_harmonized.qza\n",
      "Saving significance results to:/Users/jzaneveld/Dropbox/Zaneveld_Lab_Organization/Projects/GCMP_Global_Disease/gcmp_global_disease/analysis/organelle_removal/output/effects_of_rarefaction_analysis/adiv_greengenes_metaxa2_tissue_gini_index_1000_group_sig_samples_harmonized.qzv\n"
     ]
    },
    {
     "name": "stdout",
     "output_type": "stream",
     "text": [
      "Calculating alpha diversity for tissue using dominance\n",
      "Saving results to:/Users/jzaneveld/Dropbox/Zaneveld_Lab_Organization/Projects/GCMP_Global_Disease/gcmp_global_disease/analysis/organelle_removal/output/effects_of_rarefaction_analysis/adiv_greengenes_metaxa2_tissue_dominance_1000_samples_harmonized.qza\n",
      "Saving significance results to:/Users/jzaneveld/Dropbox/Zaneveld_Lab_Organization/Projects/GCMP_Global_Disease/gcmp_global_disease/analysis/organelle_removal/output/effects_of_rarefaction_analysis/adiv_greengenes_metaxa2_tissue_dominance_1000_group_sig_samples_harmonized.qzv\n",
      "Calculating alpha diversity for tissue using simpson_e\n",
      "Saving results to:/Users/jzaneveld/Dropbox/Zaneveld_Lab_Organization/Projects/GCMP_Global_Disease/gcmp_global_disease/analysis/organelle_removal/output/effects_of_rarefaction_analysis/adiv_greengenes_metaxa2_tissue_simpson_e_1000_samples_harmonized.qza\n",
      "Saving significance results to:/Users/jzaneveld/Dropbox/Zaneveld_Lab_Organization/Projects/GCMP_Global_Disease/gcmp_global_disease/analysis/organelle_removal/output/effects_of_rarefaction_analysis/adiv_greengenes_metaxa2_tissue_simpson_e_1000_group_sig_samples_harmonized.qzv\n",
      "Calculating alpha diversity for skeleton using observed_features\n",
      "Saving results to:/Users/jzaneveld/Dropbox/Zaneveld_Lab_Organization/Projects/GCMP_Global_Disease/gcmp_global_disease/analysis/organelle_removal/output/effects_of_rarefaction_analysis/adiv_greengenes_metaxa2_skeleton_observed_features_1000_samples_harmonized.qza\n",
      "Saving significance results to:/Users/jzaneveld/Dropbox/Zaneveld_Lab_Organization/Projects/GCMP_Global_Disease/gcmp_global_disease/analysis/organelle_removal/output/effects_of_rarefaction_analysis/adiv_greengenes_metaxa2_skeleton_observed_features_1000_group_sig_samples_harmonized.qzv\n",
      "Calculating alpha diversity for skeleton using gini_index\n",
      "Saving results to:/Users/jzaneveld/Dropbox/Zaneveld_Lab_Organization/Projects/GCMP_Global_Disease/gcmp_global_disease/analysis/organelle_removal/output/effects_of_rarefaction_analysis/adiv_greengenes_metaxa2_skeleton_gini_index_1000_samples_harmonized.qza\n",
      "Saving significance results to:/Users/jzaneveld/Dropbox/Zaneveld_Lab_Organization/Projects/GCMP_Global_Disease/gcmp_global_disease/analysis/organelle_removal/output/effects_of_rarefaction_analysis/adiv_greengenes_metaxa2_skeleton_gini_index_1000_group_sig_samples_harmonized.qzv\n",
      "Calculating alpha diversity for skeleton using dominance\n",
      "Saving results to:/Users/jzaneveld/Dropbox/Zaneveld_Lab_Organization/Projects/GCMP_Global_Disease/gcmp_global_disease/analysis/organelle_removal/output/effects_of_rarefaction_analysis/adiv_greengenes_metaxa2_skeleton_dominance_1000_samples_harmonized.qza\n",
      "Saving significance results to:/Users/jzaneveld/Dropbox/Zaneveld_Lab_Organization/Projects/GCMP_Global_Disease/gcmp_global_disease/analysis/organelle_removal/output/effects_of_rarefaction_analysis/adiv_greengenes_metaxa2_skeleton_dominance_1000_group_sig_samples_harmonized.qzv\n",
      "Calculating alpha diversity for skeleton using simpson_e\n",
      "Saving results to:/Users/jzaneveld/Dropbox/Zaneveld_Lab_Organization/Projects/GCMP_Global_Disease/gcmp_global_disease/analysis/organelle_removal/output/effects_of_rarefaction_analysis/adiv_greengenes_metaxa2_skeleton_simpson_e_1000_samples_harmonized.qza\n",
      "Saving significance results to:/Users/jzaneveld/Dropbox/Zaneveld_Lab_Organization/Projects/GCMP_Global_Disease/gcmp_global_disease/analysis/organelle_removal/output/effects_of_rarefaction_analysis/adiv_greengenes_metaxa2_skeleton_simpson_e_1000_group_sig_samples_harmonized.qzv\n"
     ]
    }
   ],
   "source": [
    "metrics = ['observed_features','gini_index','dominance','simpson_e']\n",
    "alpha_diversities = {}\n",
    "for label, rarefied_feature_tables in rarefied_feature_tables_by_taxonomy.items():\n",
    "    for compartment,table in rarefied_feature_tables.items():\n",
    "        for metric in metrics:\n",
    "            print(f\"Calculating alpha diversity for {compartment} using {metric}\")\n",
    "            alpha_results = alpha(table=table,metric = metric)\n",
    "            alpha_diversity = alpha_results.alpha_diversity\n",
    "            alpha_diversities[f\"{label}_{compartment}_{metric}_{rarefaction_depth}\"] = alpha_diversity\n",
    "\n",
    "            #Save the resulting feature table to disk\n",
    "            output_filename = f\"adiv_{label}_{compartment}_{metric}_{rarefaction_depth}_samples_harmonized.qza\"\n",
    "            output_filepath = join(output_dir,output_filename)\n",
    "            print(f\"Saving results to:{output_filepath}\")\n",
    "            alpha_diversity.save(output_filepath)\n",
    "\n",
    "            #Calculate alpha group significance for categorical variables\n",
    "            alpha_group_sig_results = alpha_group_significance(alpha_diversity=alpha_diversity,metadata=metadata)\n",
    "            alpha_group_sig_visualization = alpha_group_sig_results.visualization\n",
    "            output_filename = f\"adiv_{label}_{compartment}_{metric}_{rarefaction_depth}_group_sig_samples_harmonized.qzv\"\n",
    "            output_filepath = join(output_dir,output_filename)\n",
    "            print(f\"Saving significance results to:{output_filepath}\")\n",
    "            alpha_group_sig_visualization.save(output_filepath)\n"
   ]
  },
  {
   "cell_type": "markdown",
   "metadata": {},
   "source": [
    "#### Test the effects of mitochondrial removal on between family beta-diversity\n",
    "\n",
    "If mitochondria are misannotated at different rates between coral families, we might expect that this could potentially artificially inflate inter-family beta-diversity. Alternatively, it's possible that *removal* of mitochondria may reduce intra-family variability, effectively shrinking the observed variance within each family and thereby increasing the significance of inter-family beta diversity. The code below calculates permanova between coral families under each taxonomic scheme to test these ideas. "
   ]
  },
  {
   "cell_type": "code",
   "execution_count": 17,
   "metadata": {},
   "outputs": [
    {
     "name": "stdout",
     "output_type": "stream",
     "text": [
      "Calculating beta diversity for all using braycurtis\n",
      "Saving results to:/Users/jzaneveld/Dropbox/Zaneveld_Lab_Organization/Projects/GCMP_Global_Disease/gcmp_global_disease/analysis/organelle_removal/output/effects_of_rarefaction_analysis/bdiv_silva_metaxa2_all_braycurtis_1000.qza\n"
     ]
    },
    {
     "name": "stderr",
     "output_type": "stream",
     "text": [
      "/Users/jzaneveld/anaconda3/envs/qiime2-2020.8/lib/python3.6/site-packages/seaborn/categorical.py:403: UserWarning: Attempted to set non-positive left xlim on a log-scaled axis.\n",
      "Invalid limit will be ignored.\n",
      "  ax.set_xlim(-.5, len(self.plot_data) - .5, auto=None)\n"
     ]
    },
    {
     "name": "stdout",
     "output_type": "stream",
     "text": [
      "Saving significance results to:/Users/jzaneveld/Dropbox/Zaneveld_Lab_Organization/Projects/GCMP_Global_Disease/gcmp_global_disease/analysis/organelle_removal/output/effects_of_rarefaction_analysis/bdiv_silva_metaxa2_all_braycurtis_1000_permanova_group_sig.qzv\n",
      "Calculating beta diversity for mucus using braycurtis\n",
      "Saving results to:/Users/jzaneveld/Dropbox/Zaneveld_Lab_Organization/Projects/GCMP_Global_Disease/gcmp_global_disease/analysis/organelle_removal/output/effects_of_rarefaction_analysis/bdiv_silva_metaxa2_mucus_braycurtis_1000.qza\n",
      "Saving significance results to:/Users/jzaneveld/Dropbox/Zaneveld_Lab_Organization/Projects/GCMP_Global_Disease/gcmp_global_disease/analysis/organelle_removal/output/effects_of_rarefaction_analysis/bdiv_silva_metaxa2_mucus_braycurtis_1000_permanova_group_sig.qzv\n",
      "Calculating beta diversity for tissue using braycurtis\n",
      "Saving results to:/Users/jzaneveld/Dropbox/Zaneveld_Lab_Organization/Projects/GCMP_Global_Disease/gcmp_global_disease/analysis/organelle_removal/output/effects_of_rarefaction_analysis/bdiv_silva_metaxa2_tissue_braycurtis_1000.qza\n",
      "Saving significance results to:/Users/jzaneveld/Dropbox/Zaneveld_Lab_Organization/Projects/GCMP_Global_Disease/gcmp_global_disease/analysis/organelle_removal/output/effects_of_rarefaction_analysis/bdiv_silva_metaxa2_tissue_braycurtis_1000_permanova_group_sig.qzv\n",
      "Calculating beta diversity for skeleton using braycurtis\n",
      "Saving results to:/Users/jzaneveld/Dropbox/Zaneveld_Lab_Organization/Projects/GCMP_Global_Disease/gcmp_global_disease/analysis/organelle_removal/output/effects_of_rarefaction_analysis/bdiv_silva_metaxa2_skeleton_braycurtis_1000.qza\n",
      "Saving significance results to:/Users/jzaneveld/Dropbox/Zaneveld_Lab_Organization/Projects/GCMP_Global_Disease/gcmp_global_disease/analysis/organelle_removal/output/effects_of_rarefaction_analysis/bdiv_silva_metaxa2_skeleton_braycurtis_1000_permanova_group_sig.qzv\n",
      "Calculating beta diversity for all using braycurtis\n",
      "Saving results to:/Users/jzaneveld/Dropbox/Zaneveld_Lab_Organization/Projects/GCMP_Global_Disease/gcmp_global_disease/analysis/organelle_removal/output/effects_of_rarefaction_analysis/bdiv_silva_all_braycurtis_1000.qza\n",
      "Saving significance results to:/Users/jzaneveld/Dropbox/Zaneveld_Lab_Organization/Projects/GCMP_Global_Disease/gcmp_global_disease/analysis/organelle_removal/output/effects_of_rarefaction_analysis/bdiv_silva_all_braycurtis_1000_permanova_group_sig.qzv\n",
      "Calculating beta diversity for mucus using braycurtis\n",
      "Saving results to:/Users/jzaneveld/Dropbox/Zaneveld_Lab_Organization/Projects/GCMP_Global_Disease/gcmp_global_disease/analysis/organelle_removal/output/effects_of_rarefaction_analysis/bdiv_silva_mucus_braycurtis_1000.qza\n",
      "Saving significance results to:/Users/jzaneveld/Dropbox/Zaneveld_Lab_Organization/Projects/GCMP_Global_Disease/gcmp_global_disease/analysis/organelle_removal/output/effects_of_rarefaction_analysis/bdiv_silva_mucus_braycurtis_1000_permanova_group_sig.qzv\n",
      "Calculating beta diversity for tissue using braycurtis\n",
      "Saving results to:/Users/jzaneveld/Dropbox/Zaneveld_Lab_Organization/Projects/GCMP_Global_Disease/gcmp_global_disease/analysis/organelle_removal/output/effects_of_rarefaction_analysis/bdiv_silva_tissue_braycurtis_1000.qza\n",
      "Saving significance results to:/Users/jzaneveld/Dropbox/Zaneveld_Lab_Organization/Projects/GCMP_Global_Disease/gcmp_global_disease/analysis/organelle_removal/output/effects_of_rarefaction_analysis/bdiv_silva_tissue_braycurtis_1000_permanova_group_sig.qzv\n",
      "Calculating beta diversity for skeleton using braycurtis\n",
      "Saving results to:/Users/jzaneveld/Dropbox/Zaneveld_Lab_Organization/Projects/GCMP_Global_Disease/gcmp_global_disease/analysis/organelle_removal/output/effects_of_rarefaction_analysis/bdiv_silva_skeleton_braycurtis_1000.qza\n",
      "Saving significance results to:/Users/jzaneveld/Dropbox/Zaneveld_Lab_Organization/Projects/GCMP_Global_Disease/gcmp_global_disease/analysis/organelle_removal/output/effects_of_rarefaction_analysis/bdiv_silva_skeleton_braycurtis_1000_permanova_group_sig.qzv\n",
      "Calculating beta diversity for all using braycurtis\n",
      "Saving results to:/Users/jzaneveld/Dropbox/Zaneveld_Lab_Organization/Projects/GCMP_Global_Disease/gcmp_global_disease/analysis/organelle_removal/output/effects_of_rarefaction_analysis/bdiv_greengenes_all_braycurtis_1000.qza\n",
      "Saving significance results to:/Users/jzaneveld/Dropbox/Zaneveld_Lab_Organization/Projects/GCMP_Global_Disease/gcmp_global_disease/analysis/organelle_removal/output/effects_of_rarefaction_analysis/bdiv_greengenes_all_braycurtis_1000_permanova_group_sig.qzv\n",
      "Calculating beta diversity for mucus using braycurtis\n",
      "Saving results to:/Users/jzaneveld/Dropbox/Zaneveld_Lab_Organization/Projects/GCMP_Global_Disease/gcmp_global_disease/analysis/organelle_removal/output/effects_of_rarefaction_analysis/bdiv_greengenes_mucus_braycurtis_1000.qza\n",
      "Saving significance results to:/Users/jzaneveld/Dropbox/Zaneveld_Lab_Organization/Projects/GCMP_Global_Disease/gcmp_global_disease/analysis/organelle_removal/output/effects_of_rarefaction_analysis/bdiv_greengenes_mucus_braycurtis_1000_permanova_group_sig.qzv\n",
      "Calculating beta diversity for tissue using braycurtis\n",
      "Saving results to:/Users/jzaneveld/Dropbox/Zaneveld_Lab_Organization/Projects/GCMP_Global_Disease/gcmp_global_disease/analysis/organelle_removal/output/effects_of_rarefaction_analysis/bdiv_greengenes_tissue_braycurtis_1000.qza\n",
      "Saving significance results to:/Users/jzaneveld/Dropbox/Zaneveld_Lab_Organization/Projects/GCMP_Global_Disease/gcmp_global_disease/analysis/organelle_removal/output/effects_of_rarefaction_analysis/bdiv_greengenes_tissue_braycurtis_1000_permanova_group_sig.qzv\n",
      "Calculating beta diversity for skeleton using braycurtis\n",
      "Saving results to:/Users/jzaneveld/Dropbox/Zaneveld_Lab_Organization/Projects/GCMP_Global_Disease/gcmp_global_disease/analysis/organelle_removal/output/effects_of_rarefaction_analysis/bdiv_greengenes_skeleton_braycurtis_1000.qza\n",
      "Saving significance results to:/Users/jzaneveld/Dropbox/Zaneveld_Lab_Organization/Projects/GCMP_Global_Disease/gcmp_global_disease/analysis/organelle_removal/output/effects_of_rarefaction_analysis/bdiv_greengenes_skeleton_braycurtis_1000_permanova_group_sig.qzv\n",
      "Calculating beta diversity for all using braycurtis\n",
      "Saving results to:/Users/jzaneveld/Dropbox/Zaneveld_Lab_Organization/Projects/GCMP_Global_Disease/gcmp_global_disease/analysis/organelle_removal/output/effects_of_rarefaction_analysis/bdiv_greengenes_metaxa2_all_braycurtis_1000.qza\n",
      "Saving significance results to:/Users/jzaneveld/Dropbox/Zaneveld_Lab_Organization/Projects/GCMP_Global_Disease/gcmp_global_disease/analysis/organelle_removal/output/effects_of_rarefaction_analysis/bdiv_greengenes_metaxa2_all_braycurtis_1000_permanova_group_sig.qzv\n",
      "Calculating beta diversity for mucus using braycurtis\n",
      "Saving results to:/Users/jzaneveld/Dropbox/Zaneveld_Lab_Organization/Projects/GCMP_Global_Disease/gcmp_global_disease/analysis/organelle_removal/output/effects_of_rarefaction_analysis/bdiv_greengenes_metaxa2_mucus_braycurtis_1000.qza\n",
      "Saving significance results to:/Users/jzaneveld/Dropbox/Zaneveld_Lab_Organization/Projects/GCMP_Global_Disease/gcmp_global_disease/analysis/organelle_removal/output/effects_of_rarefaction_analysis/bdiv_greengenes_metaxa2_mucus_braycurtis_1000_permanova_group_sig.qzv\n",
      "Calculating beta diversity for tissue using braycurtis\n",
      "Saving results to:/Users/jzaneveld/Dropbox/Zaneveld_Lab_Organization/Projects/GCMP_Global_Disease/gcmp_global_disease/analysis/organelle_removal/output/effects_of_rarefaction_analysis/bdiv_greengenes_metaxa2_tissue_braycurtis_1000.qza\n",
      "Saving significance results to:/Users/jzaneveld/Dropbox/Zaneveld_Lab_Organization/Projects/GCMP_Global_Disease/gcmp_global_disease/analysis/organelle_removal/output/effects_of_rarefaction_analysis/bdiv_greengenes_metaxa2_tissue_braycurtis_1000_permanova_group_sig.qzv\n",
      "Calculating beta diversity for skeleton using braycurtis\n",
      "Saving results to:/Users/jzaneveld/Dropbox/Zaneveld_Lab_Organization/Projects/GCMP_Global_Disease/gcmp_global_disease/analysis/organelle_removal/output/effects_of_rarefaction_analysis/bdiv_greengenes_metaxa2_skeleton_braycurtis_1000.qza\n",
      "Saving significance results to:/Users/jzaneveld/Dropbox/Zaneveld_Lab_Organization/Projects/GCMP_Global_Disease/gcmp_global_disease/analysis/organelle_removal/output/effects_of_rarefaction_analysis/bdiv_greengenes_metaxa2_skeleton_braycurtis_1000_permanova_group_sig.qzv\n"
     ]
    }
   ],
   "source": [
    "metrics = ['braycurtis']\n",
    "beta_diversities = {}\n",
    "for label, rarefied_feature_tables in rarefied_feature_tables_by_taxonomy.items():\n",
    "    for compartment,table in rarefied_feature_tables.items():\n",
    "        for metric in metrics:\n",
    "            print(f\"Calculating beta diversity for {compartment} using {metric}\")\n",
    "            beta_results = beta(table=table,metric = metric)\n",
    "            beta_dm = beta_results.distance_matrix\n",
    "            beta_diversities[f\"{label}_{compartment}_{metric}_{rarefaction_depth}\"] = beta_dm\n",
    "\n",
    "            #Save the resulting feature table to disk\n",
    "            output_filename = f\"bdiv_{label}_{compartment}_{metric}_{rarefaction_depth}.qza\"\n",
    "            output_filepath = join(output_dir,output_filename)\n",
    "            print(f\"Saving results to:{output_filepath}\")\n",
    "            beta_dm.save(output_filepath)\n",
    "\n",
    "            #Calculate beta group significance for categorical variables\n",
    "            sig_method = 'permanova'\n",
    "            metadata_column = 'taxonomy_string_to_family'\n",
    "            \n",
    "            beta_group_sig_results =\\\n",
    "              beta_group_significance(distance_matrix=beta_dm,method=sig_method,metadata=metadata.get_column(metadata_column))\n",
    "            \n",
    "            beta_group_sig_visualization = beta_group_sig_results.visualization\n",
    "            \n",
    "            output_filename = f\"bdiv_{label}_{compartment}_{metric}_{rarefaction_depth}_{sig_method}_group_sig.qzv\"\n",
    "            output_filepath = join(output_dir,output_filename)\n",
    "            print(f\"Saving significance results to:{output_filepath}\")\n",
    "            beta_group_sig_visualization.save(output_filepath)"
   ]
  },
  {
   "cell_type": "code",
   "execution_count": null,
   "metadata": {},
   "outputs": [],
   "source": []
  }
 ],
 "metadata": {
  "kernelspec": {
   "display_name": "Python 3",
   "language": "python",
   "name": "python3"
  },
  "language_info": {
   "codemirror_mode": {
    "name": "ipython",
    "version": 3
   },
   "file_extension": ".py",
   "mimetype": "text/x-python",
   "name": "python",
   "nbconvert_exporter": "python",
   "pygments_lexer": "ipython3",
   "version": "3.6.11"
  }
 },
 "nbformat": 4,
 "nbformat_minor": 2
}
