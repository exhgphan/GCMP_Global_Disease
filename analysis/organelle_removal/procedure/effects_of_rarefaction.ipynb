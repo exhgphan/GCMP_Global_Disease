{
 "cells": [
  {
   "cell_type": "markdown",
   "metadata": {},
   "source": [
    "## Effects of Mitochondrial Removal Protocol on Coral Microbiome Alpha and Beta Diversity, accounting for rarefaction\n",
    "\n",
    "This notebook tests how the choice of mitochondrial annotation and removal method influences coral alpha and beta diversity, accounting for rarefaction. The strategy is to perform alpha and beta diversity analysis on coral mucus, tissue, and skeleton samples using either standard Greengenes_13_8 or SILVA annotations, or to do the same with expanded versions of these references. \n",
    "\n",
    "**However**, the standard Greengees_13_8 and SILVA annotations will be filtered to just samples that survive rarefaction in the analysis with the versions of these that include supplemental mitochondrial sequences.\n",
    "\n",
    "#### How this notebook is different from `adiv_and_bdiv_effects_of_mitochondrial_removal.ipynb`\n",
    "\n",
    "An initial notebook tested the effects of improved mitochondrial removal (adiv_and_bdiv_effects_of_mitochondrial_removal.ipynb). However, while mitochondrial removal may improve accuracy, it also reduces the number of sequences per sample. During rarefaction, many of these may fall below the rarefaction threshold and fall out of the analysis. This may cause some trends to appear non-significant in the version of samples that have mitochondria removed correctly.\n",
    "\n",
    "In the other analysis, it was not possible to tell if this was due to better mitochondria removal eliminating artifactual effects, or because a lower sample size "
   ]
  },
  {
   "cell_type": "markdown",
   "metadata": {},
   "source": [
    "#### Set up\n",
    "\n",
    "We'll import QIIME2 artifact API functions and objects to do the analysis, as well as some basic python functions for working with the file system (e.g. from os.path)"
   ]
  },
  {
   "cell_type": "code",
   "execution_count": 1,
   "metadata": {},
   "outputs": [],
   "source": [
    "from qiime2 import Artifact,Metadata\n",
    "from qiime2.plugins.feature_table.methods import filter_samples\n",
    "from qiime2.plugins.taxa.methods import filter_table\n",
    "#The below try/except block is unsightly but the alpha function got moved between recent versions of QIIME2\n",
    "#and it's nice if the notebook is compatible with either\n",
    "try:\n",
    "    from qiime2.plugins.diversity.methods import alpha,beta\n",
    "except:\n",
    "    from qiime2.plugins.diversity.pipelines import alpha,beta\n",
    "from qiime2.plugins.diversity.visualizers import alpha_group_significance,beta_group_significance\n",
    "\n",
    "from qiime2.plugins.feature_table.methods import rarefy\n",
    "from qiime2.plugins.feature_table.visualizers import summarize\n",
    "from qiime2.plugins.feature_table.methods import filter_samples\n",
    "\n",
    "from qiime2.metadata import Metadata\n",
    "\n",
    "from os.path import abspath,exists,join\n",
    "from os import mkdir\n",
    "\n",
    "import shutil\n",
    "\n",
    "import pandas as pd"
   ]
  },
  {
   "cell_type": "markdown",
   "metadata": {},
   "source": [
    "#### Set up input filenames\n",
    "\n",
    "We'll set up input filenames all at once so we can refer to them later."
   ]
  },
  {
   "cell_type": "code",
   "execution_count": 2,
   "metadata": {},
   "outputs": [],
   "source": [
    "#### Check that required files exist\n",
    "mucus_feature_table = \"../output/M_ft.qza\"\n",
    "tissue_feature_table = \"../output/T_ft.qza\"\n",
    "skeleton_feature_table = \"../output/S_ft.qza\"\n",
    "overall_feature_table = \"../output/gcmp_raw_overall_ft_all_compartments.qza\"\n",
    "\n",
    "mapping_file = \"../input/GCMP_EMP_map_r28_no_empty_samples.txt\"\n",
    "sequence_file = \"../output/GCMP_seqs.qza\"\n",
    "\n",
    "output_dir = abspath(\"../output/effects_of_rarefaction_analysis\")\n",
    "input_directory = abspath(\"../input\")\n",
    "\n",
    "taxonomy_files = {\"silva_metaxa2\":\"../output/silva_metaxa2_reference_taxonomy.qza\",\\\n",
    "                 \"silva\":\"../output/silva_reference_taxonomy.qza\",\\\n",
    "                 \"greengenes\":\"../output/greengenes_reference_taxonomy.qza\",\\\n",
    "                 \"greengenes_metaxa2\":\"../output/greengenes_metaxa2_reference_taxonomy.qza\"}\n",
    "\n",
    "required_files = [mucus_feature_table,tissue_feature_table,skeleton_feature_table,overall_feature_table,mapping_file,sequence_file]\n",
    "required_files.extend(taxonomy_files.values())\n",
    "\n"
   ]
  },
  {
   "cell_type": "markdown",
   "metadata": {},
   "source": [
    "#### Check that all required files really exist and are named correctly"
   ]
  },
  {
   "cell_type": "code",
   "execution_count": 3,
   "metadata": {},
   "outputs": [
    {
     "name": "stdout",
     "output_type": "stream",
     "text": [
      "Verifying that all needed starting data files exist.\n",
      "Done.\n"
     ]
    }
   ],
   "source": [
    "print(\"Verifying that all needed starting data files exist.\")\n",
    "for existing_file in required_files:\n",
    "    if not exists(existing_file):\n",
    "        raise IOError(f\"Required file {existing_file} not found. Please ensure it is in that directory.\")\n",
    "print(\"Done.\")\n",
    "\n",
    "if not exists(output_dir):\n",
    "    print(f\"Output directory {output_dir} does not yet exist, creating it...\")\n",
    "    mkdir(output_dir)\n",
    "    print(\"Done.\")"
   ]
  },
  {
   "cell_type": "markdown",
   "metadata": {},
   "source": [
    "#### Check QIIME2 version\n",
    "\n",
    "Do a quick check that the qiime version is what's expected. If you get an error at this step due to a different qiime2 verison, the code may very well still work, but if you want to exactly reproduce the results, you'll want QIIME2 2020.8.0\n"
   ]
  },
  {
   "cell_type": "code",
   "execution_count": 4,
   "metadata": {},
   "outputs": [
    {
     "ename": "ValueError",
     "evalue": "This code was developed with QIIME2 2020.8.0. It will *probably* work with related versions, but there are no guarantees as some functions may change in call signature.",
     "output_type": "error",
     "traceback": [
      "\u001b[0;31m---------------------------------------------------------------------------\u001b[0m",
      "\u001b[0;31mValueError\u001b[0m                                Traceback (most recent call last)",
      "\u001b[0;32m<ipython-input-4-3a7b6bf98fc1>\u001b[0m in \u001b[0;36m<module>\u001b[0;34m\u001b[0m\n\u001b[1;32m      2\u001b[0m \u001b[0;34m\u001b[0m\u001b[0m\n\u001b[1;32m      3\u001b[0m \u001b[0;32mif\u001b[0m \u001b[0mqiime_version\u001b[0m \u001b[0;34m!=\u001b[0m \u001b[0;34m\"2020.8.0\"\u001b[0m\u001b[0;34m:\u001b[0m\u001b[0;34m\u001b[0m\u001b[0;34m\u001b[0m\u001b[0m\n\u001b[0;32m----> 4\u001b[0;31m     \u001b[0;32mraise\u001b[0m \u001b[0mValueError\u001b[0m\u001b[0;34m(\u001b[0m\u001b[0;34m\"This code was developed with QIIME2 2020.8.0. It will *probably* work with related versions, but there are no guarantees as some functions may change in call signature.\"\u001b[0m\u001b[0;34m)\u001b[0m\u001b[0;34m\u001b[0m\u001b[0;34m\u001b[0m\u001b[0m\n\u001b[0m\u001b[1;32m      5\u001b[0m \u001b[0;34m\u001b[0m\u001b[0m\n",
      "\u001b[0;31mValueError\u001b[0m: This code was developed with QIIME2 2020.8.0. It will *probably* work with related versions, but there are no guarantees as some functions may change in call signature."
     ]
    }
   ],
   "source": [
    "from qiime2 import __version__ as qiime_version\n",
    "\n",
    "if qiime_version != \"2020.8.0\":\n",
    "    raise ValueError(\"This code was developed with QIIME2 2020.8.0. It will *probably* work with related versions, but there are no guarantees as some functions may change in call signature.\")\n",
    "\n"
   ]
  },
  {
   "cell_type": "markdown",
   "metadata": {},
   "source": [
    "#### Generate filtered tables using several sets of taxonomy annotations\n",
    "\n",
    "We will filter mitochondria out of our feature tables using either the default taxonomies (greengenes_13_8 or SILVA), or our supplemented versions with additional metaxa2 mitochondrial 16S rRNA sequences."
   ]
  },
  {
   "cell_type": "code",
   "execution_count": 5,
   "metadata": {
    "scrolled": true
   },
   "outputs": [
    {
     "name": "stdout",
     "output_type": "stream",
     "text": [
      "Analyzing data using the silva_metaxa2 taxonomy (../output/silva_metaxa2_reference_taxonomy.qza)\n",
      "Removing mitochondria from: all <artifact: FeatureTable[Frequency] uuid: 1c509bb4-76c4-4ef1-b965-548b2951f48d>\n",
      "Saving results to:/mnt/c/Users/Dylan/Documents/zaneveld/2_14_gcmp/GCMP_Global_Disease/analysis/organelle_removal/output/effects_of_rarefaction_analysis/feature_table_silva_metaxa2_all.qza\n"
     ]
    },
    {
     "name": "stderr",
     "output_type": "stream",
     "text": [
      "/home/dylan/miniconda3/envs/qiime2-2020.11/lib/python3.6/site-packages/seaborn/distributions.py:2551: FutureWarning: `distplot` is a deprecated function and will be removed in a future version. Please adapt your code to use either `displot` (a figure-level function with similar flexibility) or `histplot` (an axes-level function for histograms).\n",
      "  warnings.warn(msg, FutureWarning)\n",
      "/home/dylan/miniconda3/envs/qiime2-2020.11/lib/python3.6/site-packages/seaborn/distributions.py:2055: FutureWarning: The `axis` variable is no longer used and will be removed. Instead, assign variables directly to `x` or `y`.\n",
      "  warnings.warn(msg, FutureWarning)\n",
      "/home/dylan/miniconda3/envs/qiime2-2020.11/lib/python3.6/site-packages/seaborn/distributions.py:2551: FutureWarning: `distplot` is a deprecated function and will be removed in a future version. Please adapt your code to use either `displot` (a figure-level function with similar flexibility) or `histplot` (an axes-level function for histograms).\n",
      "  warnings.warn(msg, FutureWarning)\n"
     ]
    },
    {
     "name": "stdout",
     "output_type": "stream",
     "text": [
      "Saving summary file to:/mnt/c/Users/Dylan/Documents/zaneveld/2_14_gcmp/GCMP_Global_Disease/analysis/organelle_removal/output/effects_of_rarefaction_analysis/feature_table_silva_metaxa2_all.qzv\n",
      "Removing mitochondria from: mucus <artifact: FeatureTable[Frequency] uuid: 80b538d6-2ca4-40aa-8d6c-5ac8ee7bc869>\n",
      "Saving results to:/mnt/c/Users/Dylan/Documents/zaneveld/2_14_gcmp/GCMP_Global_Disease/analysis/organelle_removal/output/effects_of_rarefaction_analysis/feature_table_silva_metaxa2_mucus.qza\n"
     ]
    },
    {
     "name": "stderr",
     "output_type": "stream",
     "text": [
      "/home/dylan/miniconda3/envs/qiime2-2020.11/lib/python3.6/site-packages/seaborn/distributions.py:2551: FutureWarning: `distplot` is a deprecated function and will be removed in a future version. Please adapt your code to use either `displot` (a figure-level function with similar flexibility) or `histplot` (an axes-level function for histograms).\n",
      "  warnings.warn(msg, FutureWarning)\n",
      "/home/dylan/miniconda3/envs/qiime2-2020.11/lib/python3.6/site-packages/seaborn/distributions.py:2055: FutureWarning: The `axis` variable is no longer used and will be removed. Instead, assign variables directly to `x` or `y`.\n",
      "  warnings.warn(msg, FutureWarning)\n",
      "/home/dylan/miniconda3/envs/qiime2-2020.11/lib/python3.6/site-packages/seaborn/distributions.py:2551: FutureWarning: `distplot` is a deprecated function and will be removed in a future version. Please adapt your code to use either `displot` (a figure-level function with similar flexibility) or `histplot` (an axes-level function for histograms).\n",
      "  warnings.warn(msg, FutureWarning)\n"
     ]
    },
    {
     "name": "stdout",
     "output_type": "stream",
     "text": [
      "Saving summary file to:/mnt/c/Users/Dylan/Documents/zaneveld/2_14_gcmp/GCMP_Global_Disease/analysis/organelle_removal/output/effects_of_rarefaction_analysis/feature_table_silva_metaxa2_mucus.qzv\n",
      "Removing mitochondria from: tissue <artifact: FeatureTable[Frequency] uuid: e3ff2a67-e8c6-4cc1-9d9a-1181721024cc>\n",
      "Saving results to:/mnt/c/Users/Dylan/Documents/zaneveld/2_14_gcmp/GCMP_Global_Disease/analysis/organelle_removal/output/effects_of_rarefaction_analysis/feature_table_silva_metaxa2_tissue.qza\n"
     ]
    },
    {
     "name": "stderr",
     "output_type": "stream",
     "text": [
      "/home/dylan/miniconda3/envs/qiime2-2020.11/lib/python3.6/site-packages/seaborn/distributions.py:2551: FutureWarning: `distplot` is a deprecated function and will be removed in a future version. Please adapt your code to use either `displot` (a figure-level function with similar flexibility) or `histplot` (an axes-level function for histograms).\n",
      "  warnings.warn(msg, FutureWarning)\n",
      "/home/dylan/miniconda3/envs/qiime2-2020.11/lib/python3.6/site-packages/seaborn/distributions.py:2055: FutureWarning: The `axis` variable is no longer used and will be removed. Instead, assign variables directly to `x` or `y`.\n",
      "  warnings.warn(msg, FutureWarning)\n",
      "/home/dylan/miniconda3/envs/qiime2-2020.11/lib/python3.6/site-packages/seaborn/distributions.py:2551: FutureWarning: `distplot` is a deprecated function and will be removed in a future version. Please adapt your code to use either `displot` (a figure-level function with similar flexibility) or `histplot` (an axes-level function for histograms).\n",
      "  warnings.warn(msg, FutureWarning)\n"
     ]
    },
    {
     "name": "stdout",
     "output_type": "stream",
     "text": [
      "Saving summary file to:/mnt/c/Users/Dylan/Documents/zaneveld/2_14_gcmp/GCMP_Global_Disease/analysis/organelle_removal/output/effects_of_rarefaction_analysis/feature_table_silva_metaxa2_tissue.qzv\n",
      "Removing mitochondria from: skeleton <artifact: FeatureTable[Frequency] uuid: 219a3d7d-72d5-4c8f-b109-0888294262ef>\n",
      "Saving results to:/mnt/c/Users/Dylan/Documents/zaneveld/2_14_gcmp/GCMP_Global_Disease/analysis/organelle_removal/output/effects_of_rarefaction_analysis/feature_table_silva_metaxa2_skeleton.qza\n"
     ]
    },
    {
     "name": "stderr",
     "output_type": "stream",
     "text": [
      "/home/dylan/miniconda3/envs/qiime2-2020.11/lib/python3.6/site-packages/seaborn/distributions.py:2551: FutureWarning: `distplot` is a deprecated function and will be removed in a future version. Please adapt your code to use either `displot` (a figure-level function with similar flexibility) or `histplot` (an axes-level function for histograms).\n",
      "  warnings.warn(msg, FutureWarning)\n",
      "/home/dylan/miniconda3/envs/qiime2-2020.11/lib/python3.6/site-packages/seaborn/distributions.py:2055: FutureWarning: The `axis` variable is no longer used and will be removed. Instead, assign variables directly to `x` or `y`.\n",
      "  warnings.warn(msg, FutureWarning)\n",
      "/home/dylan/miniconda3/envs/qiime2-2020.11/lib/python3.6/site-packages/seaborn/distributions.py:2551: FutureWarning: `distplot` is a deprecated function and will be removed in a future version. Please adapt your code to use either `displot` (a figure-level function with similar flexibility) or `histplot` (an axes-level function for histograms).\n",
      "  warnings.warn(msg, FutureWarning)\n"
     ]
    },
    {
     "name": "stdout",
     "output_type": "stream",
     "text": [
      "Saving summary file to:/mnt/c/Users/Dylan/Documents/zaneveld/2_14_gcmp/GCMP_Global_Disease/analysis/organelle_removal/output/effects_of_rarefaction_analysis/feature_table_silva_metaxa2_skeleton.qzv\n",
      "Done with processing silva_metaxa2 taxonomy annotations!\n",
      "\n",
      "\n",
      "Analyzing data using the silva taxonomy (../output/silva_reference_taxonomy.qza)\n",
      "Removing mitochondria from: all <artifact: FeatureTable[Frequency] uuid: 1c509bb4-76c4-4ef1-b965-548b2951f48d>\n",
      "Saving results to:/mnt/c/Users/Dylan/Documents/zaneveld/2_14_gcmp/GCMP_Global_Disease/analysis/organelle_removal/output/effects_of_rarefaction_analysis/feature_table_silva_all.qza\n"
     ]
    },
    {
     "name": "stderr",
     "output_type": "stream",
     "text": [
      "/home/dylan/miniconda3/envs/qiime2-2020.11/lib/python3.6/site-packages/seaborn/distributions.py:2551: FutureWarning: `distplot` is a deprecated function and will be removed in a future version. Please adapt your code to use either `displot` (a figure-level function with similar flexibility) or `histplot` (an axes-level function for histograms).\n",
      "  warnings.warn(msg, FutureWarning)\n",
      "/home/dylan/miniconda3/envs/qiime2-2020.11/lib/python3.6/site-packages/seaborn/distributions.py:2055: FutureWarning: The `axis` variable is no longer used and will be removed. Instead, assign variables directly to `x` or `y`.\n",
      "  warnings.warn(msg, FutureWarning)\n",
      "/home/dylan/miniconda3/envs/qiime2-2020.11/lib/python3.6/site-packages/seaborn/distributions.py:2551: FutureWarning: `distplot` is a deprecated function and will be removed in a future version. Please adapt your code to use either `displot` (a figure-level function with similar flexibility) or `histplot` (an axes-level function for histograms).\n",
      "  warnings.warn(msg, FutureWarning)\n"
     ]
    },
    {
     "name": "stdout",
     "output_type": "stream",
     "text": [
      "Saving summary file to:/mnt/c/Users/Dylan/Documents/zaneveld/2_14_gcmp/GCMP_Global_Disease/analysis/organelle_removal/output/effects_of_rarefaction_analysis/feature_table_silva_all.qzv\n",
      "Removing mitochondria from: mucus <artifact: FeatureTable[Frequency] uuid: 80b538d6-2ca4-40aa-8d6c-5ac8ee7bc869>\n",
      "Saving results to:/mnt/c/Users/Dylan/Documents/zaneveld/2_14_gcmp/GCMP_Global_Disease/analysis/organelle_removal/output/effects_of_rarefaction_analysis/feature_table_silva_mucus.qza\n"
     ]
    },
    {
     "name": "stderr",
     "output_type": "stream",
     "text": [
      "/home/dylan/miniconda3/envs/qiime2-2020.11/lib/python3.6/site-packages/seaborn/distributions.py:2551: FutureWarning: `distplot` is a deprecated function and will be removed in a future version. Please adapt your code to use either `displot` (a figure-level function with similar flexibility) or `histplot` (an axes-level function for histograms).\n",
      "  warnings.warn(msg, FutureWarning)\n",
      "/home/dylan/miniconda3/envs/qiime2-2020.11/lib/python3.6/site-packages/seaborn/distributions.py:2055: FutureWarning: The `axis` variable is no longer used and will be removed. Instead, assign variables directly to `x` or `y`.\n",
      "  warnings.warn(msg, FutureWarning)\n",
      "/home/dylan/miniconda3/envs/qiime2-2020.11/lib/python3.6/site-packages/seaborn/distributions.py:2551: FutureWarning: `distplot` is a deprecated function and will be removed in a future version. Please adapt your code to use either `displot` (a figure-level function with similar flexibility) or `histplot` (an axes-level function for histograms).\n",
      "  warnings.warn(msg, FutureWarning)\n"
     ]
    },
    {
     "name": "stdout",
     "output_type": "stream",
     "text": [
      "Saving summary file to:/mnt/c/Users/Dylan/Documents/zaneveld/2_14_gcmp/GCMP_Global_Disease/analysis/organelle_removal/output/effects_of_rarefaction_analysis/feature_table_silva_mucus.qzv\n",
      "Removing mitochondria from: tissue <artifact: FeatureTable[Frequency] uuid: e3ff2a67-e8c6-4cc1-9d9a-1181721024cc>\n",
      "Saving results to:/mnt/c/Users/Dylan/Documents/zaneveld/2_14_gcmp/GCMP_Global_Disease/analysis/organelle_removal/output/effects_of_rarefaction_analysis/feature_table_silva_tissue.qza\n"
     ]
    },
    {
     "name": "stderr",
     "output_type": "stream",
     "text": [
      "/home/dylan/miniconda3/envs/qiime2-2020.11/lib/python3.6/site-packages/seaborn/distributions.py:2551: FutureWarning: `distplot` is a deprecated function and will be removed in a future version. Please adapt your code to use either `displot` (a figure-level function with similar flexibility) or `histplot` (an axes-level function for histograms).\n",
      "  warnings.warn(msg, FutureWarning)\n",
      "/home/dylan/miniconda3/envs/qiime2-2020.11/lib/python3.6/site-packages/seaborn/distributions.py:2055: FutureWarning: The `axis` variable is no longer used and will be removed. Instead, assign variables directly to `x` or `y`.\n",
      "  warnings.warn(msg, FutureWarning)\n",
      "/home/dylan/miniconda3/envs/qiime2-2020.11/lib/python3.6/site-packages/seaborn/distributions.py:2551: FutureWarning: `distplot` is a deprecated function and will be removed in a future version. Please adapt your code to use either `displot` (a figure-level function with similar flexibility) or `histplot` (an axes-level function for histograms).\n",
      "  warnings.warn(msg, FutureWarning)\n"
     ]
    },
    {
     "name": "stdout",
     "output_type": "stream",
     "text": [
      "Saving summary file to:/mnt/c/Users/Dylan/Documents/zaneveld/2_14_gcmp/GCMP_Global_Disease/analysis/organelle_removal/output/effects_of_rarefaction_analysis/feature_table_silva_tissue.qzv\n",
      "Removing mitochondria from: skeleton <artifact: FeatureTable[Frequency] uuid: 219a3d7d-72d5-4c8f-b109-0888294262ef>\n",
      "Saving results to:/mnt/c/Users/Dylan/Documents/zaneveld/2_14_gcmp/GCMP_Global_Disease/analysis/organelle_removal/output/effects_of_rarefaction_analysis/feature_table_silva_skeleton.qza\n"
     ]
    },
    {
     "name": "stderr",
     "output_type": "stream",
     "text": [
      "/home/dylan/miniconda3/envs/qiime2-2020.11/lib/python3.6/site-packages/seaborn/distributions.py:2551: FutureWarning: `distplot` is a deprecated function and will be removed in a future version. Please adapt your code to use either `displot` (a figure-level function with similar flexibility) or `histplot` (an axes-level function for histograms).\n",
      "  warnings.warn(msg, FutureWarning)\n",
      "/home/dylan/miniconda3/envs/qiime2-2020.11/lib/python3.6/site-packages/seaborn/distributions.py:2055: FutureWarning: The `axis` variable is no longer used and will be removed. Instead, assign variables directly to `x` or `y`.\n",
      "  warnings.warn(msg, FutureWarning)\n",
      "/home/dylan/miniconda3/envs/qiime2-2020.11/lib/python3.6/site-packages/seaborn/distributions.py:2551: FutureWarning: `distplot` is a deprecated function and will be removed in a future version. Please adapt your code to use either `displot` (a figure-level function with similar flexibility) or `histplot` (an axes-level function for histograms).\n",
      "  warnings.warn(msg, FutureWarning)\n"
     ]
    },
    {
     "name": "stdout",
     "output_type": "stream",
     "text": [
      "Saving summary file to:/mnt/c/Users/Dylan/Documents/zaneveld/2_14_gcmp/GCMP_Global_Disease/analysis/organelle_removal/output/effects_of_rarefaction_analysis/feature_table_silva_skeleton.qzv\n",
      "Done with processing silva taxonomy annotations!\n",
      "\n",
      "\n",
      "Analyzing data using the greengenes taxonomy (../output/greengenes_reference_taxonomy.qza)\n",
      "Removing mitochondria from: all <artifact: FeatureTable[Frequency] uuid: 1c509bb4-76c4-4ef1-b965-548b2951f48d>\n",
      "Saving results to:/mnt/c/Users/Dylan/Documents/zaneveld/2_14_gcmp/GCMP_Global_Disease/analysis/organelle_removal/output/effects_of_rarefaction_analysis/feature_table_greengenes_all.qza\n"
     ]
    },
    {
     "name": "stderr",
     "output_type": "stream",
     "text": [
      "/home/dylan/miniconda3/envs/qiime2-2020.11/lib/python3.6/site-packages/seaborn/distributions.py:2551: FutureWarning: `distplot` is a deprecated function and will be removed in a future version. Please adapt your code to use either `displot` (a figure-level function with similar flexibility) or `histplot` (an axes-level function for histograms).\n",
      "  warnings.warn(msg, FutureWarning)\n",
      "/home/dylan/miniconda3/envs/qiime2-2020.11/lib/python3.6/site-packages/seaborn/distributions.py:2055: FutureWarning: The `axis` variable is no longer used and will be removed. Instead, assign variables directly to `x` or `y`.\n",
      "  warnings.warn(msg, FutureWarning)\n",
      "/home/dylan/miniconda3/envs/qiime2-2020.11/lib/python3.6/site-packages/seaborn/distributions.py:2551: FutureWarning: `distplot` is a deprecated function and will be removed in a future version. Please adapt your code to use either `displot` (a figure-level function with similar flexibility) or `histplot` (an axes-level function for histograms).\n",
      "  warnings.warn(msg, FutureWarning)\n"
     ]
    },
    {
     "name": "stdout",
     "output_type": "stream",
     "text": [
      "Saving summary file to:/mnt/c/Users/Dylan/Documents/zaneveld/2_14_gcmp/GCMP_Global_Disease/analysis/organelle_removal/output/effects_of_rarefaction_analysis/feature_table_greengenes_all.qzv\n",
      "Removing mitochondria from: mucus <artifact: FeatureTable[Frequency] uuid: 80b538d6-2ca4-40aa-8d6c-5ac8ee7bc869>\n",
      "Saving results to:/mnt/c/Users/Dylan/Documents/zaneveld/2_14_gcmp/GCMP_Global_Disease/analysis/organelle_removal/output/effects_of_rarefaction_analysis/feature_table_greengenes_mucus.qza\n"
     ]
    },
    {
     "name": "stderr",
     "output_type": "stream",
     "text": [
      "/home/dylan/miniconda3/envs/qiime2-2020.11/lib/python3.6/site-packages/seaborn/distributions.py:2551: FutureWarning: `distplot` is a deprecated function and will be removed in a future version. Please adapt your code to use either `displot` (a figure-level function with similar flexibility) or `histplot` (an axes-level function for histograms).\n",
      "  warnings.warn(msg, FutureWarning)\n",
      "/home/dylan/miniconda3/envs/qiime2-2020.11/lib/python3.6/site-packages/seaborn/distributions.py:2055: FutureWarning: The `axis` variable is no longer used and will be removed. Instead, assign variables directly to `x` or `y`.\n",
      "  warnings.warn(msg, FutureWarning)\n",
      "/home/dylan/miniconda3/envs/qiime2-2020.11/lib/python3.6/site-packages/seaborn/distributions.py:2551: FutureWarning: `distplot` is a deprecated function and will be removed in a future version. Please adapt your code to use either `displot` (a figure-level function with similar flexibility) or `histplot` (an axes-level function for histograms).\n",
      "  warnings.warn(msg, FutureWarning)\n"
     ]
    },
    {
     "name": "stdout",
     "output_type": "stream",
     "text": [
      "Saving summary file to:/mnt/c/Users/Dylan/Documents/zaneveld/2_14_gcmp/GCMP_Global_Disease/analysis/organelle_removal/output/effects_of_rarefaction_analysis/feature_table_greengenes_mucus.qzv\n",
      "Removing mitochondria from: tissue <artifact: FeatureTable[Frequency] uuid: e3ff2a67-e8c6-4cc1-9d9a-1181721024cc>\n",
      "Saving results to:/mnt/c/Users/Dylan/Documents/zaneveld/2_14_gcmp/GCMP_Global_Disease/analysis/organelle_removal/output/effects_of_rarefaction_analysis/feature_table_greengenes_tissue.qza\n"
     ]
    },
    {
     "name": "stderr",
     "output_type": "stream",
     "text": [
      "/home/dylan/miniconda3/envs/qiime2-2020.11/lib/python3.6/site-packages/seaborn/distributions.py:2551: FutureWarning: `distplot` is a deprecated function and will be removed in a future version. Please adapt your code to use either `displot` (a figure-level function with similar flexibility) or `histplot` (an axes-level function for histograms).\n",
      "  warnings.warn(msg, FutureWarning)\n",
      "/home/dylan/miniconda3/envs/qiime2-2020.11/lib/python3.6/site-packages/seaborn/distributions.py:2055: FutureWarning: The `axis` variable is no longer used and will be removed. Instead, assign variables directly to `x` or `y`.\n",
      "  warnings.warn(msg, FutureWarning)\n",
      "/home/dylan/miniconda3/envs/qiime2-2020.11/lib/python3.6/site-packages/seaborn/distributions.py:2551: FutureWarning: `distplot` is a deprecated function and will be removed in a future version. Please adapt your code to use either `displot` (a figure-level function with similar flexibility) or `histplot` (an axes-level function for histograms).\n",
      "  warnings.warn(msg, FutureWarning)\n"
     ]
    },
    {
     "name": "stdout",
     "output_type": "stream",
     "text": [
      "Saving summary file to:/mnt/c/Users/Dylan/Documents/zaneveld/2_14_gcmp/GCMP_Global_Disease/analysis/organelle_removal/output/effects_of_rarefaction_analysis/feature_table_greengenes_tissue.qzv\n",
      "Removing mitochondria from: skeleton <artifact: FeatureTable[Frequency] uuid: 219a3d7d-72d5-4c8f-b109-0888294262ef>\n",
      "Saving results to:/mnt/c/Users/Dylan/Documents/zaneveld/2_14_gcmp/GCMP_Global_Disease/analysis/organelle_removal/output/effects_of_rarefaction_analysis/feature_table_greengenes_skeleton.qza\n"
     ]
    },
    {
     "name": "stderr",
     "output_type": "stream",
     "text": [
      "/home/dylan/miniconda3/envs/qiime2-2020.11/lib/python3.6/site-packages/seaborn/distributions.py:2551: FutureWarning: `distplot` is a deprecated function and will be removed in a future version. Please adapt your code to use either `displot` (a figure-level function with similar flexibility) or `histplot` (an axes-level function for histograms).\n",
      "  warnings.warn(msg, FutureWarning)\n",
      "/home/dylan/miniconda3/envs/qiime2-2020.11/lib/python3.6/site-packages/seaborn/distributions.py:2055: FutureWarning: The `axis` variable is no longer used and will be removed. Instead, assign variables directly to `x` or `y`.\n",
      "  warnings.warn(msg, FutureWarning)\n",
      "/home/dylan/miniconda3/envs/qiime2-2020.11/lib/python3.6/site-packages/seaborn/distributions.py:2551: FutureWarning: `distplot` is a deprecated function and will be removed in a future version. Please adapt your code to use either `displot` (a figure-level function with similar flexibility) or `histplot` (an axes-level function for histograms).\n",
      "  warnings.warn(msg, FutureWarning)\n"
     ]
    },
    {
     "name": "stdout",
     "output_type": "stream",
     "text": [
      "Saving summary file to:/mnt/c/Users/Dylan/Documents/zaneveld/2_14_gcmp/GCMP_Global_Disease/analysis/organelle_removal/output/effects_of_rarefaction_analysis/feature_table_greengenes_skeleton.qzv\n",
      "Done with processing greengenes taxonomy annotations!\n",
      "\n",
      "\n",
      "Analyzing data using the greengenes_metaxa2 taxonomy (../output/greengenes_metaxa2_reference_taxonomy.qza)\n",
      "Removing mitochondria from: all <artifact: FeatureTable[Frequency] uuid: 1c509bb4-76c4-4ef1-b965-548b2951f48d>\n",
      "Saving results to:/mnt/c/Users/Dylan/Documents/zaneveld/2_14_gcmp/GCMP_Global_Disease/analysis/organelle_removal/output/effects_of_rarefaction_analysis/feature_table_greengenes_metaxa2_all.qza\n"
     ]
    },
    {
     "name": "stderr",
     "output_type": "stream",
     "text": [
      "/home/dylan/miniconda3/envs/qiime2-2020.11/lib/python3.6/site-packages/seaborn/distributions.py:2551: FutureWarning: `distplot` is a deprecated function and will be removed in a future version. Please adapt your code to use either `displot` (a figure-level function with similar flexibility) or `histplot` (an axes-level function for histograms).\n",
      "  warnings.warn(msg, FutureWarning)\n",
      "/home/dylan/miniconda3/envs/qiime2-2020.11/lib/python3.6/site-packages/seaborn/distributions.py:2055: FutureWarning: The `axis` variable is no longer used and will be removed. Instead, assign variables directly to `x` or `y`.\n",
      "  warnings.warn(msg, FutureWarning)\n",
      "/home/dylan/miniconda3/envs/qiime2-2020.11/lib/python3.6/site-packages/seaborn/distributions.py:2551: FutureWarning: `distplot` is a deprecated function and will be removed in a future version. Please adapt your code to use either `displot` (a figure-level function with similar flexibility) or `histplot` (an axes-level function for histograms).\n",
      "  warnings.warn(msg, FutureWarning)\n"
     ]
    },
    {
     "name": "stdout",
     "output_type": "stream",
     "text": [
      "Saving summary file to:/mnt/c/Users/Dylan/Documents/zaneveld/2_14_gcmp/GCMP_Global_Disease/analysis/organelle_removal/output/effects_of_rarefaction_analysis/feature_table_greengenes_metaxa2_all.qzv\n",
      "Removing mitochondria from: mucus <artifact: FeatureTable[Frequency] uuid: 80b538d6-2ca4-40aa-8d6c-5ac8ee7bc869>\n",
      "Saving results to:/mnt/c/Users/Dylan/Documents/zaneveld/2_14_gcmp/GCMP_Global_Disease/analysis/organelle_removal/output/effects_of_rarefaction_analysis/feature_table_greengenes_metaxa2_mucus.qza\n"
     ]
    },
    {
     "name": "stderr",
     "output_type": "stream",
     "text": [
      "/home/dylan/miniconda3/envs/qiime2-2020.11/lib/python3.6/site-packages/seaborn/distributions.py:2551: FutureWarning: `distplot` is a deprecated function and will be removed in a future version. Please adapt your code to use either `displot` (a figure-level function with similar flexibility) or `histplot` (an axes-level function for histograms).\n",
      "  warnings.warn(msg, FutureWarning)\n",
      "/home/dylan/miniconda3/envs/qiime2-2020.11/lib/python3.6/site-packages/seaborn/distributions.py:2055: FutureWarning: The `axis` variable is no longer used and will be removed. Instead, assign variables directly to `x` or `y`.\n",
      "  warnings.warn(msg, FutureWarning)\n",
      "/home/dylan/miniconda3/envs/qiime2-2020.11/lib/python3.6/site-packages/seaborn/distributions.py:2551: FutureWarning: `distplot` is a deprecated function and will be removed in a future version. Please adapt your code to use either `displot` (a figure-level function with similar flexibility) or `histplot` (an axes-level function for histograms).\n",
      "  warnings.warn(msg, FutureWarning)\n"
     ]
    },
    {
     "name": "stdout",
     "output_type": "stream",
     "text": [
      "Saving summary file to:/mnt/c/Users/Dylan/Documents/zaneveld/2_14_gcmp/GCMP_Global_Disease/analysis/organelle_removal/output/effects_of_rarefaction_analysis/feature_table_greengenes_metaxa2_mucus.qzv\n",
      "Removing mitochondria from: tissue <artifact: FeatureTable[Frequency] uuid: e3ff2a67-e8c6-4cc1-9d9a-1181721024cc>\n",
      "Saving results to:/mnt/c/Users/Dylan/Documents/zaneveld/2_14_gcmp/GCMP_Global_Disease/analysis/organelle_removal/output/effects_of_rarefaction_analysis/feature_table_greengenes_metaxa2_tissue.qza\n"
     ]
    },
    {
     "name": "stderr",
     "output_type": "stream",
     "text": [
      "/home/dylan/miniconda3/envs/qiime2-2020.11/lib/python3.6/site-packages/seaborn/distributions.py:2551: FutureWarning: `distplot` is a deprecated function and will be removed in a future version. Please adapt your code to use either `displot` (a figure-level function with similar flexibility) or `histplot` (an axes-level function for histograms).\n",
      "  warnings.warn(msg, FutureWarning)\n",
      "/home/dylan/miniconda3/envs/qiime2-2020.11/lib/python3.6/site-packages/seaborn/distributions.py:2055: FutureWarning: The `axis` variable is no longer used and will be removed. Instead, assign variables directly to `x` or `y`.\n",
      "  warnings.warn(msg, FutureWarning)\n",
      "/home/dylan/miniconda3/envs/qiime2-2020.11/lib/python3.6/site-packages/seaborn/distributions.py:2551: FutureWarning: `distplot` is a deprecated function and will be removed in a future version. Please adapt your code to use either `displot` (a figure-level function with similar flexibility) or `histplot` (an axes-level function for histograms).\n",
      "  warnings.warn(msg, FutureWarning)\n"
     ]
    },
    {
     "name": "stdout",
     "output_type": "stream",
     "text": [
      "Saving summary file to:/mnt/c/Users/Dylan/Documents/zaneveld/2_14_gcmp/GCMP_Global_Disease/analysis/organelle_removal/output/effects_of_rarefaction_analysis/feature_table_greengenes_metaxa2_tissue.qzv\n",
      "Removing mitochondria from: skeleton <artifact: FeatureTable[Frequency] uuid: 219a3d7d-72d5-4c8f-b109-0888294262ef>\n",
      "Saving results to:/mnt/c/Users/Dylan/Documents/zaneveld/2_14_gcmp/GCMP_Global_Disease/analysis/organelle_removal/output/effects_of_rarefaction_analysis/feature_table_greengenes_metaxa2_skeleton.qza\n"
     ]
    },
    {
     "name": "stderr",
     "output_type": "stream",
     "text": [
      "/home/dylan/miniconda3/envs/qiime2-2020.11/lib/python3.6/site-packages/seaborn/distributions.py:2551: FutureWarning: `distplot` is a deprecated function and will be removed in a future version. Please adapt your code to use either `displot` (a figure-level function with similar flexibility) or `histplot` (an axes-level function for histograms).\n",
      "  warnings.warn(msg, FutureWarning)\n",
      "/home/dylan/miniconda3/envs/qiime2-2020.11/lib/python3.6/site-packages/seaborn/distributions.py:2055: FutureWarning: The `axis` variable is no longer used and will be removed. Instead, assign variables directly to `x` or `y`.\n",
      "  warnings.warn(msg, FutureWarning)\n",
      "/home/dylan/miniconda3/envs/qiime2-2020.11/lib/python3.6/site-packages/seaborn/distributions.py:2551: FutureWarning: `distplot` is a deprecated function and will be removed in a future version. Please adapt your code to use either `displot` (a figure-level function with similar flexibility) or `histplot` (an axes-level function for histograms).\n",
      "  warnings.warn(msg, FutureWarning)\n"
     ]
    },
    {
     "name": "stdout",
     "output_type": "stream",
     "text": [
      "Saving summary file to:/mnt/c/Users/Dylan/Documents/zaneveld/2_14_gcmp/GCMP_Global_Disease/analysis/organelle_removal/output/effects_of_rarefaction_analysis/feature_table_greengenes_metaxa2_skeleton.qzv\n",
      "Done with processing greengenes_metaxa2 taxonomy annotations!\n",
      "\n",
      "\n"
     ]
    }
   ],
   "source": [
    "from qiime2.plugins.feature_table.methods import filter_features\n",
    "from collections import defaultdict\n",
    "\n",
    "filtered_feature_tables_by_taxonomy = defaultdict(dict)\n",
    "\n",
    "metadata = Metadata.load(mapping_file)\n",
    "seqs = Artifact.load(sequence_file)\n",
    "\n",
    "for label,taxonomy_file in taxonomy_files.items():\n",
    "    \n",
    "    print(f\"Analyzing data using the {label} taxonomy ({taxonomy_file})\")\n",
    "    taxonomy = Artifact.load(taxonomy_file)  \n",
    "    \n",
    "    mucus_features = Artifact.load(mucus_feature_table)\n",
    "    tissue_features = Artifact.load(tissue_feature_table)\n",
    "    skeleton_features = Artifact.load(skeleton_feature_table)\n",
    "    overall_features = Artifact.load(overall_feature_table)\n",
    "    feature_tables = {\"all\":overall_features,\"mucus\":mucus_features,\\\n",
    "                      \"tissue\": tissue_features,\"skeleton\":skeleton_features,}\n",
    "    \n",
    "    for compartment,table in feature_tables.items():\n",
    "        print(\"Removing mitochondria from:\", compartment,table)\n",
    "        #NOTE: the QIIME2 api does NOT return a single object (as I thought based on the  documentation, but a NamedTuple\n",
    "        #structure with each output in it)\n",
    "        filter_table_results = filter_table(table,taxonomy,exclude=\"mitochondria,chloroplast\",mode=\"contains\")\n",
    "        filter_table_results = filter_samples(filter_table_results.filtered_table, metadata = metadata)\n",
    "        filtered_table = filter_table_results.filtered_table\n",
    "    \n",
    "        #Save the resulting feature table to disk\n",
    "        output_filename = f\"feature_table_{label}_{compartment}.qza\"\n",
    "        output_filepath = join(output_dir,output_filename)\n",
    "        print(f\"Saving results to:{output_filepath}\")\n",
    "        filtered_table.save(output_filepath)\n",
    "        \n",
    "        #Output a sample summary\n",
    "        summary_visualization = summarize(filtered_table,sample_metadata=metadata)\n",
    "        vis = summary_visualization.visualization\n",
    "        output_filename = f\"feature_table_{label}_{compartment}.qzv\"\n",
    "        output_filepath = join(output_dir,output_filename)\n",
    "        print(f\"Saving summary file to:{output_filepath}\")\n",
    "        vis.save(output_filepath)\n",
    "        \n",
    "        filtered_feature_tables_by_taxonomy[label][compartment]=filtered_table\n",
    "    \n",
    "    print(f\"Done with processing {label} taxonomy annotations!\\n\\n\")"
   ]
  },
  {
   "cell_type": "markdown",
   "metadata": {},
   "source": [
    "## Rarefy tables to even depth"
   ]
  },
  {
   "cell_type": "code",
   "execution_count": 6,
   "metadata": {},
   "outputs": [
    {
     "name": "stdout",
     "output_type": "stream",
     "text": [
      "Rarefying: all feature table <artifact: FeatureTable[Frequency] uuid: 119c2553-7231-4721-bcce-f09aabaec250> to 1000 sequences/sample\n",
      "Saving results to:/mnt/c/Users/Dylan/Documents/zaneveld/2_14_gcmp/GCMP_Global_Disease/analysis/organelle_removal/output/effects_of_rarefaction_analysis/feature_table_silva_metaxa2_all_1000.qza\n",
      "Rarefying: mucus feature table <artifact: FeatureTable[Frequency] uuid: 13c6d11c-c151-4e5a-b324-f99206a2a79e> to 1000 sequences/sample\n",
      "Saving results to:/mnt/c/Users/Dylan/Documents/zaneveld/2_14_gcmp/GCMP_Global_Disease/analysis/organelle_removal/output/effects_of_rarefaction_analysis/feature_table_silva_metaxa2_mucus_1000.qza\n",
      "Rarefying: tissue feature table <artifact: FeatureTable[Frequency] uuid: 113ef4af-6fbd-49dc-8ecb-4f1775cd0aff> to 1000 sequences/sample\n",
      "Saving results to:/mnt/c/Users/Dylan/Documents/zaneveld/2_14_gcmp/GCMP_Global_Disease/analysis/organelle_removal/output/effects_of_rarefaction_analysis/feature_table_silva_metaxa2_tissue_1000.qza\n",
      "Rarefying: skeleton feature table <artifact: FeatureTable[Frequency] uuid: 515eb106-fcba-44b4-856d-d4e24932617e> to 1000 sequences/sample\n",
      "Saving results to:/mnt/c/Users/Dylan/Documents/zaneveld/2_14_gcmp/GCMP_Global_Disease/analysis/organelle_removal/output/effects_of_rarefaction_analysis/feature_table_silva_metaxa2_skeleton_1000.qza\n",
      "Rarefying: all feature table <artifact: FeatureTable[Frequency] uuid: fbd398f2-ebf1-4b7f-83b1-5315ce5bb160> to 1000 sequences/sample\n",
      "Saving results to:/mnt/c/Users/Dylan/Documents/zaneveld/2_14_gcmp/GCMP_Global_Disease/analysis/organelle_removal/output/effects_of_rarefaction_analysis/feature_table_silva_all_1000.qza\n",
      "Rarefying: mucus feature table <artifact: FeatureTable[Frequency] uuid: 60cc5ab1-991c-4320-9a7a-f1403221d48c> to 1000 sequences/sample\n",
      "Saving results to:/mnt/c/Users/Dylan/Documents/zaneveld/2_14_gcmp/GCMP_Global_Disease/analysis/organelle_removal/output/effects_of_rarefaction_analysis/feature_table_silva_mucus_1000.qza\n",
      "Rarefying: tissue feature table <artifact: FeatureTable[Frequency] uuid: 736b9b15-b826-4a6d-99bc-f4062ae328fe> to 1000 sequences/sample\n",
      "Saving results to:/mnt/c/Users/Dylan/Documents/zaneveld/2_14_gcmp/GCMP_Global_Disease/analysis/organelle_removal/output/effects_of_rarefaction_analysis/feature_table_silva_tissue_1000.qza\n",
      "Rarefying: skeleton feature table <artifact: FeatureTable[Frequency] uuid: f8c9f549-c2a3-4cfa-a537-e065e797368d> to 1000 sequences/sample\n",
      "Saving results to:/mnt/c/Users/Dylan/Documents/zaneveld/2_14_gcmp/GCMP_Global_Disease/analysis/organelle_removal/output/effects_of_rarefaction_analysis/feature_table_silva_skeleton_1000.qza\n",
      "Rarefying: all feature table <artifact: FeatureTable[Frequency] uuid: d3e768a5-bf7f-45e4-bd2d-a4cc4af30a0e> to 1000 sequences/sample\n",
      "Saving results to:/mnt/c/Users/Dylan/Documents/zaneveld/2_14_gcmp/GCMP_Global_Disease/analysis/organelle_removal/output/effects_of_rarefaction_analysis/feature_table_greengenes_all_1000.qza\n",
      "Rarefying: mucus feature table <artifact: FeatureTable[Frequency] uuid: 33511b2e-fafa-43d1-bcb2-c145c6dc65fc> to 1000 sequences/sample\n",
      "Saving results to:/mnt/c/Users/Dylan/Documents/zaneveld/2_14_gcmp/GCMP_Global_Disease/analysis/organelle_removal/output/effects_of_rarefaction_analysis/feature_table_greengenes_mucus_1000.qza\n",
      "Rarefying: tissue feature table <artifact: FeatureTable[Frequency] uuid: 5b445ee9-7154-489c-b89e-699632e8186b> to 1000 sequences/sample\n",
      "Saving results to:/mnt/c/Users/Dylan/Documents/zaneveld/2_14_gcmp/GCMP_Global_Disease/analysis/organelle_removal/output/effects_of_rarefaction_analysis/feature_table_greengenes_tissue_1000.qza\n",
      "Rarefying: skeleton feature table <artifact: FeatureTable[Frequency] uuid: a49b2d68-e7e8-4308-b753-16c72036c6db> to 1000 sequences/sample\n",
      "Saving results to:/mnt/c/Users/Dylan/Documents/zaneveld/2_14_gcmp/GCMP_Global_Disease/analysis/organelle_removal/output/effects_of_rarefaction_analysis/feature_table_greengenes_skeleton_1000.qza\n",
      "Rarefying: all feature table <artifact: FeatureTable[Frequency] uuid: cf136770-906a-4b75-8ca1-02259e078c20> to 1000 sequences/sample\n",
      "Saving results to:/mnt/c/Users/Dylan/Documents/zaneveld/2_14_gcmp/GCMP_Global_Disease/analysis/organelle_removal/output/effects_of_rarefaction_analysis/feature_table_greengenes_metaxa2_all_1000.qza\n",
      "Rarefying: mucus feature table <artifact: FeatureTable[Frequency] uuid: 7ea9b271-68fa-4e84-8a72-694d0acce0a7> to 1000 sequences/sample\n",
      "Saving results to:/mnt/c/Users/Dylan/Documents/zaneveld/2_14_gcmp/GCMP_Global_Disease/analysis/organelle_removal/output/effects_of_rarefaction_analysis/feature_table_greengenes_metaxa2_mucus_1000.qza\n",
      "Rarefying: tissue feature table <artifact: FeatureTable[Frequency] uuid: c129c8d2-f062-429d-9263-48d17fd9dee2> to 1000 sequences/sample\n",
      "Saving results to:/mnt/c/Users/Dylan/Documents/zaneveld/2_14_gcmp/GCMP_Global_Disease/analysis/organelle_removal/output/effects_of_rarefaction_analysis/feature_table_greengenes_metaxa2_tissue_1000.qza\n",
      "Rarefying: skeleton feature table <artifact: FeatureTable[Frequency] uuid: 676bf580-ad55-436c-a33b-4535e0a9e748> to 1000 sequences/sample\n",
      "Saving results to:/mnt/c/Users/Dylan/Documents/zaneveld/2_14_gcmp/GCMP_Global_Disease/analysis/organelle_removal/output/effects_of_rarefaction_analysis/feature_table_greengenes_metaxa2_skeleton_1000.qza\n"
     ]
    }
   ],
   "source": [
    "from collections import defaultdict\n",
    "rarefaction_depth = 1000\n",
    "\n",
    "rarefied_feature_tables_by_taxonomy = defaultdict(dict)\n",
    "\n",
    "for label,filtered_feature_tables in filtered_feature_tables_by_taxonomy.items():\n",
    "\n",
    "    for compartment,table in filtered_feature_tables.items():\n",
    "        print(f\"Rarefying: {compartment} feature table {table} to {rarefaction_depth} sequences/sample\")\n",
    "        rarefy_results = rarefy(table=table, sampling_depth=rarefaction_depth)\n",
    "        #Get the rarefied table out of the NamedTuple of results\n",
    "        rarefied_filtered_table = rarefy_results.rarefied_table\n",
    "\n",
    "        #Save the resulting feature table to disk\n",
    "        output_filename = f\"feature_table_{label}_{compartment}_{rarefaction_depth}.qza\"\n",
    "        output_filepath = join(output_dir,output_filename)\n",
    "        print(f\"Saving results to:{output_filepath}\")\n",
    "        rarefied_filtered_table.save(output_filepath)\n",
    "\n",
    "        #Store rarefied feature table in a dict so we don't have to reload\n",
    "        rarefied_feature_tables_by_taxonomy[label][compartment]=rarefied_filtered_table\n"
   ]
  },
  {
   "cell_type": "markdown",
   "metadata": {},
   "source": [
    "#### New step: harmonize sample sets between treatments\n",
    "\n",
    "Next we will filter the samples in the rarefied gg and silva files to match the samples in the gg+metaxa2 or silva+metaxa2 annotation datasets."
   ]
  },
  {
   "cell_type": "code",
   "execution_count": 7,
   "metadata": {},
   "outputs": [
    {
     "name": "stdout",
     "output_type": "stream",
     "text": [
      "Taxonomy scheme: silva_metaxa2\n",
      "Compartment: all\n",
      "This table has  1097 samples\n",
      "Compartment: mucus\n",
      "This table has  312 samples\n",
      "Compartment: tissue\n",
      "This table has  360 samples\n",
      "Compartment: skeleton\n",
      "This table has  364 samples\n",
      "Taxonomy scheme: silva\n",
      "Compartment: all\n",
      "This table has  1153 samples\n",
      "Compartment: mucus\n",
      "This table has  318 samples\n",
      "Compartment: tissue\n",
      "This table has  389 samples\n",
      "Compartment: skeleton\n",
      "This table has  382 samples\n",
      "Taxonomy scheme: greengenes\n",
      "Compartment: all\n",
      "This table has  1154 samples\n",
      "Compartment: mucus\n",
      "This table has  318 samples\n",
      "Compartment: tissue\n",
      "This table has  390 samples\n",
      "Compartment: skeleton\n",
      "This table has  382 samples\n",
      "Taxonomy scheme: greengenes_metaxa2\n",
      "Compartment: all\n",
      "This table has  1098 samples\n",
      "Compartment: mucus\n",
      "This table has  312 samples\n",
      "Compartment: tissue\n",
      "This table has  361 samples\n",
      "Compartment: skeleton\n",
      "This table has  364 samples\n"
     ]
    }
   ],
   "source": [
    "\n",
    "\n",
    "#Substeps\n",
    "\n",
    "#Check the list of feature tables\n",
    "\n",
    "\n",
    "# Build a two level dict to hold sample ids for every feature table by taxonomic\n",
    "#scheme then by compartment\n",
    "sample_ids_by_taxonomy = defaultdict(dict)\n",
    "\n",
    "#Iterate over all the feature tables from the last step\n",
    "#and collect their sample ids\n",
    "\n",
    "for taxonomy_name,data_dict in rarefied_feature_tables_by_taxonomy.items():\n",
    "    print(\"Taxonomy scheme:\",taxonomy_name)\n",
    "    for compartment,table in data_dict.items():\n",
    "        print(\"Compartment:\",compartment)\n",
    "        \n",
    "        # View as Pandas dataframe\n",
    "        df = table.view(pd.DataFrame)\n",
    "        # Extract ids from this dataframe\n",
    "        n_samples,n_features = df.shape\n",
    "        sample_ids = list(df.index)\n",
    "        print(\"This table has \",len(sample_ids),\"samples\")\n",
    "        sample_ids_by_taxonomy[taxonomy_name][compartment] = sample_ids\n",
    "        \n"
   ]
  },
  {
   "cell_type": "markdown",
   "metadata": {},
   "source": [
    "Now that we have a data structure holding the sample ids for every feature table, we need to specify that we will filter certain tables based on others. "
   ]
  },
  {
   "cell_type": "code",
   "execution_count": 8,
   "metadata": {},
   "outputs": [
    {
     "name": "stdout",
     "output_type": "stream",
     "text": [
      "Filtering silva to have same samples as silva_metaxa2\n",
      "Compartment: all\n",
      "Pre-filtering, this table has  1153 samples\n",
      "Post-filtering, this table has  1097 samples\n",
      "Compartment: mucus\n",
      "Pre-filtering, this table has  318 samples\n",
      "Post-filtering, this table has  312 samples\n",
      "Compartment: tissue\n",
      "Pre-filtering, this table has  389 samples\n",
      "Post-filtering, this table has  360 samples\n",
      "Compartment: skeleton\n",
      "Pre-filtering, this table has  382 samples\n",
      "Post-filtering, this table has  364 samples\n",
      "Filtering greengenes to have same samples as greengenes_metaxa2\n",
      "Compartment: all\n",
      "Pre-filtering, this table has  1154 samples\n",
      "Post-filtering, this table has  1098 samples\n",
      "Compartment: mucus\n",
      "Pre-filtering, this table has  318 samples\n",
      "Post-filtering, this table has  312 samples\n",
      "Compartment: tissue\n",
      "Pre-filtering, this table has  390 samples\n",
      "Post-filtering, this table has  361 samples\n",
      "Compartment: skeleton\n",
      "Pre-filtering, this table has  382 samples\n",
      "Post-filtering, this table has  364 samples\n"
     ]
    }
   ],
   "source": [
    "pairings = {\"silva\":\"silva_metaxa2\",\"greengenes\":\"greengenes_metaxa2\"}\n",
    "filtered_tables = defaultdict(dict)\n",
    "for target_tables,source_tables in pairings.items():\n",
    "    print(f\"Filtering {target_tables} to have same samples as {source_tables}\")\n",
    "    for compartment,table in rarefied_feature_tables_by_taxonomy[target_tables].items():\n",
    "        print(\"Compartment:\",compartment)\n",
    "        \n",
    "        \n",
    "         # Extract ids from this table\n",
    "        df = table.view(pd.DataFrame)\n",
    "        n_samples,n_features = df.shape\n",
    "        sample_ids = list(df.index)\n",
    "        \n",
    "        print(\"Pre-filtering, this table has \",len(sample_ids),\"samples\")\n",
    "        \n",
    "        #Convert the list of ids to QIIME2 metadata\n",
    "        #this requires going list --> DataFrame --> Metadata\n",
    "        id_list = sample_ids_by_taxonomy[source_tables][compartment]\n",
    "        id_df = pd.DataFrame (id_list,columns=['#SampleID'])\n",
    "        id_df = id_df.set_index('#SampleID')\n",
    "        id_md = Metadata(id_df)\n",
    "        \n",
    "        filter_results = filter_samples(table,metadata=id_md)\n",
    "        filtered_table = filter_results.filtered_table\n",
    "        \n",
    "        # View as Pandas dataframe\n",
    "        df = filtered_table.view(pd.DataFrame)\n",
    "        # Extract ids from this dataframe\n",
    "        n_samples,n_features = df.shape\n",
    "        sample_ids = list(df.index)\n",
    "        print(\"Post-filtering, this table has \",len(sample_ids),\"samples\")\n",
    "\n",
    "        #Update the feature_table dict with this new version\n",
    "        rarefied_feature_tables_by_taxonomy[target_tables][compartment] = filtered_table\n",
    "        \n",
    "#Run qiime feature-table filter-samples to filter these sample ids\n",
    "#out of the the standard gg feature table\n",
    "\n",
    "#Repeat for metaxa2"
   ]
  },
  {
   "cell_type": "markdown",
   "metadata": {},
   "source": [
    "#### Calculate alpha diversity for each combination of taxonomic scheme and anatomy "
   ]
  },
  {
   "cell_type": "code",
   "execution_count": 9,
   "metadata": {},
   "outputs": [
    {
     "name": "stdout",
     "output_type": "stream",
     "text": [
      "Calculating alpha diversity for all using observed_features\n",
      "Saving results to:/mnt/c/Users/Dylan/Documents/zaneveld/2_14_gcmp/GCMP_Global_Disease/analysis/organelle_removal/output/effects_of_rarefaction_analysis/adiv_silva_metaxa2_all_observed_features_1000_samples_harmonized.qza\n",
      "Saving significance results to:/mnt/c/Users/Dylan/Documents/zaneveld/2_14_gcmp/GCMP_Global_Disease/analysis/organelle_removal/output/effects_of_rarefaction_analysis/adiv_silva_metaxa2_all_observed_features_1000_group_sig_samples_harmonized.qzv\n",
      "Calculating alpha diversity for all using gini_index\n",
      "Saving results to:/mnt/c/Users/Dylan/Documents/zaneveld/2_14_gcmp/GCMP_Global_Disease/analysis/organelle_removal/output/effects_of_rarefaction_analysis/adiv_silva_metaxa2_all_gini_index_1000_samples_harmonized.qza\n",
      "Saving significance results to:/mnt/c/Users/Dylan/Documents/zaneveld/2_14_gcmp/GCMP_Global_Disease/analysis/organelle_removal/output/effects_of_rarefaction_analysis/adiv_silva_metaxa2_all_gini_index_1000_group_sig_samples_harmonized.qzv\n",
      "Calculating alpha diversity for all using dominance\n",
      "Saving results to:/mnt/c/Users/Dylan/Documents/zaneveld/2_14_gcmp/GCMP_Global_Disease/analysis/organelle_removal/output/effects_of_rarefaction_analysis/adiv_silva_metaxa2_all_dominance_1000_samples_harmonized.qza\n",
      "Saving significance results to:/mnt/c/Users/Dylan/Documents/zaneveld/2_14_gcmp/GCMP_Global_Disease/analysis/organelle_removal/output/effects_of_rarefaction_analysis/adiv_silva_metaxa2_all_dominance_1000_group_sig_samples_harmonized.qzv\n",
      "Calculating alpha diversity for all using simpson_e\n",
      "Saving results to:/mnt/c/Users/Dylan/Documents/zaneveld/2_14_gcmp/GCMP_Global_Disease/analysis/organelle_removal/output/effects_of_rarefaction_analysis/adiv_silva_metaxa2_all_simpson_e_1000_samples_harmonized.qza\n",
      "Saving significance results to:/mnt/c/Users/Dylan/Documents/zaneveld/2_14_gcmp/GCMP_Global_Disease/analysis/organelle_removal/output/effects_of_rarefaction_analysis/adiv_silva_metaxa2_all_simpson_e_1000_group_sig_samples_harmonized.qzv\n",
      "Calculating alpha diversity for mucus using observed_features\n",
      "Saving results to:/mnt/c/Users/Dylan/Documents/zaneveld/2_14_gcmp/GCMP_Global_Disease/analysis/organelle_removal/output/effects_of_rarefaction_analysis/adiv_silva_metaxa2_mucus_observed_features_1000_samples_harmonized.qza\n",
      "Saving significance results to:/mnt/c/Users/Dylan/Documents/zaneveld/2_14_gcmp/GCMP_Global_Disease/analysis/organelle_removal/output/effects_of_rarefaction_analysis/adiv_silva_metaxa2_mucus_observed_features_1000_group_sig_samples_harmonized.qzv\n",
      "Calculating alpha diversity for mucus using gini_index\n",
      "Saving results to:/mnt/c/Users/Dylan/Documents/zaneveld/2_14_gcmp/GCMP_Global_Disease/analysis/organelle_removal/output/effects_of_rarefaction_analysis/adiv_silva_metaxa2_mucus_gini_index_1000_samples_harmonized.qza\n",
      "Saving significance results to:/mnt/c/Users/Dylan/Documents/zaneveld/2_14_gcmp/GCMP_Global_Disease/analysis/organelle_removal/output/effects_of_rarefaction_analysis/adiv_silva_metaxa2_mucus_gini_index_1000_group_sig_samples_harmonized.qzv\n",
      "Calculating alpha diversity for mucus using dominance\n",
      "Saving results to:/mnt/c/Users/Dylan/Documents/zaneveld/2_14_gcmp/GCMP_Global_Disease/analysis/organelle_removal/output/effects_of_rarefaction_analysis/adiv_silva_metaxa2_mucus_dominance_1000_samples_harmonized.qza\n",
      "Saving significance results to:/mnt/c/Users/Dylan/Documents/zaneveld/2_14_gcmp/GCMP_Global_Disease/analysis/organelle_removal/output/effects_of_rarefaction_analysis/adiv_silva_metaxa2_mucus_dominance_1000_group_sig_samples_harmonized.qzv\n",
      "Calculating alpha diversity for mucus using simpson_e\n",
      "Saving results to:/mnt/c/Users/Dylan/Documents/zaneveld/2_14_gcmp/GCMP_Global_Disease/analysis/organelle_removal/output/effects_of_rarefaction_analysis/adiv_silva_metaxa2_mucus_simpson_e_1000_samples_harmonized.qza\n",
      "Saving significance results to:/mnt/c/Users/Dylan/Documents/zaneveld/2_14_gcmp/GCMP_Global_Disease/analysis/organelle_removal/output/effects_of_rarefaction_analysis/adiv_silva_metaxa2_mucus_simpson_e_1000_group_sig_samples_harmonized.qzv\n",
      "Calculating alpha diversity for tissue using observed_features\n",
      "Saving results to:/mnt/c/Users/Dylan/Documents/zaneveld/2_14_gcmp/GCMP_Global_Disease/analysis/organelle_removal/output/effects_of_rarefaction_analysis/adiv_silva_metaxa2_tissue_observed_features_1000_samples_harmonized.qza\n",
      "Saving significance results to:/mnt/c/Users/Dylan/Documents/zaneveld/2_14_gcmp/GCMP_Global_Disease/analysis/organelle_removal/output/effects_of_rarefaction_analysis/adiv_silva_metaxa2_tissue_observed_features_1000_group_sig_samples_harmonized.qzv\n",
      "Calculating alpha diversity for tissue using gini_index\n",
      "Saving results to:/mnt/c/Users/Dylan/Documents/zaneveld/2_14_gcmp/GCMP_Global_Disease/analysis/organelle_removal/output/effects_of_rarefaction_analysis/adiv_silva_metaxa2_tissue_gini_index_1000_samples_harmonized.qza\n",
      "Saving significance results to:/mnt/c/Users/Dylan/Documents/zaneveld/2_14_gcmp/GCMP_Global_Disease/analysis/organelle_removal/output/effects_of_rarefaction_analysis/adiv_silva_metaxa2_tissue_gini_index_1000_group_sig_samples_harmonized.qzv\n",
      "Calculating alpha diversity for tissue using dominance\n",
      "Saving results to:/mnt/c/Users/Dylan/Documents/zaneveld/2_14_gcmp/GCMP_Global_Disease/analysis/organelle_removal/output/effects_of_rarefaction_analysis/adiv_silva_metaxa2_tissue_dominance_1000_samples_harmonized.qza\n",
      "Saving significance results to:/mnt/c/Users/Dylan/Documents/zaneveld/2_14_gcmp/GCMP_Global_Disease/analysis/organelle_removal/output/effects_of_rarefaction_analysis/adiv_silva_metaxa2_tissue_dominance_1000_group_sig_samples_harmonized.qzv\n",
      "Calculating alpha diversity for tissue using simpson_e\n",
      "Saving results to:/mnt/c/Users/Dylan/Documents/zaneveld/2_14_gcmp/GCMP_Global_Disease/analysis/organelle_removal/output/effects_of_rarefaction_analysis/adiv_silva_metaxa2_tissue_simpson_e_1000_samples_harmonized.qza\n",
      "Saving significance results to:/mnt/c/Users/Dylan/Documents/zaneveld/2_14_gcmp/GCMP_Global_Disease/analysis/organelle_removal/output/effects_of_rarefaction_analysis/adiv_silva_metaxa2_tissue_simpson_e_1000_group_sig_samples_harmonized.qzv\n",
      "Calculating alpha diversity for skeleton using observed_features\n",
      "Saving results to:/mnt/c/Users/Dylan/Documents/zaneveld/2_14_gcmp/GCMP_Global_Disease/analysis/organelle_removal/output/effects_of_rarefaction_analysis/adiv_silva_metaxa2_skeleton_observed_features_1000_samples_harmonized.qza\n",
      "Saving significance results to:/mnt/c/Users/Dylan/Documents/zaneveld/2_14_gcmp/GCMP_Global_Disease/analysis/organelle_removal/output/effects_of_rarefaction_analysis/adiv_silva_metaxa2_skeleton_observed_features_1000_group_sig_samples_harmonized.qzv\n",
      "Calculating alpha diversity for skeleton using gini_index\n",
      "Saving results to:/mnt/c/Users/Dylan/Documents/zaneveld/2_14_gcmp/GCMP_Global_Disease/analysis/organelle_removal/output/effects_of_rarefaction_analysis/adiv_silva_metaxa2_skeleton_gini_index_1000_samples_harmonized.qza\n",
      "Saving significance results to:/mnt/c/Users/Dylan/Documents/zaneveld/2_14_gcmp/GCMP_Global_Disease/analysis/organelle_removal/output/effects_of_rarefaction_analysis/adiv_silva_metaxa2_skeleton_gini_index_1000_group_sig_samples_harmonized.qzv\n",
      "Calculating alpha diversity for skeleton using dominance\n",
      "Saving results to:/mnt/c/Users/Dylan/Documents/zaneveld/2_14_gcmp/GCMP_Global_Disease/analysis/organelle_removal/output/effects_of_rarefaction_analysis/adiv_silva_metaxa2_skeleton_dominance_1000_samples_harmonized.qza\n",
      "Saving significance results to:/mnt/c/Users/Dylan/Documents/zaneveld/2_14_gcmp/GCMP_Global_Disease/analysis/organelle_removal/output/effects_of_rarefaction_analysis/adiv_silva_metaxa2_skeleton_dominance_1000_group_sig_samples_harmonized.qzv\n",
      "Calculating alpha diversity for skeleton using simpson_e\n",
      "Saving results to:/mnt/c/Users/Dylan/Documents/zaneveld/2_14_gcmp/GCMP_Global_Disease/analysis/organelle_removal/output/effects_of_rarefaction_analysis/adiv_silva_metaxa2_skeleton_simpson_e_1000_samples_harmonized.qza\n",
      "Saving significance results to:/mnt/c/Users/Dylan/Documents/zaneveld/2_14_gcmp/GCMP_Global_Disease/analysis/organelle_removal/output/effects_of_rarefaction_analysis/adiv_silva_metaxa2_skeleton_simpson_e_1000_group_sig_samples_harmonized.qzv\n"
     ]
    },
    {
     "name": "stdout",
     "output_type": "stream",
     "text": [
      "Calculating alpha diversity for all using observed_features\n",
      "Saving results to:/mnt/c/Users/Dylan/Documents/zaneveld/2_14_gcmp/GCMP_Global_Disease/analysis/organelle_removal/output/effects_of_rarefaction_analysis/adiv_silva_all_observed_features_1000_samples_harmonized.qza\n",
      "Saving significance results to:/mnt/c/Users/Dylan/Documents/zaneveld/2_14_gcmp/GCMP_Global_Disease/analysis/organelle_removal/output/effects_of_rarefaction_analysis/adiv_silva_all_observed_features_1000_group_sig_samples_harmonized.qzv\n",
      "Calculating alpha diversity for all using gini_index\n",
      "Saving results to:/mnt/c/Users/Dylan/Documents/zaneveld/2_14_gcmp/GCMP_Global_Disease/analysis/organelle_removal/output/effects_of_rarefaction_analysis/adiv_silva_all_gini_index_1000_samples_harmonized.qza\n",
      "Saving significance results to:/mnt/c/Users/Dylan/Documents/zaneveld/2_14_gcmp/GCMP_Global_Disease/analysis/organelle_removal/output/effects_of_rarefaction_analysis/adiv_silva_all_gini_index_1000_group_sig_samples_harmonized.qzv\n",
      "Calculating alpha diversity for all using dominance\n",
      "Saving results to:/mnt/c/Users/Dylan/Documents/zaneveld/2_14_gcmp/GCMP_Global_Disease/analysis/organelle_removal/output/effects_of_rarefaction_analysis/adiv_silva_all_dominance_1000_samples_harmonized.qza\n",
      "Saving significance results to:/mnt/c/Users/Dylan/Documents/zaneveld/2_14_gcmp/GCMP_Global_Disease/analysis/organelle_removal/output/effects_of_rarefaction_analysis/adiv_silva_all_dominance_1000_group_sig_samples_harmonized.qzv\n",
      "Calculating alpha diversity for all using simpson_e\n",
      "Saving results to:/mnt/c/Users/Dylan/Documents/zaneveld/2_14_gcmp/GCMP_Global_Disease/analysis/organelle_removal/output/effects_of_rarefaction_analysis/adiv_silva_all_simpson_e_1000_samples_harmonized.qza\n",
      "Saving significance results to:/mnt/c/Users/Dylan/Documents/zaneveld/2_14_gcmp/GCMP_Global_Disease/analysis/organelle_removal/output/effects_of_rarefaction_analysis/adiv_silva_all_simpson_e_1000_group_sig_samples_harmonized.qzv\n",
      "Calculating alpha diversity for mucus using observed_features\n",
      "Saving results to:/mnt/c/Users/Dylan/Documents/zaneveld/2_14_gcmp/GCMP_Global_Disease/analysis/organelle_removal/output/effects_of_rarefaction_analysis/adiv_silva_mucus_observed_features_1000_samples_harmonized.qza\n",
      "Saving significance results to:/mnt/c/Users/Dylan/Documents/zaneveld/2_14_gcmp/GCMP_Global_Disease/analysis/organelle_removal/output/effects_of_rarefaction_analysis/adiv_silva_mucus_observed_features_1000_group_sig_samples_harmonized.qzv\n",
      "Calculating alpha diversity for mucus using gini_index\n",
      "Saving results to:/mnt/c/Users/Dylan/Documents/zaneveld/2_14_gcmp/GCMP_Global_Disease/analysis/organelle_removal/output/effects_of_rarefaction_analysis/adiv_silva_mucus_gini_index_1000_samples_harmonized.qza\n",
      "Saving significance results to:/mnt/c/Users/Dylan/Documents/zaneveld/2_14_gcmp/GCMP_Global_Disease/analysis/organelle_removal/output/effects_of_rarefaction_analysis/adiv_silva_mucus_gini_index_1000_group_sig_samples_harmonized.qzv\n",
      "Calculating alpha diversity for mucus using dominance\n",
      "Saving results to:/mnt/c/Users/Dylan/Documents/zaneveld/2_14_gcmp/GCMP_Global_Disease/analysis/organelle_removal/output/effects_of_rarefaction_analysis/adiv_silva_mucus_dominance_1000_samples_harmonized.qza\n",
      "Saving significance results to:/mnt/c/Users/Dylan/Documents/zaneveld/2_14_gcmp/GCMP_Global_Disease/analysis/organelle_removal/output/effects_of_rarefaction_analysis/adiv_silva_mucus_dominance_1000_group_sig_samples_harmonized.qzv\n",
      "Calculating alpha diversity for mucus using simpson_e\n",
      "Saving results to:/mnt/c/Users/Dylan/Documents/zaneveld/2_14_gcmp/GCMP_Global_Disease/analysis/organelle_removal/output/effects_of_rarefaction_analysis/adiv_silva_mucus_simpson_e_1000_samples_harmonized.qza\n",
      "Saving significance results to:/mnt/c/Users/Dylan/Documents/zaneveld/2_14_gcmp/GCMP_Global_Disease/analysis/organelle_removal/output/effects_of_rarefaction_analysis/adiv_silva_mucus_simpson_e_1000_group_sig_samples_harmonized.qzv\n",
      "Calculating alpha diversity for tissue using observed_features\n",
      "Saving results to:/mnt/c/Users/Dylan/Documents/zaneveld/2_14_gcmp/GCMP_Global_Disease/analysis/organelle_removal/output/effects_of_rarefaction_analysis/adiv_silva_tissue_observed_features_1000_samples_harmonized.qza\n",
      "Saving significance results to:/mnt/c/Users/Dylan/Documents/zaneveld/2_14_gcmp/GCMP_Global_Disease/analysis/organelle_removal/output/effects_of_rarefaction_analysis/adiv_silva_tissue_observed_features_1000_group_sig_samples_harmonized.qzv\n",
      "Calculating alpha diversity for tissue using gini_index\n",
      "Saving results to:/mnt/c/Users/Dylan/Documents/zaneveld/2_14_gcmp/GCMP_Global_Disease/analysis/organelle_removal/output/effects_of_rarefaction_analysis/adiv_silva_tissue_gini_index_1000_samples_harmonized.qza\n",
      "Saving significance results to:/mnt/c/Users/Dylan/Documents/zaneveld/2_14_gcmp/GCMP_Global_Disease/analysis/organelle_removal/output/effects_of_rarefaction_analysis/adiv_silva_tissue_gini_index_1000_group_sig_samples_harmonized.qzv\n",
      "Calculating alpha diversity for tissue using dominance\n",
      "Saving results to:/mnt/c/Users/Dylan/Documents/zaneveld/2_14_gcmp/GCMP_Global_Disease/analysis/organelle_removal/output/effects_of_rarefaction_analysis/adiv_silva_tissue_dominance_1000_samples_harmonized.qza\n",
      "Saving significance results to:/mnt/c/Users/Dylan/Documents/zaneveld/2_14_gcmp/GCMP_Global_Disease/analysis/organelle_removal/output/effects_of_rarefaction_analysis/adiv_silva_tissue_dominance_1000_group_sig_samples_harmonized.qzv\n",
      "Calculating alpha diversity for tissue using simpson_e\n",
      "Saving results to:/mnt/c/Users/Dylan/Documents/zaneveld/2_14_gcmp/GCMP_Global_Disease/analysis/organelle_removal/output/effects_of_rarefaction_analysis/adiv_silva_tissue_simpson_e_1000_samples_harmonized.qza\n",
      "Saving significance results to:/mnt/c/Users/Dylan/Documents/zaneveld/2_14_gcmp/GCMP_Global_Disease/analysis/organelle_removal/output/effects_of_rarefaction_analysis/adiv_silva_tissue_simpson_e_1000_group_sig_samples_harmonized.qzv\n",
      "Calculating alpha diversity for skeleton using observed_features\n",
      "Saving results to:/mnt/c/Users/Dylan/Documents/zaneveld/2_14_gcmp/GCMP_Global_Disease/analysis/organelle_removal/output/effects_of_rarefaction_analysis/adiv_silva_skeleton_observed_features_1000_samples_harmonized.qza\n",
      "Saving significance results to:/mnt/c/Users/Dylan/Documents/zaneveld/2_14_gcmp/GCMP_Global_Disease/analysis/organelle_removal/output/effects_of_rarefaction_analysis/adiv_silva_skeleton_observed_features_1000_group_sig_samples_harmonized.qzv\n",
      "Calculating alpha diversity for skeleton using gini_index\n",
      "Saving results to:/mnt/c/Users/Dylan/Documents/zaneveld/2_14_gcmp/GCMP_Global_Disease/analysis/organelle_removal/output/effects_of_rarefaction_analysis/adiv_silva_skeleton_gini_index_1000_samples_harmonized.qza\n",
      "Saving significance results to:/mnt/c/Users/Dylan/Documents/zaneveld/2_14_gcmp/GCMP_Global_Disease/analysis/organelle_removal/output/effects_of_rarefaction_analysis/adiv_silva_skeleton_gini_index_1000_group_sig_samples_harmonized.qzv\n",
      "Calculating alpha diversity for skeleton using dominance\n",
      "Saving results to:/mnt/c/Users/Dylan/Documents/zaneveld/2_14_gcmp/GCMP_Global_Disease/analysis/organelle_removal/output/effects_of_rarefaction_analysis/adiv_silva_skeleton_dominance_1000_samples_harmonized.qza\n",
      "Saving significance results to:/mnt/c/Users/Dylan/Documents/zaneveld/2_14_gcmp/GCMP_Global_Disease/analysis/organelle_removal/output/effects_of_rarefaction_analysis/adiv_silva_skeleton_dominance_1000_group_sig_samples_harmonized.qzv\n",
      "Calculating alpha diversity for skeleton using simpson_e\n",
      "Saving results to:/mnt/c/Users/Dylan/Documents/zaneveld/2_14_gcmp/GCMP_Global_Disease/analysis/organelle_removal/output/effects_of_rarefaction_analysis/adiv_silva_skeleton_simpson_e_1000_samples_harmonized.qza\n",
      "Saving significance results to:/mnt/c/Users/Dylan/Documents/zaneveld/2_14_gcmp/GCMP_Global_Disease/analysis/organelle_removal/output/effects_of_rarefaction_analysis/adiv_silva_skeleton_simpson_e_1000_group_sig_samples_harmonized.qzv\n",
      "Calculating alpha diversity for all using observed_features\n",
      "Saving results to:/mnt/c/Users/Dylan/Documents/zaneveld/2_14_gcmp/GCMP_Global_Disease/analysis/organelle_removal/output/effects_of_rarefaction_analysis/adiv_greengenes_all_observed_features_1000_samples_harmonized.qza\n"
     ]
    },
    {
     "name": "stdout",
     "output_type": "stream",
     "text": [
      "Saving significance results to:/mnt/c/Users/Dylan/Documents/zaneveld/2_14_gcmp/GCMP_Global_Disease/analysis/organelle_removal/output/effects_of_rarefaction_analysis/adiv_greengenes_all_observed_features_1000_group_sig_samples_harmonized.qzv\n",
      "Calculating alpha diversity for all using gini_index\n",
      "Saving results to:/mnt/c/Users/Dylan/Documents/zaneveld/2_14_gcmp/GCMP_Global_Disease/analysis/organelle_removal/output/effects_of_rarefaction_analysis/adiv_greengenes_all_gini_index_1000_samples_harmonized.qza\n",
      "Saving significance results to:/mnt/c/Users/Dylan/Documents/zaneveld/2_14_gcmp/GCMP_Global_Disease/analysis/organelle_removal/output/effects_of_rarefaction_analysis/adiv_greengenes_all_gini_index_1000_group_sig_samples_harmonized.qzv\n",
      "Calculating alpha diversity for all using dominance\n",
      "Saving results to:/mnt/c/Users/Dylan/Documents/zaneveld/2_14_gcmp/GCMP_Global_Disease/analysis/organelle_removal/output/effects_of_rarefaction_analysis/adiv_greengenes_all_dominance_1000_samples_harmonized.qza\n",
      "Saving significance results to:/mnt/c/Users/Dylan/Documents/zaneveld/2_14_gcmp/GCMP_Global_Disease/analysis/organelle_removal/output/effects_of_rarefaction_analysis/adiv_greengenes_all_dominance_1000_group_sig_samples_harmonized.qzv\n",
      "Calculating alpha diversity for all using simpson_e\n",
      "Saving results to:/mnt/c/Users/Dylan/Documents/zaneveld/2_14_gcmp/GCMP_Global_Disease/analysis/organelle_removal/output/effects_of_rarefaction_analysis/adiv_greengenes_all_simpson_e_1000_samples_harmonized.qza\n",
      "Saving significance results to:/mnt/c/Users/Dylan/Documents/zaneveld/2_14_gcmp/GCMP_Global_Disease/analysis/organelle_removal/output/effects_of_rarefaction_analysis/adiv_greengenes_all_simpson_e_1000_group_sig_samples_harmonized.qzv\n",
      "Calculating alpha diversity for mucus using observed_features\n",
      "Saving results to:/mnt/c/Users/Dylan/Documents/zaneveld/2_14_gcmp/GCMP_Global_Disease/analysis/organelle_removal/output/effects_of_rarefaction_analysis/adiv_greengenes_mucus_observed_features_1000_samples_harmonized.qza\n",
      "Saving significance results to:/mnt/c/Users/Dylan/Documents/zaneveld/2_14_gcmp/GCMP_Global_Disease/analysis/organelle_removal/output/effects_of_rarefaction_analysis/adiv_greengenes_mucus_observed_features_1000_group_sig_samples_harmonized.qzv\n",
      "Calculating alpha diversity for mucus using gini_index\n",
      "Saving results to:/mnt/c/Users/Dylan/Documents/zaneveld/2_14_gcmp/GCMP_Global_Disease/analysis/organelle_removal/output/effects_of_rarefaction_analysis/adiv_greengenes_mucus_gini_index_1000_samples_harmonized.qza\n",
      "Saving significance results to:/mnt/c/Users/Dylan/Documents/zaneveld/2_14_gcmp/GCMP_Global_Disease/analysis/organelle_removal/output/effects_of_rarefaction_analysis/adiv_greengenes_mucus_gini_index_1000_group_sig_samples_harmonized.qzv\n",
      "Calculating alpha diversity for mucus using dominance\n",
      "Saving results to:/mnt/c/Users/Dylan/Documents/zaneveld/2_14_gcmp/GCMP_Global_Disease/analysis/organelle_removal/output/effects_of_rarefaction_analysis/adiv_greengenes_mucus_dominance_1000_samples_harmonized.qza\n",
      "Saving significance results to:/mnt/c/Users/Dylan/Documents/zaneveld/2_14_gcmp/GCMP_Global_Disease/analysis/organelle_removal/output/effects_of_rarefaction_analysis/adiv_greengenes_mucus_dominance_1000_group_sig_samples_harmonized.qzv\n",
      "Calculating alpha diversity for mucus using simpson_e\n",
      "Saving results to:/mnt/c/Users/Dylan/Documents/zaneveld/2_14_gcmp/GCMP_Global_Disease/analysis/organelle_removal/output/effects_of_rarefaction_analysis/adiv_greengenes_mucus_simpson_e_1000_samples_harmonized.qza\n",
      "Saving significance results to:/mnt/c/Users/Dylan/Documents/zaneveld/2_14_gcmp/GCMP_Global_Disease/analysis/organelle_removal/output/effects_of_rarefaction_analysis/adiv_greengenes_mucus_simpson_e_1000_group_sig_samples_harmonized.qzv\n",
      "Calculating alpha diversity for tissue using observed_features\n",
      "Saving results to:/mnt/c/Users/Dylan/Documents/zaneveld/2_14_gcmp/GCMP_Global_Disease/analysis/organelle_removal/output/effects_of_rarefaction_analysis/adiv_greengenes_tissue_observed_features_1000_samples_harmonized.qza\n",
      "Saving significance results to:/mnt/c/Users/Dylan/Documents/zaneveld/2_14_gcmp/GCMP_Global_Disease/analysis/organelle_removal/output/effects_of_rarefaction_analysis/adiv_greengenes_tissue_observed_features_1000_group_sig_samples_harmonized.qzv\n",
      "Calculating alpha diversity for tissue using gini_index\n",
      "Saving results to:/mnt/c/Users/Dylan/Documents/zaneveld/2_14_gcmp/GCMP_Global_Disease/analysis/organelle_removal/output/effects_of_rarefaction_analysis/adiv_greengenes_tissue_gini_index_1000_samples_harmonized.qza\n",
      "Saving significance results to:/mnt/c/Users/Dylan/Documents/zaneveld/2_14_gcmp/GCMP_Global_Disease/analysis/organelle_removal/output/effects_of_rarefaction_analysis/adiv_greengenes_tissue_gini_index_1000_group_sig_samples_harmonized.qzv\n",
      "Calculating alpha diversity for tissue using dominance\n",
      "Saving results to:/mnt/c/Users/Dylan/Documents/zaneveld/2_14_gcmp/GCMP_Global_Disease/analysis/organelle_removal/output/effects_of_rarefaction_analysis/adiv_greengenes_tissue_dominance_1000_samples_harmonized.qza\n",
      "Saving significance results to:/mnt/c/Users/Dylan/Documents/zaneveld/2_14_gcmp/GCMP_Global_Disease/analysis/organelle_removal/output/effects_of_rarefaction_analysis/adiv_greengenes_tissue_dominance_1000_group_sig_samples_harmonized.qzv\n",
      "Calculating alpha diversity for tissue using simpson_e\n",
      "Saving results to:/mnt/c/Users/Dylan/Documents/zaneveld/2_14_gcmp/GCMP_Global_Disease/analysis/organelle_removal/output/effects_of_rarefaction_analysis/adiv_greengenes_tissue_simpson_e_1000_samples_harmonized.qza\n",
      "Saving significance results to:/mnt/c/Users/Dylan/Documents/zaneveld/2_14_gcmp/GCMP_Global_Disease/analysis/organelle_removal/output/effects_of_rarefaction_analysis/adiv_greengenes_tissue_simpson_e_1000_group_sig_samples_harmonized.qzv\n",
      "Calculating alpha diversity for skeleton using observed_features\n",
      "Saving results to:/mnt/c/Users/Dylan/Documents/zaneveld/2_14_gcmp/GCMP_Global_Disease/analysis/organelle_removal/output/effects_of_rarefaction_analysis/adiv_greengenes_skeleton_observed_features_1000_samples_harmonized.qza\n",
      "Saving significance results to:/mnt/c/Users/Dylan/Documents/zaneveld/2_14_gcmp/GCMP_Global_Disease/analysis/organelle_removal/output/effects_of_rarefaction_analysis/adiv_greengenes_skeleton_observed_features_1000_group_sig_samples_harmonized.qzv\n",
      "Calculating alpha diversity for skeleton using gini_index\n",
      "Saving results to:/mnt/c/Users/Dylan/Documents/zaneveld/2_14_gcmp/GCMP_Global_Disease/analysis/organelle_removal/output/effects_of_rarefaction_analysis/adiv_greengenes_skeleton_gini_index_1000_samples_harmonized.qza\n",
      "Saving significance results to:/mnt/c/Users/Dylan/Documents/zaneveld/2_14_gcmp/GCMP_Global_Disease/analysis/organelle_removal/output/effects_of_rarefaction_analysis/adiv_greengenes_skeleton_gini_index_1000_group_sig_samples_harmonized.qzv\n",
      "Calculating alpha diversity for skeleton using dominance\n",
      "Saving results to:/mnt/c/Users/Dylan/Documents/zaneveld/2_14_gcmp/GCMP_Global_Disease/analysis/organelle_removal/output/effects_of_rarefaction_analysis/adiv_greengenes_skeleton_dominance_1000_samples_harmonized.qza\n",
      "Saving significance results to:/mnt/c/Users/Dylan/Documents/zaneveld/2_14_gcmp/GCMP_Global_Disease/analysis/organelle_removal/output/effects_of_rarefaction_analysis/adiv_greengenes_skeleton_dominance_1000_group_sig_samples_harmonized.qzv\n",
      "Calculating alpha diversity for skeleton using simpson_e\n",
      "Saving results to:/mnt/c/Users/Dylan/Documents/zaneveld/2_14_gcmp/GCMP_Global_Disease/analysis/organelle_removal/output/effects_of_rarefaction_analysis/adiv_greengenes_skeleton_simpson_e_1000_samples_harmonized.qza\n",
      "Saving significance results to:/mnt/c/Users/Dylan/Documents/zaneveld/2_14_gcmp/GCMP_Global_Disease/analysis/organelle_removal/output/effects_of_rarefaction_analysis/adiv_greengenes_skeleton_simpson_e_1000_group_sig_samples_harmonized.qzv\n",
      "Calculating alpha diversity for all using observed_features\n",
      "Saving results to:/mnt/c/Users/Dylan/Documents/zaneveld/2_14_gcmp/GCMP_Global_Disease/analysis/organelle_removal/output/effects_of_rarefaction_analysis/adiv_greengenes_metaxa2_all_observed_features_1000_samples_harmonized.qza\n",
      "Saving significance results to:/mnt/c/Users/Dylan/Documents/zaneveld/2_14_gcmp/GCMP_Global_Disease/analysis/organelle_removal/output/effects_of_rarefaction_analysis/adiv_greengenes_metaxa2_all_observed_features_1000_group_sig_samples_harmonized.qzv\n"
     ]
    },
    {
     "name": "stdout",
     "output_type": "stream",
     "text": [
      "Calculating alpha diversity for all using gini_index\n",
      "Saving results to:/mnt/c/Users/Dylan/Documents/zaneveld/2_14_gcmp/GCMP_Global_Disease/analysis/organelle_removal/output/effects_of_rarefaction_analysis/adiv_greengenes_metaxa2_all_gini_index_1000_samples_harmonized.qza\n",
      "Saving significance results to:/mnt/c/Users/Dylan/Documents/zaneveld/2_14_gcmp/GCMP_Global_Disease/analysis/organelle_removal/output/effects_of_rarefaction_analysis/adiv_greengenes_metaxa2_all_gini_index_1000_group_sig_samples_harmonized.qzv\n",
      "Calculating alpha diversity for all using dominance\n",
      "Saving results to:/mnt/c/Users/Dylan/Documents/zaneveld/2_14_gcmp/GCMP_Global_Disease/analysis/organelle_removal/output/effects_of_rarefaction_analysis/adiv_greengenes_metaxa2_all_dominance_1000_samples_harmonized.qza\n",
      "Saving significance results to:/mnt/c/Users/Dylan/Documents/zaneveld/2_14_gcmp/GCMP_Global_Disease/analysis/organelle_removal/output/effects_of_rarefaction_analysis/adiv_greengenes_metaxa2_all_dominance_1000_group_sig_samples_harmonized.qzv\n",
      "Calculating alpha diversity for all using simpson_e\n",
      "Saving results to:/mnt/c/Users/Dylan/Documents/zaneveld/2_14_gcmp/GCMP_Global_Disease/analysis/organelle_removal/output/effects_of_rarefaction_analysis/adiv_greengenes_metaxa2_all_simpson_e_1000_samples_harmonized.qza\n",
      "Saving significance results to:/mnt/c/Users/Dylan/Documents/zaneveld/2_14_gcmp/GCMP_Global_Disease/analysis/organelle_removal/output/effects_of_rarefaction_analysis/adiv_greengenes_metaxa2_all_simpson_e_1000_group_sig_samples_harmonized.qzv\n",
      "Calculating alpha diversity for mucus using observed_features\n",
      "Saving results to:/mnt/c/Users/Dylan/Documents/zaneveld/2_14_gcmp/GCMP_Global_Disease/analysis/organelle_removal/output/effects_of_rarefaction_analysis/adiv_greengenes_metaxa2_mucus_observed_features_1000_samples_harmonized.qza\n",
      "Saving significance results to:/mnt/c/Users/Dylan/Documents/zaneveld/2_14_gcmp/GCMP_Global_Disease/analysis/organelle_removal/output/effects_of_rarefaction_analysis/adiv_greengenes_metaxa2_mucus_observed_features_1000_group_sig_samples_harmonized.qzv\n",
      "Calculating alpha diversity for mucus using gini_index\n",
      "Saving results to:/mnt/c/Users/Dylan/Documents/zaneveld/2_14_gcmp/GCMP_Global_Disease/analysis/organelle_removal/output/effects_of_rarefaction_analysis/adiv_greengenes_metaxa2_mucus_gini_index_1000_samples_harmonized.qza\n",
      "Saving significance results to:/mnt/c/Users/Dylan/Documents/zaneveld/2_14_gcmp/GCMP_Global_Disease/analysis/organelle_removal/output/effects_of_rarefaction_analysis/adiv_greengenes_metaxa2_mucus_gini_index_1000_group_sig_samples_harmonized.qzv\n",
      "Calculating alpha diversity for mucus using dominance\n",
      "Saving results to:/mnt/c/Users/Dylan/Documents/zaneveld/2_14_gcmp/GCMP_Global_Disease/analysis/organelle_removal/output/effects_of_rarefaction_analysis/adiv_greengenes_metaxa2_mucus_dominance_1000_samples_harmonized.qza\n",
      "Saving significance results to:/mnt/c/Users/Dylan/Documents/zaneveld/2_14_gcmp/GCMP_Global_Disease/analysis/organelle_removal/output/effects_of_rarefaction_analysis/adiv_greengenes_metaxa2_mucus_dominance_1000_group_sig_samples_harmonized.qzv\n",
      "Calculating alpha diversity for mucus using simpson_e\n",
      "Saving results to:/mnt/c/Users/Dylan/Documents/zaneveld/2_14_gcmp/GCMP_Global_Disease/analysis/organelle_removal/output/effects_of_rarefaction_analysis/adiv_greengenes_metaxa2_mucus_simpson_e_1000_samples_harmonized.qza\n",
      "Saving significance results to:/mnt/c/Users/Dylan/Documents/zaneveld/2_14_gcmp/GCMP_Global_Disease/analysis/organelle_removal/output/effects_of_rarefaction_analysis/adiv_greengenes_metaxa2_mucus_simpson_e_1000_group_sig_samples_harmonized.qzv\n",
      "Calculating alpha diversity for tissue using observed_features\n",
      "Saving results to:/mnt/c/Users/Dylan/Documents/zaneveld/2_14_gcmp/GCMP_Global_Disease/analysis/organelle_removal/output/effects_of_rarefaction_analysis/adiv_greengenes_metaxa2_tissue_observed_features_1000_samples_harmonized.qza\n",
      "Saving significance results to:/mnt/c/Users/Dylan/Documents/zaneveld/2_14_gcmp/GCMP_Global_Disease/analysis/organelle_removal/output/effects_of_rarefaction_analysis/adiv_greengenes_metaxa2_tissue_observed_features_1000_group_sig_samples_harmonized.qzv\n",
      "Calculating alpha diversity for tissue using gini_index\n",
      "Saving results to:/mnt/c/Users/Dylan/Documents/zaneveld/2_14_gcmp/GCMP_Global_Disease/analysis/organelle_removal/output/effects_of_rarefaction_analysis/adiv_greengenes_metaxa2_tissue_gini_index_1000_samples_harmonized.qza\n",
      "Saving significance results to:/mnt/c/Users/Dylan/Documents/zaneveld/2_14_gcmp/GCMP_Global_Disease/analysis/organelle_removal/output/effects_of_rarefaction_analysis/adiv_greengenes_metaxa2_tissue_gini_index_1000_group_sig_samples_harmonized.qzv\n",
      "Calculating alpha diversity for tissue using dominance\n",
      "Saving results to:/mnt/c/Users/Dylan/Documents/zaneveld/2_14_gcmp/GCMP_Global_Disease/analysis/organelle_removal/output/effects_of_rarefaction_analysis/adiv_greengenes_metaxa2_tissue_dominance_1000_samples_harmonized.qza\n",
      "Saving significance results to:/mnt/c/Users/Dylan/Documents/zaneveld/2_14_gcmp/GCMP_Global_Disease/analysis/organelle_removal/output/effects_of_rarefaction_analysis/adiv_greengenes_metaxa2_tissue_dominance_1000_group_sig_samples_harmonized.qzv\n",
      "Calculating alpha diversity for tissue using simpson_e\n",
      "Saving results to:/mnt/c/Users/Dylan/Documents/zaneveld/2_14_gcmp/GCMP_Global_Disease/analysis/organelle_removal/output/effects_of_rarefaction_analysis/adiv_greengenes_metaxa2_tissue_simpson_e_1000_samples_harmonized.qza\n",
      "Saving significance results to:/mnt/c/Users/Dylan/Documents/zaneveld/2_14_gcmp/GCMP_Global_Disease/analysis/organelle_removal/output/effects_of_rarefaction_analysis/adiv_greengenes_metaxa2_tissue_simpson_e_1000_group_sig_samples_harmonized.qzv\n",
      "Calculating alpha diversity for skeleton using observed_features\n",
      "Saving results to:/mnt/c/Users/Dylan/Documents/zaneveld/2_14_gcmp/GCMP_Global_Disease/analysis/organelle_removal/output/effects_of_rarefaction_analysis/adiv_greengenes_metaxa2_skeleton_observed_features_1000_samples_harmonized.qza\n",
      "Saving significance results to:/mnt/c/Users/Dylan/Documents/zaneveld/2_14_gcmp/GCMP_Global_Disease/analysis/organelle_removal/output/effects_of_rarefaction_analysis/adiv_greengenes_metaxa2_skeleton_observed_features_1000_group_sig_samples_harmonized.qzv\n",
      "Calculating alpha diversity for skeleton using gini_index\n",
      "Saving results to:/mnt/c/Users/Dylan/Documents/zaneveld/2_14_gcmp/GCMP_Global_Disease/analysis/organelle_removal/output/effects_of_rarefaction_analysis/adiv_greengenes_metaxa2_skeleton_gini_index_1000_samples_harmonized.qza\n",
      "Saving significance results to:/mnt/c/Users/Dylan/Documents/zaneveld/2_14_gcmp/GCMP_Global_Disease/analysis/organelle_removal/output/effects_of_rarefaction_analysis/adiv_greengenes_metaxa2_skeleton_gini_index_1000_group_sig_samples_harmonized.qzv\n",
      "Calculating alpha diversity for skeleton using dominance\n",
      "Saving results to:/mnt/c/Users/Dylan/Documents/zaneveld/2_14_gcmp/GCMP_Global_Disease/analysis/organelle_removal/output/effects_of_rarefaction_analysis/adiv_greengenes_metaxa2_skeleton_dominance_1000_samples_harmonized.qza\n",
      "Saving significance results to:/mnt/c/Users/Dylan/Documents/zaneveld/2_14_gcmp/GCMP_Global_Disease/analysis/organelle_removal/output/effects_of_rarefaction_analysis/adiv_greengenes_metaxa2_skeleton_dominance_1000_group_sig_samples_harmonized.qzv\n",
      "Calculating alpha diversity for skeleton using simpson_e\n",
      "Saving results to:/mnt/c/Users/Dylan/Documents/zaneveld/2_14_gcmp/GCMP_Global_Disease/analysis/organelle_removal/output/effects_of_rarefaction_analysis/adiv_greengenes_metaxa2_skeleton_simpson_e_1000_samples_harmonized.qza\n",
      "Saving significance results to:/mnt/c/Users/Dylan/Documents/zaneveld/2_14_gcmp/GCMP_Global_Disease/analysis/organelle_removal/output/effects_of_rarefaction_analysis/adiv_greengenes_metaxa2_skeleton_simpson_e_1000_group_sig_samples_harmonized.qzv\n"
     ]
    }
   ],
   "source": [
    "metrics = ['observed_features','gini_index','dominance','simpson_e']\n",
    "alpha_diversities = {}\n",
    "for label, rarefied_feature_tables in rarefied_feature_tables_by_taxonomy.items():\n",
    "    for compartment,table in rarefied_feature_tables.items():\n",
    "        for metric in metrics:\n",
    "            print(f\"Calculating alpha diversity for {compartment} using {metric}\")\n",
    "            alpha_results = alpha(table=table,metric = metric)\n",
    "            alpha_diversity = alpha_results.alpha_diversity\n",
    "            alpha_diversities[f\"{label}_{compartment}_{metric}_{rarefaction_depth}\"] = alpha_diversity\n",
    "\n",
    "            #Save the resulting feature table to disk\n",
    "            output_filename = f\"adiv_{label}_{compartment}_{metric}_{rarefaction_depth}_samples_harmonized.qza\"\n",
    "            output_filepath = join(output_dir,output_filename)\n",
    "            print(f\"Saving results to:{output_filepath}\")\n",
    "            alpha_diversity.save(output_filepath)\n",
    "\n",
    "            #Calculate alpha group significance for categorical variables\n",
    "            alpha_group_sig_results = alpha_group_significance(alpha_diversity=alpha_diversity,metadata=metadata)\n",
    "            alpha_group_sig_visualization = alpha_group_sig_results.visualization\n",
    "            output_filename = f\"adiv_{label}_{compartment}_{metric}_{rarefaction_depth}_group_sig_samples_harmonized.qzv\"\n",
    "            output_filepath = join(output_dir,output_filename)\n",
    "            print(f\"Saving significance results to:{output_filepath}\")\n",
    "            alpha_group_sig_visualization.save(output_filepath)\n"
   ]
  },
  {
   "cell_type": "markdown",
   "metadata": {},
   "source": [
    "#### Test the effects of mitochondrial removal on between family beta-diversity\n",
    "\n",
    "If mitochondria are misannotated at different rates between coral families, we might expect that this could potentially artificially inflate inter-family beta-diversity. Alternatively, it's possible that *removal* of mitochondria may reduce intra-family variability, effectively shrinking the observed variance within each family and thereby increasing the significance of inter-family beta diversity. The code below calculates permanova between coral families under each taxonomic scheme to test these ideas. "
   ]
  },
  {
   "cell_type": "code",
   "execution_count": 10,
   "metadata": {},
   "outputs": [
    {
     "name": "stdout",
     "output_type": "stream",
     "text": [
      "Calculating beta diversity for all using braycurtis\n",
      "Saving results to:/mnt/c/Users/Dylan/Documents/zaneveld/2_14_gcmp/GCMP_Global_Disease/analysis/organelle_removal/output/effects_of_rarefaction_analysis/bdiv_silva_metaxa2_all_braycurtis_1000.qza\n"
     ]
    },
    {
     "name": "stderr",
     "output_type": "stream",
     "text": [
      "/home/dylan/miniconda3/envs/qiime2-2020.11/lib/python3.6/site-packages/seaborn/categorical.py:373: UserWarning: Attempted to set non-positive left xlim on a log-scaled axis.\n",
      "Invalid limit will be ignored.\n",
      "  ax.set_xlim(-.5, len(self.plot_data) - .5, auto=None)\n",
      "/home/dylan/miniconda3/envs/qiime2-2020.11/lib/python3.6/site-packages/q2_diversity/_beta/_visualizer.py:193: UserWarning: Tight layout not applied. The bottom and top margins cannot be made large enough to accommodate all axes decorations. \n",
      "  plt.tight_layout()\n"
     ]
    },
    {
     "name": "stdout",
     "output_type": "stream",
     "text": [
      "Saving significance results to:/mnt/c/Users/Dylan/Documents/zaneveld/2_14_gcmp/GCMP_Global_Disease/analysis/organelle_removal/output/effects_of_rarefaction_analysis/bdiv_silva_metaxa2_all_braycurtis_1000_permanova_group_sig.qzv\n",
      "Calculating beta diversity for mucus using braycurtis\n",
      "Saving results to:/mnt/c/Users/Dylan/Documents/zaneveld/2_14_gcmp/GCMP_Global_Disease/analysis/organelle_removal/output/effects_of_rarefaction_analysis/bdiv_silva_metaxa2_mucus_braycurtis_1000.qza\n",
      "Saving significance results to:/mnt/c/Users/Dylan/Documents/zaneveld/2_14_gcmp/GCMP_Global_Disease/analysis/organelle_removal/output/effects_of_rarefaction_analysis/bdiv_silva_metaxa2_mucus_braycurtis_1000_permanova_group_sig.qzv\n",
      "Calculating beta diversity for tissue using braycurtis\n",
      "Saving results to:/mnt/c/Users/Dylan/Documents/zaneveld/2_14_gcmp/GCMP_Global_Disease/analysis/organelle_removal/output/effects_of_rarefaction_analysis/bdiv_silva_metaxa2_tissue_braycurtis_1000.qza\n",
      "Saving significance results to:/mnt/c/Users/Dylan/Documents/zaneveld/2_14_gcmp/GCMP_Global_Disease/analysis/organelle_removal/output/effects_of_rarefaction_analysis/bdiv_silva_metaxa2_tissue_braycurtis_1000_permanova_group_sig.qzv\n",
      "Calculating beta diversity for skeleton using braycurtis\n",
      "Saving results to:/mnt/c/Users/Dylan/Documents/zaneveld/2_14_gcmp/GCMP_Global_Disease/analysis/organelle_removal/output/effects_of_rarefaction_analysis/bdiv_silva_metaxa2_skeleton_braycurtis_1000.qza\n",
      "Saving significance results to:/mnt/c/Users/Dylan/Documents/zaneveld/2_14_gcmp/GCMP_Global_Disease/analysis/organelle_removal/output/effects_of_rarefaction_analysis/bdiv_silva_metaxa2_skeleton_braycurtis_1000_permanova_group_sig.qzv\n",
      "Calculating beta diversity for all using braycurtis\n",
      "Saving results to:/mnt/c/Users/Dylan/Documents/zaneveld/2_14_gcmp/GCMP_Global_Disease/analysis/organelle_removal/output/effects_of_rarefaction_analysis/bdiv_silva_all_braycurtis_1000.qza\n",
      "Saving significance results to:/mnt/c/Users/Dylan/Documents/zaneveld/2_14_gcmp/GCMP_Global_Disease/analysis/organelle_removal/output/effects_of_rarefaction_analysis/bdiv_silva_all_braycurtis_1000_permanova_group_sig.qzv\n",
      "Calculating beta diversity for mucus using braycurtis\n",
      "Saving results to:/mnt/c/Users/Dylan/Documents/zaneveld/2_14_gcmp/GCMP_Global_Disease/analysis/organelle_removal/output/effects_of_rarefaction_analysis/bdiv_silva_mucus_braycurtis_1000.qza\n",
      "Saving significance results to:/mnt/c/Users/Dylan/Documents/zaneveld/2_14_gcmp/GCMP_Global_Disease/analysis/organelle_removal/output/effects_of_rarefaction_analysis/bdiv_silva_mucus_braycurtis_1000_permanova_group_sig.qzv\n",
      "Calculating beta diversity for tissue using braycurtis\n",
      "Saving results to:/mnt/c/Users/Dylan/Documents/zaneveld/2_14_gcmp/GCMP_Global_Disease/analysis/organelle_removal/output/effects_of_rarefaction_analysis/bdiv_silva_tissue_braycurtis_1000.qza\n",
      "Saving significance results to:/mnt/c/Users/Dylan/Documents/zaneveld/2_14_gcmp/GCMP_Global_Disease/analysis/organelle_removal/output/effects_of_rarefaction_analysis/bdiv_silva_tissue_braycurtis_1000_permanova_group_sig.qzv\n",
      "Calculating beta diversity for skeleton using braycurtis\n",
      "Saving results to:/mnt/c/Users/Dylan/Documents/zaneveld/2_14_gcmp/GCMP_Global_Disease/analysis/organelle_removal/output/effects_of_rarefaction_analysis/bdiv_silva_skeleton_braycurtis_1000.qza\n",
      "Saving significance results to:/mnt/c/Users/Dylan/Documents/zaneveld/2_14_gcmp/GCMP_Global_Disease/analysis/organelle_removal/output/effects_of_rarefaction_analysis/bdiv_silva_skeleton_braycurtis_1000_permanova_group_sig.qzv\n",
      "Calculating beta diversity for all using braycurtis\n",
      "Saving results to:/mnt/c/Users/Dylan/Documents/zaneveld/2_14_gcmp/GCMP_Global_Disease/analysis/organelle_removal/output/effects_of_rarefaction_analysis/bdiv_greengenes_all_braycurtis_1000.qza\n",
      "Saving significance results to:/mnt/c/Users/Dylan/Documents/zaneveld/2_14_gcmp/GCMP_Global_Disease/analysis/organelle_removal/output/effects_of_rarefaction_analysis/bdiv_greengenes_all_braycurtis_1000_permanova_group_sig.qzv\n",
      "Calculating beta diversity for mucus using braycurtis\n",
      "Saving results to:/mnt/c/Users/Dylan/Documents/zaneveld/2_14_gcmp/GCMP_Global_Disease/analysis/organelle_removal/output/effects_of_rarefaction_analysis/bdiv_greengenes_mucus_braycurtis_1000.qza\n",
      "Saving significance results to:/mnt/c/Users/Dylan/Documents/zaneveld/2_14_gcmp/GCMP_Global_Disease/analysis/organelle_removal/output/effects_of_rarefaction_analysis/bdiv_greengenes_mucus_braycurtis_1000_permanova_group_sig.qzv\n",
      "Calculating beta diversity for tissue using braycurtis\n",
      "Saving results to:/mnt/c/Users/Dylan/Documents/zaneveld/2_14_gcmp/GCMP_Global_Disease/analysis/organelle_removal/output/effects_of_rarefaction_analysis/bdiv_greengenes_tissue_braycurtis_1000.qza\n",
      "Saving significance results to:/mnt/c/Users/Dylan/Documents/zaneveld/2_14_gcmp/GCMP_Global_Disease/analysis/organelle_removal/output/effects_of_rarefaction_analysis/bdiv_greengenes_tissue_braycurtis_1000_permanova_group_sig.qzv\n",
      "Calculating beta diversity for skeleton using braycurtis\n",
      "Saving results to:/mnt/c/Users/Dylan/Documents/zaneveld/2_14_gcmp/GCMP_Global_Disease/analysis/organelle_removal/output/effects_of_rarefaction_analysis/bdiv_greengenes_skeleton_braycurtis_1000.qza\n",
      "Saving significance results to:/mnt/c/Users/Dylan/Documents/zaneveld/2_14_gcmp/GCMP_Global_Disease/analysis/organelle_removal/output/effects_of_rarefaction_analysis/bdiv_greengenes_skeleton_braycurtis_1000_permanova_group_sig.qzv\n",
      "Calculating beta diversity for all using braycurtis\n",
      "Saving results to:/mnt/c/Users/Dylan/Documents/zaneveld/2_14_gcmp/GCMP_Global_Disease/analysis/organelle_removal/output/effects_of_rarefaction_analysis/bdiv_greengenes_metaxa2_all_braycurtis_1000.qza\n",
      "Saving significance results to:/mnt/c/Users/Dylan/Documents/zaneveld/2_14_gcmp/GCMP_Global_Disease/analysis/organelle_removal/output/effects_of_rarefaction_analysis/bdiv_greengenes_metaxa2_all_braycurtis_1000_permanova_group_sig.qzv\n",
      "Calculating beta diversity for mucus using braycurtis\n",
      "Saving results to:/mnt/c/Users/Dylan/Documents/zaneveld/2_14_gcmp/GCMP_Global_Disease/analysis/organelle_removal/output/effects_of_rarefaction_analysis/bdiv_greengenes_metaxa2_mucus_braycurtis_1000.qza\n",
      "Saving significance results to:/mnt/c/Users/Dylan/Documents/zaneveld/2_14_gcmp/GCMP_Global_Disease/analysis/organelle_removal/output/effects_of_rarefaction_analysis/bdiv_greengenes_metaxa2_mucus_braycurtis_1000_permanova_group_sig.qzv\n",
      "Calculating beta diversity for tissue using braycurtis\n",
      "Saving results to:/mnt/c/Users/Dylan/Documents/zaneveld/2_14_gcmp/GCMP_Global_Disease/analysis/organelle_removal/output/effects_of_rarefaction_analysis/bdiv_greengenes_metaxa2_tissue_braycurtis_1000.qza\n",
      "Saving significance results to:/mnt/c/Users/Dylan/Documents/zaneveld/2_14_gcmp/GCMP_Global_Disease/analysis/organelle_removal/output/effects_of_rarefaction_analysis/bdiv_greengenes_metaxa2_tissue_braycurtis_1000_permanova_group_sig.qzv\n",
      "Calculating beta diversity for skeleton using braycurtis\n",
      "Saving results to:/mnt/c/Users/Dylan/Documents/zaneveld/2_14_gcmp/GCMP_Global_Disease/analysis/organelle_removal/output/effects_of_rarefaction_analysis/bdiv_greengenes_metaxa2_skeleton_braycurtis_1000.qza\n",
      "Saving significance results to:/mnt/c/Users/Dylan/Documents/zaneveld/2_14_gcmp/GCMP_Global_Disease/analysis/organelle_removal/output/effects_of_rarefaction_analysis/bdiv_greengenes_metaxa2_skeleton_braycurtis_1000_permanova_group_sig.qzv\n"
     ]
    }
   ],
   "source": [
    "metrics = ['braycurtis']\n",
    "beta_diversities = {}\n",
    "for label, rarefied_feature_tables in rarefied_feature_tables_by_taxonomy.items():\n",
    "    for compartment,table in rarefied_feature_tables.items():\n",
    "        for metric in metrics:\n",
    "            print(f\"Calculating beta diversity for {compartment} using {metric}\")\n",
    "            beta_results = beta(table=table,metric = metric)\n",
    "            beta_dm = beta_results.distance_matrix\n",
    "            beta_diversities[f\"{label}_{compartment}_{metric}_{rarefaction_depth}\"] = beta_dm\n",
    "\n",
    "            #Save the resulting feature table to disk\n",
    "            output_filename = f\"bdiv_{label}_{compartment}_{metric}_{rarefaction_depth}.qza\"\n",
    "            output_filepath = join(output_dir,output_filename)\n",
    "            print(f\"Saving results to:{output_filepath}\")\n",
    "            beta_dm.save(output_filepath)\n",
    "\n",
    "            #Calculate beta group significance for categorical variables\n",
    "            sig_method = 'permanova'\n",
    "            metadata_column = 'taxonomy_string_to_family'\n",
    "            \n",
    "            beta_group_sig_results =\\\n",
    "              beta_group_significance(distance_matrix=beta_dm,method=sig_method,metadata=metadata.get_column(metadata_column))\n",
    "            \n",
    "            beta_group_sig_visualization = beta_group_sig_results.visualization\n",
    "            \n",
    "            output_filename = f\"bdiv_{label}_{compartment}_{metric}_{rarefaction_depth}_{sig_method}_group_sig.qzv\"\n",
    "            output_filepath = join(output_dir,output_filename)\n",
    "            print(f\"Saving significance results to:{output_filepath}\")\n",
    "            beta_group_sig_visualization.save(output_filepath)"
   ]
  },
  {
   "cell_type": "markdown",
   "metadata": {},
   "source": [
    "### Summarizing results of alpha and beta diversity analysis\n",
    "\n",
    "The above analyses produce a long list of files in the output folder. It is quite tedious and error-prone to manually open each one to tabulate how various alpha and beta diversity measures changed with rarefaction. However, QIIME2 currently does not provide an easy way to get all of the underlying data that is shown in the .qzv file when opened with view.qiime2.org.\n",
    "\n",
    "We will pursue the following strategy:\n",
    "0. Install BeautifulSoup for HTML parsing\n",
    "\n",
    "1. loop over the generated files\n",
    "2. export the content of each\n",
    "3. parse the index file with BeautifulSoup to get the info we want directly from the HTML\n",
    "4. profit!\n",
    "\n",
    "All credit for developing this approach to scraping QIIME2 qzv files goes to John Sterett on the QIIME2 forum, who helpfully shared a [question](https://forum.qiime2.org/t/beta-diversity-api/16288) that described how this is done. Thank you John!\n",
    "\n",
    "First, we'll write a function that handles parsing the qzv file:"
   ]
  },
  {
   "cell_type": "code",
   "execution_count": 11,
   "metadata": {},
   "outputs": [
    {
     "name": "stdout",
     "output_type": "stream",
     "text": [
      "Collecting package metadata (current_repodata.json): done\n",
      "Solving environment: done\n",
      "\n",
      "## Package Plan ##\n",
      "\n",
      "  environment location: /home/dylan/miniconda3/envs/qiime2-2020.11\n",
      "\n",
      "  added / updated specs:\n",
      "    - bs4\n",
      "\n",
      "\n",
      "The following packages will be downloaded:\n",
      "\n",
      "    package                    |            build\n",
      "    ---------------------------|-----------------\n",
      "    beautifulsoup4-4.9.3       |     pyha847dfd_0          86 KB\n",
      "    bs4-4.9.3                  |       hd3eb1b0_0           4 KB\n",
      "    certifi-2020.12.5          |   py36h06a4308_0         140 KB\n",
      "    soupsieve-2.1              |     pyhd3eb1b0_0          31 KB\n",
      "    ------------------------------------------------------------\n",
      "                                           Total:         261 KB\n",
      "\n",
      "The following NEW packages will be INSTALLED:\n",
      "\n",
      "  beautifulsoup4     pkgs/main/noarch::beautifulsoup4-4.9.3-pyha847dfd_0\n",
      "  bs4                pkgs/main/noarch::bs4-4.9.3-hd3eb1b0_0\n",
      "  soupsieve          pkgs/main/noarch::soupsieve-2.1-pyhd3eb1b0_0\n",
      "\n",
      "The following packages will be UPDATED:\n",
      "\n",
      "  ca-certificates    conda-forge::ca-certificates-2020.12.~ --> pkgs/main::ca-certificates-2021.1.19-h06a4308_0\n",
      "\n",
      "The following packages will be SUPERSEDED by a higher-priority channel:\n",
      "\n",
      "  certifi            conda-forge::certifi-2020.12.5-py36h5~ --> pkgs/main::certifi-2020.12.5-py36h06a4308_0\n",
      "  openssl            conda-forge::openssl-1.1.1i-h7f98852_0 --> pkgs/main::openssl-1.1.1i-h27cfd23_0\n",
      "\n",
      "\n",
      "\n",
      "Downloading and Extracting Packages\n",
      "bs4-4.9.3            | 4 KB      | ##################################### | 100% \n",
      "certifi-2020.12.5    | 140 KB    | ##################################### | 100% \n",
      "soupsieve-2.1        | 31 KB     | ##################################### | 100% \n",
      "beautifulsoup4-4.9.3 | 86 KB     | ##################################### | 100% \n",
      "Preparing transaction: done\n",
      "Verifying transaction: done\n",
      "Executing transaction: done\n"
     ]
    }
   ],
   "source": [
    "from qiime2 import Visualization\n",
    "import numpy as np\n",
    "import shutil\n",
    "from os.path import exists\n",
    "from os import listdir,mkdir\n",
    "import distutils\n",
    "#Install Beautiful Soup 4\n",
    "#Note, since we're installing from \n",
    "#inside this notebook we have to \n",
    "#pass the yes flag to approve the\n",
    "#install ahead of time.\n",
    "\n",
    "#Use a Try/Except block to avoid\n",
    "#slow reinstallation if BeautifulSoup\n",
    "#is already installed.\n",
    "try:\n",
    "    from bs4 import BeautifulSoup\n",
    "except ImportError:\n",
    "    !conda install bs4 --yes\n",
    "    from bs4 import BeautifulSoup\n",
    "    \n",
    "\n",
    "def bdiv_group_sig_qzv_to_dataframe(viz_filepath,\\\n",
    "                                    tmp_dir,\\\n",
    "                                    label = \"bdiv_results\",\n",
    "                                    add_to_df = None,\n",
    "                                    delete_tmp_dir = False):\n",
    "    \"\"\"Parse a dataframe from a QIIME2 beta diversity group significance .qzv file\n",
    "    viz_filepath -- path to the qzv file\n",
    "    tmp_dir -- name of a new temporary directory that can safely be deleted \n",
    "    when done\n",
    "    label -- string that has a name for the results in the dataframe\n",
    "       (Useful when running this script in a loop with the add_to_df option)\n",
    "    add_to_df -- optionally concatenate the new results to an existing dataframe before\n",
    "      returning them\n",
    "    delete_tmp_dir -- optionally delete the temporary directory after finishing. \n",
    "       BE 100% SURE THE DIRECTORY IS CORRECT (not '/'!!!!) AND DOESN'T ALREADY \n",
    "       EXIST IF SETTING THIS OPTION TO True. You have been warned ;).\n",
    "    \"\"\"    \n",
    "    bdiv_viz_file = Visualization.load(viz_filepath)\n",
    "    \n",
    "    #If the user told us to delete the tmp dir when done, check that it\n",
    "    #either doesn't exist or is empty.\n",
    "    if delete_tmp_dir:\n",
    "        if exists(tmp_dir):\n",
    "            raise ValueError(f\"Directory {tmp_dir} already exists. \\\n",
    "                               Please specify a *new* not already existing \\\n",
    "                               directory name if using the delete_tmp_dir \\\n",
    "                               parameter. This is to avoid deleting your \\\n",
    "                               existing data by accident. Thanks.\")\n",
    "    \n",
    "    #Make a directory to hold our exported results\n",
    "    mkdir(tmp_dir)\n",
    "    distutils.dir_util._path_created = {}\n",
    "    bdiv_viz_file.export_data(tmp_dir)\n",
    "    column = \"taxonomy_string_to_family\"\n",
    "\n",
    "\n",
    "    with open(f'{tmp_dir}/index.html') as f:\n",
    "        soup = BeautifulSoup(f, 'html.parser')\n",
    "\n",
    "\n",
    "\n",
    "\n",
    "    #First find the keys for each entry in the table\n",
    "    #This is hackish, but they are found by looking for all\n",
    "    #header cell entries (marked th) except the few used to introduce\n",
    "    #the results\n",
    "    keys = [key.string for key in soup.find_all('th')[2:]]\n",
    "    #keys output is ['method name','test statistic name','sample size','number of groups',\n",
    "    #                'test statistic','p-value','number of permutations']\n",
    "\n",
    "    #td tags indicate standard data cells in HTML tables.\n",
    "    #so we find them to rip out the statistical results\n",
    "    values = np.array([value.string for value in soup.find_all('td')])\n",
    "    values.reshape((1,7))\n",
    "    #values is a vertical array with the corresponding values for each key\n",
    "\n",
    "    #Now that we have the data, we can safely delete\n",
    "    #the new tmp_dir if the user asked us to:\n",
    "\n",
    "    if delete_tmp_dir:\n",
    "        shutil.rmtree(tmp_dir)\n",
    "        #Sadly due to a weird interction with caching in distutils\n",
    "        #we have to clear the cache after using rmtree or \n",
    "        #QIIME2's data export will fail!\n",
    "        distutils.dir_util._path_created = {}\n",
    "    #Make the data frame for the current column, concatenate it with the one for other columns \n",
    "    #under the given metric\n",
    "    #look into changing to df[f'{column}'] == values? Bigger fish to fry rn though\n",
    "    bdiv_results_df = pd.DataFrame(values,index=keys,columns=[label])\n",
    "    if add_to_df is False:\n",
    "        return bdiv_results_df\n",
    "    else:\n",
    "        #If the user gave us a DataFrame in the add_to_df option\n",
    "        #concatenate our new results to it.\n",
    "        bdiv_results_df = pd.concat([add_to_df,bdiv_results_df],axis=1)\n",
    "        return bdiv_results_df\n",
    "        \n",
    "        \n",
    "        \n",
    "    \n",
    "    "
   ]
  },
  {
   "cell_type": "markdown",
   "metadata": {},
   "source": [
    "### Demonstrating this export on a single file\n",
    "\n",
    "Here's an example of how the export function works on a single qzv file (to run locally\n",
    "adjust your viz_filepath to any beta group significance .qzv file)"
   ]
  },
  {
   "cell_type": "code",
   "execution_count": 12,
   "metadata": {},
   "outputs": [
    {
     "ename": "ValueError",
     "evalue": "/Users/jzaneveld/Dropbox/Zaneveld_Lab_Organization/Projects/GCMP_Global_Disease/gcmp_global_disease/analysis/organelle_removal/output/effects_of_rarefaction_analysis/bdiv_greengenes_metaxa2_skeleton_braycurtis_1000_permanova_group_sig.qzv does not exist.",
     "output_type": "error",
     "traceback": [
      "\u001b[0;31m---------------------------------------------------------------------------\u001b[0m",
      "\u001b[0;31mValueError\u001b[0m                                Traceback (most recent call last)",
      "\u001b[0;32m<ipython-input-12-8e9e7fb18f74>\u001b[0m in \u001b[0;36m<module>\u001b[0;34m\u001b[0m\n\u001b[1;32m      1\u001b[0m \u001b[0mtmp_dir\u001b[0m \u001b[0;34m=\u001b[0m \u001b[0mjoin\u001b[0m\u001b[0;34m(\u001b[0m\u001b[0moutput_dir\u001b[0m\u001b[0;34m,\u001b[0m\u001b[0;34m\"tmp_qzv_exports/\"\u001b[0m\u001b[0;34m)\u001b[0m\u001b[0;34m\u001b[0m\u001b[0;34m\u001b[0m\u001b[0m\n\u001b[1;32m      2\u001b[0m \u001b[0mviz_filepath\u001b[0m \u001b[0;34m=\u001b[0m \u001b[0;34m\"/Users/jzaneveld/Dropbox/Zaneveld_Lab_Organization/Projects/GCMP_Global_Disease/gcmp_global_disease/analysis/organelle_removal/output/effects_of_rarefaction_analysis/bdiv_greengenes_metaxa2_skeleton_braycurtis_1000_permanova_group_sig.qzv\"\u001b[0m\u001b[0;34m\u001b[0m\u001b[0;34m\u001b[0m\u001b[0m\n\u001b[0;32m----> 3\u001b[0;31m \u001b[0mbdiv_results_df\u001b[0m \u001b[0;34m=\u001b[0m \u001b[0mbdiv_group_sig_qzv_to_dataframe\u001b[0m\u001b[0;34m(\u001b[0m\u001b[0mviz_filepath\u001b[0m\u001b[0;34m,\u001b[0m\u001b[0mtmp_dir\u001b[0m\u001b[0;34m=\u001b[0m \u001b[0mtmp_dir\u001b[0m\u001b[0;34m,\u001b[0m\u001b[0madd_to_df\u001b[0m\u001b[0;34m=\u001b[0m\u001b[0;32mNone\u001b[0m\u001b[0;34m,\u001b[0m\u001b[0mdelete_tmp_dir\u001b[0m \u001b[0;34m=\u001b[0m \u001b[0;32mTrue\u001b[0m\u001b[0;34m)\u001b[0m\u001b[0;34m\u001b[0m\u001b[0;34m\u001b[0m\u001b[0m\n\u001b[0m\u001b[1;32m      4\u001b[0m \u001b[0;32mfrom\u001b[0m \u001b[0mIPython\u001b[0m\u001b[0;34m.\u001b[0m\u001b[0mdisplay\u001b[0m \u001b[0;32mimport\u001b[0m \u001b[0mHTML\u001b[0m\u001b[0;34m\u001b[0m\u001b[0;34m\u001b[0m\u001b[0m\n\u001b[1;32m      5\u001b[0m \u001b[0mprint\u001b[0m\u001b[0;34m(\u001b[0m\u001b[0mbdiv_results_df\u001b[0m\u001b[0;34m)\u001b[0m\u001b[0;34m\u001b[0m\u001b[0;34m\u001b[0m\u001b[0m\n",
      "\u001b[0;32m<ipython-input-11-76c19dc63c72>\u001b[0m in \u001b[0;36mbdiv_group_sig_qzv_to_dataframe\u001b[0;34m(viz_filepath, tmp_dir, label, add_to_df, delete_tmp_dir)\u001b[0m\n\u001b[1;32m     38\u001b[0m        EXIST IF SETTING THIS OPTION TO True. You have been warned ;).\n\u001b[1;32m     39\u001b[0m     \"\"\"    \n\u001b[0;32m---> 40\u001b[0;31m     \u001b[0mbdiv_viz_file\u001b[0m \u001b[0;34m=\u001b[0m \u001b[0mVisualization\u001b[0m\u001b[0;34m.\u001b[0m\u001b[0mload\u001b[0m\u001b[0;34m(\u001b[0m\u001b[0mviz_filepath\u001b[0m\u001b[0;34m)\u001b[0m\u001b[0;34m\u001b[0m\u001b[0;34m\u001b[0m\u001b[0m\n\u001b[0m\u001b[1;32m     41\u001b[0m \u001b[0;34m\u001b[0m\u001b[0m\n\u001b[1;32m     42\u001b[0m     \u001b[0;31m#If the user told us to delete the tmp dir when done, check that it\u001b[0m\u001b[0;34m\u001b[0m\u001b[0;34m\u001b[0m\u001b[0;34m\u001b[0m\u001b[0m\n",
      "\u001b[0;32m~/miniconda3/envs/qiime2-2020.11/lib/python3.6/site-packages/qiime2/sdk/result.py\u001b[0m in \u001b[0;36mload\u001b[0;34m(cls, filepath)\u001b[0m\n\u001b[1;32m     64\u001b[0m     \u001b[0;32mdef\u001b[0m \u001b[0mload\u001b[0m\u001b[0;34m(\u001b[0m\u001b[0mcls\u001b[0m\u001b[0;34m,\u001b[0m \u001b[0mfilepath\u001b[0m\u001b[0;34m)\u001b[0m\u001b[0;34m:\u001b[0m\u001b[0;34m\u001b[0m\u001b[0;34m\u001b[0m\u001b[0m\n\u001b[1;32m     65\u001b[0m         \u001b[0;34m\"\"\"Factory for loading Artifacts and Visualizations.\"\"\"\u001b[0m\u001b[0;34m\u001b[0m\u001b[0;34m\u001b[0m\u001b[0m\n\u001b[0;32m---> 66\u001b[0;31m         \u001b[0marchiver\u001b[0m \u001b[0;34m=\u001b[0m \u001b[0marchive\u001b[0m\u001b[0;34m.\u001b[0m\u001b[0mArchiver\u001b[0m\u001b[0;34m.\u001b[0m\u001b[0mload\u001b[0m\u001b[0;34m(\u001b[0m\u001b[0mfilepath\u001b[0m\u001b[0;34m)\u001b[0m\u001b[0;34m\u001b[0m\u001b[0;34m\u001b[0m\u001b[0m\n\u001b[0m\u001b[1;32m     67\u001b[0m \u001b[0;34m\u001b[0m\u001b[0m\n\u001b[1;32m     68\u001b[0m         \u001b[0;32mif\u001b[0m \u001b[0mArtifact\u001b[0m\u001b[0;34m.\u001b[0m\u001b[0m_is_valid_type\u001b[0m\u001b[0;34m(\u001b[0m\u001b[0marchiver\u001b[0m\u001b[0;34m.\u001b[0m\u001b[0mtype\u001b[0m\u001b[0;34m)\u001b[0m\u001b[0;34m:\u001b[0m\u001b[0;34m\u001b[0m\u001b[0;34m\u001b[0m\u001b[0m\n",
      "\u001b[0;32m~/miniconda3/envs/qiime2-2020.11/lib/python3.6/site-packages/qiime2/core/archive/archiver.py\u001b[0m in \u001b[0;36mload\u001b[0;34m(cls, filepath)\u001b[0m\n\u001b[1;32m    297\u001b[0m     \u001b[0;34m@\u001b[0m\u001b[0mclassmethod\u001b[0m\u001b[0;34m\u001b[0m\u001b[0;34m\u001b[0m\u001b[0m\n\u001b[1;32m    298\u001b[0m     \u001b[0;32mdef\u001b[0m \u001b[0mload\u001b[0m\u001b[0;34m(\u001b[0m\u001b[0mcls\u001b[0m\u001b[0;34m,\u001b[0m \u001b[0mfilepath\u001b[0m\u001b[0;34m)\u001b[0m\u001b[0;34m:\u001b[0m\u001b[0;34m\u001b[0m\u001b[0;34m\u001b[0m\u001b[0m\n\u001b[0;32m--> 299\u001b[0;31m         \u001b[0marchive\u001b[0m \u001b[0;34m=\u001b[0m \u001b[0mcls\u001b[0m\u001b[0;34m.\u001b[0m\u001b[0mget_archive\u001b[0m\u001b[0;34m(\u001b[0m\u001b[0mfilepath\u001b[0m\u001b[0;34m)\u001b[0m\u001b[0;34m\u001b[0m\u001b[0;34m\u001b[0m\u001b[0m\n\u001b[0m\u001b[1;32m    300\u001b[0m         \u001b[0mFormat\u001b[0m \u001b[0;34m=\u001b[0m \u001b[0mcls\u001b[0m\u001b[0;34m.\u001b[0m\u001b[0mget_format_class\u001b[0m\u001b[0;34m(\u001b[0m\u001b[0marchive\u001b[0m\u001b[0;34m.\u001b[0m\u001b[0mversion\u001b[0m\u001b[0;34m)\u001b[0m\u001b[0;34m\u001b[0m\u001b[0;34m\u001b[0m\u001b[0m\n\u001b[1;32m    301\u001b[0m         \u001b[0;32mif\u001b[0m \u001b[0mFormat\u001b[0m \u001b[0;32mis\u001b[0m \u001b[0;32mNone\u001b[0m\u001b[0;34m:\u001b[0m\u001b[0;34m\u001b[0m\u001b[0;34m\u001b[0m\u001b[0m\n",
      "\u001b[0;32m~/miniconda3/envs/qiime2-2020.11/lib/python3.6/site-packages/qiime2/core/archive/archiver.py\u001b[0m in \u001b[0;36mget_archive\u001b[0;34m(cls, filepath)\u001b[0m\n\u001b[1;32m    257\u001b[0m         \u001b[0mfilepath\u001b[0m \u001b[0;34m=\u001b[0m \u001b[0mpathlib\u001b[0m\u001b[0;34m.\u001b[0m\u001b[0mPath\u001b[0m\u001b[0;34m(\u001b[0m\u001b[0mfilepath\u001b[0m\u001b[0;34m)\u001b[0m\u001b[0;34m\u001b[0m\u001b[0;34m\u001b[0m\u001b[0m\n\u001b[1;32m    258\u001b[0m         \u001b[0;32mif\u001b[0m \u001b[0;32mnot\u001b[0m \u001b[0mfilepath\u001b[0m\u001b[0;34m.\u001b[0m\u001b[0mexists\u001b[0m\u001b[0;34m(\u001b[0m\u001b[0;34m)\u001b[0m\u001b[0;34m:\u001b[0m\u001b[0;34m\u001b[0m\u001b[0;34m\u001b[0m\u001b[0m\n\u001b[0;32m--> 259\u001b[0;31m             \u001b[0;32mraise\u001b[0m \u001b[0mValueError\u001b[0m\u001b[0;34m(\u001b[0m\u001b[0;34m\"%s does not exist.\"\u001b[0m \u001b[0;34m%\u001b[0m \u001b[0mfilepath\u001b[0m\u001b[0;34m)\u001b[0m\u001b[0;34m\u001b[0m\u001b[0;34m\u001b[0m\u001b[0m\n\u001b[0m\u001b[1;32m    260\u001b[0m \u001b[0;34m\u001b[0m\u001b[0m\n\u001b[1;32m    261\u001b[0m         \u001b[0;32mif\u001b[0m \u001b[0m_ZipArchive\u001b[0m\u001b[0;34m.\u001b[0m\u001b[0mis_archive_type\u001b[0m\u001b[0;34m(\u001b[0m\u001b[0mfilepath\u001b[0m\u001b[0;34m)\u001b[0m\u001b[0;34m:\u001b[0m\u001b[0;34m\u001b[0m\u001b[0;34m\u001b[0m\u001b[0m\n",
      "\u001b[0;31mValueError\u001b[0m: /Users/jzaneveld/Dropbox/Zaneveld_Lab_Organization/Projects/GCMP_Global_Disease/gcmp_global_disease/analysis/organelle_removal/output/effects_of_rarefaction_analysis/bdiv_greengenes_metaxa2_skeleton_braycurtis_1000_permanova_group_sig.qzv does not exist."
     ]
    }
   ],
   "source": [
    "tmp_dir = join(output_dir,\"tmp_qzv_exports/\")\n",
    "viz_filepath = \"/Users/jzaneveld/Dropbox/Zaneveld_Lab_Organization/Projects/GCMP_Global_Disease/gcmp_global_disease/analysis/organelle_removal/output/effects_of_rarefaction_analysis/bdiv_greengenes_metaxa2_skeleton_braycurtis_1000_permanova_group_sig.qzv\"\n",
    "bdiv_results_df = bdiv_group_sig_qzv_to_dataframe(viz_filepath,tmp_dir= tmp_dir,add_to_df=None,delete_tmp_dir = True)\n",
    "from IPython.display import HTML\n",
    "print(bdiv_results_df)\n",
    "HTML(bdiv_results_df.to_html())"
   ]
  },
  {
   "cell_type": "markdown",
   "metadata": {},
   "source": [
    "#### Run the results in a loop\n",
    "Next, we'll run the above function in a loop over our many bdiv_group_sig files to tally up how the PERMANOVA results change in each."
   ]
  },
  {
   "cell_type": "code",
   "execution_count": null,
   "metadata": {},
   "outputs": [],
   "source": [
    "bdiv_df = pd.DataFrame()\n",
    "\n",
    "for label, rarefied_feature_tables in rarefied_feature_tables_by_taxonomy.items():\n",
    "    for compartment,table in rarefied_feature_tables.items():\n",
    "        for metric in metrics:\n",
    "            \n",
    "            bdiv_output_filename = f\"bdiv_{label}_{compartment}_{metric}_{rarefaction_depth}_{sig_method}_group_sig.qzv\"\n",
    "            bdiv_output_filepath = join(output_dir,bdiv_output_filename)\n",
    "            print(f\"Parsing {bdiv_output_filepath}\")\n",
    "            bdiv_df = bdiv_group_sig_qzv_to_dataframe(bdiv_output_filepath,\\\n",
    "                  tmp_dir= tmp_dir,\\\n",
    "                  label = f\"bdiv__{label}__{compartment}__{metric}__{rarefaction_depth}\",\\\n",
    "                  add_to_df=bdiv_df,\\\n",
    "                  delete_tmp_dir = True)\n",
    "\n",
    "print(\"Done!\")"
   ]
  },
  {
   "cell_type": "code",
   "execution_count": null,
   "metadata": {},
   "outputs": [],
   "source": [
    "\n",
    "bdiv_df_transposed = bdiv_df.transpose()\n",
    "bdiv_df_transposed.reset_index(inplace=True)\n",
    "bdiv_df_transposed = bdiv_df_transposed.rename(columns = {'index':'Method'})\n",
    "new_rows = bdiv_df_transposed[\"Method\"].str.split(\"__\",expand=True)\n",
    "bdiv_df_transposed[['Diversity Type','Taxonomy Scheme','Compartment','Metric','Rarefaction Depth']]=new_rows\n",
    "bdiv_df_transposed.set_index(\"Method\",inplace=True)\n",
    "\n",
    "output_file = join(output_dir,\"beta_diversity_results_summary.tsv\")\n",
    "sort_order = [\"Diversity Type\",\"Metric\",\"Compartment\",\"Rarefaction Depth\",\"Taxonomy Scheme\"]\n",
    "bdiv_df_transposed.sort_values(sort_order,inplace=True)\n",
    "print(f\"Saving summary to: {output_file}\")\n",
    "bdiv_df_transposed.to_csv(output_file,sep=\"\\t\")\n",
    "HTML(bdiv_df_transposed.to_html())\n",
    "\n"
   ]
  },
  {
   "cell_type": "markdown",
   "metadata": {},
   "source": [
    "## Summarizing results of alpha diversity analysis\n",
    "\n",
    "We will next summarize the alpha diversity analyses generated by .qzv files. Unfortunately, in the current version of QIIME2, I was unable to identify a simple place in the visualizer where the global p and H value for Kruskal-Wallis tests are saved. Additionally, while the built in export function produces nice .csvs for pairwise comparisons, the global values (which are the ones we mostly want) are buried in .jsonp files used in the index.html web page. Therefore, to get this done we had to pursue a strategy of exporting each qzv into a temporary directory, manually parsing the jsonp files for our specific values of interest for every metadata column of interest, then compiling all these results into a pandas dataframe. This was then exported as a .csv and used as the basis for our Supplementary Table (after light formatting and reordering of columns)."
   ]
  },
  {
   "cell_type": "code",
   "execution_count": null,
   "metadata": {},
   "outputs": [],
   "source": [
    "from ast import literal_eval\n",
    "def parse_adiv_group_sig_jsonp_file(input_file):\n",
    "    \"\"\"Parse a jsonp file by crudly scraping out the H and p values for the overall analysis\n",
    "    \n",
    "    \n",
    "    \n",
    "    \"\"\"\n",
    "    import ast\n",
    "    import re\n",
    "    file_text = open(input_file).read()\n",
    "    file_fields = re.split(\"[{}]\",file_text)\n",
    "    results = {}\n",
    "    for i,field in enumerate(file_fields):    \n",
    "        if '\"H\":' in field:\n",
    "            stats_result_dict = ast.literal_eval(\"{\"+f\"{field}\"+\"}\")\n",
    "            results.update(stats_result_dict)\n",
    "            \n",
    "        if '\"initial\"' in field:\n",
    "            n_samples_dict = ast.literal_eval(\"{\"+f\"{field}\"+\"}\")\n",
    "            results.update(n_samples_dict)\n",
    "    return results\n"
   ]
  },
  {
   "cell_type": "code",
   "execution_count": null,
   "metadata": {},
   "outputs": [],
   "source": [
    "def dataframe_from_alpha_group_sig_export_dir(export_dir,\\\n",
    "                                              label='adiv_results',\\\n",
    "                                              limit_to_columns=None):\n",
    "    \n",
    "    results_df = df = pd.DataFrame(columns=('label','metadata_column', 'H','p','n_initial','n_filtered'))\n",
    "    for i,filename in enumerate(listdir(tmp_dir)):\n",
    "        if not filename.endswith('.jsonp'):\n",
    "            continue\n",
    "\n",
    "        metadata_column = filename.split(\"column-\",1)[1].split(\".jsonp\")[0]\n",
    "        if limit_to_columns:\n",
    "            if metadata_column not in limit_to_columns:\n",
    "                continue\n",
    "        curr_file = join(tmp_dir,filename)\n",
    "        results_dict = parse_adiv_group_sig_jsonp_file(curr_file)\n",
    "        results_df.loc[i]= [label,metadata_column,results_dict[\"H\"],results_dict[\"p\"],results_dict[\"initial\"],results_dict[\"filtered\"]]\n",
    "    return results_df\n",
    "\n"
   ]
  },
  {
   "cell_type": "code",
   "execution_count": null,
   "metadata": {},
   "outputs": [],
   "source": [
    "def adiv_group_sig_qzv_to_dataframe(viz_filepath,\\\n",
    "                                    tmp_dir,\\\n",
    "                                    label = \"adiv_results\",\n",
    "                                    add_to_df = None,\n",
    "                                    delete_tmp_dir = False,\\\n",
    "                                    limit_to_columns=None):\n",
    "    \"\"\"Parse a dataframe from a QIIME2 alpha diversity group significance .qzv file\n",
    "    viz_filepath -- path to the qzv file\n",
    "    tmp_dir -- name of a new temporary directory that can safely be deleted \n",
    "    when done\n",
    "    label -- string that has a name for the results in the dataframe\n",
    "       (Useful when running this script in a loop with the add_to_df option)\n",
    "    add_to_df -- optionally concatenate the new results to an existing dataframe before\n",
    "      returning them\n",
    "    delete_tmp_dir -- optionally delete the temporary directory after finishing. \n",
    "       BE 100% SURE THE DIRECTORY IS CORRECT (not '/'!!!!) AND DOESN'T ALREADY \n",
    "       EXIST IF SETTING THIS OPTION TO True. You have been warned ;).\n",
    "    limit_to_columns -- a list of columns. Within the qzv only these columns / categories\n",
    "      will be parsed\n",
    "    \"\"\"    \n",
    "    adiv_viz_file = Visualization.load(viz_filepath)\n",
    "    \n",
    "    #If the user told us to delete the tmp dir when done, check that it\n",
    "    #either doesn't exist or is empty.\n",
    "    if delete_tmp_dir:\n",
    "        if exists(tmp_dir):\n",
    "            raise ValueError(f\"Directory {tmp_dir} already exists. \\\n",
    "                               Please specify a *new* not already existing \\\n",
    "                               directory name if using the delete_tmp_dir \\\n",
    "                               parameter. This is to avoid deleting your \\\n",
    "                               existing data by accident. Thanks.\")\n",
    "    \n",
    "    #Make a directory to hold our exported results\n",
    "    if not exists(tmp_dir):\n",
    "        mkdir(tmp_dir)\n",
    "    \n",
    "    #This is ugly looking but necessary because\n",
    "    #of a secret and horrific interaction between rmtree\n",
    "    #and distutils (distutils caches that a dir is present\n",
    "    #and doesn't know you've deleted it unless you clear\n",
    "    #it's cache in this arcane way). Sorry.\n",
    "    distutils.dir_util._path_created = {}\n",
    "    \n",
    "    adiv_viz_file.export_data(tmp_dir)\n",
    "    #column = \"taxonomy_string_to_family\"\n",
    "    \n",
    "    adiv_results_df = dataframe_from_alpha_group_sig_export_dir(tmp_dir,label=label,\\\n",
    "      limit_to_columns=limit_to_columns)\n",
    "    \n",
    "    if delete_tmp_dir:\n",
    "        shutil.rmtree(tmp_dir)\n",
    "        #Sadly due to a weird interction with caching in distutils\n",
    "        #we have to clear the cache after using rmtree or \n",
    "        #QIIME2's data export will fail!\n",
    "        distutils.dir_util._path_created = {}\n",
    "    #Make the data frame for the current column, concatenate it with the one for other columns \n",
    "    #under the given metric\n",
    "    #look into changing to df[f'{column}'] == values? Bigger fish to fry rn though\n",
    "    if add_to_df is False:\n",
    "        return adiv_results_df\n",
    "    else:\n",
    "        #If the user gave us a DataFrame in the add_to_df option\n",
    "        #concatenate our new results to it.\n",
    "        adiv_results_df = pd.concat([add_to_df,adiv_results_df],axis=0)\n",
    "        return adiv_results_df"
   ]
  },
  {
   "cell_type": "code",
   "execution_count": null,
   "metadata": {},
   "outputs": [],
   "source": [
    "tmp_dir = join(output_dir,\"tmp_qzv_exports/\")\n",
    "adiv_df = pd.DataFrame()\n",
    "metrics = ['observed_features','gini_index','dominance','simpson_e']\n",
    "adiv_columns = ['taxonomy_string_to_family']\n",
    "for label, rarefied_feature_tables in rarefied_feature_tables_by_taxonomy.items():\n",
    "    for compartment,table in rarefied_feature_tables.items():\n",
    "        for metric in metrics:\n",
    "            \n",
    "            adiv_output_filename = f\"adiv_{label}_{compartment}_{metric}_{rarefaction_depth}_group_sig_samples_harmonized.qzv\"\n",
    "            adiv_output_filepath = join(output_dir,adiv_output_filename)\n",
    "            print(f\"Parsing {adiv_output_filepath}\")\n",
    "            adiv_df = adiv_group_sig_qzv_to_dataframe(adiv_output_filepath,\\\n",
    "                  tmp_dir= tmp_dir,\\\n",
    "                  label = f\"adiv__{label}__{compartment}__{metric}__{rarefaction_depth}\",\\\n",
    "                  add_to_df=adiv_df,\\\n",
    "                  delete_tmp_dir = True,\\\n",
    "                  limit_to_columns = adiv_columns)\n",
    "            print(adiv_df)\n",
    "\n",
    "print(\"Done!\")\n",
    "\n",
    "from IPython.display import HTML\n",
    "HTML(adiv_df.to_html())\n"
   ]
  },
  {
   "cell_type": "code",
   "execution_count": null,
   "metadata": {},
   "outputs": [],
   "source": [
    "output_file = join(output_dir,\"alpha_diversity_results_summary.tsv\")\n",
    "#sort_order = [\"Diversity Type\",\"Metric\",\"Compartment\",\"Rarefaction Depth\",\"Taxonomy Scheme\"]\n",
    "#adiv_df_transposed.sort_values(sort_order,inplace=True)\n",
    "new_rows = adiv_df[\"label\"].str.split(\"__\",expand=True)\n",
    "adiv_df[['Diversity Type','Taxonomy Scheme','Compartment','Metric','Rarefaction Depth']]=new_rows\n",
    "sort_order = [\"Diversity Type\",\"Metric\",\"Compartment\",\"Rarefaction Depth\",\"Taxonomy Scheme\"]\n",
    "adiv_df.sort_values(sort_order,inplace=True)\n",
    "print(adiv_df)\n",
    "print(f\"Saving summary to: {output_file}\")\n",
    "adiv_df.to_csv(output_file,sep=\"\\t\")"
   ]
  },
  {
   "cell_type": "code",
   "execution_count": null,
   "metadata": {},
   "outputs": [],
   "source": []
  }
 ],
 "metadata": {
  "kernelspec": {
   "display_name": "Python 3",
   "language": "python",
   "name": "python3"
  },
  "language_info": {
   "codemirror_mode": {
    "name": "ipython",
    "version": 3
   },
   "file_extension": ".py",
   "mimetype": "text/x-python",
   "name": "python",
   "nbconvert_exporter": "python",
   "pygments_lexer": "ipython3",
   "version": "3.6.12"
  }
 },
 "nbformat": 4,
 "nbformat_minor": 2
}
