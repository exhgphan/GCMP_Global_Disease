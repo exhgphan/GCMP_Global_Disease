{
 "cells": [
  {
   "cell_type": "code",
   "execution_count": 1,
   "metadata": {},
   "outputs": [],
   "source": [
    "from qiime2 import Artifact\n",
    "import tempfile\n",
    "import os\n",
    "import pandas as pd"
   ]
  },
  {
   "cell_type": "code",
   "execution_count": 2,
   "metadata": {},
   "outputs": [],
   "source": [
    "working_dir = os.path.abspath('../')"
   ]
  },
  {
   "cell_type": "code",
   "execution_count": 3,
   "metadata": {
    "scrolled": false
   },
   "outputs": [],
   "source": [
    "base_refs=['greengenes', 'silva']\n",
    "for base in base_refs:\n",
    "    base_path = working_dir+'/output/'+base+'_reference_taxonomy.qza'\n",
    "    base_classification = Artifact.load(base_path)\n",
    "    with tempfile.TemporaryDirectory() as temp_dir:\n",
    "        base_classification.export_data(temp_dir)\n",
    "        base_taxonomy=pd.read_csv(temp_dir+'/taxonomy.tsv', '\\t')\n",
    "    m2_path = working_dir+'/output/'+base+'_metaxa2_reference_taxonomy.qza'\n",
    "    m2_classification=Artifact.load(m2_path)\n",
    "    with tempfile.TemporaryDirectory() as temp_dir:\n",
    "        m2_classification.export_data(temp_dir)\n",
    "        m2_taxonomy=pd.read_csv(temp_dir+'/taxonomy.tsv', '\\t')\n",
    "    base_taxonomy = base_taxonomy.sort_values('Feature ID')\n",
    "    base_taxonomy = base_taxonomy.reset_index()\n",
    "    base_taxonomy = base_taxonomy.drop(['Consensus','index'],1)\n",
    "    m2_taxonomy = m2_taxonomy.sort_values('Feature ID')\n",
    "    m2_taxonomy = m2_taxonomy.reset_index()\n",
    "    m2_taxonomy = m2_taxonomy.drop(['Consensus','index'],1)\n",
    "    results = base_taxonomy.compare(m2_taxonomy)\n",
    "    results.columns = ['base', 'extended']\n",
    "    results['sequence'] = base_taxonomy['Feature ID']\n",
    "    with open(base+'_differential_annotations.fasta', 'w') as fasta_file:\n",
    "        for row in results.itertuples(False, None):\n",
    "            fasta_file.write('>'+row[0]+'|'+row[1]+'\\n'+row[2]+'\\n')\n",
    "    with open(base+'_differential_annotations.tsv', 'w') as tsv:\n",
    "        tsv.write('sequence\\t'+base+'_annotation\\textended_annotation\\n')\n",
    "        for row in results.itertuples(False, None):\n",
    "            tsv.write(row[2]+'\\t'+row[0]+'\\t'+row[1]+'\\n')"
   ]
  },
  {
   "cell_type": "code",
   "execution_count": null,
   "metadata": {},
   "outputs": [],
   "source": []
  }
 ],
 "metadata": {
  "kernelspec": {
   "display_name": "Python 3",
   "language": "python",
   "name": "python3"
  },
  "language_info": {
   "codemirror_mode": {
    "name": "ipython",
    "version": 3
   },
   "file_extension": ".py",
   "mimetype": "text/x-python",
   "name": "python",
   "nbconvert_exporter": "python",
   "pygments_lexer": "ipython3",
   "version": "3.6.12"
  }
 },
 "nbformat": 4,
 "nbformat_minor": 4
}
