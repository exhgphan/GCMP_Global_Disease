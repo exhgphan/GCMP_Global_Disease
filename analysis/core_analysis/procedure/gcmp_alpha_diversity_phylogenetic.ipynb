{
 "cells": [
  {
   "cell_type": "markdown",
   "metadata": {},
   "source": [
    "# Alpha Diversity Analysis \n"
   ]
  },
  {
   "cell_type": "markdown",
   "metadata": {},
   "source": [
    "This code runs alpha diversity of the GCMP data using the sepp generated phylogenetic trees. The greengenes and Silva databases were used to generate the phylogentic tree."
   ]
  },
  {
   "cell_type": "code",
   "execution_count": 5,
   "metadata": {},
   "outputs": [],
   "source": [
    "#make sure plugins are running\n",
    "from qiime2 import Artifact\n",
    "try:\n",
    "    from qiime2.plugins.diversity.methods import alpha\n",
    "except:\n",
    "    from qiime2.plugins.diversity.pipelines import alpha\n",
    "#from qiime2.fragment_insertion.methods import sepp\n",
    "from qiime2.plugins.diversity.pipelines import alpha_phylogenetic\n",
    "from qiime2.plugins.diversity.visualizers import alpha_group_significance\n",
    "\n",
    "\n",
    "from qiime2.plugins.feature_table.methods import rarefy\n",
    "from qiime2.plugins.feature_table.visualizers import summarize\n",
    "\n",
    "from qiime2.metadata import Metadata\n",
    "from qiime2.plugins.feature_table.methods import filter_features\n",
    "\n",
    "from os.path import abspath,exists,join\n",
    "import shutil"
   ]
  },
  {
   "cell_type": "markdown",
   "metadata": {},
   "source": [
    "# Loading Data\n",
    "Load feature table and phylogenetic tree as qiime2 artifacts to run alpha diversity."
   ]
  },
  {
   "cell_type": "code",
   "execution_count": 6,
   "metadata": {
    "scrolled": true
   },
   "outputs": [],
   "source": [
    "#Check that required files exist\n",
    "phylo_tree = Artifact.load(\"../input/insertion-tree_GCMP.qza\")\n",
    "metadata = Metadata.load(\"../input/GCMP_EMP_map_r28_no_empty_samples.txt\")\n",
    "#these are files that will be merged (right now lets just try the greengenes files)\n",
    "feature_table_gg_m2_mucus_1000 = Artifact.load(\"../input/feature_table_greengenes_metaxa2_mucus_1000.qza\")\n",
    "feature_table_gg_m2_skeleton_1000 =Artifact.load(\"../input/feature_table_greengenes_metaxa2_skeleton_1000.qza\")\n",
    "feature_table_gg_m2_tissue_1000 = Artifact.load(\"../input/feature_table_greengenes_metaxa2_tissue_1000.qza\")\n"
   ]
  },
  {
   "cell_type": "code",
   "execution_count": 7,
   "metadata": {},
   "outputs": [],
   "source": [
    "#need to define dictionary for the loop\n",
    "feature_tables_gg_m2_1000 = {\"mucus\":feature_table_gg_m2_mucus_1000, \"tissue\":feature_table_gg_m2_tissue_1000, \"skeleton\":feature_table_gg_m2_skeleton_1000}"
   ]
  },
  {
   "cell_type": "markdown",
   "metadata": {},
   "source": [
    "# Alpha diversity loop"
   ]
  },
  {
   "cell_type": "markdown",
   "metadata": {},
   "source": [
    "Run the alpha diversity loop for each tissue compartment using the greengenes or silva phylogenetic trees.\n",
    "The defined feature table and subsequent saveing file name should be changed to reflect the phylogentic tree used for the analysis."
   ]
  },
  {
   "cell_type": "code",
   "execution_count": 12,
   "metadata": {},
   "outputs": [
    {
     "name": "stdout",
     "output_type": "stream",
     "text": [
      "Caluculating alpha diversity for mucus using faith_pd\n",
      "Saving results to:../output/adiv_mucus_gg_m2_1000_faith_pd.qza\n",
      "Saving significance results to ../output/adiv_mucus_gg_m2_1000_faith_pd_group_sig.qzv\n",
      "Caluculating alpha diversity for tissue using faith_pd\n",
      "Saving results to:../output/adiv_tissue_gg_m2_1000_faith_pd.qza\n",
      "Saving significance results to ../output/adiv_tissue_gg_m2_1000_faith_pd_group_sig.qzv\n",
      "Caluculating alpha diversity for skeleton using faith_pd\n",
      "Saving results to:../output/adiv_skeleton_gg_m2_1000_faith_pd.qza\n",
      "Saving significance results to ../output/adiv_skeleton_gg_m2_1000_faith_pd_group_sig.qzv\n"
     ]
    }
   ],
   "source": [
    "#alpha diversity loop\n",
    "metrics = ['faith_pd']\n",
    "for compartment,table in feature_tables_gg_m2_1000.items():\n",
    "    for metric in metrics:\n",
    "        print(f\"Caluculating alpha diversity for {compartment} using {metric}\")\n",
    "        alpha_results = alpha_phylogenetic(table=feature_table,metric=metric, phylogeny=phylo_tree)\n",
    "        alpha_diversity = alpha_results.alpha_diversity\n",
    "        \n",
    "        #save the resulting feature table to disk\n",
    "        output_filename = f\"adiv_{compartment}_gg_m2_1000_{metric}.qza\"\n",
    "        output_filepath = join(\"../output\",output_filename)\n",
    "        print(f\"Saving results to:{output_filepath}\")\n",
    "        alpha_diversity.save(output_filepath)\n",
    "        \n",
    "        #Calculate alpha group significance for categorial variables\n",
    "        alpha_group_sig_results = alpha_group_significance(alpha_diversity=alpha_diversity,metadata=metadata)\n",
    "        alpha_group_sig_visualization = alpha_group_sig_results.visualization\n",
    "        output_filename = f\"adiv_{compartment}_gg_m2_1000_{metric}_group_sig.qzv\"\n",
    "        output_filepath = join(\"../output\",output_filename)\n",
    "        print(f\"Saving significance results to {output_filepath}\")\n",
    "        alpha_group_sig_visualization.save(output_filepath)\n",
    "        "
   ]
  }
 ],
 "metadata": {
  "kernelspec": {
   "display_name": "Python 3",
   "language": "python",
   "name": "python3"
  },
  "language_info": {
   "codemirror_mode": {
    "name": "ipython",
    "version": 3
   },
   "file_extension": ".py",
   "mimetype": "text/x-python",
   "name": "python",
   "nbconvert_exporter": "python",
   "pygments_lexer": "ipython3",
   "version": "3.6.12"
  }
 },
 "nbformat": 4,
 "nbformat_minor": 4
}
