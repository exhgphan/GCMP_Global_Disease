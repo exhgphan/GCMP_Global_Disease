{
 "cells": [
  {
   "cell_type": "markdown",
   "metadata": {},
   "source": [
    "# Build a distance matrix from the tree of coral species\n",
    "\n",
    "In order to extract a cophenetic (tip-to-tip) distance matrix from the tree, we'll need a way to read in tree files. DendroPy is one convenient lightweight way to do so. \n",
    "\n",
    "If you don't already have it installed, uncomment to install."
   ]
  },
  {
   "cell_type": "code",
   "execution_count": 1,
   "metadata": {},
   "outputs": [],
   "source": [
    "#!python3 -m pip install git+git://github.com/jeetsukumaran/DendroPy.git"
   ]
  },
  {
   "cell_type": "markdown",
   "metadata": {},
   "source": [
    "#### Set up input and output directories "
   ]
  },
  {
   "cell_type": "code",
   "execution_count": 49,
   "metadata": {},
   "outputs": [],
   "source": [
    "from os.path import exists,join\n",
    "\n",
    "\n",
    "\n",
    "input_dir = join(\"..\",\"input\")\n",
    "huang_roy_tree_path = join(input_dir,\"huang_roy_molecular.newick\")\n",
    "output_dm_filename = \"huang_roy_coral_tree_distance_matrix.csv\"\n",
    "huang_roy_output_dm_path = join(output_dir,output_dm_filename)\n",
    "\n",
    "output_dir = join(\"..\",\"output\")\n",
    "\n",
    "pruned_tree_dir = join(output_dir,\"harmonized_tree_and_trait_table\")\n",
    "pruned_tree_path = join(pruned_tree_dir,\"pruned_tree.newick\")\n",
    "pruned_tree_output_dm_path = join(pruned_tree_dir,\"pruned_tree_distance_matrix.csv\")\n",
    "\n",
    "huang_roy_species_list_output_path = join(output_dir,\"huang_roy_coral_tree_full_species_list.txt\")\n"
   ]
  },
  {
   "cell_type": "markdown",
   "metadata": {},
   "source": [
    "#### Check that all required files are present"
   ]
  },
  {
   "cell_type": "code",
   "execution_count": 50,
   "metadata": {},
   "outputs": [
    {
     "name": "stdout",
     "output_type": "stream",
     "text": [
      "Confirmed that required file or directory ../output exists.\n",
      "Confirmed that required file or directory ../input/huang_roy_molecular.newick exists.\n",
      "Confirmed that required file or directory ../output/harmonized_tree_and_trait_table/pruned_tree.newick exists.\n"
     ]
    }
   ],
   "source": [
    "required = [output_dir,huang_roy_tree_path,pruned_tree_path]\n",
    "\n",
    "for r in required:  \n",
    "    if not exists(r):\n",
    "        raise FileNotFoundError(f\"The specified tree file {r} does not seem to be at the specified path.\")\n",
    "    print(f\"Confirmed that required file or directory {r} exists.\")"
   ]
  },
  {
   "cell_type": "markdown",
   "metadata": {},
   "source": [
    "#### Calculate the host cophenetic distance matrix"
   ]
  },
  {
   "cell_type": "code",
   "execution_count": 51,
   "metadata": {},
   "outputs": [],
   "source": [
    "import dendropy\n",
    "\n",
    "def get_dm_from_coral_tree(tree_path,output_filepath):\n",
    "    tree = dendropy.Tree.get(path=tree_path, schema='newick') # or whatever relevant format if not newick\n",
    "    pdm = tree.phylogenetic_distance_matrix()\n",
    "    pdm.write_csv(output_filepath)\n",
    "    \n",
    "get_dm_from_coral_tree(pruned_tree_path,pruned_tree_output_dm_path)\n",
    "get_dm_from_coral_tree(huang_roy_tree_path,huang_roy_output_dm_path)"
   ]
  },
  {
   "cell_type": "markdown",
   "metadata": {},
   "source": [
    "#### Load the host cophenetic distance matrix in pandas"
   ]
  },
  {
   "cell_type": "code",
   "execution_count": 52,
   "metadata": {},
   "outputs": [],
   "source": [
    "import pandas as pd\n",
    "\n",
    "#Set the input csv to huang_roy_coral_tree_dm_\n",
    "cophenetic_dm = pd.read_csv(huang_roy_output_dm_path)\n",
    "curr_species_col_name = cophenetic_dm.columns[0]\n",
    "cophenetic_dm = cophenetic_dm.rename(columns={curr_species_col_name: 'species_name'})\n",
    "cophenetic_dm.set_index('species_name')\n",
    "\n",
    "species_list = list(cophenetic_dm['species_name'])"
   ]
  },
  {
   "cell_type": "markdown",
   "metadata": {},
   "source": [
    "#### Write the Huang Roy species list to a file\n",
    "\n",
    "We'll now write out the Huang Roy species list to a file, one id per line"
   ]
  },
  {
   "cell_type": "code",
   "execution_count": 55,
   "metadata": {},
   "outputs": [
    {
     "name": "stdout",
     "output_type": "stream",
     "text": [
      "Done writing species list file: ../output/huang_roy_coral_tree_full_species_list.txt\n"
     ]
    }
   ],
   "source": [
    "f = open(huang_roy_species_list_output_path,\"w\")\n",
    "for species in species_list:\n",
    "    f.write(species+\"\\n\")\n",
    "f.close\n",
    "print(f\"Done writing species list file: {huang_roy_species_list_output_path}\")"
   ]
  }
 ],
 "metadata": {
  "kernelspec": {
   "display_name": "Python 3",
   "language": "python",
   "name": "python3"
  },
  "language_info": {
   "codemirror_mode": {
    "name": "ipython",
    "version": 3
   },
   "file_extension": ".py",
   "mimetype": "text/x-python",
   "name": "python",
   "nbconvert_exporter": "python",
   "pygments_lexer": "ipython3",
   "version": "3.7.2"
  }
 },
 "nbformat": 4,
 "nbformat_minor": 2
}
