{
 "cells": [
  {
   "cell_type": "markdown",
   "metadata": {},
   "source": [
    "This code will run beta diversity on the GCMP data."
   ]
  },
  {
   "cell_type": "markdown",
   "metadata": {},
   "source": [
    "Need to run beta diversity on GCMP microbiology data and the phylogenetic tree."
   ]
  },
  {
   "cell_type": "markdown",
   "metadata": {},
   "source": [
    "First we need to load all the plugins we will use for this analysis"
   ]
  },
  {
   "cell_type": "code",
   "execution_count": 1,
   "metadata": {},
   "outputs": [],
   "source": [
    "import qiime2\n",
    "from qiime2 import Artifact\n",
    "try:\n",
    "    from qiime2.plugins.diversity.methods import beta\n",
    "except:\n",
    "    from qiime2.plugins.diversity.pipelines import beta\n",
    "from qiime2.plugins.diversity.pipelines import beta_phylogenetic\n",
    "from qiime2.plugins.diversity.visualizers import beta_group_significance\n",
    "from qiime2.plugins import diversity\n",
    "from qiime2.metadata import Metadata\n",
    "from os.path import abspath,exists,join\n",
    "import shutil\n"
   ]
  },
  {
   "cell_type": "markdown",
   "metadata": {},
   "source": [
    "Import compartment feature tables for future analysis"
   ]
  },
  {
   "cell_type": "code",
   "execution_count": 2,
   "metadata": {
    "scrolled": true
   },
   "outputs": [],
   "source": [
    "#these are files that will be merged (right now lets just try the greengenes files)\n",
    "feature_table_gg_mucus = Artifact.load(\"../input/feature_table_greengenes_mucus.qza\")\n",
    "feature_table_gg_mucus_1000 = Artifact.load(\"../input/feature_table_greengenes_mucus_1000.qza\")\n",
    "feature_table_gg_m2_mucus = Artifact.load(\"../input/feature_table_greengenes_metaxa2_mucus.qza\")\n",
    "feature_table_gg_m2_mucus_1000 = Artifact.load(\"../input/feature_table_greengenes_metaxa2_mucus_1000.qza\")\n",
    "feature_table_gg_skeleton = Artifact.load(\"../input/feature_table_greengenes_skeleton.qza\")\n",
    "feature_table_gg_skeleton_1000 = Artifact.load(\"../input/feature_table_greengenes_skeleton_1000.qza\")\n",
    "feature_table_gg_m2_skeleton = Artifact.load(\"../input/feature_table_greengenes_metaxa2_skeleton.qza\")\n",
    "feature_table_gg_m2_skeleton_1000 =Artifact.load(\"../input/feature_table_greengenes_metaxa2_skeleton_1000.qza\")\n",
    "feature_table_gg_tissue = Artifact.load(\"../input/feature_table_greengenes_tissue.qza\")\n",
    "feature_table_gg_tissue_1000 = Artifact.load(\"../input/feature_table_greengenes_tissue_1000.qza\")\n",
    "feature_table_gg_m2_tissue = Artifact.load(\"../input/feature_table_greengenes_metaxa2_tissue.qza\")\n",
    "feature_table_gg_m2_tissue_1000 = Artifact.load(\"../input/feature_table_greengenes_metaxa2_tissue_1000.qza\")\n",
    "#Output and input directory\n",
    "output_dir = abspath(\"../output/\")\n",
    "input_dir = abspath(\"../input\")"
   ]
  },
  {
   "cell_type": "code",
   "execution_count": 3,
   "metadata": {},
   "outputs": [],
   "source": [
    "#need to define my \"items\" for the loop\n",
    "feature_tables_gg = {\"mucus\":feature_table_gg_mucus, \"tissue\":feature_table_gg_tissue, \"skeleton\":feature_table_gg_m2_skeleton}\n",
    "feature_tables_gg_m2 = {\"mucus\":feature_table_gg_m2_mucus, \"tissue\":feature_table_gg_m2_tissue, \"skeleton\":feature_table_gg_m2_skeleton}\n",
    "feature_tables_gg_1000 = {\"mucus\":feature_table_gg_mucus_1000, \"tissue\":feature_table_gg_tissue_1000, \"skeleton\":feature_table_gg_skeleton_1000}\n",
    "feature_tables_gg_m2_1000 = {\"mucus\":feature_table_gg_m2_mucus_1000, \"tissue\":feature_table_gg_m2_tissue_1000, \"skeleton\":feature_table_gg_m2_skeleton_1000}"
   ]
  },
  {
   "cell_type": "markdown",
   "metadata": {},
   "source": [
    "Load the data\n",
    "The files needed for this analysis are in the next section."
   ]
  },
  {
   "cell_type": "code",
   "execution_count": 4,
   "metadata": {},
   "outputs": [],
   "source": [
    "#feature_table = Artifact.load (\"../input/feature_table_greengenes_tissue.qza\")\n",
    "phylo_tree = Artifact.load(\"../input/insertion-tree_GCMP.qza\")\n",
    "metadata = Metadata.load(\"../input/GCMP_EMP_map_r28_no_empty_samples.txt\")"
   ]
  },
  {
   "cell_type": "markdown",
   "metadata": {},
   "source": [
    "Calculate Beta-diversity using the generated microbial phylogenetic tree. Pairwise comparisons will be\n",
    "run to get the metrics"
   ]
  },
  {
   "cell_type": "markdown",
   "metadata": {},
   "source": [
    "This code appears to work for \"sample_type_EMP\" but not \"reef_name\" when pairwise is set to true. If I use reef name I get an error saying that I have some single values which I can't seem to find."
   ]
  },
  {
   "cell_type": "code",
   "execution_count": 10,
   "metadata": {},
   "outputs": [
    {
     "name": "stdout",
     "output_type": "stream",
     "text": [
      "Saving results to {output_filepath}\n"
     ]
    },
    {
     "data": {
      "text/plain": [
       "'../output/beta_phylogenetic_permanova_unifrac_pairwise.qzv'"
      ]
     },
     "execution_count": 10,
     "metadata": {},
     "output_type": "execute_result"
    }
   ],
   "source": [
    "#can run command changing the metric used: 'generalized_unifrac', 'weighted_normalized_unifrac', \\\n",
    "#'unweighted_unifrac', 'weighted_unifrac'\n",
    "beta_results = beta_phylogenetic(table=feature_table, phylogeny=phylo_tree, metric='weighted_unifrac')\n",
    "beta_dm = beta_results.distance_matrix\n",
    "#calulate pairwise comparisons\n",
    "pairwise_beta_diversity = diversity.actions.beta_group_significance(\\\n",
    "                                                                distance_matrix=beta_dm,\\\n",
    "                                                                metadata=metadata.get_column('reef_name'),\\\n",
    "                                                                method='permanova', pairwise=False)\n",
    "beta_pairwise_visualization = pairwise_beta_diversity.visualization\n",
    "output_filename = \"beta_phylogenetic_permanova_unifrac_pairwise.qzv\"\n",
    "output_filepath = \"../output/beta_phylogenetic_permanova_unifrac_pairwise.qzv\"\n",
    "print(\"Saving results to {output_filepath}\")\n",
    "beta_pairwise_visualization.save(output_filepath)"
   ]
  },
  {
   "cell_type": "markdown",
   "metadata": {},
   "source": [
    "This code will run the beta diversity metrics as a loop"
   ]
  },
  {
   "cell_type": "code",
   "execution_count": 8,
   "metadata": {},
   "outputs": [
    {
     "name": "stdout",
     "output_type": "stream",
     "text": [
      "Calculating beta diversity for mucus using weighted_unifrac\n",
      "Calculating beta diversity metrics for mucus using reef_name\n",
      "Saveing significant results to ../output/beta_phylo_permanova_mucus_gg_m2_weighted_unifrac_reef_name.qza\n",
      "Calculating beta diversity metrics for mucus using temperature\n",
      "Saveing significant results to ../output/beta_phylo_permanova_mucus_gg_m2_weighted_unifrac_temperature.qza\n",
      "Calculating beta diversity for mucus using unweighted_unifrac\n",
      "Calculating beta diversity metrics for mucus using reef_name\n",
      "Saveing significant results to ../output/beta_phylo_permanova_mucus_gg_m2_unweighted_unifrac_reef_name.qza\n",
      "Calculating beta diversity metrics for mucus using temperature\n",
      "Saveing significant results to ../output/beta_phylo_permanova_mucus_gg_m2_unweighted_unifrac_temperature.qza\n",
      "Calculating beta diversity for tissue using weighted_unifrac\n",
      "Calculating beta diversity metrics for tissue using reef_name\n",
      "Saveing significant results to ../output/beta_phylo_permanova_tissue_gg_m2_weighted_unifrac_reef_name.qza\n",
      "Calculating beta diversity metrics for tissue using temperature\n",
      "Saveing significant results to ../output/beta_phylo_permanova_tissue_gg_m2_weighted_unifrac_temperature.qza\n",
      "Calculating beta diversity for tissue using unweighted_unifrac\n",
      "Calculating beta diversity metrics for tissue using reef_name\n",
      "Saveing significant results to ../output/beta_phylo_permanova_tissue_gg_m2_unweighted_unifrac_reef_name.qza\n",
      "Calculating beta diversity metrics for tissue using temperature\n",
      "Saveing significant results to ../output/beta_phylo_permanova_tissue_gg_m2_unweighted_unifrac_temperature.qza\n",
      "Calculating beta diversity for skeleton using weighted_unifrac\n",
      "Calculating beta diversity metrics for skeleton using reef_name\n",
      "Saveing significant results to ../output/beta_phylo_permanova_skeleton_gg_m2_weighted_unifrac_reef_name.qza\n",
      "Calculating beta diversity metrics for skeleton using temperature\n",
      "Saveing significant results to ../output/beta_phylo_permanova_skeleton_gg_m2_weighted_unifrac_temperature.qza\n",
      "Calculating beta diversity for skeleton using unweighted_unifrac\n",
      "Calculating beta diversity metrics for skeleton using reef_name\n",
      "Saveing significant results to ../output/beta_phylo_permanova_skeleton_gg_m2_unweighted_unifrac_reef_name.qza\n",
      "Calculating beta diversity metrics for skeleton using temperature\n",
      "Saveing significant results to ../output/beta_phylo_permanova_skeleton_gg_m2_unweighted_unifrac_temperature.qza\n"
     ]
    }
   ],
   "source": [
    "#can run command changing the metric used: 'generalized_unifrac', 'weighted_normalized_unifrac', \\\n",
    "#'unweighted_unifrac', 'weighted_unifrac'\n",
    "#Also need to take into account different column names from the metadata file to compare\n",
    "metrics=['weighted_unifrac', 'unweighted_unifrac']\n",
    "column_names=['reef_name', 'temperature']\n",
    "#column_name1=metadata.get_column('reef_name')\n",
    "#column_name2=metadata.get_column('sample_type_EMP')\n",
    "#column_names = [column_name1, column_name2]\n",
    "#sample_type_EMP\n",
    "\n",
    "for compartment, table in feature_tables_gg_m2.items():\n",
    "    for metric in metrics:\n",
    "        print(f\"Calculating beta diversity for {compartment} using {metric}\")\n",
    "        beta_results = beta_phylogenetic(table=table, phylogeny=phylo_tree, metric=metric)\n",
    "        beta_dm = beta_results.distance_matrix\n",
    "\n",
    "        #calculate diversity on multiple columns as a second loop\n",
    "        #change pairwise to true if want to get pairwise comparison\n",
    "        #I think this still needs to be indented\n",
    "        #for compartment, column in beta_results.distance_matrix\n",
    "        for column in column_names:\n",
    "            print(f\"Calculating beta diversity metrics for {compartment} using {column}\")\n",
    "            pairwise_beta_diversity = diversity.actions.beta_group_significance\\\n",
    "                    (distance_matrix=beta_dm, metadata=metadata.get_column(column),\\\n",
    "                    method='permanova', pairwise=False)\n",
    "    \n",
    "            #visualize and save the data\n",
    "            beta_pairwise_visualization = pairwise_beta_diversity.visualization\n",
    "            output_filename = f\"beta_phylo_permanova_{compartment}_gg_m2_{metric}_{column}.qza\"\n",
    "            output_filepath = join(\"../output\",output_filename)\n",
    "            print(f\"Saveing significant results to {output_filepath}\")\n",
    "            beta_pairwise_visualization.save(output_filepath)\n"
   ]
  },
  {
   "cell_type": "code",
   "execution_count": null,
   "metadata": {},
   "outputs": [],
   "source": []
  }
 ],
 "metadata": {
  "kernelspec": {
   "display_name": "Python 3",
   "language": "python",
   "name": "python3"
  },
  "language_info": {
   "codemirror_mode": {
    "name": "ipython",
    "version": 3
   },
   "file_extension": ".py",
   "mimetype": "text/x-python",
   "name": "python",
   "nbconvert_exporter": "python",
   "pygments_lexer": "ipython3",
   "version": "3.6.12"
  }
 },
 "nbformat": 4,
 "nbformat_minor": 4
}
