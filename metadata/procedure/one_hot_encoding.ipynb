{
 "cells": [
  {
   "cell_type": "markdown",
   "metadata": {},
   "source": [
    "## Using categorical data in mathematical models\n",
    "\n",
    "You have probably heard of studies that fit models to categorical data. For instance, you might have heard that the incidence of a particular type of cancer is higher among folks who work in nail salons. To reach such a conclusion, it is often necessary to consider multiple types of categorical data - profession, zip code, etc - along with quantitative data such as age. \n",
    "\n",
    "But how can a string value like profession be converted into a number for use in statistical modeling?\n",
    "\n",
    "Let's start by considering a *binary* variable - one that has only two possibilities\n",
    "\n",
    "One way to do so is through the use of what's called 'one-hot encoding'. This"
   ]
  },
  {
   "cell_type": "code",
   "execution_count": null,
   "metadata": {},
   "outputs": [],
   "source": [
    "#pd.get_dummies() is a good way to do this, see\n",
    "https://stackabuse.com/one-hot-encoding-in-python-with-pandas-and-scikit-learn/"
   ]
  },
  {
   "cell_type": "code",
   "execution_count": 5,
   "metadata": {},
   "outputs": [
    {
     "name": "stdout",
     "output_type": "stream",
     "text": [
      "  (0, 1)\t1.0\n",
      "  (0, 2)\t1.0\n",
      "  (1, 0)\t1.0\n",
      "  (1, 4)\t1.0\n",
      "  (2, 0)\t1.0\n",
      "  (2, 3)\t1.0\n"
     ]
    }
   ],
   "source": [
    "from sklearn.preprocessing import OneHotEncoder\n",
    "encoder = OneHotEncoder(handle_unknown='ignore')\n",
    "data = [['Male', 1], ['Female', 3], ['Female', 2]]\n",
    "encoder.fit(data)\n",
    "OneHotEncoder(handle_unknown='ignore')\n",
    "data_as_binary = encoder.transform(data)\n",
    "print(data_as_binary)"
   ]
  },
  {
   "cell_type": "code",
   "execution_count": 6,
   "metadata": {},
   "outputs": [],
   "source": [
    "## Notes"
   ]
  },
  {
   "cell_type": "markdown",
   "metadata": {},
   "source": [
    "This [example from the scikit-learn documentation](https://scikit-learn.org/stable/auto_examples/ensemble/plot_gradient_boosting_categorical.html#sphx-glr-auto-examples-ensemble-plot-gradient-boosting-categorical-py) has a very fancy way of processing categorical data in a dataframe using a column transformer hooked up to the OneHotEncoder. A similar approach allows for dropping rows with empty values"
   ]
  },
  {
   "cell_type": "code",
   "execution_count": null,
   "metadata": {},
   "outputs": [],
   "source": [
    "from sklearn.preprocessing import OneHotEncoder\n",
    "\n",
    "one_hot_encoder = make_column_transformer(\n",
    "    (OneHotEncoder(sparse=False, handle_unknown='ignore'),\n",
    "     make_column_selector(dtype_include='category')),\n",
    "    remainder='passthrough')"
   ]
  }
 ],
 "metadata": {
  "kernelspec": {
   "display_name": "Python 3",
   "language": "python",
   "name": "python3"
  },
  "language_info": {
   "codemirror_mode": {
    "name": "ipython",
    "version": 3
   },
   "file_extension": ".py",
   "mimetype": "text/x-python",
   "name": "python",
   "nbconvert_exporter": "python",
   "pygments_lexer": "ipython3",
   "version": "3.7.2"
  }
 },
 "nbformat": 4,
 "nbformat_minor": 2
}
